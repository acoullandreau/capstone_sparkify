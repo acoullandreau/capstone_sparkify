{
 "cells": [
  {
   "cell_type": "markdown",
   "metadata": {},
   "source": [
    "# Sparkify Project Workspace\n",
    "This workspace contains a tiny subset (128MB) of the full dataset available (12GB). Feel free to use this workspace to build your project, or to explore a smaller subset with Spark before deploying your cluster on the cloud. Instructions for setting up your Spark cluster is included in the last lesson of the Extracurricular Spark Course content.\n",
    "\n",
    "You can follow the steps below to guide your data analysis and model building portion of this project."
   ]
  },
  {
   "cell_type": "code",
   "execution_count": 124,
   "metadata": {},
   "outputs": [],
   "source": [
    "# import libraries\n",
    "import datetime\n",
    "import plotly.graph_objs as go\n",
    "from plotly.subplots import make_subplots\n",
    "from pyspark.sql import SparkSession\n",
    "from pyspark.sql.functions import count, col, desc, isnan, udf, split\n",
    "from pyspark.sql.functions import max as Fmax\n",
    "from pyspark.sql.functions import sum as Fsum\n",
    "from pyspark.sql.types import IntegerType\n",
    "from pyspark.sql import Window"
   ]
  },
  {
   "cell_type": "code",
   "execution_count": 2,
   "metadata": {},
   "outputs": [],
   "source": [
    "# create a Spark session\n",
    "\n",
    "spark = SparkSession \\\n",
    ".builder \\\n",
    ".appName(\"sparkify\") \\\n",
    ".getOrCreate() "
   ]
  },
  {
   "cell_type": "markdown",
   "metadata": {},
   "source": [
    "# Load and Clean Dataset\n",
    "In this workspace, the mini-dataset file is `mini_sparkify_event_data.json`. Load and clean the dataset, checking for invalid or missing data - for example, records without userids or sessionids. "
   ]
  },
  {
   "cell_type": "markdown",
   "metadata": {},
   "source": [
    "**Load the dataset**"
   ]
  },
  {
   "cell_type": "code",
   "execution_count": 3,
   "metadata": {},
   "outputs": [],
   "source": [
    "#Let's load the data and observe what it looks like\n",
    "\n",
    "data_path = 'mini_sparkify_event_data.json'\n",
    "event_data = spark.read.json(data_path)"
   ]
  },
  {
   "cell_type": "code",
   "execution_count": 4,
   "metadata": {},
   "outputs": [
    {
     "name": "stdout",
     "output_type": "stream",
     "text": [
      "root\n",
      " |-- artist: string (nullable = true)\n",
      " |-- auth: string (nullable = true)\n",
      " |-- firstName: string (nullable = true)\n",
      " |-- gender: string (nullable = true)\n",
      " |-- itemInSession: long (nullable = true)\n",
      " |-- lastName: string (nullable = true)\n",
      " |-- length: double (nullable = true)\n",
      " |-- level: string (nullable = true)\n",
      " |-- location: string (nullable = true)\n",
      " |-- method: string (nullable = true)\n",
      " |-- page: string (nullable = true)\n",
      " |-- registration: long (nullable = true)\n",
      " |-- sessionId: long (nullable = true)\n",
      " |-- song: string (nullable = true)\n",
      " |-- status: long (nullable = true)\n",
      " |-- ts: long (nullable = true)\n",
      " |-- userAgent: string (nullable = true)\n",
      " |-- userId: string (nullable = true)\n",
      "\n"
     ]
    }
   ],
   "source": [
    "event_data.printSchema()"
   ]
  },
  {
   "cell_type": "code",
   "execution_count": 5,
   "metadata": {},
   "outputs": [
    {
     "data": {
      "text/plain": [
       "286500"
      ]
     },
     "execution_count": 5,
     "metadata": {},
     "output_type": "execute_result"
    }
   ],
   "source": [
    "event_data.count()"
   ]
  },
  {
   "cell_type": "code",
   "execution_count": 6,
   "metadata": {},
   "outputs": [
    {
     "data": {
      "text/plain": [
       "Row(artist='Martha Tilston', auth='Logged In', firstName='Colin', gender='M', itemInSession=50, lastName='Freeman', length=277.89016, level='paid', location='Bakersfield, CA', method='PUT', page='NextSong', registration=1538173362000, sessionId=29, song='Rockpools', status=200, ts=1538352117000, userAgent='Mozilla/5.0 (Windows NT 6.1; WOW64; rv:31.0) Gecko/20100101 Firefox/31.0', userId='30')"
      ]
     },
     "execution_count": 6,
     "metadata": {},
     "output_type": "execute_result"
    }
   ],
   "source": [
    "event_data.head()"
   ]
  },
  {
   "cell_type": "markdown",
   "metadata": {},
   "source": [
    "**Get familiar with the dataset**"
   ]
  },
  {
   "cell_type": "code",
   "execution_count": 7,
   "metadata": {},
   "outputs": [
    {
     "name": "stdout",
     "output_type": "stream",
     "text": [
      "Categorical columns: \n",
      "['artist', 'auth', 'firstName', 'gender', 'lastName', 'level', 'location', 'method', 'page', 'song', 'userAgent', 'userId']\n",
      "\n",
      "\n",
      "Numerical columns: \n",
      "['itemInSession', 'length', 'registration', 'sessionId', 'status', 'ts']\n"
     ]
    }
   ],
   "source": [
    "# Let's see what are the categorical features in our dataset\n",
    "\n",
    "cat_cols = []\n",
    "num_cols = []\n",
    "\n",
    "for i in range(len(event_data.dtypes)):\n",
    "    if event_data.dtypes[i][1] == 'string':\n",
    "        cat_cols.append(event_data.dtypes[i][0])\n",
    "    else:\n",
    "        num_cols.append(event_data.dtypes[i][0])\n",
    "\n",
    "print('Categorical columns: ')\n",
    "print(cat_cols)\n",
    "print('\\n')\n",
    "print('Numerical columns: ')\n",
    "print(num_cols)"
   ]
  },
  {
   "cell_type": "markdown",
   "metadata": {},
   "source": [
    "Now let's take a look at the values some of those categorical features can have...\n",
    "We are mainly interested in the following columns:\n",
    "- auth\n",
    "- gender\n",
    "- level\n",
    "- location - mainly how many unique values\n",
    "- method\n",
    "- page\n",
    "- userAgent\n",
    "- userId - mainly how many unique values"
   ]
  },
  {
   "cell_type": "code",
   "execution_count": 8,
   "metadata": {},
   "outputs": [
    {
     "name": "stdout",
     "output_type": "stream",
     "text": [
      "+----------+\n",
      "|      auth|\n",
      "+----------+\n",
      "| Cancelled|\n",
      "|     Guest|\n",
      "| Logged In|\n",
      "|Logged Out|\n",
      "+----------+\n",
      "\n"
     ]
    }
   ],
   "source": [
    "event_data.select(\"auth\").dropDuplicates().sort(\"auth\").show()"
   ]
  },
  {
   "cell_type": "code",
   "execution_count": 9,
   "metadata": {},
   "outputs": [
    {
     "name": "stdout",
     "output_type": "stream",
     "text": [
      "+------+\n",
      "|gender|\n",
      "+------+\n",
      "|  null|\n",
      "|     F|\n",
      "|     M|\n",
      "+------+\n",
      "\n"
     ]
    }
   ],
   "source": [
    "event_data.select(\"gender\").dropDuplicates().sort(\"gender\").show()"
   ]
  },
  {
   "cell_type": "code",
   "execution_count": 10,
   "metadata": {},
   "outputs": [
    {
     "name": "stdout",
     "output_type": "stream",
     "text": [
      "+-----+\n",
      "|level|\n",
      "+-----+\n",
      "| free|\n",
      "| paid|\n",
      "+-----+\n",
      "\n"
     ]
    }
   ],
   "source": [
    "event_data.select(\"level\").dropDuplicates().sort(\"level\").show()"
   ]
  },
  {
   "cell_type": "code",
   "execution_count": 11,
   "metadata": {},
   "outputs": [
    {
     "name": "stdout",
     "output_type": "stream",
     "text": [
      "Number of unique location\n"
     ]
    },
    {
     "data": {
      "text/plain": [
       "115"
      ]
     },
     "execution_count": 11,
     "metadata": {},
     "output_type": "execute_result"
    }
   ],
   "source": [
    "print('Number of unique location')\n",
    "event_data.select(\"location\").dropDuplicates().count()"
   ]
  },
  {
   "cell_type": "code",
   "execution_count": 12,
   "metadata": {},
   "outputs": [
    {
     "name": "stdout",
     "output_type": "stream",
     "text": [
      "+------+\n",
      "|method|\n",
      "+------+\n",
      "|   GET|\n",
      "|   PUT|\n",
      "+------+\n",
      "\n"
     ]
    }
   ],
   "source": [
    "event_data.select(\"method\").dropDuplicates().sort(\"method\").show()"
   ]
  },
  {
   "cell_type": "code",
   "execution_count": 13,
   "metadata": {},
   "outputs": [
    {
     "name": "stdout",
     "output_type": "stream",
     "text": [
      "+--------------------+\n",
      "|                page|\n",
      "+--------------------+\n",
      "|               About|\n",
      "|          Add Friend|\n",
      "|     Add to Playlist|\n",
      "|              Cancel|\n",
      "|Cancellation Conf...|\n",
      "|           Downgrade|\n",
      "|               Error|\n",
      "|                Help|\n",
      "|                Home|\n",
      "|               Login|\n",
      "|              Logout|\n",
      "|            NextSong|\n",
      "|            Register|\n",
      "|         Roll Advert|\n",
      "|       Save Settings|\n",
      "|            Settings|\n",
      "|    Submit Downgrade|\n",
      "| Submit Registration|\n",
      "|      Submit Upgrade|\n",
      "|         Thumbs Down|\n",
      "+--------------------+\n",
      "only showing top 20 rows\n",
      "\n"
     ]
    }
   ],
   "source": [
    "event_data.select(\"page\").dropDuplicates().sort(\"page\").show()"
   ]
  },
  {
   "cell_type": "code",
   "execution_count": 14,
   "metadata": {},
   "outputs": [
    {
     "name": "stdout",
     "output_type": "stream",
     "text": [
      "+--------------------+\n",
      "|           userAgent|\n",
      "+--------------------+\n",
      "|                null|\n",
      "|\"Mozilla/5.0 (Mac...|\n",
      "|\"Mozilla/5.0 (Mac...|\n",
      "|\"Mozilla/5.0 (Mac...|\n",
      "|\"Mozilla/5.0 (Mac...|\n",
      "|\"Mozilla/5.0 (Mac...|\n",
      "|\"Mozilla/5.0 (Mac...|\n",
      "|\"Mozilla/5.0 (Mac...|\n",
      "|\"Mozilla/5.0 (Mac...|\n",
      "|\"Mozilla/5.0 (Mac...|\n",
      "|\"Mozilla/5.0 (Mac...|\n",
      "|\"Mozilla/5.0 (Mac...|\n",
      "|\"Mozilla/5.0 (Mac...|\n",
      "|\"Mozilla/5.0 (Mac...|\n",
      "|\"Mozilla/5.0 (Mac...|\n",
      "|\"Mozilla/5.0 (Mac...|\n",
      "|\"Mozilla/5.0 (Mac...|\n",
      "|\"Mozilla/5.0 (Mac...|\n",
      "|\"Mozilla/5.0 (Win...|\n",
      "|\"Mozilla/5.0 (Win...|\n",
      "+--------------------+\n",
      "only showing top 20 rows\n",
      "\n"
     ]
    }
   ],
   "source": [
    "event_data.select(\"userAgent\").dropDuplicates().sort(\"userAgent\").show()"
   ]
  },
  {
   "cell_type": "code",
   "execution_count": 15,
   "metadata": {},
   "outputs": [
    {
     "name": "stdout",
     "output_type": "stream",
     "text": [
      "Number of unique users\n"
     ]
    },
    {
     "data": {
      "text/plain": [
       "226"
      ]
     },
     "execution_count": 15,
     "metadata": {},
     "output_type": "execute_result"
    }
   ],
   "source": [
    "print('Number of unique users')\n",
    "event_data.select(['userId']).dropDuplicates().count()"
   ]
  },
  {
   "cell_type": "code",
   "execution_count": 16,
   "metadata": {},
   "outputs": [
    {
     "name": "stdout",
     "output_type": "stream",
     "text": [
      "+------+\n",
      "|userId|\n",
      "+------+\n",
      "|      |\n",
      "|    10|\n",
      "|   100|\n",
      "|100001|\n",
      "|100002|\n",
      "|100003|\n",
      "|100004|\n",
      "|100005|\n",
      "|100006|\n",
      "|100007|\n",
      "|100008|\n",
      "|100009|\n",
      "|100010|\n",
      "|100011|\n",
      "|100012|\n",
      "|100013|\n",
      "|100014|\n",
      "|100015|\n",
      "|100016|\n",
      "|100017|\n",
      "+------+\n",
      "only showing top 20 rows\n",
      "\n"
     ]
    }
   ],
   "source": [
    "event_data.select(\"userId\").dropDuplicates().sort(\"userId\").show()"
   ]
  },
  {
   "cell_type": "markdown",
   "metadata": {},
   "source": [
    "**First set of observations**\n",
    "\n",
    "1. gender has a null value -> we should get rid of the corresponding rows\n",
    "2. userId has an empty string as a value -> we should get rid of the corresponding rows\n",
    "3. userAgent and method do not seem to be relevant features to look at\n",
    "4. auth has a Cancelled status that can be useful later on to look at churn rates\n",
    "5. the number of unique users (225) and unique locations (115) tends to indicate that the population is wide-spread in multiple city, and this feature may not be of great value to predict churn (we will confirm that when exploring deeper the dataset)\n"
   ]
  },
  {
   "cell_type": "markdown",
   "metadata": {},
   "source": [
    "**Clean the dataset**"
   ]
  },
  {
   "cell_type": "code",
   "execution_count": 17,
   "metadata": {},
   "outputs": [
    {
     "name": "stdout",
     "output_type": "stream",
     "text": [
      "+--------------------+\n",
      "|                page|\n",
      "+--------------------+\n",
      "|               About|\n",
      "|          Add Friend|\n",
      "|     Add to Playlist|\n",
      "|              Cancel|\n",
      "|Cancellation Conf...|\n",
      "|           Downgrade|\n",
      "|               Error|\n",
      "|                Help|\n",
      "|                Home|\n",
      "|               Login|\n",
      "|              Logout|\n",
      "|            NextSong|\n",
      "|            Register|\n",
      "|         Roll Advert|\n",
      "|       Save Settings|\n",
      "|            Settings|\n",
      "|    Submit Downgrade|\n",
      "| Submit Registration|\n",
      "|      Submit Upgrade|\n",
      "|         Thumbs Down|\n",
      "+--------------------+\n",
      "only showing top 20 rows\n",
      "\n"
     ]
    }
   ],
   "source": [
    "# Let's take a look at the type of user actions we have in this dataset\n",
    "\n",
    "event_data.select(\"page\").dropDuplicates().sort(\"page\").show()"
   ]
  },
  {
   "cell_type": "code",
   "execution_count": 18,
   "metadata": {},
   "outputs": [],
   "source": [
    "action_list = event_data.select(\"page\").dropDuplicates().sort(\"page\").collect()\n"
   ]
  },
  {
   "cell_type": "code",
   "execution_count": 19,
   "metadata": {},
   "outputs": [
    {
     "name": "stdout",
     "output_type": "stream",
     "text": [
      "Ratio of actions\n",
      "Column About:  0.3225130890052356\n",
      "Column Add Friend:  1.492844677137871\n",
      "Column Add to Playlist:  2.2778359511343806\n",
      "Column Cancel:  0.018150087260034906\n",
      "Column Cancellation Confirmation:  0.018150087260034906\n",
      "Column Downgrade:  0.7172774869109948\n",
      "Column Error:  0.0900523560209424\n",
      "Column Help:  0.6024432809773124\n",
      "Column Home:  5.046073298429319\n",
      "Column Login:  1.131239092495637\n",
      "Column Logout:  1.126003490401396\n",
      "Column NextSong:  79.61884816753927\n",
      "Column Register:  0.006282722513089006\n",
      "Column Roll Advert:  1.3727748691099475\n",
      "Column Save Settings:  0.1082024432809773\n",
      "Column Settings:  0.5284467713787085\n",
      "Column Submit Downgrade:  0.02198952879581152\n",
      "Column Submit Registration:  0.0017452006980802793\n",
      "Column Submit Upgrade:  0.05549738219895288\n",
      "Column Thumbs Down:  0.8886561954624781\n",
      "Column Thumbs Up:  4.380802792321116\n",
      "Column Upgrade:  0.17417102966841186\n"
     ]
    }
   ],
   "source": [
    "print('Ratio of actions')\n",
    "action_list = event_data.select(\"page\").dropDuplicates().sort(\"page\").collect()\n",
    "for i in range(len(action_list)):\n",
    "    action_name = action_list[i].__getitem__(0)\n",
    "    action_count = event_data.where(event_data[\"page\"]==action_name).count()/event_data.count()*100\n",
    "    print('Column {}: '.format(action_name), action_count)"
   ]
  },
  {
   "cell_type": "markdown",
   "metadata": {},
   "source": [
    "It seems like the vast majority of the dataset is composed of the action \"NextSong\" (about 80%). And the columns Artist and Song are filled only when the value in the page column is \"NextSong\".\n",
    "In the 20% of the row remaining however (Upgrade, Home,....) we are not expecting to find Artist or Song - which represents about 57000 rows. "
   ]
  },
  {
   "cell_type": "code",
   "execution_count": 20,
   "metadata": {},
   "outputs": [
    {
     "name": "stdout",
     "output_type": "stream",
     "text": [
      "+--------+\n",
      "|    page|\n",
      "+--------+\n",
      "|NextSong|\n",
      "+--------+\n",
      "\n"
     ]
    }
   ],
   "source": [
    "event_data.select(\"page\").where((event_data[\"artist\"].isNotNull())).dropDuplicates().show()\n",
    "\n"
   ]
  },
  {
   "cell_type": "code",
   "execution_count": 21,
   "metadata": {},
   "outputs": [
    {
     "name": "stdout",
     "output_type": "stream",
     "text": [
      "Missing values count per column\n",
      "Column artist:  58392\n",
      "Column auth:  0\n",
      "Column firstName:  8346\n",
      "Column gender:  8346\n",
      "Column itemInSession:  0\n",
      "Column lastName:  8346\n",
      "Column length:  58392\n",
      "Column level:  0\n",
      "Column location:  8346\n",
      "Column method:  0\n",
      "Column page:  0\n",
      "Column registration:  8346\n",
      "Column sessionId:  0\n",
      "Column song:  58392\n",
      "Column status:  0\n",
      "Column ts:  0\n",
      "Column userAgent:  8346\n",
      "Column userId:  8346\n"
     ]
    }
   ],
   "source": [
    "# Check for missing or invalid data\n",
    "\n",
    "print('Missing values count per column')\n",
    "for col in event_data.columns:\n",
    "    missing_count = event_data.filter((event_data[col] == \"\") | event_data[col].isNull() | isnan(event_data[col])).count()\n",
    "    print('Column {}: '.format(col), missing_count)\n"
   ]
  },
  {
   "cell_type": "markdown",
   "metadata": {},
   "source": [
    "So it seems like we have 8346 missing data points.\n",
    "\n",
    "Note that the columns artist and songs have a lot more missing values. This is due to the fact that the nature of the records is not only playing a song, but also login to the service, going to the home page, ... and as we saw about 20% of the rows are not expected to have either Artist or Song values.\n",
    "\n",
    "Well let's get rid of those missing values, it represents less than 3% of the dataset."
   ]
  },
  {
   "cell_type": "code",
   "execution_count": 22,
   "metadata": {},
   "outputs": [],
   "source": [
    "def drop_na(df):\n",
    "    df_clean = df.filter((df[col] != \"\") & df[col].isNotNull() & ~isnan(df[col]))\n",
    "    return df_clean"
   ]
  },
  {
   "cell_type": "code",
   "execution_count": 23,
   "metadata": {},
   "outputs": [],
   "source": [
    "event_data_clean = drop_na(event_data)"
   ]
  },
  {
   "cell_type": "code",
   "execution_count": 24,
   "metadata": {},
   "outputs": [
    {
     "name": "stdout",
     "output_type": "stream",
     "text": [
      "Missing values count per column\n",
      "Column artist:  50046\n",
      "Column auth:  0\n",
      "Column firstName:  0\n",
      "Column gender:  0\n",
      "Column itemInSession:  0\n",
      "Column lastName:  0\n",
      "Column length:  50046\n",
      "Column level:  0\n",
      "Column location:  0\n",
      "Column method:  0\n",
      "Column page:  0\n",
      "Column registration:  0\n",
      "Column sessionId:  0\n",
      "Column song:  50046\n",
      "Column status:  0\n",
      "Column ts:  0\n",
      "Column userAgent:  0\n",
      "Column userId:  0\n"
     ]
    }
   ],
   "source": [
    "print('Missing values count per column')\n",
    "for col in event_data_clean.columns:\n",
    "    missing_count = event_data_clean.filter((event_data_clean[col] == \"\") | event_data_clean[col].isNull() | isnan(event_data_clean[col])).count()\n",
    "    print('Column {}: '.format(col), missing_count)"
   ]
  },
  {
   "cell_type": "markdown",
   "metadata": {},
   "source": [
    "Now that we have a dataset cleaned - no missing values, let's convert the ts column to a datetime format."
   ]
  },
  {
   "cell_type": "markdown",
   "metadata": {},
   "source": [
    "Let's create a function to perform all tasks"
   ]
  },
  {
   "cell_type": "code",
   "execution_count": 25,
   "metadata": {},
   "outputs": [],
   "source": [
    "def convert_ts(df):\n",
    "    # get the year of the action\n",
    "    get_year = udf(lambda ts: datetime.datetime.fromtimestamp(ts/1000.0).year)\n",
    "    df = df.withColumn(\"ts_year\", get_year(df.ts))\n",
    "\n",
    "    # get the month of the action\n",
    "    get_month = udf(lambda ts: datetime.datetime.fromtimestamp(ts/1000.0).month)\n",
    "    df = df.withColumn(\"ts_month\", get_month(df.ts))\n",
    "\n",
    "    # get the month day of the action\n",
    "    get_day = udf(lambda ts: datetime.datetime.fromtimestamp(ts/1000.0).day)\n",
    "    df = df.withColumn(\"ts_day\", get_day(df.ts))\n",
    "    \n",
    "    # get the hour of day of the action\n",
    "    get_hour = udf(lambda ts: datetime.datetime.fromtimestamp(ts/1000.0).hour)\n",
    "    df = df.withColumn(\"ts_hour\", get_hour(df.ts))\n",
    "    \n",
    "    # get the weekday of the action\n",
    "    # 0 being Monday, 6 being Sunday\n",
    "    get_weekday = udf(lambda ts: datetime.datetime.fromtimestamp(ts/1000.0).weekday())\n",
    "    df = df.withColumn(\"ts_weekday\", get_weekday(df.ts))\n",
    "\n",
    "    return df\n"
   ]
  },
  {
   "cell_type": "code",
   "execution_count": 26,
   "metadata": {},
   "outputs": [],
   "source": [
    "event_data_clean = drop_na(event_data)\n",
    "event_data_clean = convert_ts(event_data_clean)"
   ]
  },
  {
   "cell_type": "code",
   "execution_count": 27,
   "metadata": {},
   "outputs": [
    {
     "data": {
      "text/plain": [
       "Row(artist='Martha Tilston', auth='Logged In', firstName='Colin', gender='M', itemInSession=50, lastName='Freeman', length=277.89016, level='paid', location='Bakersfield, CA', method='PUT', page='NextSong', registration=1538173362000, sessionId=29, song='Rockpools', status=200, ts=1538352117000, userAgent='Mozilla/5.0 (Windows NT 6.1; WOW64; rv:31.0) Gecko/20100101 Firefox/31.0', userId='30', ts_year='2018', ts_month='10', ts_day='1', ts_hour='2', ts_weekday='0')"
      ]
     },
     "execution_count": 27,
     "metadata": {},
     "output_type": "execute_result"
    }
   ],
   "source": [
    "event_data_clean.head()"
   ]
  },
  {
   "cell_type": "markdown",
   "metadata": {},
   "source": [
    "# Exploratory Data Analysis\n",
    "When you're working with the full dataset, perform EDA by loading a small subset of the data and doing basic manipulations within Spark. In this workspace, you are already provided a small subset of data you can explore.\n",
    "\n",
    "### Define Churn\n",
    "\n",
    "Once you've done some preliminary analysis, create a column `Churn` to use as the label for your model. I suggest using the `Cancellation Confirmation` events to define your churn, which happen for both paid and free users. As a bonus task, you can also look into the `Downgrade` events.\n",
    "\n",
    "### Explore Data\n",
    "Once you've defined churn, perform some exploratory data analysis to observe the behavior for users who stayed vs users who churned. You can start by exploring aggregates on these two groups of users, observing how much of a specific action they experienced per a certain time unit or number of songs played."
   ]
  },
  {
   "cell_type": "markdown",
   "metadata": {},
   "source": [
    "**Define churn**\n",
    "\n",
    "Let's take a look at the rows where page is Cancellation Confirmation."
   ]
  },
  {
   "cell_type": "code",
   "execution_count": 28,
   "metadata": {},
   "outputs": [
    {
     "name": "stdout",
     "output_type": "stream",
     "text": [
      "+---------+------+-----+-------+--------+------+-------+----------+\n",
      "|     auth|gender|level|ts_year|ts_month|ts_day|ts_hour|ts_weekday|\n",
      "+---------+------+-----+-------+--------+------+-------+----------+\n",
      "|Cancelled|     M| paid|   2018|      10|     7|     22|         6|\n",
      "|Cancelled|     M| paid|   2018|      10|     8|     23|         0|\n",
      "|Cancelled|     M| free|   2018|      10|    12|      6|         4|\n",
      "|Cancelled|     M| paid|   2018|      10|    12|     22|         4|\n",
      "|Cancelled|     F| paid|   2018|      10|    13|     23|         5|\n",
      "|Cancelled|     F| free|   2018|      10|    15|      9|         0|\n",
      "|Cancelled|     M| paid|   2018|      10|    17|      0|         2|\n",
      "|Cancelled|     M| paid|   2018|      10|    17|      2|         2|\n",
      "|Cancelled|     M| paid|   2018|      10|    17|      9|         2|\n",
      "|Cancelled|     M| paid|   2018|      10|    17|      9|         2|\n",
      "|Cancelled|     M| paid|   2018|      10|    20|     17|         5|\n",
      "|Cancelled|     F| paid|   2018|      10|    20|     21|         5|\n",
      "|Cancelled|     F| paid|   2018|      10|    22|      9|         0|\n",
      "|Cancelled|     M| paid|   2018|      10|    22|     17|         0|\n",
      "|Cancelled|     F| paid|   2018|      10|    24|     19|         2|\n",
      "|Cancelled|     M| paid|   2018|      10|    30|      5|         1|\n",
      "|Cancelled|     F| paid|   2018|      11|     2|     14|         4|\n",
      "|Cancelled|     F| paid|   2018|      11|     4|     15|         6|\n",
      "|Cancelled|     F| paid|   2018|      11|     6|      1|         1|\n",
      "|Cancelled|     F| paid|   2018|      11|    12|     20|         0|\n",
      "+---------+------+-----+-------+--------+------+-------+----------+\n",
      "only showing top 20 rows\n",
      "\n"
     ]
    }
   ],
   "source": [
    "event_data_clean.select(['auth', 'gender', 'level', 'ts_year', 'ts_month', 'ts_day', 'ts_hour', 'ts_weekday']).where(event_data_clean['page']=='Cancellation Confirmation').show()\n"
   ]
  },
  {
   "cell_type": "markdown",
   "metadata": {},
   "source": [
    "We notice that the column auth is filled with the value \"Cancelled\". Let's confirm that whenever we have the page \"Cancellation Confirmation\" we have the auth set to \"Cancelled\"."
   ]
  },
  {
   "cell_type": "code",
   "execution_count": 29,
   "metadata": {},
   "outputs": [
    {
     "name": "stdout",
     "output_type": "stream",
     "text": [
      "+---------+\n",
      "|     auth|\n",
      "+---------+\n",
      "|Cancelled|\n",
      "|Logged In|\n",
      "+---------+\n",
      "\n"
     ]
    }
   ],
   "source": [
    "event_data_clean.select('auth').dropDuplicates().show()"
   ]
  },
  {
   "cell_type": "markdown",
   "metadata": {},
   "source": [
    "*Note that before removing the empty values (dropna function), we had two additional values for the auth feature: Guest and Logged Out.*\n",
    "*It makes sense that those states are associated with an unknown userId, and that therefore we do not have any row with this auth values in the cleaned dataset.*"
   ]
  },
  {
   "cell_type": "code",
   "execution_count": 30,
   "metadata": {},
   "outputs": [
    {
     "name": "stdout",
     "output_type": "stream",
     "text": [
      "+------+----+---------+------+-------------+--------+------+-----+--------+------+----+------------+---------+----+------+---+---------+------+-------+--------+------+-------+----------+\n",
      "|artist|auth|firstName|gender|itemInSession|lastName|length|level|location|method|page|registration|sessionId|song|status| ts|userAgent|userId|ts_year|ts_month|ts_day|ts_hour|ts_weekday|\n",
      "+------+----+---------+------+-------------+--------+------+-----+--------+------+----+------------+---------+----+------+---+---------+------+-------+--------+------+-------+----------+\n",
      "+------+----+---------+------+-------------+--------+------+-----+--------+------+----+------------+---------+----+------+---+---------+------+-------+--------+------+-------+----------+\n",
      "\n"
     ]
    }
   ],
   "source": [
    "event_data_clean.filter((event_data_clean['auth']=='Cancelled')&(event_data_clean['page']!='Cancellation Confirmation')).show()\n"
   ]
  },
  {
   "cell_type": "markdown",
   "metadata": {},
   "source": [
    "Great! It seems like we have a direct relationship between auth = \"Cancelled\" and page = \"Cancellation Confirmation\".\n",
    "So we can use either one to define churn. \n",
    "\n",
    "Let's stick to the page value (Cancellation Confirmation) as we are sure it indicates the action of the user to cancel the service. \n",
    "\n",
    "Now let's take a look at the Downgrade event, for users who go from a paid service to a free service."
   ]
  },
  {
   "cell_type": "code",
   "execution_count": 31,
   "metadata": {},
   "outputs": [
    {
     "data": {
      "text/plain": [
       "[Row(userId='30', ts=1538995016000, page='NextSong', level='paid', song='Horseshoes and Hand Grenades'),\n",
       " Row(userId='30', ts=1538995447000, page='NextSong', level='paid', song='Jamaica Roots II(Agora E Sempre)'),\n",
       " Row(userId='30', ts=1538995453000, page='Downgrade', level='paid', song=None),\n",
       " Row(userId='30', ts=1538995454000, page='Submit Downgrade', level='paid', song=None),\n",
       " Row(userId='30', ts=1538995509000, page='Home', level='free', song=None),\n",
       " Row(userId='30', ts=1538995657000, page='NextSong', level='free', song='Crimewave (Crystal Castles vs Health)'),\n",
       " Row(userId='30', ts=1538995915000, page='NextSong', level='free', song='Hey (Album Version)')]"
      ]
     },
     "execution_count": 31,
     "metadata": {},
     "output_type": "execute_result"
    }
   ],
   "source": [
    "event_data_clean.select(['userId', 'ts', 'page', 'level', 'song']).where((event_data_clean['userId']=='30')\n",
    "                                                                         &(event_data_clean['ts']>1538994832000)\n",
    "                                                                         &(event_data_clean['ts']<1538996254000)).collect()\n",
    "\n"
   ]
  },
  {
   "cell_type": "markdown",
   "metadata": {},
   "source": [
    "We see that from the moment a user goes to the page \"Submit Downgrade\", his/her level goes from paid to free."
   ]
  },
  {
   "cell_type": "markdown",
   "metadata": {},
   "source": [
    "Now let's add columns to our dataset as to visualise when a user churn_service (i.e cancelled the subscription), and when a user churn_paid (i.e downgraded from paid to free service). We can use these two statuses later on to predict whether a user is at risk to leave Sparkify, or to downgrade his/her subscription. "
   ]
  },
  {
   "cell_type": "code",
   "execution_count": 32,
   "metadata": {},
   "outputs": [],
   "source": [
    "# we create a flag for each special event\n",
    "flag_downgrade_event = udf(lambda x: 1 if x == 'Submit Downgrade' else 0, IntegerType())\n",
    "flag_cancel_event = udf(lambda x: 1 if x == 'Cancellation Confirmation' else 0, IntegerType())\n",
    "\n",
    "# we create a new column with the value of the flag\n",
    "# create a new column for the downgraded event\n",
    "event_data_clean = event_data_clean.withColumn(\"downgraded\", flag_downgrade_event(\"page\"))\n",
    "# create a new column for the cancel event\n",
    "event_data_clean = event_data_clean.withColumn(\"cancelled\", flag_cancel_event(\"page\"))\n"
   ]
  },
  {
   "cell_type": "code",
   "execution_count": 33,
   "metadata": {},
   "outputs": [
    {
     "data": {
      "text/plain": [
       "[Row(userId='30', ts=1538995016000, page='NextSong', level='paid', downgraded=0, cancelled=0),\n",
       " Row(userId='30', ts=1538995447000, page='NextSong', level='paid', downgraded=0, cancelled=0),\n",
       " Row(userId='30', ts=1538995453000, page='Downgrade', level='paid', downgraded=0, cancelled=0),\n",
       " Row(userId='30', ts=1538995454000, page='Submit Downgrade', level='paid', downgraded=1, cancelled=0),\n",
       " Row(userId='30', ts=1538995509000, page='Home', level='free', downgraded=0, cancelled=0),\n",
       " Row(userId='30', ts=1538995657000, page='NextSong', level='free', downgraded=0, cancelled=0),\n",
       " Row(userId='30', ts=1538995915000, page='NextSong', level='free', downgraded=0, cancelled=0)]"
      ]
     },
     "execution_count": 33,
     "metadata": {},
     "output_type": "execute_result"
    }
   ],
   "source": [
    "# we verify that the flag is properly set in the downgraded column\n",
    "event_data_clean.select(['userId', 'ts', 'page', 'level', 'downgraded', 'cancelled']).where((event_data_clean['userId']=='30')\n",
    "                                                                         &(event_data_clean['ts']>1538994832000)\n",
    "                                                                         &(event_data_clean['ts']<1538996254000)).collect()\n",
    "\n"
   ]
  },
  {
   "cell_type": "code",
   "execution_count": 34,
   "metadata": {
    "scrolled": true
   },
   "outputs": [
    {
     "data": {
      "text/plain": [
       "[Row(userId='100011', ts=1538414422000, page='Home', level='free', downgraded=0, cancelled=0),\n",
       " Row(userId='100011', ts=1538414456000, page='NextSong', level='free', downgraded=0, cancelled=0),\n",
       " Row(userId='100011', ts=1538414463000, page='Home', level='free', downgraded=0, cancelled=0),\n",
       " Row(userId='100011', ts=1538414867000, page='NextSong', level='free', downgraded=0, cancelled=0),\n",
       " Row(userId='100011', ts=1538414867000, page='Roll Advert', level='free', downgraded=0, cancelled=0),\n",
       " Row(userId='100011', ts=1538415056000, page='NextSong', level='free', downgraded=0, cancelled=0),\n",
       " Row(userId='100011', ts=1538415104000, page='Home', level='free', downgraded=0, cancelled=0),\n",
       " Row(userId='100011', ts=1538415285000, page='NextSong', level='free', downgraded=0, cancelled=0),\n",
       " Row(userId='100011', ts=1538415557000, page='NextSong', level='free', downgraded=0, cancelled=0),\n",
       " Row(userId='100011', ts=1538415581000, page='Roll Advert', level='free', downgraded=0, cancelled=0),\n",
       " Row(userId='100011', ts=1538415909000, page='NextSong', level='free', downgraded=0, cancelled=0),\n",
       " Row(userId='100011', ts=1538415928000, page='Add to Playlist', level='free', downgraded=0, cancelled=0),\n",
       " Row(userId='100011', ts=1538416150000, page='NextSong', level='free', downgraded=0, cancelled=0),\n",
       " Row(userId='100011', ts=1538416415000, page='NextSong', level='free', downgraded=0, cancelled=0),\n",
       " Row(userId='100011', ts=1538416419000, page='Add to Playlist', level='free', downgraded=0, cancelled=0),\n",
       " Row(userId='100011', ts=1538416667000, page='NextSong', level='free', downgraded=0, cancelled=0),\n",
       " Row(userId='100011', ts=1538416874000, page='NextSong', level='free', downgraded=0, cancelled=0),\n",
       " Row(userId='100011', ts=1538416875000, page='Settings', level='free', downgraded=0, cancelled=0),\n",
       " Row(userId='100011', ts=1538416899000, page='Home', level='free', downgraded=0, cancelled=0),\n",
       " Row(userId='100011', ts=1538417062000, page='NextSong', level='free', downgraded=0, cancelled=0),\n",
       " Row(userId='100011', ts=1538417063000, page='Thumbs Down', level='free', downgraded=0, cancelled=0),\n",
       " Row(userId='100011', ts=1538417064000, page='Cancel', level='free', downgraded=0, cancelled=0),\n",
       " Row(userId='100011', ts=1538417085000, page='Cancellation Confirmation', level='free', downgraded=0, cancelled=1)]"
      ]
     },
     "execution_count": 34,
     "metadata": {},
     "output_type": "execute_result"
    }
   ],
   "source": [
    "# we verify that the flag is properly set in the cancelled column\n",
    "event_data_clean.select(['userId', 'ts', 'page', 'level', 'downgraded', 'cancelled']).where((event_data_clean['userId']=='100011')).collect()\n"
   ]
  },
  {
   "cell_type": "code",
   "execution_count": 35,
   "metadata": {},
   "outputs": [],
   "source": [
    "# we create a phase column to distinguish the change of status in both cases (i.e we identify the moment of switch)\n",
    "#group by userID, order desc by timesstamp, take all preceeding rows\n",
    "windowval = Window.partitionBy(\"userId\").orderBy(desc(\"ts\")).rangeBetween(Window.unboundedPreceding, 0)\n",
    "event_data_clean = event_data_clean.withColumn(\"phase_downgrade\", Fsum(\"downgraded\").over(windowval))\n",
    "event_data_clean = event_data_clean.withColumn(\"phase_cancel\", Fsum(\"cancelled\").over(windowval))\n"
   ]
  },
  {
   "cell_type": "code",
   "execution_count": 36,
   "metadata": {},
   "outputs": [
    {
     "data": {
      "text/plain": [
       "[Row(userId='30', ts=1538995915000, page='NextSong', level='free', downgraded=0, phase_downgrade=0),\n",
       " Row(userId='30', ts=1538995657000, page='NextSong', level='free', downgraded=0, phase_downgrade=0),\n",
       " Row(userId='30', ts=1538995509000, page='Home', level='free', downgraded=0, phase_downgrade=0),\n",
       " Row(userId='30', ts=1538995454000, page='Submit Downgrade', level='paid', downgraded=1, phase_downgrade=1),\n",
       " Row(userId='30', ts=1538995453000, page='Downgrade', level='paid', downgraded=0, phase_downgrade=1),\n",
       " Row(userId='30', ts=1538995447000, page='NextSong', level='paid', downgraded=0, phase_downgrade=1),\n",
       " Row(userId='30', ts=1538995016000, page='NextSong', level='paid', downgraded=0, phase_downgrade=1)]"
      ]
     },
     "execution_count": 36,
     "metadata": {},
     "output_type": "execute_result"
    }
   ],
   "source": [
    "# we verify that the phase is properly set in the downgraded column\n",
    "event_data_clean.select(['userId', 'ts', 'page', 'level', 'downgraded', 'phase_downgrade']).where((event_data_clean['userId']=='30')\n",
    "                                                                         &(event_data_clean['ts']>1538994832000)\n",
    "                                                                         &(event_data_clean['ts']<1538996254000)).collect()\n",
    "\n"
   ]
  },
  {
   "cell_type": "code",
   "execution_count": 37,
   "metadata": {
    "scrolled": true
   },
   "outputs": [
    {
     "data": {
      "text/plain": [
       "[Row(userId='100011', ts=1538417085000, page='Cancellation Confirmation', level='free', cancelled=1, phase_cancel=1),\n",
       " Row(userId='100011', ts=1538417064000, page='Cancel', level='free', cancelled=0, phase_cancel=1),\n",
       " Row(userId='100011', ts=1538417063000, page='Thumbs Down', level='free', cancelled=0, phase_cancel=1),\n",
       " Row(userId='100011', ts=1538417062000, page='NextSong', level='free', cancelled=0, phase_cancel=1),\n",
       " Row(userId='100011', ts=1538416899000, page='Home', level='free', cancelled=0, phase_cancel=1),\n",
       " Row(userId='100011', ts=1538416875000, page='Settings', level='free', cancelled=0, phase_cancel=1),\n",
       " Row(userId='100011', ts=1538416874000, page='NextSong', level='free', cancelled=0, phase_cancel=1),\n",
       " Row(userId='100011', ts=1538416667000, page='NextSong', level='free', cancelled=0, phase_cancel=1),\n",
       " Row(userId='100011', ts=1538416419000, page='Add to Playlist', level='free', cancelled=0, phase_cancel=1),\n",
       " Row(userId='100011', ts=1538416415000, page='NextSong', level='free', cancelled=0, phase_cancel=1),\n",
       " Row(userId='100011', ts=1538416150000, page='NextSong', level='free', cancelled=0, phase_cancel=1),\n",
       " Row(userId='100011', ts=1538415928000, page='Add to Playlist', level='free', cancelled=0, phase_cancel=1),\n",
       " Row(userId='100011', ts=1538415909000, page='NextSong', level='free', cancelled=0, phase_cancel=1),\n",
       " Row(userId='100011', ts=1538415581000, page='Roll Advert', level='free', cancelled=0, phase_cancel=1),\n",
       " Row(userId='100011', ts=1538415557000, page='NextSong', level='free', cancelled=0, phase_cancel=1),\n",
       " Row(userId='100011', ts=1538415285000, page='NextSong', level='free', cancelled=0, phase_cancel=1),\n",
       " Row(userId='100011', ts=1538415104000, page='Home', level='free', cancelled=0, phase_cancel=1),\n",
       " Row(userId='100011', ts=1538415056000, page='NextSong', level='free', cancelled=0, phase_cancel=1),\n",
       " Row(userId='100011', ts=1538414867000, page='NextSong', level='free', cancelled=0, phase_cancel=1),\n",
       " Row(userId='100011', ts=1538414867000, page='Roll Advert', level='free', cancelled=0, phase_cancel=1),\n",
       " Row(userId='100011', ts=1538414463000, page='Home', level='free', cancelled=0, phase_cancel=1),\n",
       " Row(userId='100011', ts=1538414456000, page='NextSong', level='free', cancelled=0, phase_cancel=1),\n",
       " Row(userId='100011', ts=1538414422000, page='Home', level='free', cancelled=0, phase_cancel=1)]"
      ]
     },
     "execution_count": 37,
     "metadata": {},
     "output_type": "execute_result"
    }
   ],
   "source": [
    "# we verify that the phase is properly set in the cancelled column\n",
    "event_data_clean.select(['userId', 'ts', 'page', 'level', 'cancelled', 'phase_cancel']).where((event_data_clean['userId']=='100011')).collect()\n"
   ]
  },
  {
   "cell_type": "code",
   "execution_count": 38,
   "metadata": {},
   "outputs": [],
   "source": [
    "# based on the two columns (event and phase) for each case, we add a label to each user\n",
    "\n",
    "event_data_churn = event_data_clean.withColumn(\"churn_paid\", Fmax('downgraded').over(Window.partitionBy(\"userId\")))\n",
    "event_data_churn = event_data_churn.withColumn(\"churn_service\", Fmax('cancelled').over(Window.partitionBy(\"userId\")))\n"
   ]
  },
  {
   "cell_type": "code",
   "execution_count": 39,
   "metadata": {},
   "outputs": [
    {
     "name": "stdout",
     "output_type": "stream",
     "text": [
      "+------+-------------+----------------+-----+----------+---------------+----------+\n",
      "|userId|           ts|            page|level|downgraded|phase_downgrade|churn_paid|\n",
      "+------+-------------+----------------+-----+----------+---------------+----------+\n",
      "|    30|1538995915000|        NextSong| free|         0|              0|         1|\n",
      "|    30|1538995657000|        NextSong| free|         0|              0|         1|\n",
      "|    30|1538995509000|            Home| free|         0|              0|         1|\n",
      "|    30|1538995454000|Submit Downgrade| paid|         1|              1|         1|\n",
      "|    30|1538995453000|       Downgrade| paid|         0|              1|         1|\n",
      "|    30|1538995447000|        NextSong| paid|         0|              1|         1|\n",
      "|    30|1538995016000|        NextSong| paid|         0|              1|         1|\n",
      "+------+-------------+----------------+-----+----------+---------------+----------+\n",
      "\n"
     ]
    }
   ],
   "source": [
    "# example of a user who churned paid (i.e downgraded the subscription)\n",
    "# churn_paid = 1\n",
    "event_data_churn.select(['userId', 'ts', 'page', 'level', 'downgraded', 'phase_downgrade', 'churn_paid']).where((event_data_churn['userId']=='30')\n",
    "                                                                         &(event_data_churn['ts']>1538994832000)\n",
    "                                                                         &(event_data_churn['ts']<1538996254000)).show(10)\n",
    "\n",
    "\n"
   ]
  },
  {
   "cell_type": "code",
   "execution_count": 40,
   "metadata": {},
   "outputs": [
    {
     "name": "stdout",
     "output_type": "stream",
     "text": [
      "+------+-------------+--------------------+-----+----------+---------------+----------+\n",
      "|userId|           ts|                page|level|downgraded|phase_downgrade|churn_paid|\n",
      "+------+-------------+--------------------+-----+----------+---------------+----------+\n",
      "|    32|1539033046000|Cancellation Conf...| paid|         0|              0|         0|\n",
      "|    32|1539033031000|              Cancel| paid|         0|              0|         0|\n",
      "|    32|1539033030000|           Downgrade| paid|         0|              0|         0|\n",
      "|    32|1539032978000|            NextSong| paid|         0|              0|         0|\n",
      "|    32|1539032741000|            NextSong| paid|         0|              0|         0|\n",
      "|    32|1539032608000|            NextSong| paid|         0|              0|         0|\n",
      "|    32|1539032235000|            NextSong| paid|         0|              0|         0|\n",
      "|    32|1539031887000|            NextSong| paid|         0|              0|         0|\n",
      "|    32|1539031661000|            NextSong| paid|         0|              0|         0|\n",
      "|    32|1539031426000|            NextSong| paid|         0|              0|         0|\n",
      "+------+-------------+--------------------+-----+----------+---------------+----------+\n",
      "only showing top 10 rows\n",
      "\n"
     ]
    }
   ],
   "source": [
    "event_data_churn.select(['userId', 'ts', 'page', 'level', 'downgraded', 'phase_downgrade', 'churn_paid']).where((event_data_churn['userId']=='32')).show(10)\n"
   ]
  },
  {
   "cell_type": "code",
   "execution_count": 41,
   "metadata": {},
   "outputs": [
    {
     "name": "stdout",
     "output_type": "stream",
     "text": [
      "+------+-------------+--------------------+-----+---------+------------+-------------+\n",
      "|userId|           ts|                page|level|cancelled|phase_cancel|churn_service|\n",
      "+------+-------------+--------------------+-----+---------+------------+-------------+\n",
      "|100011|1538417085000|Cancellation Conf...| free|        1|           1|            1|\n",
      "|100011|1538417064000|              Cancel| free|        0|           1|            1|\n",
      "|100011|1538417063000|         Thumbs Down| free|        0|           1|            1|\n",
      "|100011|1538417062000|            NextSong| free|        0|           1|            1|\n",
      "|100011|1538416899000|                Home| free|        0|           1|            1|\n",
      "|100011|1538416875000|            Settings| free|        0|           1|            1|\n",
      "|100011|1538416874000|            NextSong| free|        0|           1|            1|\n",
      "|100011|1538416667000|            NextSong| free|        0|           1|            1|\n",
      "|100011|1538416419000|     Add to Playlist| free|        0|           1|            1|\n",
      "|100011|1538416415000|            NextSong| free|        0|           1|            1|\n",
      "+------+-------------+--------------------+-----+---------+------------+-------------+\n",
      "only showing top 10 rows\n",
      "\n"
     ]
    }
   ],
   "source": [
    "# example of a user who churned service (i.e left the platform)\n",
    "# churn_service = 1\n",
    "event_data_churn.select(['userId', 'ts', 'page', 'level', 'cancelled', 'phase_cancel', 'churn_service']).where((event_data_churn['userId']=='100011')).show(10)\n"
   ]
  },
  {
   "cell_type": "code",
   "execution_count": 42,
   "metadata": {},
   "outputs": [
    {
     "name": "stdout",
     "output_type": "stream",
     "text": [
      "+------+-------------+-----------+-----+---------+------------+-------------+\n",
      "|userId|           ts|       page|level|cancelled|phase_cancel|churn_service|\n",
      "+------+-------------+-----------+-----+---------+------------+-------------+\n",
      "|100010|1542823952000|     Logout| free|        0|           0|            0|\n",
      "|100010|1542823951000|   NextSong| free|        0|           0|            0|\n",
      "|100010|1542823682000|   NextSong| free|        0|           0|            0|\n",
      "|100010|1542823567000|   NextSong| free|        0|           0|            0|\n",
      "|100010|1542823257000|Roll Advert| free|        0|           0|            0|\n",
      "|100010|1542823248000|   NextSong| free|        0|           0|            0|\n",
      "|100010|1542822946000|   NextSong| free|        0|           0|            0|\n",
      "|100010|1542822641000|   NextSong| free|        0|           0|            0|\n",
      "|100010|1542822434000|   NextSong| free|        0|           0|            0|\n",
      "|100010|1542822170000|   NextSong| free|        0|           0|            0|\n",
      "+------+-------------+-----------+-----+---------+------------+-------------+\n",
      "only showing top 10 rows\n",
      "\n"
     ]
    }
   ],
   "source": [
    "# example of a user who did not churn service\n",
    "# churn_service = 0\n",
    "event_data_churn.select(['userId', 'ts', 'page', 'level', 'cancelled', 'phase_cancel', 'churn_service']).where((event_data_churn['userId']=='100010')).show(10)\n"
   ]
  },
  {
   "cell_type": "markdown",
   "metadata": {},
   "source": [
    "Let's refactor this step into a function, and apply it to our initial dataset."
   ]
  },
  {
   "cell_type": "code",
   "execution_count": 43,
   "metadata": {},
   "outputs": [],
   "source": [
    "def set_churn_label(df, churn_event):\n",
    "    if churn_event == 'downgrade':\n",
    "        flag_event_name = \"Submit Downgrade\"\n",
    "        flag_col_name = \"downgraded\"\n",
    "        phase_col_name = \"phase_downgrade\"\n",
    "        label_col_name = \"churn_paid\"\n",
    "    else:\n",
    "        flag_event_name = \"Cancellation Confirmation\"\n",
    "        flag_col_name = \"cancelled\"\n",
    "        phase_col_name = \"phase_cancel\"\n",
    "        label_col_name = \"churn_service\"        \n",
    "    \n",
    "    \n",
    "    # we create a flag for the special event\n",
    "    flag_event = udf(lambda x: 1 if x == flag_event_name else 0, IntegerType())\n",
    "    \n",
    "    # we create a new column with the value of the flag\n",
    "    df_event = df.withColumn(flag_col_name, flag_event(\"page\"))\n",
    "    \n",
    "    # we create a phase column to distinguish the change of status\n",
    "    #group by userID, order desc by timesstamp, take all preceeding rows\n",
    "    windowval = Window.partitionBy(\"userId\").orderBy(desc(\"ts\")).rangeBetween(Window.unboundedPreceding, 0)\n",
    "    df_phase = df_event.withColumn(phase_col_name, Fsum(flag_col_name).over(windowval))\n",
    "    \n",
    "    # we add a churn label to each user\n",
    "    df_churn = df_phase.withColumn(label_col_name, Fmax(flag_col_name).over(Window.partitionBy(\"userId\")))\n",
    "    \n",
    "    return df_churn\n",
    "    "
   ]
  },
  {
   "cell_type": "code",
   "execution_count": 44,
   "metadata": {},
   "outputs": [],
   "source": [
    "event_data_churn = set_churn_label(event_data_clean, 'downgrade')\n",
    "event_data_churn = set_churn_label(event_data_churn, 'cancel')"
   ]
  },
  {
   "cell_type": "code",
   "execution_count": 45,
   "metadata": {},
   "outputs": [
    {
     "name": "stdout",
     "output_type": "stream",
     "text": [
      "+------+--------------+-----+---------+------------+-------------+----------+---------------+----------+\n",
      "|userId|          page|level|cancelled|phase_cancel|churn_service|downgraded|phase_downgrade|churn_paid|\n",
      "+------+--------------+-----+---------+------------+-------------+----------+---------------+----------+\n",
      "|100012|        Logout| free|        0|           1|            1|         0|              0|         1|\n",
      "|100021|          Home| free|        0|           1|            1|         0|              0|         0|\n",
      "|   129| Save Settings| paid|        0|           1|            1|         0|              0|         0|\n",
      "|   141|    Add Friend| free|        0|           0|            0|         0|              0|         1|\n",
      "|   152|Submit Upgrade| free|        0|           0|            0|         0|              0|         0|\n",
      "|    24| Save Settings| free|        0|           0|            0|         0|              0|         1|\n",
      "|    25|    Add Friend| paid|        0|           0|            0|         0|              1|         1|\n",
      "|    25|        Logout| paid|        0|           0|            0|         0|              1|         1|\n",
      "|    25|   Thumbs Down| free|        0|           0|            0|         0|              0|         1|\n",
      "|300014|      Settings| paid|        0|           0|            0|         0|              0|         0|\n",
      "|300015|        Logout| paid|        0|           0|            0|         0|              1|         1|\n",
      "|300020|   Thumbs Down| paid|        0|           0|            0|         0|              0|         0|\n",
      "|    59|          Help| paid|        0|           0|            0|         0|              0|         1|\n",
      "|    70|     Downgrade| paid|        0|           1|            1|         0|              0|         0|\n",
      "|   100|      NextSong| free|        0|           0|            0|         0|              0|         1|\n",
      "|100023|         About| free|        0|           1|            1|         0|              0|         0|\n",
      "|   134|   Roll Advert| free|        0|           0|            0|         0|              0|         0|\n",
      "|   136|   Roll Advert| free|        0|           0|            0|         0|              0|         0|\n",
      "|   137|          Home| free|        0|           0|            0|         0|              0|         0|\n",
      "|   145|      NextSong| paid|        0|           0|            0|         0|              0|         0|\n",
      "+------+--------------+-----+---------+------------+-------------+----------+---------------+----------+\n",
      "only showing top 20 rows\n",
      "\n"
     ]
    }
   ],
   "source": [
    "event_data_churn.select(['userId', 'page', 'level', 'cancelled', 'phase_cancel', 'churn_service', 'downgraded', 'phase_downgrade', 'churn_paid']).orderBy(['userId', 'ts']).dropDuplicates().show(20)\n",
    "\n"
   ]
  },
  {
   "cell_type": "markdown",
   "metadata": {},
   "source": [
    "Just to have an idea of the proportion, how many users did cancel the service, and how many did downgrade in the period we are looking at?\n"
   ]
  },
  {
   "cell_type": "code",
   "execution_count": 46,
   "metadata": {},
   "outputs": [],
   "source": [
    "# Total number of users in this dataset\n",
    "n_users = event_data_churn.select(['userId']).dropDuplicates().count()"
   ]
  },
  {
   "cell_type": "code",
   "execution_count": 47,
   "metadata": {},
   "outputs": [
    {
     "name": "stdout",
     "output_type": "stream",
     "text": [
      "52 users unsubscribed from the service in the period considered.\n",
      "Percentage of users who downgraded: 23.11%.\n"
     ]
    }
   ],
   "source": [
    "churn_service = event_data_churn.select('userId').where(event_data_churn['churn_service']==1).dropDuplicates().count()\n",
    "print('{} users unsubscribed from the service in the period considered.'.format(churn_service))\n",
    "print('Percentage of users who downgraded: {:.2f}%.'.format(churn_service/n_users*100))\n"
   ]
  },
  {
   "cell_type": "code",
   "execution_count": 48,
   "metadata": {},
   "outputs": [
    {
     "name": "stdout",
     "output_type": "stream",
     "text": [
      "49 users downgraded from paid to free service in the period considered.\n",
      "Percentage of users who downgraded: 21.78%.\n"
     ]
    }
   ],
   "source": [
    "churn_paid = event_data_churn.select('userId').where(event_data_churn['churn_paid']==1).dropDuplicates().count()\n",
    "print('{} users downgraded from paid to free service in the period considered.'.format(churn_paid))\n",
    "print('Percentage of users who downgraded: {:.2f}%.'.format(churn_paid/n_users*100))\n"
   ]
  },
  {
   "cell_type": "code",
   "execution_count": 49,
   "metadata": {},
   "outputs": [
    {
     "name": "stdout",
     "output_type": "stream",
     "text": [
      "The following users downgraded from paid to free, and then cancelled the service in the period considered:\n",
      "+------+\n",
      "|userId|\n",
      "+------+\n",
      "|    54|\n",
      "|100025|\n",
      "|100009|\n",
      "|100015|\n",
      "|   103|\n",
      "|100012|\n",
      "|200020|\n",
      "|200011|\n",
      "|    12|\n",
      "+------+\n",
      "\n"
     ]
    }
   ],
   "source": [
    "print('The following users downgraded from paid to free, and then cancelled the service in the period considered:')\n",
    "event_data_churn.select('userId').where((event_data_churn['churn_paid']==1)&(event_data_churn['churn_service']==1)).dropDuplicates().show()\n",
    "\n"
   ]
  },
  {
   "cell_type": "code",
   "execution_count": 50,
   "metadata": {},
   "outputs": [
    {
     "data": {
      "text/plain": [
       "[Row(userId='54', level='paid', page='Cancellation Confirmation'),\n",
       " Row(userId='54', level='paid', page='Cancel'),\n",
       " Row(userId='54', level='free', page='Submit Upgrade'),\n",
       " Row(userId='54', level='free', page='Upgrade'),\n",
       " Row(userId='54', level='free', page='Save Settings'),\n",
       " Row(userId='54', level='free', page='Help'),\n",
       " Row(userId='54', level='free', page='Settings'),\n",
       " Row(userId='54', level='free', page='Add Friend'),\n",
       " Row(userId='54', level='free', page='Add to Playlist'),\n",
       " Row(userId='54', level='free', page='Thumbs Down'),\n",
       " Row(userId='54', level='free', page='Logout'),\n",
       " Row(userId='54', level='free', page='Thumbs Up'),\n",
       " Row(userId='54', level='free', page='About'),\n",
       " Row(userId='54', level='free', page='Roll Advert'),\n",
       " Row(userId='54', level='free', page='NextSong'),\n",
       " Row(userId='54', level='free', page='Home'),\n",
       " Row(userId='54', level='paid', page='Submit Downgrade'),\n",
       " Row(userId='54', level='paid', page='Save Settings'),\n",
       " Row(userId='54', level='paid', page='Error'),\n",
       " Row(userId='54', level='paid', page='Settings'),\n",
       " Row(userId='54', level='paid', page='About'),\n",
       " Row(userId='54', level='paid', page='Thumbs Down'),\n",
       " Row(userId='54', level='paid', page='Roll Advert'),\n",
       " Row(userId='54', level='paid', page='Help'),\n",
       " Row(userId='54', level='paid', page='Logout'),\n",
       " Row(userId='54', level='paid', page='Add to Playlist'),\n",
       " Row(userId='54', level='paid', page='Home'),\n",
       " Row(userId='54', level='paid', page='Add Friend'),\n",
       " Row(userId='54', level='paid', page='Thumbs Up'),\n",
       " Row(userId='54', level='paid', page='Downgrade'),\n",
       " Row(userId='54', level='paid', page='NextSong')]"
      ]
     },
     "execution_count": 50,
     "metadata": {},
     "output_type": "execute_result"
    }
   ],
   "source": [
    "#Let's look at one of these users, for example user 54\n",
    "event_data_churn.select(['userId', 'level', 'page']).where((event_data_churn['userId']=='54')).dropDuplicates().sort(desc('ts')).collect()\n",
    "\n",
    "# This user downgraded, from paid to free, then upgraded again, and then cancelled the service. \n"
   ]
  },
  {
   "cell_type": "markdown",
   "metadata": {},
   "source": [
    "Note that these last set of users is counted twice - as churn_service and churn_paid users."
   ]
  },
  {
   "cell_type": "markdown",
   "metadata": {},
   "source": [
    "**Explore Data**\n",
    "\n",
    "Let's recap quickly where we are right now....\n",
    "1. we have a cleaned dataset, without any unknown userId\n",
    "2. the ts column was splitted into multiple columns to segment time into year, month, day, weekday and hour\n",
    "3. we defined two states of churn: either leaving the service (churn_service) or downgrading from paid to free service (churn_paid). These two can be analysed separately, knowing that for 9 users we observed both a downgrade and an unsubscription in the period of time we are looking at. \n",
    "\n",
    "In the rest of this notebook we are going to conduct the analysis of the two situations simultaneously, but independently. In this case, the users who first downgraded then left the service are going to be considered twice: we want to catch them before they downgrade (downgrade prediction) but if we fail and they downgrade anyway, we want to catch them before they cancel the service (cancellation prediction). The events are considered independent.\n",
    "\n",
    "*Note: we have too little data to determine whether downgrading can have an impact on cancelling the service, i.e whether knowing if a user downgraded can be used as a feature to predict his/her cancellation of the service. But this is definitely a direction to explore!*\n",
    "\n",
    "It is now time to observe what are the behaviors of the users who churned, versus those who did not!\n",
    "Let's explore a few directions:\n",
    "- impact of the gender\n",
    "- impact of the level (paid/free) of the user\n",
    "- impact of the location of the user\n",
    "- impact of the average number of songs listened to, artists, repeats, partial listening\n",
    "- impact of the average listening time per day\n",
    "- impact of the time of the activity (count of actions): \n",
    "    - time of the day,\n",
    "    - day of the week, \n",
    "    - day of the month,\n",
    "    - month of the year\n",
    "- impact of the moment the user joined (month, day of the week, day of the month)\n",
    "\n",
    "*Note that we are using plotly to render the graphs, and we must convert the dataframe to a pandas dataframe in order to render the plot.*"
   ]
  },
  {
   "cell_type": "markdown",
   "metadata": {},
   "source": [
    "*Impact of the gender*"
   ]
  },
  {
   "cell_type": "code",
   "execution_count": 99,
   "metadata": {},
   "outputs": [],
   "source": [
    "gender_no_churn = event_data_churn.select(['userId', 'gender']).where((event_data_churn['churn_paid']==0)&(event_data_churn['churn_service']==0)).dropDuplicates().toPandas()\n",
    "gender_churn_paid = event_data_churn.select(['userId', 'gender']).where((event_data_churn['churn_paid']==1)&(event_data_churn['churn_service']==0)).dropDuplicates().toPandas()\n",
    "gender_churn_service = event_data_churn.select(['userId', 'gender']).where((event_data_churn['churn_paid']==0)&(event_data_churn['churn_service']==1)).dropDuplicates().toPandas()\n"
   ]
  },
  {
   "cell_type": "code",
   "execution_count": 100,
   "metadata": {},
   "outputs": [
    {
     "data": {
      "application/vnd.plotly.v1+json": {
       "config": {
        "plotlyServerURL": "https://plot.ly"
       },
       "data": [
        {
         "marker": {
          "color": "rgb(68, 1, 84)"
         },
         "name": "Cancel churned users",
         "type": "bar",
         "x": [
          "Male",
          "Female"
         ],
         "xaxis": "x",
         "y": [
          28,
          15
         ],
         "yaxis": "y"
        },
        {
         "marker": {
          "color": "rgb(220, 227, 25)"
         },
         "name": "Active users",
         "type": "bar",
         "x": [
          "Male",
          "Female"
         ],
         "xaxis": "x",
         "y": [
          72,
          61
         ],
         "yaxis": "y"
        },
        {
         "marker": {
          "color": "rgb(45, 112, 142)"
         },
         "name": "Downgrade churned users",
         "type": "bar",
         "x": [
          "Male",
          "Female"
         ],
         "xaxis": "x2",
         "y": [
          17,
          23
         ],
         "yaxis": "y2"
        },
        {
         "marker": {
          "color": "rgb(220, 227, 25)"
         },
         "name": "Active users",
         "showlegend": false,
         "type": "bar",
         "x": [
          "Male",
          "Female"
         ],
         "xaxis": "x2",
         "y": [
          72,
          61
         ],
         "yaxis": "y2"
        }
       ],
       "layout": {
        "annotations": [
         {
          "font": {
           "size": 16
          },
          "showarrow": false,
          "text": "Service cancellation analysis",
          "x": 0.225,
          "xanchor": "center",
          "xref": "paper",
          "y": 1,
          "yanchor": "bottom",
          "yref": "paper"
         },
         {
          "font": {
           "size": 16
          },
          "showarrow": false,
          "text": "Service downgrade analysis",
          "x": 0.775,
          "xanchor": "center",
          "xref": "paper",
          "y": 1,
          "yanchor": "bottom",
          "yref": "paper"
         }
        ],
        "barmode": "group",
        "template": {
         "data": {
          "bar": [
           {
            "error_x": {
             "color": "#2a3f5f"
            },
            "error_y": {
             "color": "#2a3f5f"
            },
            "marker": {
             "line": {
              "color": "#E5ECF6",
              "width": 0.5
             }
            },
            "type": "bar"
           }
          ],
          "barpolar": [
           {
            "marker": {
             "line": {
              "color": "#E5ECF6",
              "width": 0.5
             }
            },
            "type": "barpolar"
           }
          ],
          "carpet": [
           {
            "aaxis": {
             "endlinecolor": "#2a3f5f",
             "gridcolor": "white",
             "linecolor": "white",
             "minorgridcolor": "white",
             "startlinecolor": "#2a3f5f"
            },
            "baxis": {
             "endlinecolor": "#2a3f5f",
             "gridcolor": "white",
             "linecolor": "white",
             "minorgridcolor": "white",
             "startlinecolor": "#2a3f5f"
            },
            "type": "carpet"
           }
          ],
          "choropleth": [
           {
            "colorbar": {
             "outlinewidth": 0,
             "ticks": ""
            },
            "type": "choropleth"
           }
          ],
          "contour": [
           {
            "colorbar": {
             "outlinewidth": 0,
             "ticks": ""
            },
            "colorscale": [
             [
              0,
              "#0d0887"
             ],
             [
              0.1111111111111111,
              "#46039f"
             ],
             [
              0.2222222222222222,
              "#7201a8"
             ],
             [
              0.3333333333333333,
              "#9c179e"
             ],
             [
              0.4444444444444444,
              "#bd3786"
             ],
             [
              0.5555555555555556,
              "#d8576b"
             ],
             [
              0.6666666666666666,
              "#ed7953"
             ],
             [
              0.7777777777777778,
              "#fb9f3a"
             ],
             [
              0.8888888888888888,
              "#fdca26"
             ],
             [
              1,
              "#f0f921"
             ]
            ],
            "type": "contour"
           }
          ],
          "contourcarpet": [
           {
            "colorbar": {
             "outlinewidth": 0,
             "ticks": ""
            },
            "type": "contourcarpet"
           }
          ],
          "heatmap": [
           {
            "colorbar": {
             "outlinewidth": 0,
             "ticks": ""
            },
            "colorscale": [
             [
              0,
              "#0d0887"
             ],
             [
              0.1111111111111111,
              "#46039f"
             ],
             [
              0.2222222222222222,
              "#7201a8"
             ],
             [
              0.3333333333333333,
              "#9c179e"
             ],
             [
              0.4444444444444444,
              "#bd3786"
             ],
             [
              0.5555555555555556,
              "#d8576b"
             ],
             [
              0.6666666666666666,
              "#ed7953"
             ],
             [
              0.7777777777777778,
              "#fb9f3a"
             ],
             [
              0.8888888888888888,
              "#fdca26"
             ],
             [
              1,
              "#f0f921"
             ]
            ],
            "type": "heatmap"
           }
          ],
          "heatmapgl": [
           {
            "colorbar": {
             "outlinewidth": 0,
             "ticks": ""
            },
            "colorscale": [
             [
              0,
              "#0d0887"
             ],
             [
              0.1111111111111111,
              "#46039f"
             ],
             [
              0.2222222222222222,
              "#7201a8"
             ],
             [
              0.3333333333333333,
              "#9c179e"
             ],
             [
              0.4444444444444444,
              "#bd3786"
             ],
             [
              0.5555555555555556,
              "#d8576b"
             ],
             [
              0.6666666666666666,
              "#ed7953"
             ],
             [
              0.7777777777777778,
              "#fb9f3a"
             ],
             [
              0.8888888888888888,
              "#fdca26"
             ],
             [
              1,
              "#f0f921"
             ]
            ],
            "type": "heatmapgl"
           }
          ],
          "histogram": [
           {
            "marker": {
             "colorbar": {
              "outlinewidth": 0,
              "ticks": ""
             }
            },
            "type": "histogram"
           }
          ],
          "histogram2d": [
           {
            "colorbar": {
             "outlinewidth": 0,
             "ticks": ""
            },
            "colorscale": [
             [
              0,
              "#0d0887"
             ],
             [
              0.1111111111111111,
              "#46039f"
             ],
             [
              0.2222222222222222,
              "#7201a8"
             ],
             [
              0.3333333333333333,
              "#9c179e"
             ],
             [
              0.4444444444444444,
              "#bd3786"
             ],
             [
              0.5555555555555556,
              "#d8576b"
             ],
             [
              0.6666666666666666,
              "#ed7953"
             ],
             [
              0.7777777777777778,
              "#fb9f3a"
             ],
             [
              0.8888888888888888,
              "#fdca26"
             ],
             [
              1,
              "#f0f921"
             ]
            ],
            "type": "histogram2d"
           }
          ],
          "histogram2dcontour": [
           {
            "colorbar": {
             "outlinewidth": 0,
             "ticks": ""
            },
            "colorscale": [
             [
              0,
              "#0d0887"
             ],
             [
              0.1111111111111111,
              "#46039f"
             ],
             [
              0.2222222222222222,
              "#7201a8"
             ],
             [
              0.3333333333333333,
              "#9c179e"
             ],
             [
              0.4444444444444444,
              "#bd3786"
             ],
             [
              0.5555555555555556,
              "#d8576b"
             ],
             [
              0.6666666666666666,
              "#ed7953"
             ],
             [
              0.7777777777777778,
              "#fb9f3a"
             ],
             [
              0.8888888888888888,
              "#fdca26"
             ],
             [
              1,
              "#f0f921"
             ]
            ],
            "type": "histogram2dcontour"
           }
          ],
          "mesh3d": [
           {
            "colorbar": {
             "outlinewidth": 0,
             "ticks": ""
            },
            "type": "mesh3d"
           }
          ],
          "parcoords": [
           {
            "line": {
             "colorbar": {
              "outlinewidth": 0,
              "ticks": ""
             }
            },
            "type": "parcoords"
           }
          ],
          "scatter": [
           {
            "marker": {
             "colorbar": {
              "outlinewidth": 0,
              "ticks": ""
             }
            },
            "type": "scatter"
           }
          ],
          "scatter3d": [
           {
            "line": {
             "colorbar": {
              "outlinewidth": 0,
              "ticks": ""
             }
            },
            "marker": {
             "colorbar": {
              "outlinewidth": 0,
              "ticks": ""
             }
            },
            "type": "scatter3d"
           }
          ],
          "scattercarpet": [
           {
            "marker": {
             "colorbar": {
              "outlinewidth": 0,
              "ticks": ""
             }
            },
            "type": "scattercarpet"
           }
          ],
          "scattergeo": [
           {
            "marker": {
             "colorbar": {
              "outlinewidth": 0,
              "ticks": ""
             }
            },
            "type": "scattergeo"
           }
          ],
          "scattergl": [
           {
            "marker": {
             "colorbar": {
              "outlinewidth": 0,
              "ticks": ""
             }
            },
            "type": "scattergl"
           }
          ],
          "scattermapbox": [
           {
            "marker": {
             "colorbar": {
              "outlinewidth": 0,
              "ticks": ""
             }
            },
            "type": "scattermapbox"
           }
          ],
          "scatterpolar": [
           {
            "marker": {
             "colorbar": {
              "outlinewidth": 0,
              "ticks": ""
             }
            },
            "type": "scatterpolar"
           }
          ],
          "scatterpolargl": [
           {
            "marker": {
             "colorbar": {
              "outlinewidth": 0,
              "ticks": ""
             }
            },
            "type": "scatterpolargl"
           }
          ],
          "scatterternary": [
           {
            "marker": {
             "colorbar": {
              "outlinewidth": 0,
              "ticks": ""
             }
            },
            "type": "scatterternary"
           }
          ],
          "surface": [
           {
            "colorbar": {
             "outlinewidth": 0,
             "ticks": ""
            },
            "colorscale": [
             [
              0,
              "#0d0887"
             ],
             [
              0.1111111111111111,
              "#46039f"
             ],
             [
              0.2222222222222222,
              "#7201a8"
             ],
             [
              0.3333333333333333,
              "#9c179e"
             ],
             [
              0.4444444444444444,
              "#bd3786"
             ],
             [
              0.5555555555555556,
              "#d8576b"
             ],
             [
              0.6666666666666666,
              "#ed7953"
             ],
             [
              0.7777777777777778,
              "#fb9f3a"
             ],
             [
              0.8888888888888888,
              "#fdca26"
             ],
             [
              1,
              "#f0f921"
             ]
            ],
            "type": "surface"
           }
          ],
          "table": [
           {
            "cells": {
             "fill": {
              "color": "#EBF0F8"
             },
             "line": {
              "color": "white"
             }
            },
            "header": {
             "fill": {
              "color": "#C8D4E3"
             },
             "line": {
              "color": "white"
             }
            },
            "type": "table"
           }
          ]
         },
         "layout": {
          "annotationdefaults": {
           "arrowcolor": "#2a3f5f",
           "arrowhead": 0,
           "arrowwidth": 1
          },
          "colorscale": {
           "diverging": [
            [
             0,
             "#8e0152"
            ],
            [
             0.1,
             "#c51b7d"
            ],
            [
             0.2,
             "#de77ae"
            ],
            [
             0.3,
             "#f1b6da"
            ],
            [
             0.4,
             "#fde0ef"
            ],
            [
             0.5,
             "#f7f7f7"
            ],
            [
             0.6,
             "#e6f5d0"
            ],
            [
             0.7,
             "#b8e186"
            ],
            [
             0.8,
             "#7fbc41"
            ],
            [
             0.9,
             "#4d9221"
            ],
            [
             1,
             "#276419"
            ]
           ],
           "sequential": [
            [
             0,
             "#0d0887"
            ],
            [
             0.1111111111111111,
             "#46039f"
            ],
            [
             0.2222222222222222,
             "#7201a8"
            ],
            [
             0.3333333333333333,
             "#9c179e"
            ],
            [
             0.4444444444444444,
             "#bd3786"
            ],
            [
             0.5555555555555556,
             "#d8576b"
            ],
            [
             0.6666666666666666,
             "#ed7953"
            ],
            [
             0.7777777777777778,
             "#fb9f3a"
            ],
            [
             0.8888888888888888,
             "#fdca26"
            ],
            [
             1,
             "#f0f921"
            ]
           ],
           "sequentialminus": [
            [
             0,
             "#0d0887"
            ],
            [
             0.1111111111111111,
             "#46039f"
            ],
            [
             0.2222222222222222,
             "#7201a8"
            ],
            [
             0.3333333333333333,
             "#9c179e"
            ],
            [
             0.4444444444444444,
             "#bd3786"
            ],
            [
             0.5555555555555556,
             "#d8576b"
            ],
            [
             0.6666666666666666,
             "#ed7953"
            ],
            [
             0.7777777777777778,
             "#fb9f3a"
            ],
            [
             0.8888888888888888,
             "#fdca26"
            ],
            [
             1,
             "#f0f921"
            ]
           ]
          },
          "colorway": [
           "#636efa",
           "#EF553B",
           "#00cc96",
           "#ab63fa",
           "#FFA15A",
           "#19d3f3",
           "#FF6692",
           "#B6E880",
           "#FF97FF",
           "#FECB52"
          ],
          "font": {
           "color": "#2a3f5f"
          },
          "geo": {
           "bgcolor": "white",
           "lakecolor": "white",
           "landcolor": "#E5ECF6",
           "showlakes": true,
           "showland": true,
           "subunitcolor": "white"
          },
          "hoverlabel": {
           "align": "left"
          },
          "hovermode": "closest",
          "mapbox": {
           "style": "light"
          },
          "paper_bgcolor": "white",
          "plot_bgcolor": "#E5ECF6",
          "polar": {
           "angularaxis": {
            "gridcolor": "white",
            "linecolor": "white",
            "ticks": ""
           },
           "bgcolor": "#E5ECF6",
           "radialaxis": {
            "gridcolor": "white",
            "linecolor": "white",
            "ticks": ""
           }
          },
          "scene": {
           "xaxis": {
            "backgroundcolor": "#E5ECF6",
            "gridcolor": "white",
            "gridwidth": 2,
            "linecolor": "white",
            "showbackground": true,
            "ticks": "",
            "zerolinecolor": "white"
           },
           "yaxis": {
            "backgroundcolor": "#E5ECF6",
            "gridcolor": "white",
            "gridwidth": 2,
            "linecolor": "white",
            "showbackground": true,
            "ticks": "",
            "zerolinecolor": "white"
           },
           "zaxis": {
            "backgroundcolor": "#E5ECF6",
            "gridcolor": "white",
            "gridwidth": 2,
            "linecolor": "white",
            "showbackground": true,
            "ticks": "",
            "zerolinecolor": "white"
           }
          },
          "shapedefaults": {
           "line": {
            "color": "#2a3f5f"
           }
          },
          "ternary": {
           "aaxis": {
            "gridcolor": "white",
            "linecolor": "white",
            "ticks": ""
           },
           "baxis": {
            "gridcolor": "white",
            "linecolor": "white",
            "ticks": ""
           },
           "bgcolor": "#E5ECF6",
           "caxis": {
            "gridcolor": "white",
            "linecolor": "white",
            "ticks": ""
           }
          },
          "title": {
           "x": 0.05
          },
          "xaxis": {
           "automargin": true,
           "gridcolor": "white",
           "linecolor": "white",
           "ticks": "",
           "zerolinecolor": "white",
           "zerolinewidth": 2
          },
          "yaxis": {
           "automargin": true,
           "gridcolor": "white",
           "linecolor": "white",
           "ticks": "",
           "zerolinecolor": "white",
           "zerolinewidth": 2
          }
         }
        },
        "title": {
         "text": "Distribution of active vs churned user per gender"
        },
        "xaxis": {
         "anchor": "y",
         "domain": [
          0,
          0.45
         ],
         "title": {
          "text": "Gender"
         }
        },
        "xaxis2": {
         "anchor": "y2",
         "domain": [
          0.55,
          1
         ],
         "title": {
          "text": "Gender"
         }
        },
        "yaxis": {
         "anchor": "x",
         "domain": [
          0,
          1
         ],
         "title": {
          "text": "Count of users"
         }
        },
        "yaxis2": {
         "anchor": "x2",
         "domain": [
          0,
          1
         ],
         "matches": "y",
         "showticklabels": false
        }
       }
      },
      "text/html": [
       "<div>\n",
       "        \n",
       "        \n",
       "            <div id=\"9aa1f425-d90a-428f-9f77-e88d1640a284\" class=\"plotly-graph-div\" style=\"height:525px; width:100%;\"></div>\n",
       "            <script type=\"text/javascript\">\n",
       "                require([\"plotly\"], function(Plotly) {\n",
       "                    window.PLOTLYENV=window.PLOTLYENV || {};\n",
       "                    \n",
       "                if (document.getElementById(\"9aa1f425-d90a-428f-9f77-e88d1640a284\")) {\n",
       "                    Plotly.newPlot(\n",
       "                        '9aa1f425-d90a-428f-9f77-e88d1640a284',\n",
       "                        [{\"marker\": {\"color\": \"rgb(68, 1, 84)\"}, \"name\": \"Cancel churned users\", \"type\": \"bar\", \"x\": [\"Male\", \"Female\"], \"xaxis\": \"x\", \"y\": [28, 15], \"yaxis\": \"y\"}, {\"marker\": {\"color\": \"rgb(220, 227, 25)\"}, \"name\": \"Active users\", \"type\": \"bar\", \"x\": [\"Male\", \"Female\"], \"xaxis\": \"x\", \"y\": [72, 61], \"yaxis\": \"y\"}, {\"marker\": {\"color\": \"rgb(45, 112, 142)\"}, \"name\": \"Downgrade churned users\", \"type\": \"bar\", \"x\": [\"Male\", \"Female\"], \"xaxis\": \"x2\", \"y\": [17, 23], \"yaxis\": \"y2\"}, {\"marker\": {\"color\": \"rgb(220, 227, 25)\"}, \"name\": \"Active users\", \"showlegend\": false, \"type\": \"bar\", \"x\": [\"Male\", \"Female\"], \"xaxis\": \"x2\", \"y\": [72, 61], \"yaxis\": \"y2\"}],\n",
       "                        {\"annotations\": [{\"font\": {\"size\": 16}, \"showarrow\": false, \"text\": \"Service cancellation analysis\", \"x\": 0.225, \"xanchor\": \"center\", \"xref\": \"paper\", \"y\": 1.0, \"yanchor\": \"bottom\", \"yref\": \"paper\"}, {\"font\": {\"size\": 16}, \"showarrow\": false, \"text\": \"Service downgrade analysis\", \"x\": 0.775, \"xanchor\": \"center\", \"xref\": \"paper\", \"y\": 1.0, \"yanchor\": \"bottom\", \"yref\": \"paper\"}], \"barmode\": \"group\", \"template\": {\"data\": {\"bar\": [{\"error_x\": {\"color\": \"#2a3f5f\"}, \"error_y\": {\"color\": \"#2a3f5f\"}, \"marker\": {\"line\": {\"color\": \"#E5ECF6\", \"width\": 0.5}}, \"type\": \"bar\"}], \"barpolar\": [{\"marker\": {\"line\": {\"color\": \"#E5ECF6\", \"width\": 0.5}}, \"type\": \"barpolar\"}], \"carpet\": [{\"aaxis\": {\"endlinecolor\": \"#2a3f5f\", \"gridcolor\": \"white\", \"linecolor\": \"white\", \"minorgridcolor\": \"white\", \"startlinecolor\": \"#2a3f5f\"}, \"baxis\": {\"endlinecolor\": \"#2a3f5f\", \"gridcolor\": \"white\", \"linecolor\": \"white\", \"minorgridcolor\": \"white\", \"startlinecolor\": \"#2a3f5f\"}, \"type\": \"carpet\"}], \"choropleth\": [{\"colorbar\": {\"outlinewidth\": 0, \"ticks\": \"\"}, \"type\": \"choropleth\"}], \"contour\": [{\"colorbar\": {\"outlinewidth\": 0, \"ticks\": \"\"}, \"colorscale\": [[0.0, \"#0d0887\"], [0.1111111111111111, \"#46039f\"], [0.2222222222222222, \"#7201a8\"], [0.3333333333333333, \"#9c179e\"], [0.4444444444444444, \"#bd3786\"], [0.5555555555555556, \"#d8576b\"], [0.6666666666666666, \"#ed7953\"], [0.7777777777777778, \"#fb9f3a\"], [0.8888888888888888, \"#fdca26\"], [1.0, \"#f0f921\"]], \"type\": \"contour\"}], \"contourcarpet\": [{\"colorbar\": {\"outlinewidth\": 0, \"ticks\": \"\"}, \"type\": \"contourcarpet\"}], \"heatmap\": [{\"colorbar\": {\"outlinewidth\": 0, \"ticks\": \"\"}, \"colorscale\": [[0.0, \"#0d0887\"], [0.1111111111111111, \"#46039f\"], [0.2222222222222222, \"#7201a8\"], [0.3333333333333333, \"#9c179e\"], [0.4444444444444444, \"#bd3786\"], [0.5555555555555556, \"#d8576b\"], [0.6666666666666666, \"#ed7953\"], [0.7777777777777778, \"#fb9f3a\"], [0.8888888888888888, \"#fdca26\"], [1.0, \"#f0f921\"]], \"type\": \"heatmap\"}], \"heatmapgl\": [{\"colorbar\": {\"outlinewidth\": 0, \"ticks\": \"\"}, \"colorscale\": [[0.0, \"#0d0887\"], [0.1111111111111111, \"#46039f\"], [0.2222222222222222, \"#7201a8\"], [0.3333333333333333, \"#9c179e\"], [0.4444444444444444, \"#bd3786\"], [0.5555555555555556, \"#d8576b\"], [0.6666666666666666, \"#ed7953\"], [0.7777777777777778, \"#fb9f3a\"], [0.8888888888888888, \"#fdca26\"], [1.0, \"#f0f921\"]], \"type\": \"heatmapgl\"}], \"histogram\": [{\"marker\": {\"colorbar\": {\"outlinewidth\": 0, \"ticks\": \"\"}}, \"type\": \"histogram\"}], \"histogram2d\": [{\"colorbar\": {\"outlinewidth\": 0, \"ticks\": \"\"}, \"colorscale\": [[0.0, \"#0d0887\"], [0.1111111111111111, \"#46039f\"], [0.2222222222222222, \"#7201a8\"], [0.3333333333333333, \"#9c179e\"], [0.4444444444444444, \"#bd3786\"], [0.5555555555555556, \"#d8576b\"], [0.6666666666666666, \"#ed7953\"], [0.7777777777777778, \"#fb9f3a\"], [0.8888888888888888, \"#fdca26\"], [1.0, \"#f0f921\"]], \"type\": \"histogram2d\"}], \"histogram2dcontour\": [{\"colorbar\": {\"outlinewidth\": 0, \"ticks\": \"\"}, \"colorscale\": [[0.0, \"#0d0887\"], [0.1111111111111111, \"#46039f\"], [0.2222222222222222, \"#7201a8\"], [0.3333333333333333, \"#9c179e\"], [0.4444444444444444, \"#bd3786\"], [0.5555555555555556, \"#d8576b\"], [0.6666666666666666, \"#ed7953\"], [0.7777777777777778, \"#fb9f3a\"], [0.8888888888888888, \"#fdca26\"], [1.0, \"#f0f921\"]], \"type\": \"histogram2dcontour\"}], \"mesh3d\": [{\"colorbar\": {\"outlinewidth\": 0, \"ticks\": \"\"}, \"type\": \"mesh3d\"}], \"parcoords\": [{\"line\": {\"colorbar\": {\"outlinewidth\": 0, \"ticks\": \"\"}}, \"type\": \"parcoords\"}], \"scatter\": [{\"marker\": {\"colorbar\": {\"outlinewidth\": 0, \"ticks\": \"\"}}, \"type\": \"scatter\"}], \"scatter3d\": [{\"line\": {\"colorbar\": {\"outlinewidth\": 0, \"ticks\": \"\"}}, \"marker\": {\"colorbar\": {\"outlinewidth\": 0, \"ticks\": \"\"}}, \"type\": \"scatter3d\"}], \"scattercarpet\": [{\"marker\": {\"colorbar\": {\"outlinewidth\": 0, \"ticks\": \"\"}}, \"type\": \"scattercarpet\"}], \"scattergeo\": [{\"marker\": {\"colorbar\": {\"outlinewidth\": 0, \"ticks\": \"\"}}, \"type\": \"scattergeo\"}], \"scattergl\": [{\"marker\": {\"colorbar\": {\"outlinewidth\": 0, \"ticks\": \"\"}}, \"type\": \"scattergl\"}], \"scattermapbox\": [{\"marker\": {\"colorbar\": {\"outlinewidth\": 0, \"ticks\": \"\"}}, \"type\": \"scattermapbox\"}], \"scatterpolar\": [{\"marker\": {\"colorbar\": {\"outlinewidth\": 0, \"ticks\": \"\"}}, \"type\": \"scatterpolar\"}], \"scatterpolargl\": [{\"marker\": {\"colorbar\": {\"outlinewidth\": 0, \"ticks\": \"\"}}, \"type\": \"scatterpolargl\"}], \"scatterternary\": [{\"marker\": {\"colorbar\": {\"outlinewidth\": 0, \"ticks\": \"\"}}, \"type\": \"scatterternary\"}], \"surface\": [{\"colorbar\": {\"outlinewidth\": 0, \"ticks\": \"\"}, \"colorscale\": [[0.0, \"#0d0887\"], [0.1111111111111111, \"#46039f\"], [0.2222222222222222, \"#7201a8\"], [0.3333333333333333, \"#9c179e\"], [0.4444444444444444, \"#bd3786\"], [0.5555555555555556, \"#d8576b\"], [0.6666666666666666, \"#ed7953\"], [0.7777777777777778, \"#fb9f3a\"], [0.8888888888888888, \"#fdca26\"], [1.0, \"#f0f921\"]], \"type\": \"surface\"}], \"table\": [{\"cells\": {\"fill\": {\"color\": \"#EBF0F8\"}, \"line\": {\"color\": \"white\"}}, \"header\": {\"fill\": {\"color\": \"#C8D4E3\"}, \"line\": {\"color\": \"white\"}}, \"type\": \"table\"}]}, \"layout\": {\"annotationdefaults\": {\"arrowcolor\": \"#2a3f5f\", \"arrowhead\": 0, \"arrowwidth\": 1}, \"colorscale\": {\"diverging\": [[0, \"#8e0152\"], [0.1, \"#c51b7d\"], [0.2, \"#de77ae\"], [0.3, \"#f1b6da\"], [0.4, \"#fde0ef\"], [0.5, \"#f7f7f7\"], [0.6, \"#e6f5d0\"], [0.7, \"#b8e186\"], [0.8, \"#7fbc41\"], [0.9, \"#4d9221\"], [1, \"#276419\"]], \"sequential\": [[0.0, \"#0d0887\"], [0.1111111111111111, \"#46039f\"], [0.2222222222222222, \"#7201a8\"], [0.3333333333333333, \"#9c179e\"], [0.4444444444444444, \"#bd3786\"], [0.5555555555555556, \"#d8576b\"], [0.6666666666666666, \"#ed7953\"], [0.7777777777777778, \"#fb9f3a\"], [0.8888888888888888, \"#fdca26\"], [1.0, \"#f0f921\"]], \"sequentialminus\": [[0.0, \"#0d0887\"], [0.1111111111111111, \"#46039f\"], [0.2222222222222222, \"#7201a8\"], [0.3333333333333333, \"#9c179e\"], [0.4444444444444444, \"#bd3786\"], [0.5555555555555556, \"#d8576b\"], [0.6666666666666666, \"#ed7953\"], [0.7777777777777778, \"#fb9f3a\"], [0.8888888888888888, \"#fdca26\"], [1.0, \"#f0f921\"]]}, \"colorway\": [\"#636efa\", \"#EF553B\", \"#00cc96\", \"#ab63fa\", \"#FFA15A\", \"#19d3f3\", \"#FF6692\", \"#B6E880\", \"#FF97FF\", \"#FECB52\"], \"font\": {\"color\": \"#2a3f5f\"}, \"geo\": {\"bgcolor\": \"white\", \"lakecolor\": \"white\", \"landcolor\": \"#E5ECF6\", \"showlakes\": true, \"showland\": true, \"subunitcolor\": \"white\"}, \"hoverlabel\": {\"align\": \"left\"}, \"hovermode\": \"closest\", \"mapbox\": {\"style\": \"light\"}, \"paper_bgcolor\": \"white\", \"plot_bgcolor\": \"#E5ECF6\", \"polar\": {\"angularaxis\": {\"gridcolor\": \"white\", \"linecolor\": \"white\", \"ticks\": \"\"}, \"bgcolor\": \"#E5ECF6\", \"radialaxis\": {\"gridcolor\": \"white\", \"linecolor\": \"white\", \"ticks\": \"\"}}, \"scene\": {\"xaxis\": {\"backgroundcolor\": \"#E5ECF6\", \"gridcolor\": \"white\", \"gridwidth\": 2, \"linecolor\": \"white\", \"showbackground\": true, \"ticks\": \"\", \"zerolinecolor\": \"white\"}, \"yaxis\": {\"backgroundcolor\": \"#E5ECF6\", \"gridcolor\": \"white\", \"gridwidth\": 2, \"linecolor\": \"white\", \"showbackground\": true, \"ticks\": \"\", \"zerolinecolor\": \"white\"}, \"zaxis\": {\"backgroundcolor\": \"#E5ECF6\", \"gridcolor\": \"white\", \"gridwidth\": 2, \"linecolor\": \"white\", \"showbackground\": true, \"ticks\": \"\", \"zerolinecolor\": \"white\"}}, \"shapedefaults\": {\"line\": {\"color\": \"#2a3f5f\"}}, \"ternary\": {\"aaxis\": {\"gridcolor\": \"white\", \"linecolor\": \"white\", \"ticks\": \"\"}, \"baxis\": {\"gridcolor\": \"white\", \"linecolor\": \"white\", \"ticks\": \"\"}, \"bgcolor\": \"#E5ECF6\", \"caxis\": {\"gridcolor\": \"white\", \"linecolor\": \"white\", \"ticks\": \"\"}}, \"title\": {\"x\": 0.05}, \"xaxis\": {\"automargin\": true, \"gridcolor\": \"white\", \"linecolor\": \"white\", \"ticks\": \"\", \"zerolinecolor\": \"white\", \"zerolinewidth\": 2}, \"yaxis\": {\"automargin\": true, \"gridcolor\": \"white\", \"linecolor\": \"white\", \"ticks\": \"\", \"zerolinecolor\": \"white\", \"zerolinewidth\": 2}}}, \"title\": {\"text\": \"Distribution of active vs churned user per gender\"}, \"xaxis\": {\"anchor\": \"y\", \"domain\": [0.0, 0.45], \"title\": {\"text\": \"Gender\"}}, \"xaxis2\": {\"anchor\": \"y2\", \"domain\": [0.55, 1.0], \"title\": {\"text\": \"Gender\"}}, \"yaxis\": {\"anchor\": \"x\", \"domain\": [0.0, 1.0], \"title\": {\"text\": \"Count of users\"}}, \"yaxis2\": {\"anchor\": \"x2\", \"domain\": [0.0, 1.0], \"matches\": \"y\", \"showticklabels\": false}},\n",
       "                        {\"responsive\": true}\n",
       "                    ).then(function(){\n",
       "                            \n",
       "var gd = document.getElementById('9aa1f425-d90a-428f-9f77-e88d1640a284');\n",
       "var x = new MutationObserver(function (mutations, observer) {{\n",
       "        var display = window.getComputedStyle(gd).display;\n",
       "        if (!display || display === 'none') {{\n",
       "            console.log([gd, 'removed!']);\n",
       "            Plotly.purge(gd);\n",
       "            observer.disconnect();\n",
       "        }}\n",
       "}});\n",
       "\n",
       "// Listen for the removal of the full notebook cells\n",
       "var notebookContainer = gd.closest('#notebook-container');\n",
       "if (notebookContainer) {{\n",
       "    x.observe(notebookContainer, {childList: true});\n",
       "}}\n",
       "\n",
       "// Listen for the clearing of the current output cell\n",
       "var outputEl = gd.closest('.output');\n",
       "if (outputEl) {{\n",
       "    x.observe(outputEl, {childList: true});\n",
       "}}\n",
       "\n",
       "                        })\n",
       "                };\n",
       "                });\n",
       "            </script>\n",
       "        </div>"
      ]
     },
     "metadata": {},
     "output_type": "display_data"
    }
   ],
   "source": [
    "fig = make_subplots(rows=1, cols=2, shared_yaxes=True,\n",
    "                   subplot_titles=(\"Service cancellation analysis\", \"Service downgrade analysis\"))\n",
    "\n",
    "fig.append_trace(go.Bar(\n",
    "    x=['Male', 'Female'],\n",
    "    y=[len(gender_churn_service[gender_churn_service['gender']=='M']), len(gender_churn_service[gender_churn_service['gender']=='F'])],\n",
    "    name='Cancel churned users',\n",
    "    marker=dict(\n",
    "        color='rgb(68, 1, 84)'\n",
    "    )\n",
    "),1,1)\n",
    "fig.append_trace(go.Bar(\n",
    "    x=['Male', 'Female'],\n",
    "    y=[len(gender_no_churn[gender_no_churn['gender']=='M']), len(gender_no_churn[gender_no_churn['gender']=='F'])],\n",
    "    name='Active users',\n",
    "    marker=dict(\n",
    "        color='rgb(220, 227, 25)'\n",
    "    )\n",
    "),1,1)\n",
    "fig.append_trace(go.Bar(\n",
    "    x=['Male', 'Female'],\n",
    "    y=[len(gender_churn_paid[gender_churn_paid['gender']=='M']), len(gender_churn_paid[gender_churn_paid['gender']=='F'])],\n",
    "    name='Downgrade churned users',\n",
    "    marker=dict(\n",
    "        color='rgb(45, 112, 142)'\n",
    "    ),\n",
    "),1,2)\n",
    "fig.append_trace(go.Bar(\n",
    "    x=['Male', 'Female'],\n",
    "    y=[len(gender_no_churn[gender_no_churn['gender']=='M']), len(gender_no_churn[gender_no_churn['gender']=='F'])],\n",
    "    name='Active users',\n",
    "    marker=dict(\n",
    "        color='rgb(220, 227, 25)'\n",
    "    ),\n",
    "    showlegend=False\n",
    "),1,2)\n",
    "fig.layout.update(go.Layout(\n",
    "    title_text=\"Distribution of active vs churned user per gender\",\n",
    "    yaxis = {'title':\"Count of users\"}, \n",
    "    barmode='group'\n",
    "))\n",
    "fig.update_xaxes(title_text=\"Gender\", row=1, col=1)\n",
    "fig.update_xaxes(title_text=\"Gender\", row=1, col=2)\n",
    "\n",
    "fig.show()\n"
   ]
  },
  {
   "cell_type": "markdown",
   "metadata": {},
   "source": [
    "At first glance, it looks like men cancel the service more in proportion than women, and that the gender is not of relevant influence to predict the downgrade of a user. Overall, this feature does not seem to bring much to predict churn, we will decide later on if we want to keep it or not to train our model. "
   ]
  },
  {
   "cell_type": "markdown",
   "metadata": {},
   "source": [
    "*Impact of the subscription level (paid/free)*\n",
    "\n",
    "In this case, we are only interested in the link between the user leaving the service and his/her subscription level. As a matter of fact, it only makes sense to predict whether a user is about to downgrade his/her service is he/she has a paid subscription - it is assumed in this case that the user has a paid subscription level. \n"
   ]
  },
  {
   "cell_type": "code",
   "execution_count": 101,
   "metadata": {},
   "outputs": [],
   "source": [
    "level_no_churn = event_data_churn.select(['userId', 'level']).where((event_data_churn['churn_paid']==0)&(event_data_churn['churn_service']==0)).dropDuplicates().toPandas()\n",
    "level_churn_service = event_data_churn.select(['userId', 'level']).where((event_data_churn['churn_paid']==0)&(event_data_churn['churn_service']==1)).dropDuplicates().toPandas()\n"
   ]
  },
  {
   "cell_type": "code",
   "execution_count": 102,
   "metadata": {},
   "outputs": [
    {
     "data": {
      "application/vnd.plotly.v1+json": {
       "config": {
        "plotlyServerURL": "https://plot.ly"
       },
       "data": [
        {
         "marker": {
          "color": "rgb(68, 1, 84)"
         },
         "name": "Churned users",
         "type": "bar",
         "x": [
          "Paid",
          "Free"
         ],
         "y": [
          27,
          37
         ]
        },
        {
         "marker": {
          "color": "rgb(220, 227, 25)"
         },
         "name": "Active users",
         "type": "bar",
         "x": [
          "Paid",
          "Free"
         ],
         "y": [
          89,
          109
         ]
        }
       ],
       "layout": {
        "barmode": "group",
        "template": {
         "data": {
          "bar": [
           {
            "error_x": {
             "color": "#2a3f5f"
            },
            "error_y": {
             "color": "#2a3f5f"
            },
            "marker": {
             "line": {
              "color": "#E5ECF6",
              "width": 0.5
             }
            },
            "type": "bar"
           }
          ],
          "barpolar": [
           {
            "marker": {
             "line": {
              "color": "#E5ECF6",
              "width": 0.5
             }
            },
            "type": "barpolar"
           }
          ],
          "carpet": [
           {
            "aaxis": {
             "endlinecolor": "#2a3f5f",
             "gridcolor": "white",
             "linecolor": "white",
             "minorgridcolor": "white",
             "startlinecolor": "#2a3f5f"
            },
            "baxis": {
             "endlinecolor": "#2a3f5f",
             "gridcolor": "white",
             "linecolor": "white",
             "minorgridcolor": "white",
             "startlinecolor": "#2a3f5f"
            },
            "type": "carpet"
           }
          ],
          "choropleth": [
           {
            "colorbar": {
             "outlinewidth": 0,
             "ticks": ""
            },
            "type": "choropleth"
           }
          ],
          "contour": [
           {
            "colorbar": {
             "outlinewidth": 0,
             "ticks": ""
            },
            "colorscale": [
             [
              0,
              "#0d0887"
             ],
             [
              0.1111111111111111,
              "#46039f"
             ],
             [
              0.2222222222222222,
              "#7201a8"
             ],
             [
              0.3333333333333333,
              "#9c179e"
             ],
             [
              0.4444444444444444,
              "#bd3786"
             ],
             [
              0.5555555555555556,
              "#d8576b"
             ],
             [
              0.6666666666666666,
              "#ed7953"
             ],
             [
              0.7777777777777778,
              "#fb9f3a"
             ],
             [
              0.8888888888888888,
              "#fdca26"
             ],
             [
              1,
              "#f0f921"
             ]
            ],
            "type": "contour"
           }
          ],
          "contourcarpet": [
           {
            "colorbar": {
             "outlinewidth": 0,
             "ticks": ""
            },
            "type": "contourcarpet"
           }
          ],
          "heatmap": [
           {
            "colorbar": {
             "outlinewidth": 0,
             "ticks": ""
            },
            "colorscale": [
             [
              0,
              "#0d0887"
             ],
             [
              0.1111111111111111,
              "#46039f"
             ],
             [
              0.2222222222222222,
              "#7201a8"
             ],
             [
              0.3333333333333333,
              "#9c179e"
             ],
             [
              0.4444444444444444,
              "#bd3786"
             ],
             [
              0.5555555555555556,
              "#d8576b"
             ],
             [
              0.6666666666666666,
              "#ed7953"
             ],
             [
              0.7777777777777778,
              "#fb9f3a"
             ],
             [
              0.8888888888888888,
              "#fdca26"
             ],
             [
              1,
              "#f0f921"
             ]
            ],
            "type": "heatmap"
           }
          ],
          "heatmapgl": [
           {
            "colorbar": {
             "outlinewidth": 0,
             "ticks": ""
            },
            "colorscale": [
             [
              0,
              "#0d0887"
             ],
             [
              0.1111111111111111,
              "#46039f"
             ],
             [
              0.2222222222222222,
              "#7201a8"
             ],
             [
              0.3333333333333333,
              "#9c179e"
             ],
             [
              0.4444444444444444,
              "#bd3786"
             ],
             [
              0.5555555555555556,
              "#d8576b"
             ],
             [
              0.6666666666666666,
              "#ed7953"
             ],
             [
              0.7777777777777778,
              "#fb9f3a"
             ],
             [
              0.8888888888888888,
              "#fdca26"
             ],
             [
              1,
              "#f0f921"
             ]
            ],
            "type": "heatmapgl"
           }
          ],
          "histogram": [
           {
            "marker": {
             "colorbar": {
              "outlinewidth": 0,
              "ticks": ""
             }
            },
            "type": "histogram"
           }
          ],
          "histogram2d": [
           {
            "colorbar": {
             "outlinewidth": 0,
             "ticks": ""
            },
            "colorscale": [
             [
              0,
              "#0d0887"
             ],
             [
              0.1111111111111111,
              "#46039f"
             ],
             [
              0.2222222222222222,
              "#7201a8"
             ],
             [
              0.3333333333333333,
              "#9c179e"
             ],
             [
              0.4444444444444444,
              "#bd3786"
             ],
             [
              0.5555555555555556,
              "#d8576b"
             ],
             [
              0.6666666666666666,
              "#ed7953"
             ],
             [
              0.7777777777777778,
              "#fb9f3a"
             ],
             [
              0.8888888888888888,
              "#fdca26"
             ],
             [
              1,
              "#f0f921"
             ]
            ],
            "type": "histogram2d"
           }
          ],
          "histogram2dcontour": [
           {
            "colorbar": {
             "outlinewidth": 0,
             "ticks": ""
            },
            "colorscale": [
             [
              0,
              "#0d0887"
             ],
             [
              0.1111111111111111,
              "#46039f"
             ],
             [
              0.2222222222222222,
              "#7201a8"
             ],
             [
              0.3333333333333333,
              "#9c179e"
             ],
             [
              0.4444444444444444,
              "#bd3786"
             ],
             [
              0.5555555555555556,
              "#d8576b"
             ],
             [
              0.6666666666666666,
              "#ed7953"
             ],
             [
              0.7777777777777778,
              "#fb9f3a"
             ],
             [
              0.8888888888888888,
              "#fdca26"
             ],
             [
              1,
              "#f0f921"
             ]
            ],
            "type": "histogram2dcontour"
           }
          ],
          "mesh3d": [
           {
            "colorbar": {
             "outlinewidth": 0,
             "ticks": ""
            },
            "type": "mesh3d"
           }
          ],
          "parcoords": [
           {
            "line": {
             "colorbar": {
              "outlinewidth": 0,
              "ticks": ""
             }
            },
            "type": "parcoords"
           }
          ],
          "scatter": [
           {
            "marker": {
             "colorbar": {
              "outlinewidth": 0,
              "ticks": ""
             }
            },
            "type": "scatter"
           }
          ],
          "scatter3d": [
           {
            "line": {
             "colorbar": {
              "outlinewidth": 0,
              "ticks": ""
             }
            },
            "marker": {
             "colorbar": {
              "outlinewidth": 0,
              "ticks": ""
             }
            },
            "type": "scatter3d"
           }
          ],
          "scattercarpet": [
           {
            "marker": {
             "colorbar": {
              "outlinewidth": 0,
              "ticks": ""
             }
            },
            "type": "scattercarpet"
           }
          ],
          "scattergeo": [
           {
            "marker": {
             "colorbar": {
              "outlinewidth": 0,
              "ticks": ""
             }
            },
            "type": "scattergeo"
           }
          ],
          "scattergl": [
           {
            "marker": {
             "colorbar": {
              "outlinewidth": 0,
              "ticks": ""
             }
            },
            "type": "scattergl"
           }
          ],
          "scattermapbox": [
           {
            "marker": {
             "colorbar": {
              "outlinewidth": 0,
              "ticks": ""
             }
            },
            "type": "scattermapbox"
           }
          ],
          "scatterpolar": [
           {
            "marker": {
             "colorbar": {
              "outlinewidth": 0,
              "ticks": ""
             }
            },
            "type": "scatterpolar"
           }
          ],
          "scatterpolargl": [
           {
            "marker": {
             "colorbar": {
              "outlinewidth": 0,
              "ticks": ""
             }
            },
            "type": "scatterpolargl"
           }
          ],
          "scatterternary": [
           {
            "marker": {
             "colorbar": {
              "outlinewidth": 0,
              "ticks": ""
             }
            },
            "type": "scatterternary"
           }
          ],
          "surface": [
           {
            "colorbar": {
             "outlinewidth": 0,
             "ticks": ""
            },
            "colorscale": [
             [
              0,
              "#0d0887"
             ],
             [
              0.1111111111111111,
              "#46039f"
             ],
             [
              0.2222222222222222,
              "#7201a8"
             ],
             [
              0.3333333333333333,
              "#9c179e"
             ],
             [
              0.4444444444444444,
              "#bd3786"
             ],
             [
              0.5555555555555556,
              "#d8576b"
             ],
             [
              0.6666666666666666,
              "#ed7953"
             ],
             [
              0.7777777777777778,
              "#fb9f3a"
             ],
             [
              0.8888888888888888,
              "#fdca26"
             ],
             [
              1,
              "#f0f921"
             ]
            ],
            "type": "surface"
           }
          ],
          "table": [
           {
            "cells": {
             "fill": {
              "color": "#EBF0F8"
             },
             "line": {
              "color": "white"
             }
            },
            "header": {
             "fill": {
              "color": "#C8D4E3"
             },
             "line": {
              "color": "white"
             }
            },
            "type": "table"
           }
          ]
         },
         "layout": {
          "annotationdefaults": {
           "arrowcolor": "#2a3f5f",
           "arrowhead": 0,
           "arrowwidth": 1
          },
          "colorscale": {
           "diverging": [
            [
             0,
             "#8e0152"
            ],
            [
             0.1,
             "#c51b7d"
            ],
            [
             0.2,
             "#de77ae"
            ],
            [
             0.3,
             "#f1b6da"
            ],
            [
             0.4,
             "#fde0ef"
            ],
            [
             0.5,
             "#f7f7f7"
            ],
            [
             0.6,
             "#e6f5d0"
            ],
            [
             0.7,
             "#b8e186"
            ],
            [
             0.8,
             "#7fbc41"
            ],
            [
             0.9,
             "#4d9221"
            ],
            [
             1,
             "#276419"
            ]
           ],
           "sequential": [
            [
             0,
             "#0d0887"
            ],
            [
             0.1111111111111111,
             "#46039f"
            ],
            [
             0.2222222222222222,
             "#7201a8"
            ],
            [
             0.3333333333333333,
             "#9c179e"
            ],
            [
             0.4444444444444444,
             "#bd3786"
            ],
            [
             0.5555555555555556,
             "#d8576b"
            ],
            [
             0.6666666666666666,
             "#ed7953"
            ],
            [
             0.7777777777777778,
             "#fb9f3a"
            ],
            [
             0.8888888888888888,
             "#fdca26"
            ],
            [
             1,
             "#f0f921"
            ]
           ],
           "sequentialminus": [
            [
             0,
             "#0d0887"
            ],
            [
             0.1111111111111111,
             "#46039f"
            ],
            [
             0.2222222222222222,
             "#7201a8"
            ],
            [
             0.3333333333333333,
             "#9c179e"
            ],
            [
             0.4444444444444444,
             "#bd3786"
            ],
            [
             0.5555555555555556,
             "#d8576b"
            ],
            [
             0.6666666666666666,
             "#ed7953"
            ],
            [
             0.7777777777777778,
             "#fb9f3a"
            ],
            [
             0.8888888888888888,
             "#fdca26"
            ],
            [
             1,
             "#f0f921"
            ]
           ]
          },
          "colorway": [
           "#636efa",
           "#EF553B",
           "#00cc96",
           "#ab63fa",
           "#FFA15A",
           "#19d3f3",
           "#FF6692",
           "#B6E880",
           "#FF97FF",
           "#FECB52"
          ],
          "font": {
           "color": "#2a3f5f"
          },
          "geo": {
           "bgcolor": "white",
           "lakecolor": "white",
           "landcolor": "#E5ECF6",
           "showlakes": true,
           "showland": true,
           "subunitcolor": "white"
          },
          "hoverlabel": {
           "align": "left"
          },
          "hovermode": "closest",
          "mapbox": {
           "style": "light"
          },
          "paper_bgcolor": "white",
          "plot_bgcolor": "#E5ECF6",
          "polar": {
           "angularaxis": {
            "gridcolor": "white",
            "linecolor": "white",
            "ticks": ""
           },
           "bgcolor": "#E5ECF6",
           "radialaxis": {
            "gridcolor": "white",
            "linecolor": "white",
            "ticks": ""
           }
          },
          "scene": {
           "xaxis": {
            "backgroundcolor": "#E5ECF6",
            "gridcolor": "white",
            "gridwidth": 2,
            "linecolor": "white",
            "showbackground": true,
            "ticks": "",
            "zerolinecolor": "white"
           },
           "yaxis": {
            "backgroundcolor": "#E5ECF6",
            "gridcolor": "white",
            "gridwidth": 2,
            "linecolor": "white",
            "showbackground": true,
            "ticks": "",
            "zerolinecolor": "white"
           },
           "zaxis": {
            "backgroundcolor": "#E5ECF6",
            "gridcolor": "white",
            "gridwidth": 2,
            "linecolor": "white",
            "showbackground": true,
            "ticks": "",
            "zerolinecolor": "white"
           }
          },
          "shapedefaults": {
           "line": {
            "color": "#2a3f5f"
           }
          },
          "ternary": {
           "aaxis": {
            "gridcolor": "white",
            "linecolor": "white",
            "ticks": ""
           },
           "baxis": {
            "gridcolor": "white",
            "linecolor": "white",
            "ticks": ""
           },
           "bgcolor": "#E5ECF6",
           "caxis": {
            "gridcolor": "white",
            "linecolor": "white",
            "ticks": ""
           }
          },
          "title": {
           "x": 0.05
          },
          "xaxis": {
           "automargin": true,
           "gridcolor": "white",
           "linecolor": "white",
           "ticks": "",
           "zerolinecolor": "white",
           "zerolinewidth": 2
          },
          "yaxis": {
           "automargin": true,
           "gridcolor": "white",
           "linecolor": "white",
           "ticks": "",
           "zerolinecolor": "white",
           "zerolinewidth": 2
          }
         }
        },
        "title": {
         "text": "Distribution of active vs churned user per subscription level"
        },
        "xaxis": {
         "title": {
          "text": "Level"
         }
        },
        "yaxis": {
         "title": {
          "text": "Count of users"
         }
        }
       }
      },
      "text/html": [
       "<div>\n",
       "        \n",
       "        \n",
       "            <div id=\"c2a2bde7-7eca-4e97-a77b-74160fef59a1\" class=\"plotly-graph-div\" style=\"height:525px; width:100%;\"></div>\n",
       "            <script type=\"text/javascript\">\n",
       "                require([\"plotly\"], function(Plotly) {\n",
       "                    window.PLOTLYENV=window.PLOTLYENV || {};\n",
       "                    \n",
       "                if (document.getElementById(\"c2a2bde7-7eca-4e97-a77b-74160fef59a1\")) {\n",
       "                    Plotly.newPlot(\n",
       "                        'c2a2bde7-7eca-4e97-a77b-74160fef59a1',\n",
       "                        [{\"marker\": {\"color\": \"rgb(68, 1, 84)\"}, \"name\": \"Churned users\", \"type\": \"bar\", \"x\": [\"Paid\", \"Free\"], \"y\": [27, 37]}, {\"marker\": {\"color\": \"rgb(220, 227, 25)\"}, \"name\": \"Active users\", \"type\": \"bar\", \"x\": [\"Paid\", \"Free\"], \"y\": [89, 109]}],\n",
       "                        {\"barmode\": \"group\", \"template\": {\"data\": {\"bar\": [{\"error_x\": {\"color\": \"#2a3f5f\"}, \"error_y\": {\"color\": \"#2a3f5f\"}, \"marker\": {\"line\": {\"color\": \"#E5ECF6\", \"width\": 0.5}}, \"type\": \"bar\"}], \"barpolar\": [{\"marker\": {\"line\": {\"color\": \"#E5ECF6\", \"width\": 0.5}}, \"type\": \"barpolar\"}], \"carpet\": [{\"aaxis\": {\"endlinecolor\": \"#2a3f5f\", \"gridcolor\": \"white\", \"linecolor\": \"white\", \"minorgridcolor\": \"white\", \"startlinecolor\": \"#2a3f5f\"}, \"baxis\": {\"endlinecolor\": \"#2a3f5f\", \"gridcolor\": \"white\", \"linecolor\": \"white\", \"minorgridcolor\": \"white\", \"startlinecolor\": \"#2a3f5f\"}, \"type\": \"carpet\"}], \"choropleth\": [{\"colorbar\": {\"outlinewidth\": 0, \"ticks\": \"\"}, \"type\": \"choropleth\"}], \"contour\": [{\"colorbar\": {\"outlinewidth\": 0, \"ticks\": \"\"}, \"colorscale\": [[0.0, \"#0d0887\"], [0.1111111111111111, \"#46039f\"], [0.2222222222222222, \"#7201a8\"], [0.3333333333333333, \"#9c179e\"], [0.4444444444444444, \"#bd3786\"], [0.5555555555555556, \"#d8576b\"], [0.6666666666666666, \"#ed7953\"], [0.7777777777777778, \"#fb9f3a\"], [0.8888888888888888, \"#fdca26\"], [1.0, \"#f0f921\"]], \"type\": \"contour\"}], \"contourcarpet\": [{\"colorbar\": {\"outlinewidth\": 0, \"ticks\": \"\"}, \"type\": \"contourcarpet\"}], \"heatmap\": [{\"colorbar\": {\"outlinewidth\": 0, \"ticks\": \"\"}, \"colorscale\": [[0.0, \"#0d0887\"], [0.1111111111111111, \"#46039f\"], [0.2222222222222222, \"#7201a8\"], [0.3333333333333333, \"#9c179e\"], [0.4444444444444444, \"#bd3786\"], [0.5555555555555556, \"#d8576b\"], [0.6666666666666666, \"#ed7953\"], [0.7777777777777778, \"#fb9f3a\"], [0.8888888888888888, \"#fdca26\"], [1.0, \"#f0f921\"]], \"type\": \"heatmap\"}], \"heatmapgl\": [{\"colorbar\": {\"outlinewidth\": 0, \"ticks\": \"\"}, \"colorscale\": [[0.0, \"#0d0887\"], [0.1111111111111111, \"#46039f\"], [0.2222222222222222, \"#7201a8\"], [0.3333333333333333, \"#9c179e\"], [0.4444444444444444, \"#bd3786\"], [0.5555555555555556, \"#d8576b\"], [0.6666666666666666, \"#ed7953\"], [0.7777777777777778, \"#fb9f3a\"], [0.8888888888888888, \"#fdca26\"], [1.0, \"#f0f921\"]], \"type\": \"heatmapgl\"}], \"histogram\": [{\"marker\": {\"colorbar\": {\"outlinewidth\": 0, \"ticks\": \"\"}}, \"type\": \"histogram\"}], \"histogram2d\": [{\"colorbar\": {\"outlinewidth\": 0, \"ticks\": \"\"}, \"colorscale\": [[0.0, \"#0d0887\"], [0.1111111111111111, \"#46039f\"], [0.2222222222222222, \"#7201a8\"], [0.3333333333333333, \"#9c179e\"], [0.4444444444444444, \"#bd3786\"], [0.5555555555555556, \"#d8576b\"], [0.6666666666666666, \"#ed7953\"], [0.7777777777777778, \"#fb9f3a\"], [0.8888888888888888, \"#fdca26\"], [1.0, \"#f0f921\"]], \"type\": \"histogram2d\"}], \"histogram2dcontour\": [{\"colorbar\": {\"outlinewidth\": 0, \"ticks\": \"\"}, \"colorscale\": [[0.0, \"#0d0887\"], [0.1111111111111111, \"#46039f\"], [0.2222222222222222, \"#7201a8\"], [0.3333333333333333, \"#9c179e\"], [0.4444444444444444, \"#bd3786\"], [0.5555555555555556, \"#d8576b\"], [0.6666666666666666, \"#ed7953\"], [0.7777777777777778, \"#fb9f3a\"], [0.8888888888888888, \"#fdca26\"], [1.0, \"#f0f921\"]], \"type\": \"histogram2dcontour\"}], \"mesh3d\": [{\"colorbar\": {\"outlinewidth\": 0, \"ticks\": \"\"}, \"type\": \"mesh3d\"}], \"parcoords\": [{\"line\": {\"colorbar\": {\"outlinewidth\": 0, \"ticks\": \"\"}}, \"type\": \"parcoords\"}], \"scatter\": [{\"marker\": {\"colorbar\": {\"outlinewidth\": 0, \"ticks\": \"\"}}, \"type\": \"scatter\"}], \"scatter3d\": [{\"line\": {\"colorbar\": {\"outlinewidth\": 0, \"ticks\": \"\"}}, \"marker\": {\"colorbar\": {\"outlinewidth\": 0, \"ticks\": \"\"}}, \"type\": \"scatter3d\"}], \"scattercarpet\": [{\"marker\": {\"colorbar\": {\"outlinewidth\": 0, \"ticks\": \"\"}}, \"type\": \"scattercarpet\"}], \"scattergeo\": [{\"marker\": {\"colorbar\": {\"outlinewidth\": 0, \"ticks\": \"\"}}, \"type\": \"scattergeo\"}], \"scattergl\": [{\"marker\": {\"colorbar\": {\"outlinewidth\": 0, \"ticks\": \"\"}}, \"type\": \"scattergl\"}], \"scattermapbox\": [{\"marker\": {\"colorbar\": {\"outlinewidth\": 0, \"ticks\": \"\"}}, \"type\": \"scattermapbox\"}], \"scatterpolar\": [{\"marker\": {\"colorbar\": {\"outlinewidth\": 0, \"ticks\": \"\"}}, \"type\": \"scatterpolar\"}], \"scatterpolargl\": [{\"marker\": {\"colorbar\": {\"outlinewidth\": 0, \"ticks\": \"\"}}, \"type\": \"scatterpolargl\"}], \"scatterternary\": [{\"marker\": {\"colorbar\": {\"outlinewidth\": 0, \"ticks\": \"\"}}, \"type\": \"scatterternary\"}], \"surface\": [{\"colorbar\": {\"outlinewidth\": 0, \"ticks\": \"\"}, \"colorscale\": [[0.0, \"#0d0887\"], [0.1111111111111111, \"#46039f\"], [0.2222222222222222, \"#7201a8\"], [0.3333333333333333, \"#9c179e\"], [0.4444444444444444, \"#bd3786\"], [0.5555555555555556, \"#d8576b\"], [0.6666666666666666, \"#ed7953\"], [0.7777777777777778, \"#fb9f3a\"], [0.8888888888888888, \"#fdca26\"], [1.0, \"#f0f921\"]], \"type\": \"surface\"}], \"table\": [{\"cells\": {\"fill\": {\"color\": \"#EBF0F8\"}, \"line\": {\"color\": \"white\"}}, \"header\": {\"fill\": {\"color\": \"#C8D4E3\"}, \"line\": {\"color\": \"white\"}}, \"type\": \"table\"}]}, \"layout\": {\"annotationdefaults\": {\"arrowcolor\": \"#2a3f5f\", \"arrowhead\": 0, \"arrowwidth\": 1}, \"colorscale\": {\"diverging\": [[0, \"#8e0152\"], [0.1, \"#c51b7d\"], [0.2, \"#de77ae\"], [0.3, \"#f1b6da\"], [0.4, \"#fde0ef\"], [0.5, \"#f7f7f7\"], [0.6, \"#e6f5d0\"], [0.7, \"#b8e186\"], [0.8, \"#7fbc41\"], [0.9, \"#4d9221\"], [1, \"#276419\"]], \"sequential\": [[0.0, \"#0d0887\"], [0.1111111111111111, \"#46039f\"], [0.2222222222222222, \"#7201a8\"], [0.3333333333333333, \"#9c179e\"], [0.4444444444444444, \"#bd3786\"], [0.5555555555555556, \"#d8576b\"], [0.6666666666666666, \"#ed7953\"], [0.7777777777777778, \"#fb9f3a\"], [0.8888888888888888, \"#fdca26\"], [1.0, \"#f0f921\"]], \"sequentialminus\": [[0.0, \"#0d0887\"], [0.1111111111111111, \"#46039f\"], [0.2222222222222222, \"#7201a8\"], [0.3333333333333333, \"#9c179e\"], [0.4444444444444444, \"#bd3786\"], [0.5555555555555556, \"#d8576b\"], [0.6666666666666666, \"#ed7953\"], [0.7777777777777778, \"#fb9f3a\"], [0.8888888888888888, \"#fdca26\"], [1.0, \"#f0f921\"]]}, \"colorway\": [\"#636efa\", \"#EF553B\", \"#00cc96\", \"#ab63fa\", \"#FFA15A\", \"#19d3f3\", \"#FF6692\", \"#B6E880\", \"#FF97FF\", \"#FECB52\"], \"font\": {\"color\": \"#2a3f5f\"}, \"geo\": {\"bgcolor\": \"white\", \"lakecolor\": \"white\", \"landcolor\": \"#E5ECF6\", \"showlakes\": true, \"showland\": true, \"subunitcolor\": \"white\"}, \"hoverlabel\": {\"align\": \"left\"}, \"hovermode\": \"closest\", \"mapbox\": {\"style\": \"light\"}, \"paper_bgcolor\": \"white\", \"plot_bgcolor\": \"#E5ECF6\", \"polar\": {\"angularaxis\": {\"gridcolor\": \"white\", \"linecolor\": \"white\", \"ticks\": \"\"}, \"bgcolor\": \"#E5ECF6\", \"radialaxis\": {\"gridcolor\": \"white\", \"linecolor\": \"white\", \"ticks\": \"\"}}, \"scene\": {\"xaxis\": {\"backgroundcolor\": \"#E5ECF6\", \"gridcolor\": \"white\", \"gridwidth\": 2, \"linecolor\": \"white\", \"showbackground\": true, \"ticks\": \"\", \"zerolinecolor\": \"white\"}, \"yaxis\": {\"backgroundcolor\": \"#E5ECF6\", \"gridcolor\": \"white\", \"gridwidth\": 2, \"linecolor\": \"white\", \"showbackground\": true, \"ticks\": \"\", \"zerolinecolor\": \"white\"}, \"zaxis\": {\"backgroundcolor\": \"#E5ECF6\", \"gridcolor\": \"white\", \"gridwidth\": 2, \"linecolor\": \"white\", \"showbackground\": true, \"ticks\": \"\", \"zerolinecolor\": \"white\"}}, \"shapedefaults\": {\"line\": {\"color\": \"#2a3f5f\"}}, \"ternary\": {\"aaxis\": {\"gridcolor\": \"white\", \"linecolor\": \"white\", \"ticks\": \"\"}, \"baxis\": {\"gridcolor\": \"white\", \"linecolor\": \"white\", \"ticks\": \"\"}, \"bgcolor\": \"#E5ECF6\", \"caxis\": {\"gridcolor\": \"white\", \"linecolor\": \"white\", \"ticks\": \"\"}}, \"title\": {\"x\": 0.05}, \"xaxis\": {\"automargin\": true, \"gridcolor\": \"white\", \"linecolor\": \"white\", \"ticks\": \"\", \"zerolinecolor\": \"white\", \"zerolinewidth\": 2}, \"yaxis\": {\"automargin\": true, \"gridcolor\": \"white\", \"linecolor\": \"white\", \"ticks\": \"\", \"zerolinecolor\": \"white\", \"zerolinewidth\": 2}}}, \"title\": {\"text\": \"Distribution of active vs churned user per subscription level\"}, \"xaxis\": {\"title\": {\"text\": \"Level\"}}, \"yaxis\": {\"title\": {\"text\": \"Count of users\"}}},\n",
       "                        {\"responsive\": true}\n",
       "                    ).then(function(){\n",
       "                            \n",
       "var gd = document.getElementById('c2a2bde7-7eca-4e97-a77b-74160fef59a1');\n",
       "var x = new MutationObserver(function (mutations, observer) {{\n",
       "        var display = window.getComputedStyle(gd).display;\n",
       "        if (!display || display === 'none') {{\n",
       "            console.log([gd, 'removed!']);\n",
       "            Plotly.purge(gd);\n",
       "            observer.disconnect();\n",
       "        }}\n",
       "}});\n",
       "\n",
       "// Listen for the removal of the full notebook cells\n",
       "var notebookContainer = gd.closest('#notebook-container');\n",
       "if (notebookContainer) {{\n",
       "    x.observe(notebookContainer, {childList: true});\n",
       "}}\n",
       "\n",
       "// Listen for the clearing of the current output cell\n",
       "var outputEl = gd.closest('.output');\n",
       "if (outputEl) {{\n",
       "    x.observe(outputEl, {childList: true});\n",
       "}}\n",
       "\n",
       "                        })\n",
       "                };\n",
       "                });\n",
       "            </script>\n",
       "        </div>"
      ]
     },
     "metadata": {},
     "output_type": "display_data"
    }
   ],
   "source": [
    "fig = go.Figure(data=[\n",
    "    go.Bar(\n",
    "    x=['Paid', 'Free'],\n",
    "    y=[len(level_churn_service[level_churn_service['level']=='paid']), len(level_churn_service[level_churn_service['level']=='free'])],\n",
    "    name='Churned users',\n",
    "    marker=dict(\n",
    "        color='rgb(68, 1, 84)'\n",
    "    )\n",
    "),\n",
    "    go.Bar(\n",
    "    x=['Paid', 'Free'],\n",
    "    y=[len(level_no_churn[level_no_churn['level']=='paid']), len(level_no_churn[level_no_churn['level']=='free'])],\n",
    "    name='Active users',\n",
    "    marker=dict(\n",
    "        color='rgb(220, 227, 25)'\n",
    "    )\n",
    ")\n",
    "])\n",
    "\n",
    "fig.layout.update(go.Layout(\n",
    "    title_text=\"Distribution of active vs churned user per subscription level\",\n",
    "    xaxis = {'title':\"Level\"},\n",
    "    yaxis = {'title':\"Count of users\"}, \n",
    "    barmode='group'\n",
    "))\n",
    "\n",
    "fig.show()\n"
   ]
  },
  {
   "cell_type": "markdown",
   "metadata": {},
   "source": [
    "At first glance, it looks like in proportion the users with a paid subscription are slightly more likely to cancel the service, but again it is not evident... We can decide later if we want to keep it or not to train our model.\n"
   ]
  },
  {
   "cell_type": "markdown",
   "metadata": {},
   "source": [
    "*Impact of the location of the user*"
   ]
  },
  {
   "cell_type": "code",
   "execution_count": 125,
   "metadata": {},
   "outputs": [],
   "source": [
    "split_col = split(event_data_churn['location'], ', ')\n",
    "event_data_churn_with_state =  event_data_churn.withColumn(\"state\", split_col.getItem(1))"
   ]
  },
  {
   "cell_type": "code",
   "execution_count": 141,
   "metadata": {},
   "outputs": [],
   "source": [
    "location_no_churn = event_data_churn_with_state.select(['userId', 'state']).where((event_data_churn_with_state['churn_paid']==0)&(event_data_churn_with_state['churn_service']==0)).dropDuplicates().toPandas()\n",
    "location_churn_paid = event_data_churn_with_state.select(['userId', 'state']).where((event_data_churn_with_state['churn_paid']==1)&(event_data_churn_with_state['churn_service']==0)).dropDuplicates().toPandas()\n",
    "location_churn_service = event_data_churn_with_state.select(['userId', 'state']).where((event_data_churn_with_state['churn_paid']==0)&(event_data_churn_with_state['churn_service']==1)).dropDuplicates().toPandas()\n",
    "locations = event_data_churn_with_state.select(['state']).dropDuplicates().toPandas()['state']\n"
   ]
  },
  {
   "cell_type": "code",
   "execution_count": 146,
   "metadata": {},
   "outputs": [
    {
     "data": {
      "application/vnd.plotly.v1+json": {
       "config": {
        "plotlyServerURL": "https://plot.ly"
       },
       "data": [
        {
         "marker": {
          "color": "rgb(68, 1, 84)"
         },
         "name": "Cancel churned users",
         "type": "bar",
         "x": [
          "UT-ID",
          "AZ",
          "SC",
          "GA-AL",
          "LA",
          "RI-MA",
          "NJ",
          "IL-MO",
          "MN-WI",
          "OR",
          "SC-NC",
          "PA-NJ",
          "MD-WV",
          "VA",
          "NY-NJ-PA",
          "KY",
          "NH",
          "MI",
          "NV",
          "WI",
          "CA",
          "CT",
          "MT",
          "NC",
          "MD",
          "NE-IA",
          "IL",
          "WA",
          "MS",
          "AL",
          "IN",
          "OH",
          "TN",
          "IA",
          "PA",
          "DC-VA-MD-WV",
          "NY",
          "MO-KS",
          "KY-IN",
          "PA-NJ-DE-MD",
          "TX",
          "WV",
          "VA-NC",
          "OR-WA",
          "GA",
          "IL-IN-WI",
          "OH-KY-IN",
          "MO-IL",
          "FL",
          "CO",
          "AK",
          "MA-NH",
          "AR",
          "OK",
          "TN-MS-AR",
          "TN-VA",
          "UT",
          "NC-SC"
         ],
         "xaxis": "x",
         "y": [
          2,
          1,
          2,
          4,
          2,
          1,
          2,
          1,
          1,
          2,
          1,
          1,
          3,
          1,
          2,
          1,
          1,
          3,
          2,
          1,
          2,
          1,
          1,
          3,
          1,
          1
         ],
         "yaxis": "y"
        },
        {
         "marker": {
          "color": "rgb(220, 227, 25)"
         },
         "name": "Active users",
         "type": "bar",
         "x": [
          "UT-ID",
          "AZ",
          "SC",
          "GA-AL",
          "LA",
          "RI-MA",
          "NJ",
          "IL-MO",
          "MN-WI",
          "OR",
          "SC-NC",
          "PA-NJ",
          "MD-WV",
          "VA",
          "NY-NJ-PA",
          "KY",
          "NH",
          "MI",
          "NV",
          "WI",
          "CA",
          "CT",
          "MT",
          "NC",
          "MD",
          "NE-IA",
          "IL",
          "WA",
          "MS",
          "AL",
          "IN",
          "OH",
          "TN",
          "IA",
          "PA",
          "DC-VA-MD-WV",
          "NY",
          "MO-KS",
          "KY-IN",
          "PA-NJ-DE-MD",
          "TX",
          "WV",
          "VA-NC",
          "OR-WA",
          "GA",
          "IL-IN-WI",
          "OH-KY-IN",
          "MO-IL",
          "FL",
          "CO",
          "AK",
          "MA-NH",
          "AR",
          "OK",
          "TN-MS-AR",
          "TN-VA",
          "UT",
          "NC-SC"
         ],
         "xaxis": "x",
         "y": [
          2,
          1,
          4,
          17,
          1,
          7,
          2,
          7,
          4,
          2,
          1,
          2,
          4,
          2,
          1,
          1,
          2,
          1,
          1,
          2,
          3,
          3,
          1,
          1,
          1,
          4,
          6,
          1,
          2,
          1,
          3,
          3,
          8,
          1,
          2,
          1,
          2,
          2,
          1,
          1,
          1,
          1,
          1,
          1,
          10,
          1,
          2,
          1,
          2,
          1,
          1
         ],
         "yaxis": "y"
        },
        {
         "marker": {
          "color": "rgb(45, 112, 142)"
         },
         "name": "Downgrade churned users",
         "type": "bar",
         "x": [
          "UT-ID",
          "AZ",
          "SC",
          "GA-AL",
          "LA",
          "RI-MA",
          "NJ",
          "IL-MO",
          "MN-WI",
          "OR",
          "SC-NC",
          "PA-NJ",
          "MD-WV",
          "VA",
          "NY-NJ-PA",
          "KY",
          "NH",
          "MI",
          "NV",
          "WI",
          "CA",
          "CT",
          "MT",
          "NC",
          "MD",
          "NE-IA",
          "IL",
          "WA",
          "MS",
          "AL",
          "IN",
          "OH",
          "TN",
          "IA",
          "PA",
          "DC-VA-MD-WV",
          "NY",
          "MO-KS",
          "KY-IN",
          "PA-NJ-DE-MD",
          "TX",
          "WV",
          "VA-NC",
          "OR-WA",
          "GA",
          "IL-IN-WI",
          "OH-KY-IN",
          "MO-IL",
          "FL",
          "CO",
          "AK",
          "MA-NH",
          "AR",
          "OK",
          "TN-MS-AR",
          "TN-VA",
          "UT",
          "NC-SC"
         ],
         "xaxis": "x2",
         "y": [
          1,
          1,
          10,
          1,
          1,
          4,
          1,
          1,
          1,
          3,
          2,
          1,
          1,
          1,
          2,
          1,
          2,
          1,
          1,
          3,
          1
         ],
         "yaxis": "y2"
        },
        {
         "marker": {
          "color": "rgb(220, 227, 25)"
         },
         "name": "Active users",
         "showlegend": false,
         "type": "bar",
         "x": [
          "UT-ID",
          "AZ",
          "SC",
          "GA-AL",
          "LA",
          "RI-MA",
          "NJ",
          "IL-MO",
          "MN-WI",
          "OR",
          "SC-NC",
          "PA-NJ",
          "MD-WV",
          "VA",
          "NY-NJ-PA",
          "KY",
          "NH",
          "MI",
          "NV",
          "WI",
          "CA",
          "CT",
          "MT",
          "NC",
          "MD",
          "NE-IA",
          "IL",
          "WA",
          "MS",
          "AL",
          "IN",
          "OH",
          "TN",
          "IA",
          "PA",
          "DC-VA-MD-WV",
          "NY",
          "MO-KS",
          "KY-IN",
          "PA-NJ-DE-MD",
          "TX",
          "WV",
          "VA-NC",
          "OR-WA",
          "GA",
          "IL-IN-WI",
          "OH-KY-IN",
          "MO-IL",
          "FL",
          "CO",
          "AK",
          "MA-NH",
          "AR",
          "OK",
          "TN-MS-AR",
          "TN-VA",
          "UT",
          "NC-SC"
         ],
         "xaxis": "x2",
         "y": [
          2,
          1,
          4,
          17,
          1,
          7,
          2,
          7,
          4,
          2,
          1,
          2,
          4,
          2,
          1,
          1,
          2,
          1,
          1,
          2,
          3,
          3,
          1,
          1,
          1,
          4,
          6,
          1,
          2,
          1,
          3,
          3,
          8,
          1,
          2,
          1,
          2,
          2,
          1,
          1,
          1,
          1,
          1,
          1,
          10,
          1,
          2,
          1,
          2,
          1,
          1
         ],
         "yaxis": "y2"
        }
       ],
       "layout": {
        "annotations": [
         {
          "font": {
           "size": 16
          },
          "showarrow": false,
          "text": "Service cancellation analysis",
          "x": 0.5,
          "xanchor": "center",
          "xref": "paper",
          "y": 1,
          "yanchor": "bottom",
          "yref": "paper"
         },
         {
          "font": {
           "size": 16
          },
          "showarrow": false,
          "text": "Service downgrade analysis",
          "x": 0.5,
          "xanchor": "center",
          "xref": "paper",
          "y": 0.375,
          "yanchor": "bottom",
          "yref": "paper"
         }
        ],
        "barmode": "group",
        "template": {
         "data": {
          "bar": [
           {
            "error_x": {
             "color": "#2a3f5f"
            },
            "error_y": {
             "color": "#2a3f5f"
            },
            "marker": {
             "line": {
              "color": "#E5ECF6",
              "width": 0.5
             }
            },
            "type": "bar"
           }
          ],
          "barpolar": [
           {
            "marker": {
             "line": {
              "color": "#E5ECF6",
              "width": 0.5
             }
            },
            "type": "barpolar"
           }
          ],
          "carpet": [
           {
            "aaxis": {
             "endlinecolor": "#2a3f5f",
             "gridcolor": "white",
             "linecolor": "white",
             "minorgridcolor": "white",
             "startlinecolor": "#2a3f5f"
            },
            "baxis": {
             "endlinecolor": "#2a3f5f",
             "gridcolor": "white",
             "linecolor": "white",
             "minorgridcolor": "white",
             "startlinecolor": "#2a3f5f"
            },
            "type": "carpet"
           }
          ],
          "choropleth": [
           {
            "colorbar": {
             "outlinewidth": 0,
             "ticks": ""
            },
            "type": "choropleth"
           }
          ],
          "contour": [
           {
            "colorbar": {
             "outlinewidth": 0,
             "ticks": ""
            },
            "colorscale": [
             [
              0,
              "#0d0887"
             ],
             [
              0.1111111111111111,
              "#46039f"
             ],
             [
              0.2222222222222222,
              "#7201a8"
             ],
             [
              0.3333333333333333,
              "#9c179e"
             ],
             [
              0.4444444444444444,
              "#bd3786"
             ],
             [
              0.5555555555555556,
              "#d8576b"
             ],
             [
              0.6666666666666666,
              "#ed7953"
             ],
             [
              0.7777777777777778,
              "#fb9f3a"
             ],
             [
              0.8888888888888888,
              "#fdca26"
             ],
             [
              1,
              "#f0f921"
             ]
            ],
            "type": "contour"
           }
          ],
          "contourcarpet": [
           {
            "colorbar": {
             "outlinewidth": 0,
             "ticks": ""
            },
            "type": "contourcarpet"
           }
          ],
          "heatmap": [
           {
            "colorbar": {
             "outlinewidth": 0,
             "ticks": ""
            },
            "colorscale": [
             [
              0,
              "#0d0887"
             ],
             [
              0.1111111111111111,
              "#46039f"
             ],
             [
              0.2222222222222222,
              "#7201a8"
             ],
             [
              0.3333333333333333,
              "#9c179e"
             ],
             [
              0.4444444444444444,
              "#bd3786"
             ],
             [
              0.5555555555555556,
              "#d8576b"
             ],
             [
              0.6666666666666666,
              "#ed7953"
             ],
             [
              0.7777777777777778,
              "#fb9f3a"
             ],
             [
              0.8888888888888888,
              "#fdca26"
             ],
             [
              1,
              "#f0f921"
             ]
            ],
            "type": "heatmap"
           }
          ],
          "heatmapgl": [
           {
            "colorbar": {
             "outlinewidth": 0,
             "ticks": ""
            },
            "colorscale": [
             [
              0,
              "#0d0887"
             ],
             [
              0.1111111111111111,
              "#46039f"
             ],
             [
              0.2222222222222222,
              "#7201a8"
             ],
             [
              0.3333333333333333,
              "#9c179e"
             ],
             [
              0.4444444444444444,
              "#bd3786"
             ],
             [
              0.5555555555555556,
              "#d8576b"
             ],
             [
              0.6666666666666666,
              "#ed7953"
             ],
             [
              0.7777777777777778,
              "#fb9f3a"
             ],
             [
              0.8888888888888888,
              "#fdca26"
             ],
             [
              1,
              "#f0f921"
             ]
            ],
            "type": "heatmapgl"
           }
          ],
          "histogram": [
           {
            "marker": {
             "colorbar": {
              "outlinewidth": 0,
              "ticks": ""
             }
            },
            "type": "histogram"
           }
          ],
          "histogram2d": [
           {
            "colorbar": {
             "outlinewidth": 0,
             "ticks": ""
            },
            "colorscale": [
             [
              0,
              "#0d0887"
             ],
             [
              0.1111111111111111,
              "#46039f"
             ],
             [
              0.2222222222222222,
              "#7201a8"
             ],
             [
              0.3333333333333333,
              "#9c179e"
             ],
             [
              0.4444444444444444,
              "#bd3786"
             ],
             [
              0.5555555555555556,
              "#d8576b"
             ],
             [
              0.6666666666666666,
              "#ed7953"
             ],
             [
              0.7777777777777778,
              "#fb9f3a"
             ],
             [
              0.8888888888888888,
              "#fdca26"
             ],
             [
              1,
              "#f0f921"
             ]
            ],
            "type": "histogram2d"
           }
          ],
          "histogram2dcontour": [
           {
            "colorbar": {
             "outlinewidth": 0,
             "ticks": ""
            },
            "colorscale": [
             [
              0,
              "#0d0887"
             ],
             [
              0.1111111111111111,
              "#46039f"
             ],
             [
              0.2222222222222222,
              "#7201a8"
             ],
             [
              0.3333333333333333,
              "#9c179e"
             ],
             [
              0.4444444444444444,
              "#bd3786"
             ],
             [
              0.5555555555555556,
              "#d8576b"
             ],
             [
              0.6666666666666666,
              "#ed7953"
             ],
             [
              0.7777777777777778,
              "#fb9f3a"
             ],
             [
              0.8888888888888888,
              "#fdca26"
             ],
             [
              1,
              "#f0f921"
             ]
            ],
            "type": "histogram2dcontour"
           }
          ],
          "mesh3d": [
           {
            "colorbar": {
             "outlinewidth": 0,
             "ticks": ""
            },
            "type": "mesh3d"
           }
          ],
          "parcoords": [
           {
            "line": {
             "colorbar": {
              "outlinewidth": 0,
              "ticks": ""
             }
            },
            "type": "parcoords"
           }
          ],
          "scatter": [
           {
            "marker": {
             "colorbar": {
              "outlinewidth": 0,
              "ticks": ""
             }
            },
            "type": "scatter"
           }
          ],
          "scatter3d": [
           {
            "line": {
             "colorbar": {
              "outlinewidth": 0,
              "ticks": ""
             }
            },
            "marker": {
             "colorbar": {
              "outlinewidth": 0,
              "ticks": ""
             }
            },
            "type": "scatter3d"
           }
          ],
          "scattercarpet": [
           {
            "marker": {
             "colorbar": {
              "outlinewidth": 0,
              "ticks": ""
             }
            },
            "type": "scattercarpet"
           }
          ],
          "scattergeo": [
           {
            "marker": {
             "colorbar": {
              "outlinewidth": 0,
              "ticks": ""
             }
            },
            "type": "scattergeo"
           }
          ],
          "scattergl": [
           {
            "marker": {
             "colorbar": {
              "outlinewidth": 0,
              "ticks": ""
             }
            },
            "type": "scattergl"
           }
          ],
          "scattermapbox": [
           {
            "marker": {
             "colorbar": {
              "outlinewidth": 0,
              "ticks": ""
             }
            },
            "type": "scattermapbox"
           }
          ],
          "scatterpolar": [
           {
            "marker": {
             "colorbar": {
              "outlinewidth": 0,
              "ticks": ""
             }
            },
            "type": "scatterpolar"
           }
          ],
          "scatterpolargl": [
           {
            "marker": {
             "colorbar": {
              "outlinewidth": 0,
              "ticks": ""
             }
            },
            "type": "scatterpolargl"
           }
          ],
          "scatterternary": [
           {
            "marker": {
             "colorbar": {
              "outlinewidth": 0,
              "ticks": ""
             }
            },
            "type": "scatterternary"
           }
          ],
          "surface": [
           {
            "colorbar": {
             "outlinewidth": 0,
             "ticks": ""
            },
            "colorscale": [
             [
              0,
              "#0d0887"
             ],
             [
              0.1111111111111111,
              "#46039f"
             ],
             [
              0.2222222222222222,
              "#7201a8"
             ],
             [
              0.3333333333333333,
              "#9c179e"
             ],
             [
              0.4444444444444444,
              "#bd3786"
             ],
             [
              0.5555555555555556,
              "#d8576b"
             ],
             [
              0.6666666666666666,
              "#ed7953"
             ],
             [
              0.7777777777777778,
              "#fb9f3a"
             ],
             [
              0.8888888888888888,
              "#fdca26"
             ],
             [
              1,
              "#f0f921"
             ]
            ],
            "type": "surface"
           }
          ],
          "table": [
           {
            "cells": {
             "fill": {
              "color": "#EBF0F8"
             },
             "line": {
              "color": "white"
             }
            },
            "header": {
             "fill": {
              "color": "#C8D4E3"
             },
             "line": {
              "color": "white"
             }
            },
            "type": "table"
           }
          ]
         },
         "layout": {
          "annotationdefaults": {
           "arrowcolor": "#2a3f5f",
           "arrowhead": 0,
           "arrowwidth": 1
          },
          "colorscale": {
           "diverging": [
            [
             0,
             "#8e0152"
            ],
            [
             0.1,
             "#c51b7d"
            ],
            [
             0.2,
             "#de77ae"
            ],
            [
             0.3,
             "#f1b6da"
            ],
            [
             0.4,
             "#fde0ef"
            ],
            [
             0.5,
             "#f7f7f7"
            ],
            [
             0.6,
             "#e6f5d0"
            ],
            [
             0.7,
             "#b8e186"
            ],
            [
             0.8,
             "#7fbc41"
            ],
            [
             0.9,
             "#4d9221"
            ],
            [
             1,
             "#276419"
            ]
           ],
           "sequential": [
            [
             0,
             "#0d0887"
            ],
            [
             0.1111111111111111,
             "#46039f"
            ],
            [
             0.2222222222222222,
             "#7201a8"
            ],
            [
             0.3333333333333333,
             "#9c179e"
            ],
            [
             0.4444444444444444,
             "#bd3786"
            ],
            [
             0.5555555555555556,
             "#d8576b"
            ],
            [
             0.6666666666666666,
             "#ed7953"
            ],
            [
             0.7777777777777778,
             "#fb9f3a"
            ],
            [
             0.8888888888888888,
             "#fdca26"
            ],
            [
             1,
             "#f0f921"
            ]
           ],
           "sequentialminus": [
            [
             0,
             "#0d0887"
            ],
            [
             0.1111111111111111,
             "#46039f"
            ],
            [
             0.2222222222222222,
             "#7201a8"
            ],
            [
             0.3333333333333333,
             "#9c179e"
            ],
            [
             0.4444444444444444,
             "#bd3786"
            ],
            [
             0.5555555555555556,
             "#d8576b"
            ],
            [
             0.6666666666666666,
             "#ed7953"
            ],
            [
             0.7777777777777778,
             "#fb9f3a"
            ],
            [
             0.8888888888888888,
             "#fdca26"
            ],
            [
             1,
             "#f0f921"
            ]
           ]
          },
          "colorway": [
           "#636efa",
           "#EF553B",
           "#00cc96",
           "#ab63fa",
           "#FFA15A",
           "#19d3f3",
           "#FF6692",
           "#B6E880",
           "#FF97FF",
           "#FECB52"
          ],
          "font": {
           "color": "#2a3f5f"
          },
          "geo": {
           "bgcolor": "white",
           "lakecolor": "white",
           "landcolor": "#E5ECF6",
           "showlakes": true,
           "showland": true,
           "subunitcolor": "white"
          },
          "hoverlabel": {
           "align": "left"
          },
          "hovermode": "closest",
          "mapbox": {
           "style": "light"
          },
          "paper_bgcolor": "white",
          "plot_bgcolor": "#E5ECF6",
          "polar": {
           "angularaxis": {
            "gridcolor": "white",
            "linecolor": "white",
            "ticks": ""
           },
           "bgcolor": "#E5ECF6",
           "radialaxis": {
            "gridcolor": "white",
            "linecolor": "white",
            "ticks": ""
           }
          },
          "scene": {
           "xaxis": {
            "backgroundcolor": "#E5ECF6",
            "gridcolor": "white",
            "gridwidth": 2,
            "linecolor": "white",
            "showbackground": true,
            "ticks": "",
            "zerolinecolor": "white"
           },
           "yaxis": {
            "backgroundcolor": "#E5ECF6",
            "gridcolor": "white",
            "gridwidth": 2,
            "linecolor": "white",
            "showbackground": true,
            "ticks": "",
            "zerolinecolor": "white"
           },
           "zaxis": {
            "backgroundcolor": "#E5ECF6",
            "gridcolor": "white",
            "gridwidth": 2,
            "linecolor": "white",
            "showbackground": true,
            "ticks": "",
            "zerolinecolor": "white"
           }
          },
          "shapedefaults": {
           "line": {
            "color": "#2a3f5f"
           }
          },
          "ternary": {
           "aaxis": {
            "gridcolor": "white",
            "linecolor": "white",
            "ticks": ""
           },
           "baxis": {
            "gridcolor": "white",
            "linecolor": "white",
            "ticks": ""
           },
           "bgcolor": "#E5ECF6",
           "caxis": {
            "gridcolor": "white",
            "linecolor": "white",
            "ticks": ""
           }
          },
          "title": {
           "x": 0.05
          },
          "xaxis": {
           "automargin": true,
           "gridcolor": "white",
           "linecolor": "white",
           "ticks": "",
           "zerolinecolor": "white",
           "zerolinewidth": 2
          },
          "yaxis": {
           "automargin": true,
           "gridcolor": "white",
           "linecolor": "white",
           "ticks": "",
           "zerolinecolor": "white",
           "zerolinewidth": 2
          }
         }
        },
        "title": {
         "text": "Distribution of active vs churned user per state"
        },
        "xaxis": {
         "anchor": "y",
         "domain": [
          0,
          1
         ],
         "tickangle": -45,
         "title": {
          "text": "Location"
         }
        },
        "xaxis2": {
         "anchor": "y2",
         "domain": [
          0,
          1
         ],
         "tickangle": -45,
         "title": {
          "text": "Location"
         }
        },
        "yaxis": {
         "anchor": "x",
         "domain": [
          0.625,
          1
         ],
         "title": {
          "text": "Count of users"
         }
        },
        "yaxis2": {
         "anchor": "x2",
         "domain": [
          0,
          0.375
         ],
         "title": {
          "text": "Count of users"
         }
        }
       }
      },
      "text/html": [
       "<div>\n",
       "        \n",
       "        \n",
       "            <div id=\"9e418465-8967-483e-b68a-4108b0c42dda\" class=\"plotly-graph-div\" style=\"height:525px; width:100%;\"></div>\n",
       "            <script type=\"text/javascript\">\n",
       "                require([\"plotly\"], function(Plotly) {\n",
       "                    window.PLOTLYENV=window.PLOTLYENV || {};\n",
       "                    \n",
       "                if (document.getElementById(\"9e418465-8967-483e-b68a-4108b0c42dda\")) {\n",
       "                    Plotly.newPlot(\n",
       "                        '9e418465-8967-483e-b68a-4108b0c42dda',\n",
       "                        [{\"marker\": {\"color\": \"rgb(68, 1, 84)\"}, \"name\": \"Cancel churned users\", \"type\": \"bar\", \"x\": [\"UT-ID\", \"AZ\", \"SC\", \"GA-AL\", \"LA\", \"RI-MA\", \"NJ\", \"IL-MO\", \"MN-WI\", \"OR\", \"SC-NC\", \"PA-NJ\", \"MD-WV\", \"VA\", \"NY-NJ-PA\", \"KY\", \"NH\", \"MI\", \"NV\", \"WI\", \"CA\", \"CT\", \"MT\", \"NC\", \"MD\", \"NE-IA\", \"IL\", \"WA\", \"MS\", \"AL\", \"IN\", \"OH\", \"TN\", \"IA\", \"PA\", \"DC-VA-MD-WV\", \"NY\", \"MO-KS\", \"KY-IN\", \"PA-NJ-DE-MD\", \"TX\", \"WV\", \"VA-NC\", \"OR-WA\", \"GA\", \"IL-IN-WI\", \"OH-KY-IN\", \"MO-IL\", \"FL\", \"CO\", \"AK\", \"MA-NH\", \"AR\", \"OK\", \"TN-MS-AR\", \"TN-VA\", \"UT\", \"NC-SC\"], \"xaxis\": \"x\", \"y\": [2, 1, 2, 4, 2, 1, 2, 1, 1, 2, 1, 1, 3, 1, 2, 1, 1, 3, 2, 1, 2, 1, 1, 3, 1, 1], \"yaxis\": \"y\"}, {\"marker\": {\"color\": \"rgb(220, 227, 25)\"}, \"name\": \"Active users\", \"type\": \"bar\", \"x\": [\"UT-ID\", \"AZ\", \"SC\", \"GA-AL\", \"LA\", \"RI-MA\", \"NJ\", \"IL-MO\", \"MN-WI\", \"OR\", \"SC-NC\", \"PA-NJ\", \"MD-WV\", \"VA\", \"NY-NJ-PA\", \"KY\", \"NH\", \"MI\", \"NV\", \"WI\", \"CA\", \"CT\", \"MT\", \"NC\", \"MD\", \"NE-IA\", \"IL\", \"WA\", \"MS\", \"AL\", \"IN\", \"OH\", \"TN\", \"IA\", \"PA\", \"DC-VA-MD-WV\", \"NY\", \"MO-KS\", \"KY-IN\", \"PA-NJ-DE-MD\", \"TX\", \"WV\", \"VA-NC\", \"OR-WA\", \"GA\", \"IL-IN-WI\", \"OH-KY-IN\", \"MO-IL\", \"FL\", \"CO\", \"AK\", \"MA-NH\", \"AR\", \"OK\", \"TN-MS-AR\", \"TN-VA\", \"UT\", \"NC-SC\"], \"xaxis\": \"x\", \"y\": [2, 1, 4, 17, 1, 7, 2, 7, 4, 2, 1, 2, 4, 2, 1, 1, 2, 1, 1, 2, 3, 3, 1, 1, 1, 4, 6, 1, 2, 1, 3, 3, 8, 1, 2, 1, 2, 2, 1, 1, 1, 1, 1, 1, 10, 1, 2, 1, 2, 1, 1], \"yaxis\": \"y\"}, {\"marker\": {\"color\": \"rgb(45, 112, 142)\"}, \"name\": \"Downgrade churned users\", \"type\": \"bar\", \"x\": [\"UT-ID\", \"AZ\", \"SC\", \"GA-AL\", \"LA\", \"RI-MA\", \"NJ\", \"IL-MO\", \"MN-WI\", \"OR\", \"SC-NC\", \"PA-NJ\", \"MD-WV\", \"VA\", \"NY-NJ-PA\", \"KY\", \"NH\", \"MI\", \"NV\", \"WI\", \"CA\", \"CT\", \"MT\", \"NC\", \"MD\", \"NE-IA\", \"IL\", \"WA\", \"MS\", \"AL\", \"IN\", \"OH\", \"TN\", \"IA\", \"PA\", \"DC-VA-MD-WV\", \"NY\", \"MO-KS\", \"KY-IN\", \"PA-NJ-DE-MD\", \"TX\", \"WV\", \"VA-NC\", \"OR-WA\", \"GA\", \"IL-IN-WI\", \"OH-KY-IN\", \"MO-IL\", \"FL\", \"CO\", \"AK\", \"MA-NH\", \"AR\", \"OK\", \"TN-MS-AR\", \"TN-VA\", \"UT\", \"NC-SC\"], \"xaxis\": \"x2\", \"y\": [1, 1, 10, 1, 1, 4, 1, 1, 1, 3, 2, 1, 1, 1, 2, 1, 2, 1, 1, 3, 1], \"yaxis\": \"y2\"}, {\"marker\": {\"color\": \"rgb(220, 227, 25)\"}, \"name\": \"Active users\", \"showlegend\": false, \"type\": \"bar\", \"x\": [\"UT-ID\", \"AZ\", \"SC\", \"GA-AL\", \"LA\", \"RI-MA\", \"NJ\", \"IL-MO\", \"MN-WI\", \"OR\", \"SC-NC\", \"PA-NJ\", \"MD-WV\", \"VA\", \"NY-NJ-PA\", \"KY\", \"NH\", \"MI\", \"NV\", \"WI\", \"CA\", \"CT\", \"MT\", \"NC\", \"MD\", \"NE-IA\", \"IL\", \"WA\", \"MS\", \"AL\", \"IN\", \"OH\", \"TN\", \"IA\", \"PA\", \"DC-VA-MD-WV\", \"NY\", \"MO-KS\", \"KY-IN\", \"PA-NJ-DE-MD\", \"TX\", \"WV\", \"VA-NC\", \"OR-WA\", \"GA\", \"IL-IN-WI\", \"OH-KY-IN\", \"MO-IL\", \"FL\", \"CO\", \"AK\", \"MA-NH\", \"AR\", \"OK\", \"TN-MS-AR\", \"TN-VA\", \"UT\", \"NC-SC\"], \"xaxis\": \"x2\", \"y\": [2, 1, 4, 17, 1, 7, 2, 7, 4, 2, 1, 2, 4, 2, 1, 1, 2, 1, 1, 2, 3, 3, 1, 1, 1, 4, 6, 1, 2, 1, 3, 3, 8, 1, 2, 1, 2, 2, 1, 1, 1, 1, 1, 1, 10, 1, 2, 1, 2, 1, 1], \"yaxis\": \"y2\"}],\n",
       "                        {\"annotations\": [{\"font\": {\"size\": 16}, \"showarrow\": false, \"text\": \"Service cancellation analysis\", \"x\": 0.5, \"xanchor\": \"center\", \"xref\": \"paper\", \"y\": 1.0, \"yanchor\": \"bottom\", \"yref\": \"paper\"}, {\"font\": {\"size\": 16}, \"showarrow\": false, \"text\": \"Service downgrade analysis\", \"x\": 0.5, \"xanchor\": \"center\", \"xref\": \"paper\", \"y\": 0.375, \"yanchor\": \"bottom\", \"yref\": \"paper\"}], \"barmode\": \"group\", \"template\": {\"data\": {\"bar\": [{\"error_x\": {\"color\": \"#2a3f5f\"}, \"error_y\": {\"color\": \"#2a3f5f\"}, \"marker\": {\"line\": {\"color\": \"#E5ECF6\", \"width\": 0.5}}, \"type\": \"bar\"}], \"barpolar\": [{\"marker\": {\"line\": {\"color\": \"#E5ECF6\", \"width\": 0.5}}, \"type\": \"barpolar\"}], \"carpet\": [{\"aaxis\": {\"endlinecolor\": \"#2a3f5f\", \"gridcolor\": \"white\", \"linecolor\": \"white\", \"minorgridcolor\": \"white\", \"startlinecolor\": \"#2a3f5f\"}, \"baxis\": {\"endlinecolor\": \"#2a3f5f\", \"gridcolor\": \"white\", \"linecolor\": \"white\", \"minorgridcolor\": \"white\", \"startlinecolor\": \"#2a3f5f\"}, \"type\": \"carpet\"}], \"choropleth\": [{\"colorbar\": {\"outlinewidth\": 0, \"ticks\": \"\"}, \"type\": \"choropleth\"}], \"contour\": [{\"colorbar\": {\"outlinewidth\": 0, \"ticks\": \"\"}, \"colorscale\": [[0.0, \"#0d0887\"], [0.1111111111111111, \"#46039f\"], [0.2222222222222222, \"#7201a8\"], [0.3333333333333333, \"#9c179e\"], [0.4444444444444444, \"#bd3786\"], [0.5555555555555556, \"#d8576b\"], [0.6666666666666666, \"#ed7953\"], [0.7777777777777778, \"#fb9f3a\"], [0.8888888888888888, \"#fdca26\"], [1.0, \"#f0f921\"]], \"type\": \"contour\"}], \"contourcarpet\": [{\"colorbar\": {\"outlinewidth\": 0, \"ticks\": \"\"}, \"type\": \"contourcarpet\"}], \"heatmap\": [{\"colorbar\": {\"outlinewidth\": 0, \"ticks\": \"\"}, \"colorscale\": [[0.0, \"#0d0887\"], [0.1111111111111111, \"#46039f\"], [0.2222222222222222, \"#7201a8\"], [0.3333333333333333, \"#9c179e\"], [0.4444444444444444, \"#bd3786\"], [0.5555555555555556, \"#d8576b\"], [0.6666666666666666, \"#ed7953\"], [0.7777777777777778, \"#fb9f3a\"], [0.8888888888888888, \"#fdca26\"], [1.0, \"#f0f921\"]], \"type\": \"heatmap\"}], \"heatmapgl\": [{\"colorbar\": {\"outlinewidth\": 0, \"ticks\": \"\"}, \"colorscale\": [[0.0, \"#0d0887\"], [0.1111111111111111, \"#46039f\"], [0.2222222222222222, \"#7201a8\"], [0.3333333333333333, \"#9c179e\"], [0.4444444444444444, \"#bd3786\"], [0.5555555555555556, \"#d8576b\"], [0.6666666666666666, \"#ed7953\"], [0.7777777777777778, \"#fb9f3a\"], [0.8888888888888888, \"#fdca26\"], [1.0, \"#f0f921\"]], \"type\": \"heatmapgl\"}], \"histogram\": [{\"marker\": {\"colorbar\": {\"outlinewidth\": 0, \"ticks\": \"\"}}, \"type\": \"histogram\"}], \"histogram2d\": [{\"colorbar\": {\"outlinewidth\": 0, \"ticks\": \"\"}, \"colorscale\": [[0.0, \"#0d0887\"], [0.1111111111111111, \"#46039f\"], [0.2222222222222222, \"#7201a8\"], [0.3333333333333333, \"#9c179e\"], [0.4444444444444444, \"#bd3786\"], [0.5555555555555556, \"#d8576b\"], [0.6666666666666666, \"#ed7953\"], [0.7777777777777778, \"#fb9f3a\"], [0.8888888888888888, \"#fdca26\"], [1.0, \"#f0f921\"]], \"type\": \"histogram2d\"}], \"histogram2dcontour\": [{\"colorbar\": {\"outlinewidth\": 0, \"ticks\": \"\"}, \"colorscale\": [[0.0, \"#0d0887\"], [0.1111111111111111, \"#46039f\"], [0.2222222222222222, \"#7201a8\"], [0.3333333333333333, \"#9c179e\"], [0.4444444444444444, \"#bd3786\"], [0.5555555555555556, \"#d8576b\"], [0.6666666666666666, \"#ed7953\"], [0.7777777777777778, \"#fb9f3a\"], [0.8888888888888888, \"#fdca26\"], [1.0, \"#f0f921\"]], \"type\": \"histogram2dcontour\"}], \"mesh3d\": [{\"colorbar\": {\"outlinewidth\": 0, \"ticks\": \"\"}, \"type\": \"mesh3d\"}], \"parcoords\": [{\"line\": {\"colorbar\": {\"outlinewidth\": 0, \"ticks\": \"\"}}, \"type\": \"parcoords\"}], \"scatter\": [{\"marker\": {\"colorbar\": {\"outlinewidth\": 0, \"ticks\": \"\"}}, \"type\": \"scatter\"}], \"scatter3d\": [{\"line\": {\"colorbar\": {\"outlinewidth\": 0, \"ticks\": \"\"}}, \"marker\": {\"colorbar\": {\"outlinewidth\": 0, \"ticks\": \"\"}}, \"type\": \"scatter3d\"}], \"scattercarpet\": [{\"marker\": {\"colorbar\": {\"outlinewidth\": 0, \"ticks\": \"\"}}, \"type\": \"scattercarpet\"}], \"scattergeo\": [{\"marker\": {\"colorbar\": {\"outlinewidth\": 0, \"ticks\": \"\"}}, \"type\": \"scattergeo\"}], \"scattergl\": [{\"marker\": {\"colorbar\": {\"outlinewidth\": 0, \"ticks\": \"\"}}, \"type\": \"scattergl\"}], \"scattermapbox\": [{\"marker\": {\"colorbar\": {\"outlinewidth\": 0, \"ticks\": \"\"}}, \"type\": \"scattermapbox\"}], \"scatterpolar\": [{\"marker\": {\"colorbar\": {\"outlinewidth\": 0, \"ticks\": \"\"}}, \"type\": \"scatterpolar\"}], \"scatterpolargl\": [{\"marker\": {\"colorbar\": {\"outlinewidth\": 0, \"ticks\": \"\"}}, \"type\": \"scatterpolargl\"}], \"scatterternary\": [{\"marker\": {\"colorbar\": {\"outlinewidth\": 0, \"ticks\": \"\"}}, \"type\": \"scatterternary\"}], \"surface\": [{\"colorbar\": {\"outlinewidth\": 0, \"ticks\": \"\"}, \"colorscale\": [[0.0, \"#0d0887\"], [0.1111111111111111, \"#46039f\"], [0.2222222222222222, \"#7201a8\"], [0.3333333333333333, \"#9c179e\"], [0.4444444444444444, \"#bd3786\"], [0.5555555555555556, \"#d8576b\"], [0.6666666666666666, \"#ed7953\"], [0.7777777777777778, \"#fb9f3a\"], [0.8888888888888888, \"#fdca26\"], [1.0, \"#f0f921\"]], \"type\": \"surface\"}], \"table\": [{\"cells\": {\"fill\": {\"color\": \"#EBF0F8\"}, \"line\": {\"color\": \"white\"}}, \"header\": {\"fill\": {\"color\": \"#C8D4E3\"}, \"line\": {\"color\": \"white\"}}, \"type\": \"table\"}]}, \"layout\": {\"annotationdefaults\": {\"arrowcolor\": \"#2a3f5f\", \"arrowhead\": 0, \"arrowwidth\": 1}, \"colorscale\": {\"diverging\": [[0, \"#8e0152\"], [0.1, \"#c51b7d\"], [0.2, \"#de77ae\"], [0.3, \"#f1b6da\"], [0.4, \"#fde0ef\"], [0.5, \"#f7f7f7\"], [0.6, \"#e6f5d0\"], [0.7, \"#b8e186\"], [0.8, \"#7fbc41\"], [0.9, \"#4d9221\"], [1, \"#276419\"]], \"sequential\": [[0.0, \"#0d0887\"], [0.1111111111111111, \"#46039f\"], [0.2222222222222222, \"#7201a8\"], [0.3333333333333333, \"#9c179e\"], [0.4444444444444444, \"#bd3786\"], [0.5555555555555556, \"#d8576b\"], [0.6666666666666666, \"#ed7953\"], [0.7777777777777778, \"#fb9f3a\"], [0.8888888888888888, \"#fdca26\"], [1.0, \"#f0f921\"]], \"sequentialminus\": [[0.0, \"#0d0887\"], [0.1111111111111111, \"#46039f\"], [0.2222222222222222, \"#7201a8\"], [0.3333333333333333, \"#9c179e\"], [0.4444444444444444, \"#bd3786\"], [0.5555555555555556, \"#d8576b\"], [0.6666666666666666, \"#ed7953\"], [0.7777777777777778, \"#fb9f3a\"], [0.8888888888888888, \"#fdca26\"], [1.0, \"#f0f921\"]]}, \"colorway\": [\"#636efa\", \"#EF553B\", \"#00cc96\", \"#ab63fa\", \"#FFA15A\", \"#19d3f3\", \"#FF6692\", \"#B6E880\", \"#FF97FF\", \"#FECB52\"], \"font\": {\"color\": \"#2a3f5f\"}, \"geo\": {\"bgcolor\": \"white\", \"lakecolor\": \"white\", \"landcolor\": \"#E5ECF6\", \"showlakes\": true, \"showland\": true, \"subunitcolor\": \"white\"}, \"hoverlabel\": {\"align\": \"left\"}, \"hovermode\": \"closest\", \"mapbox\": {\"style\": \"light\"}, \"paper_bgcolor\": \"white\", \"plot_bgcolor\": \"#E5ECF6\", \"polar\": {\"angularaxis\": {\"gridcolor\": \"white\", \"linecolor\": \"white\", \"ticks\": \"\"}, \"bgcolor\": \"#E5ECF6\", \"radialaxis\": {\"gridcolor\": \"white\", \"linecolor\": \"white\", \"ticks\": \"\"}}, \"scene\": {\"xaxis\": {\"backgroundcolor\": \"#E5ECF6\", \"gridcolor\": \"white\", \"gridwidth\": 2, \"linecolor\": \"white\", \"showbackground\": true, \"ticks\": \"\", \"zerolinecolor\": \"white\"}, \"yaxis\": {\"backgroundcolor\": \"#E5ECF6\", \"gridcolor\": \"white\", \"gridwidth\": 2, \"linecolor\": \"white\", \"showbackground\": true, \"ticks\": \"\", \"zerolinecolor\": \"white\"}, \"zaxis\": {\"backgroundcolor\": \"#E5ECF6\", \"gridcolor\": \"white\", \"gridwidth\": 2, \"linecolor\": \"white\", \"showbackground\": true, \"ticks\": \"\", \"zerolinecolor\": \"white\"}}, \"shapedefaults\": {\"line\": {\"color\": \"#2a3f5f\"}}, \"ternary\": {\"aaxis\": {\"gridcolor\": \"white\", \"linecolor\": \"white\", \"ticks\": \"\"}, \"baxis\": {\"gridcolor\": \"white\", \"linecolor\": \"white\", \"ticks\": \"\"}, \"bgcolor\": \"#E5ECF6\", \"caxis\": {\"gridcolor\": \"white\", \"linecolor\": \"white\", \"ticks\": \"\"}}, \"title\": {\"x\": 0.05}, \"xaxis\": {\"automargin\": true, \"gridcolor\": \"white\", \"linecolor\": \"white\", \"ticks\": \"\", \"zerolinecolor\": \"white\", \"zerolinewidth\": 2}, \"yaxis\": {\"automargin\": true, \"gridcolor\": \"white\", \"linecolor\": \"white\", \"ticks\": \"\", \"zerolinecolor\": \"white\", \"zerolinewidth\": 2}}}, \"title\": {\"text\": \"Distribution of active vs churned user per state\"}, \"xaxis\": {\"anchor\": \"y\", \"domain\": [0.0, 1.0], \"tickangle\": -45, \"title\": {\"text\": \"Location\"}}, \"xaxis2\": {\"anchor\": \"y2\", \"domain\": [0.0, 1.0], \"tickangle\": -45, \"title\": {\"text\": \"Location\"}}, \"yaxis\": {\"anchor\": \"x\", \"domain\": [0.625, 1.0], \"title\": {\"text\": \"Count of users\"}}, \"yaxis2\": {\"anchor\": \"x2\", \"domain\": [0.0, 0.375], \"title\": {\"text\": \"Count of users\"}}},\n",
       "                        {\"responsive\": true}\n",
       "                    ).then(function(){\n",
       "                            \n",
       "var gd = document.getElementById('9e418465-8967-483e-b68a-4108b0c42dda');\n",
       "var x = new MutationObserver(function (mutations, observer) {{\n",
       "        var display = window.getComputedStyle(gd).display;\n",
       "        if (!display || display === 'none') {{\n",
       "            console.log([gd, 'removed!']);\n",
       "            Plotly.purge(gd);\n",
       "            observer.disconnect();\n",
       "        }}\n",
       "}});\n",
       "\n",
       "// Listen for the removal of the full notebook cells\n",
       "var notebookContainer = gd.closest('#notebook-container');\n",
       "if (notebookContainer) {{\n",
       "    x.observe(notebookContainer, {childList: true});\n",
       "}}\n",
       "\n",
       "// Listen for the clearing of the current output cell\n",
       "var outputEl = gd.closest('.output');\n",
       "if (outputEl) {{\n",
       "    x.observe(outputEl, {childList: true});\n",
       "}}\n",
       "\n",
       "                        })\n",
       "                };\n",
       "                });\n",
       "            </script>\n",
       "        </div>"
      ]
     },
     "metadata": {},
     "output_type": "display_data"
    }
   ],
   "source": [
    "fig = make_subplots(rows=2, cols=1,\n",
    "                   subplot_titles=(\"Service cancellation analysis\", \"Service downgrade analysis\"))\n",
    "\n",
    "fig.append_trace(go.Bar(\n",
    "    x=locations,\n",
    "    y=location_churn_service.groupby('state')['userId'].count(),\n",
    "    name='Cancel churned users',\n",
    "    marker=dict(\n",
    "        color='rgb(68, 1, 84)'\n",
    "    )\n",
    "),1,1)\n",
    "fig.append_trace(go.Bar(\n",
    "    x=locations,\n",
    "    y=location_no_churn.groupby('state')['userId'].count(),\n",
    "    name='Active users',\n",
    "    marker=dict(\n",
    "        color='rgb(220, 227, 25)'\n",
    "    )\n",
    "),1,1)\n",
    "fig.append_trace(go.Bar(\n",
    "    x=locations,\n",
    "    y=location_churn_paid.groupby('state')['userId'].count(),\n",
    "    name='Downgrade churned users',\n",
    "    marker=dict(\n",
    "        color='rgb(45, 112, 142)'\n",
    "    ),\n",
    "),2, 1)\n",
    "fig.append_trace(go.Bar(\n",
    "    x=locations,\n",
    "    y=location_no_churn.groupby('state')['userId'].count(),\n",
    "    name='Active users',\n",
    "    marker=dict(\n",
    "        color='rgb(220, 227, 25)'\n",
    "    ),\n",
    "    showlegend=False\n",
    "),2, 1)\n",
    "fig.layout.update(go.Layout(\n",
    "    title_text=\"Distribution of active vs churned user per state\",\n",
    "    barmode='group'\n",
    "))\n",
    "fig.update_xaxes(title_text=\"Location\", tickangle=-45, row=1, col=1)\n",
    "fig.update_xaxes(title_text=\"Location\", tickangle=-45, row=2, col=1)\n",
    "fig.update_yaxes(title_text=\"Count of users\", row=1, col=1)\n",
    "fig.update_yaxes(title_text=\"Count of users\", row=2, col=1)\n",
    "\n",
    "fig.show()"
   ]
  },
  {
   "cell_type": "markdown",
   "metadata": {},
   "source": [
    "We can clearly see a pattern in those two graphs, where some states have only active users and no churned users. "
   ]
  },
  {
   "cell_type": "markdown",
   "metadata": {},
   "source": [
    "*Impact of the average number of songs listened to, artists, repeats, partial listening*\n",
    "\n",
    "In this section we will not focus on *who* the user is, but *what* he/she does on the platform, by looking at the songs and artist he/she listens to, how many times to the same song or artist, how many partial listening.\n",
    "\n",
    "\n",
    "aggregate averages per week / per month\n",
    "partial listening = length is longer that difference between two ts\n",
    "\n",
    "All this information will be available by looking at the following columns:\n",
    "- artist\n",
    "- song\n",
    "- length"
   ]
  },
  {
   "cell_type": "code",
   "execution_count": 147,
   "metadata": {},
   "outputs": [
    {
     "data": {
      "text/plain": [
       "[Row(artist=None, auth='Logged In', firstName='Darianna', gender='F', itemInSession=34, lastName='Carpenter', length=None, level='free', location='Bridgeport-Stamford-Norwalk, CT', method='PUT', page='Logout', registration=1538016340000, sessionId=187, song=None, status=307, ts=1542823952000, userAgent='\"Mozilla/5.0 (iPhone; CPU iPhone OS 7_1_2 like Mac OS X) AppleWebKit/537.51.2 (KHTML, like Gecko) Version/7.0 Mobile/11D257 Safari/9537.53\"', userId='100010', ts_year='2018', ts_month='11', ts_day='21', ts_hour='19', ts_weekday='2', downgraded=0, cancelled=0, phase_downgrade=0, phase_cancel=0, churn_paid=0, churn_service=0),\n",
       " Row(artist='Lily Allen', auth='Logged In', firstName='Darianna', gender='F', itemInSession=33, lastName='Carpenter', length=185.25995, level='free', location='Bridgeport-Stamford-Norwalk, CT', method='PUT', page='NextSong', registration=1538016340000, sessionId=187, song='22', status=200, ts=1542823951000, userAgent='\"Mozilla/5.0 (iPhone; CPU iPhone OS 7_1_2 like Mac OS X) AppleWebKit/537.51.2 (KHTML, like Gecko) Version/7.0 Mobile/11D257 Safari/9537.53\"', userId='100010', ts_year='2018', ts_month='11', ts_day='21', ts_hour='19', ts_weekday='2', downgraded=0, cancelled=0, phase_downgrade=0, phase_cancel=0, churn_paid=0, churn_service=0),\n",
       " Row(artist='John Waite', auth='Logged In', firstName='Darianna', gender='F', itemInSession=32, lastName='Carpenter', length=269.76608, level='free', location='Bridgeport-Stamford-Norwalk, CT', method='PUT', page='NextSong', registration=1538016340000, sessionId=187, song='Missing You', status=200, ts=1542823682000, userAgent='\"Mozilla/5.0 (iPhone; CPU iPhone OS 7_1_2 like Mac OS X) AppleWebKit/537.51.2 (KHTML, like Gecko) Version/7.0 Mobile/11D257 Safari/9537.53\"', userId='100010', ts_year='2018', ts_month='11', ts_day='21', ts_hour='19', ts_weekday='2', downgraded=0, cancelled=0, phase_downgrade=0, phase_cancel=0, churn_paid=0, churn_service=0),\n",
       " Row(artist='Hermano', auth='Logged In', firstName='Darianna', gender='F', itemInSession=31, lastName='Carpenter', length=115.90485, level='free', location='Bridgeport-Stamford-Norwalk, CT', method='PUT', page='NextSong', registration=1538016340000, sessionId=187, song='Letters From Madrid', status=200, ts=1542823567000, userAgent='\"Mozilla/5.0 (iPhone; CPU iPhone OS 7_1_2 like Mac OS X) AppleWebKit/537.51.2 (KHTML, like Gecko) Version/7.0 Mobile/11D257 Safari/9537.53\"', userId='100010', ts_year='2018', ts_month='11', ts_day='21', ts_hour='19', ts_weekday='2', downgraded=0, cancelled=0, phase_downgrade=0, phase_cancel=0, churn_paid=0, churn_service=0),\n",
       " Row(artist=None, auth='Logged In', firstName='Darianna', gender='F', itemInSession=30, lastName='Carpenter', length=None, level='free', location='Bridgeport-Stamford-Norwalk, CT', method='GET', page='Roll Advert', registration=1538016340000, sessionId=187, song=None, status=200, ts=1542823257000, userAgent='\"Mozilla/5.0 (iPhone; CPU iPhone OS 7_1_2 like Mac OS X) AppleWebKit/537.51.2 (KHTML, like Gecko) Version/7.0 Mobile/11D257 Safari/9537.53\"', userId='100010', ts_year='2018', ts_month='11', ts_day='21', ts_hour='19', ts_weekday='2', downgraded=0, cancelled=0, phase_downgrade=0, phase_cancel=0, churn_paid=0, churn_service=0)]"
      ]
     },
     "execution_count": 147,
     "metadata": {},
     "output_type": "execute_result"
    }
   ],
   "source": [
    "event_data_churn.head(5)"
   ]
  },
  {
   "cell_type": "code",
   "execution_count": null,
   "metadata": {},
   "outputs": [],
   "source": []
  },
  {
   "cell_type": "code",
   "execution_count": null,
   "metadata": {},
   "outputs": [],
   "source": []
  },
  {
   "cell_type": "code",
   "execution_count": null,
   "metadata": {},
   "outputs": [],
   "source": []
  },
  {
   "cell_type": "markdown",
   "metadata": {},
   "source": [
    "impact of the average listening time per day"
   ]
  },
  {
   "cell_type": "code",
   "execution_count": null,
   "metadata": {},
   "outputs": [],
   "source": []
  },
  {
   "cell_type": "markdown",
   "metadata": {},
   "source": [
    "\n",
    "\n",
    "impact of the time of the activity (count of actions):\n",
    "time of the day,\n",
    "day of the week,\n",
    "day of the month,\n",
    "month of the year\n"
   ]
  },
  {
   "cell_type": "code",
   "execution_count": null,
   "metadata": {},
   "outputs": [],
   "source": []
  },
  {
   "cell_type": "markdown",
   "metadata": {},
   "source": [
    "impact of the moment the user joined (month, day of the week, day of the month)"
   ]
  },
  {
   "cell_type": "code",
   "execution_count": null,
   "metadata": {},
   "outputs": [],
   "source": []
  },
  {
   "cell_type": "code",
   "execution_count": null,
   "metadata": {},
   "outputs": [],
   "source": []
  },
  {
   "cell_type": "code",
   "execution_count": null,
   "metadata": {},
   "outputs": [],
   "source": []
  },
  {
   "cell_type": "markdown",
   "metadata": {},
   "source": [
    "Other Core metrics:\n",
    "- monthly active users (one song in the past month)\n",
    "- daily active users (each day in the past month, total number and % of monthly active users)\n",
    "- total number of paid/unpaid users\n",
    "- total number of ads served\n",
    "- group per cohort (month division) - % who upgraded vs churned within 3 months"
   ]
  },
  {
   "cell_type": "code",
   "execution_count": null,
   "metadata": {},
   "outputs": [],
   "source": []
  },
  {
   "cell_type": "code",
   "execution_count": null,
   "metadata": {},
   "outputs": [],
   "source": []
  },
  {
   "cell_type": "code",
   "execution_count": null,
   "metadata": {},
   "outputs": [],
   "source": []
  },
  {
   "cell_type": "code",
   "execution_count": null,
   "metadata": {},
   "outputs": [],
   "source": []
  },
  {
   "cell_type": "code",
   "execution_count": null,
   "metadata": {},
   "outputs": [],
   "source": []
  },
  {
   "cell_type": "markdown",
   "metadata": {},
   "source": [
    "# Feature Engineering\n",
    "Once you've familiarized yourself with the data, build out the features you find promising to train your model on. To work with the full dataset, you can follow the following steps.\n",
    "- Write a script to extract the necessary features from the smaller subset of data\n",
    "- Ensure that your script is scalable, using the best practices discussed in Lesson 3\n",
    "- Try your script on the full data set, debugging your script if necessary\n",
    "\n",
    "If you are working in the classroom workspace, you can just extract features based on the small subset of data contained here. Be sure to transfer over this work to the larger dataset when you work on your Spark cluster."
   ]
  },
  {
   "cell_type": "code",
   "execution_count": null,
   "metadata": {},
   "outputs": [],
   "source": []
  },
  {
   "cell_type": "markdown",
   "metadata": {},
   "source": [
    "# Modeling\n",
    "Split the full dataset into train, test, and validation sets. Test out several of the machine learning methods you learned. Evaluate the accuracy of the various models, tuning parameters as necessary. Determine your winning model based on test accuracy and report results on the validation set. Since the churned users are a fairly small subset, I suggest using F1 score as the metric to optimize."
   ]
  },
  {
   "cell_type": "code",
   "execution_count": null,
   "metadata": {},
   "outputs": [],
   "source": []
  },
  {
   "cell_type": "markdown",
   "metadata": {},
   "source": [
    "# Final Steps\n",
    "Clean up your code, adding comments and renaming variables to make the code easier to read and maintain. Refer to the Spark Project Overview page and Data Scientist Capstone Project Rubric to make sure you are including all components of the capstone project and meet all expectations. Remember, this includes thorough documentation in a README file in a Github repository, as well as a web app or blog post."
   ]
  },
  {
   "cell_type": "code",
   "execution_count": null,
   "metadata": {},
   "outputs": [],
   "source": []
  }
 ],
 "metadata": {
  "kernelspec": {
   "display_name": "Python3.7",
   "language": "python",
   "name": "python3.7"
  },
  "language_info": {
   "codemirror_mode": {
    "name": "ipython",
    "version": 3
   },
   "file_extension": ".py",
   "mimetype": "text/x-python",
   "name": "python",
   "nbconvert_exporter": "python",
   "pygments_lexer": "ipython3",
   "version": "3.7.4"
  }
 },
 "nbformat": 4,
 "nbformat_minor": 2
}
