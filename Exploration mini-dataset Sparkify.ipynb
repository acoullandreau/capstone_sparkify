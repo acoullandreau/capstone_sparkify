{
 "cells": [
  {
   "cell_type": "markdown",
   "metadata": {},
   "source": [
    "# Sparkify Project Workspace\n",
    "This workspace contains a tiny subset (128MB) of the full dataset available (12GB). Feel free to use this workspace to build your project, or to explore a smaller subset with Spark before deploying your cluster on the cloud. Instructions for setting up your Spark cluster is included in the last lesson of the Extracurricular Spark Course content.\n",
    "\n",
    "You can follow the steps below to guide your data analysis and model building portion of this project."
   ]
  },
  {
   "cell_type": "code",
   "execution_count": 71,
   "metadata": {},
   "outputs": [],
   "source": [
    "# import libraries\n",
    "import datetime\n",
    "import plotly.graph_objs as go\n",
    "from plotly.subplots import make_subplots\n",
    "from pyspark.sql import SparkSession\n",
    "from pyspark.sql.functions import avg, concat, count, col, desc, from_unixtime, isnan, lag, lit, udf, split, weekofyear\n",
    "from pyspark.sql.functions import max as Fmax\n",
    "from pyspark.sql.functions import sum as Fsum\n",
    "from pyspark.sql.types import IntegerType\n",
    "from pyspark.sql import Window"
   ]
  },
  {
   "cell_type": "code",
   "execution_count": 2,
   "metadata": {},
   "outputs": [],
   "source": [
    "# create a Spark session\n",
    "\n",
    "spark = SparkSession \\\n",
    ".builder \\\n",
    ".appName(\"sparkify\") \\\n",
    ".getOrCreate() "
   ]
  },
  {
   "cell_type": "markdown",
   "metadata": {},
   "source": [
    "# Load and Clean Dataset\n",
    "In this workspace, the mini-dataset file is `mini_sparkify_event_data.json`. Load and clean the dataset, checking for invalid or missing data - for example, records without userids or sessionids. "
   ]
  },
  {
   "cell_type": "markdown",
   "metadata": {},
   "source": [
    "**Load the dataset**"
   ]
  },
  {
   "cell_type": "code",
   "execution_count": 3,
   "metadata": {},
   "outputs": [],
   "source": [
    "#Let's load the data and observe what it looks like\n",
    "\n",
    "data_path = 'mini_sparkify_event_data.json'\n",
    "event_data = spark.read.json(data_path)"
   ]
  },
  {
   "cell_type": "code",
   "execution_count": 4,
   "metadata": {},
   "outputs": [
    {
     "name": "stdout",
     "output_type": "stream",
     "text": [
      "root\n",
      " |-- artist: string (nullable = true)\n",
      " |-- auth: string (nullable = true)\n",
      " |-- firstName: string (nullable = true)\n",
      " |-- gender: string (nullable = true)\n",
      " |-- itemInSession: long (nullable = true)\n",
      " |-- lastName: string (nullable = true)\n",
      " |-- length: double (nullable = true)\n",
      " |-- level: string (nullable = true)\n",
      " |-- location: string (nullable = true)\n",
      " |-- method: string (nullable = true)\n",
      " |-- page: string (nullable = true)\n",
      " |-- registration: long (nullable = true)\n",
      " |-- sessionId: long (nullable = true)\n",
      " |-- song: string (nullable = true)\n",
      " |-- status: long (nullable = true)\n",
      " |-- ts: long (nullable = true)\n",
      " |-- userAgent: string (nullable = true)\n",
      " |-- userId: string (nullable = true)\n",
      "\n"
     ]
    }
   ],
   "source": [
    "event_data.printSchema()"
   ]
  },
  {
   "cell_type": "code",
   "execution_count": 5,
   "metadata": {},
   "outputs": [
    {
     "data": {
      "text/plain": [
       "286500"
      ]
     },
     "execution_count": 5,
     "metadata": {},
     "output_type": "execute_result"
    }
   ],
   "source": [
    "event_data.count()"
   ]
  },
  {
   "cell_type": "code",
   "execution_count": 6,
   "metadata": {},
   "outputs": [
    {
     "data": {
      "text/plain": [
       "Row(artist='Martha Tilston', auth='Logged In', firstName='Colin', gender='M', itemInSession=50, lastName='Freeman', length=277.89016, level='paid', location='Bakersfield, CA', method='PUT', page='NextSong', registration=1538173362000, sessionId=29, song='Rockpools', status=200, ts=1538352117000, userAgent='Mozilla/5.0 (Windows NT 6.1; WOW64; rv:31.0) Gecko/20100101 Firefox/31.0', userId='30')"
      ]
     },
     "execution_count": 6,
     "metadata": {},
     "output_type": "execute_result"
    }
   ],
   "source": [
    "event_data.head()"
   ]
  },
  {
   "cell_type": "markdown",
   "metadata": {},
   "source": [
    "**Get familiar with the dataset**"
   ]
  },
  {
   "cell_type": "code",
   "execution_count": 7,
   "metadata": {},
   "outputs": [
    {
     "name": "stdout",
     "output_type": "stream",
     "text": [
      "Categorical columns: \n",
      "['artist', 'auth', 'firstName', 'gender', 'lastName', 'level', 'location', 'method', 'page', 'song', 'userAgent', 'userId']\n",
      "\n",
      "\n",
      "Numerical columns: \n",
      "['itemInSession', 'length', 'registration', 'sessionId', 'status', 'ts']\n"
     ]
    }
   ],
   "source": [
    "# Let's see what are the categorical features in our dataset\n",
    "\n",
    "cat_cols = []\n",
    "num_cols = []\n",
    "\n",
    "for i in range(len(event_data.dtypes)):\n",
    "    if event_data.dtypes[i][1] == 'string':\n",
    "        cat_cols.append(event_data.dtypes[i][0])\n",
    "    else:\n",
    "        num_cols.append(event_data.dtypes[i][0])\n",
    "\n",
    "print('Categorical columns: ')\n",
    "print(cat_cols)\n",
    "print('\\n')\n",
    "print('Numerical columns: ')\n",
    "print(num_cols)"
   ]
  },
  {
   "cell_type": "markdown",
   "metadata": {},
   "source": [
    "Now let's take a look at the values some of those categorical features can have...\n",
    "We are mainly interested in the following columns:\n",
    "- auth\n",
    "- gender\n",
    "- level\n",
    "- location - mainly how many unique values\n",
    "- method\n",
    "- page\n",
    "- userAgent\n",
    "- userId - mainly how many unique values"
   ]
  },
  {
   "cell_type": "code",
   "execution_count": 8,
   "metadata": {},
   "outputs": [
    {
     "name": "stdout",
     "output_type": "stream",
     "text": [
      "+----------+\n",
      "|      auth|\n",
      "+----------+\n",
      "| Cancelled|\n",
      "|     Guest|\n",
      "| Logged In|\n",
      "|Logged Out|\n",
      "+----------+\n",
      "\n"
     ]
    }
   ],
   "source": [
    "event_data.select(\"auth\").dropDuplicates().sort(\"auth\").show()"
   ]
  },
  {
   "cell_type": "code",
   "execution_count": 9,
   "metadata": {},
   "outputs": [
    {
     "name": "stdout",
     "output_type": "stream",
     "text": [
      "+------+\n",
      "|gender|\n",
      "+------+\n",
      "|  null|\n",
      "|     F|\n",
      "|     M|\n",
      "+------+\n",
      "\n"
     ]
    }
   ],
   "source": [
    "event_data.select(\"gender\").dropDuplicates().sort(\"gender\").show()"
   ]
  },
  {
   "cell_type": "code",
   "execution_count": 10,
   "metadata": {},
   "outputs": [
    {
     "name": "stdout",
     "output_type": "stream",
     "text": [
      "+-----+\n",
      "|level|\n",
      "+-----+\n",
      "| free|\n",
      "| paid|\n",
      "+-----+\n",
      "\n"
     ]
    }
   ],
   "source": [
    "event_data.select(\"level\").dropDuplicates().sort(\"level\").show()"
   ]
  },
  {
   "cell_type": "code",
   "execution_count": 11,
   "metadata": {},
   "outputs": [
    {
     "name": "stdout",
     "output_type": "stream",
     "text": [
      "Number of unique location\n"
     ]
    },
    {
     "data": {
      "text/plain": [
       "115"
      ]
     },
     "execution_count": 11,
     "metadata": {},
     "output_type": "execute_result"
    }
   ],
   "source": [
    "print('Number of unique location')\n",
    "event_data.select(\"location\").dropDuplicates().count()"
   ]
  },
  {
   "cell_type": "code",
   "execution_count": 12,
   "metadata": {},
   "outputs": [
    {
     "name": "stdout",
     "output_type": "stream",
     "text": [
      "+------+\n",
      "|method|\n",
      "+------+\n",
      "|   GET|\n",
      "|   PUT|\n",
      "+------+\n",
      "\n"
     ]
    }
   ],
   "source": [
    "event_data.select(\"method\").dropDuplicates().sort(\"method\").show()"
   ]
  },
  {
   "cell_type": "code",
   "execution_count": 13,
   "metadata": {},
   "outputs": [
    {
     "name": "stdout",
     "output_type": "stream",
     "text": [
      "+--------------------+\n",
      "|                page|\n",
      "+--------------------+\n",
      "|               About|\n",
      "|          Add Friend|\n",
      "|     Add to Playlist|\n",
      "|              Cancel|\n",
      "|Cancellation Conf...|\n",
      "|           Downgrade|\n",
      "|               Error|\n",
      "|                Help|\n",
      "|                Home|\n",
      "|               Login|\n",
      "|              Logout|\n",
      "|            NextSong|\n",
      "|            Register|\n",
      "|         Roll Advert|\n",
      "|       Save Settings|\n",
      "|            Settings|\n",
      "|    Submit Downgrade|\n",
      "| Submit Registration|\n",
      "|      Submit Upgrade|\n",
      "|         Thumbs Down|\n",
      "+--------------------+\n",
      "only showing top 20 rows\n",
      "\n"
     ]
    }
   ],
   "source": [
    "event_data.select(\"page\").dropDuplicates().sort(\"page\").show()"
   ]
  },
  {
   "cell_type": "code",
   "execution_count": 14,
   "metadata": {},
   "outputs": [
    {
     "name": "stdout",
     "output_type": "stream",
     "text": [
      "+--------------------+\n",
      "|           userAgent|\n",
      "+--------------------+\n",
      "|                null|\n",
      "|\"Mozilla/5.0 (Mac...|\n",
      "|\"Mozilla/5.0 (Mac...|\n",
      "|\"Mozilla/5.0 (Mac...|\n",
      "|\"Mozilla/5.0 (Mac...|\n",
      "|\"Mozilla/5.0 (Mac...|\n",
      "|\"Mozilla/5.0 (Mac...|\n",
      "|\"Mozilla/5.0 (Mac...|\n",
      "|\"Mozilla/5.0 (Mac...|\n",
      "|\"Mozilla/5.0 (Mac...|\n",
      "|\"Mozilla/5.0 (Mac...|\n",
      "|\"Mozilla/5.0 (Mac...|\n",
      "|\"Mozilla/5.0 (Mac...|\n",
      "|\"Mozilla/5.0 (Mac...|\n",
      "|\"Mozilla/5.0 (Mac...|\n",
      "|\"Mozilla/5.0 (Mac...|\n",
      "|\"Mozilla/5.0 (Mac...|\n",
      "|\"Mozilla/5.0 (Mac...|\n",
      "|\"Mozilla/5.0 (Win...|\n",
      "|\"Mozilla/5.0 (Win...|\n",
      "+--------------------+\n",
      "only showing top 20 rows\n",
      "\n"
     ]
    }
   ],
   "source": [
    "event_data.select(\"userAgent\").dropDuplicates().sort(\"userAgent\").show()"
   ]
  },
  {
   "cell_type": "code",
   "execution_count": 15,
   "metadata": {},
   "outputs": [
    {
     "name": "stdout",
     "output_type": "stream",
     "text": [
      "Number of unique users\n"
     ]
    },
    {
     "data": {
      "text/plain": [
       "226"
      ]
     },
     "execution_count": 15,
     "metadata": {},
     "output_type": "execute_result"
    }
   ],
   "source": [
    "print('Number of unique users')\n",
    "event_data.select(['userId']).dropDuplicates().count()"
   ]
  },
  {
   "cell_type": "code",
   "execution_count": 16,
   "metadata": {},
   "outputs": [
    {
     "name": "stdout",
     "output_type": "stream",
     "text": [
      "+------+\n",
      "|userId|\n",
      "+------+\n",
      "|      |\n",
      "|    10|\n",
      "|   100|\n",
      "|100001|\n",
      "|100002|\n",
      "|100003|\n",
      "|100004|\n",
      "|100005|\n",
      "|100006|\n",
      "|100007|\n",
      "|100008|\n",
      "|100009|\n",
      "|100010|\n",
      "|100011|\n",
      "|100012|\n",
      "|100013|\n",
      "|100014|\n",
      "|100015|\n",
      "|100016|\n",
      "|100017|\n",
      "+------+\n",
      "only showing top 20 rows\n",
      "\n"
     ]
    }
   ],
   "source": [
    "event_data.select(\"userId\").dropDuplicates().sort(\"userId\").show()"
   ]
  },
  {
   "cell_type": "markdown",
   "metadata": {},
   "source": [
    "**First set of observations**\n",
    "\n",
    "1. gender has a null value -> we should get rid of the corresponding rows\n",
    "2. userId has an empty string as a value -> we should get rid of the corresponding rows\n",
    "3. userAgent and method do not seem to be relevant features to look at\n",
    "4. auth has a Cancelled status that can be useful later on to look at churn rates\n",
    "5. the number of unique users (225) and unique locations (115) tends to indicate that the population is wide-spread in multiple city, and this feature may not be of great value to predict churn (we will confirm that when exploring deeper the dataset)\n"
   ]
  },
  {
   "cell_type": "markdown",
   "metadata": {},
   "source": [
    "**Clean the dataset**"
   ]
  },
  {
   "cell_type": "code",
   "execution_count": 17,
   "metadata": {},
   "outputs": [
    {
     "name": "stdout",
     "output_type": "stream",
     "text": [
      "+--------------------+\n",
      "|                page|\n",
      "+--------------------+\n",
      "|               About|\n",
      "|          Add Friend|\n",
      "|     Add to Playlist|\n",
      "|              Cancel|\n",
      "|Cancellation Conf...|\n",
      "|           Downgrade|\n",
      "|               Error|\n",
      "|                Help|\n",
      "|                Home|\n",
      "|               Login|\n",
      "|              Logout|\n",
      "|            NextSong|\n",
      "|            Register|\n",
      "|         Roll Advert|\n",
      "|       Save Settings|\n",
      "|            Settings|\n",
      "|    Submit Downgrade|\n",
      "| Submit Registration|\n",
      "|      Submit Upgrade|\n",
      "|         Thumbs Down|\n",
      "+--------------------+\n",
      "only showing top 20 rows\n",
      "\n"
     ]
    }
   ],
   "source": [
    "# Let's take a look at the type of user actions we have in this dataset\n",
    "\n",
    "event_data.select(\"page\").dropDuplicates().sort(\"page\").show()"
   ]
  },
  {
   "cell_type": "code",
   "execution_count": 18,
   "metadata": {},
   "outputs": [],
   "source": [
    "action_list = event_data.select(\"page\").dropDuplicates().sort(\"page\").collect()\n"
   ]
  },
  {
   "cell_type": "code",
   "execution_count": 19,
   "metadata": {},
   "outputs": [
    {
     "name": "stdout",
     "output_type": "stream",
     "text": [
      "Ratio of actions\n",
      "Column About:  0.3225130890052356\n",
      "Column Add Friend:  1.492844677137871\n",
      "Column Add to Playlist:  2.2778359511343806\n",
      "Column Cancel:  0.018150087260034906\n",
      "Column Cancellation Confirmation:  0.018150087260034906\n",
      "Column Downgrade:  0.7172774869109948\n",
      "Column Error:  0.0900523560209424\n",
      "Column Help:  0.6024432809773124\n",
      "Column Home:  5.046073298429319\n",
      "Column Login:  1.131239092495637\n",
      "Column Logout:  1.126003490401396\n",
      "Column NextSong:  79.61884816753927\n",
      "Column Register:  0.006282722513089006\n",
      "Column Roll Advert:  1.3727748691099475\n",
      "Column Save Settings:  0.1082024432809773\n",
      "Column Settings:  0.5284467713787085\n",
      "Column Submit Downgrade:  0.02198952879581152\n",
      "Column Submit Registration:  0.0017452006980802793\n",
      "Column Submit Upgrade:  0.05549738219895288\n",
      "Column Thumbs Down:  0.8886561954624781\n",
      "Column Thumbs Up:  4.380802792321116\n",
      "Column Upgrade:  0.17417102966841186\n"
     ]
    }
   ],
   "source": [
    "print('Ratio of actions')\n",
    "action_list = event_data.select(\"page\").dropDuplicates().sort(\"page\").collect()\n",
    "for i in range(len(action_list)):\n",
    "    action_name = action_list[i].__getitem__(0)\n",
    "    action_count = event_data.where(event_data[\"page\"]==action_name).count()/event_data.count()*100\n",
    "    print('Column {}: '.format(action_name), action_count)"
   ]
  },
  {
   "cell_type": "markdown",
   "metadata": {},
   "source": [
    "It seems like the vast majority of the dataset is composed of the action \"NextSong\" (about 80%). And the columns Artist and Song are filled only when the value in the page column is \"NextSong\".\n",
    "In the 20% of the row remaining however (Upgrade, Home,....) we are not expecting to find Artist or Song - which represents about 57000 rows. "
   ]
  },
  {
   "cell_type": "code",
   "execution_count": 20,
   "metadata": {},
   "outputs": [
    {
     "name": "stdout",
     "output_type": "stream",
     "text": [
      "+--------+\n",
      "|    page|\n",
      "+--------+\n",
      "|NextSong|\n",
      "+--------+\n",
      "\n"
     ]
    }
   ],
   "source": [
    "event_data.select(\"page\").where((event_data[\"artist\"].isNotNull())).dropDuplicates().show()\n",
    "\n"
   ]
  },
  {
   "cell_type": "code",
   "execution_count": 21,
   "metadata": {},
   "outputs": [
    {
     "name": "stdout",
     "output_type": "stream",
     "text": [
      "Missing values count per column\n",
      "Column artist:  58392\n",
      "Column auth:  0\n",
      "Column firstName:  8346\n",
      "Column gender:  8346\n",
      "Column itemInSession:  0\n",
      "Column lastName:  8346\n",
      "Column length:  58392\n",
      "Column level:  0\n",
      "Column location:  8346\n",
      "Column method:  0\n",
      "Column page:  0\n",
      "Column registration:  8346\n",
      "Column sessionId:  0\n",
      "Column song:  58392\n",
      "Column status:  0\n",
      "Column ts:  0\n",
      "Column userAgent:  8346\n",
      "Column userId:  8346\n"
     ]
    }
   ],
   "source": [
    "# Check for missing or invalid data\n",
    "\n",
    "print('Missing values count per column')\n",
    "for col in event_data.columns:\n",
    "    missing_count = event_data.filter((event_data[col] == \"\") | event_data[col].isNull() | isnan(event_data[col])).count()\n",
    "    print('Column {}: '.format(col), missing_count)\n"
   ]
  },
  {
   "cell_type": "markdown",
   "metadata": {},
   "source": [
    "So it seems like we have 8346 missing data points.\n",
    "\n",
    "Note that the columns artist and songs have a lot more missing values. This is due to the fact that the nature of the records is not only playing a song, but also login to the service, going to the home page, ... and as we saw about 20% of the rows are not expected to have either Artist or Song values.\n",
    "\n",
    "Well let's get rid of those missing values, it represents less than 3% of the dataset."
   ]
  },
  {
   "cell_type": "code",
   "execution_count": 22,
   "metadata": {},
   "outputs": [],
   "source": [
    "def drop_na(df):\n",
    "    df_clean = df.filter((df[col] != \"\") & df[col].isNotNull() & ~isnan(df[col]))\n",
    "    return df_clean"
   ]
  },
  {
   "cell_type": "code",
   "execution_count": 23,
   "metadata": {},
   "outputs": [],
   "source": [
    "event_data_clean = drop_na(event_data)"
   ]
  },
  {
   "cell_type": "code",
   "execution_count": 24,
   "metadata": {},
   "outputs": [
    {
     "name": "stdout",
     "output_type": "stream",
     "text": [
      "Missing values count per column\n",
      "Column artist:  50046\n",
      "Column auth:  0\n",
      "Column firstName:  0\n",
      "Column gender:  0\n",
      "Column itemInSession:  0\n",
      "Column lastName:  0\n",
      "Column length:  50046\n",
      "Column level:  0\n",
      "Column location:  0\n",
      "Column method:  0\n",
      "Column page:  0\n",
      "Column registration:  0\n",
      "Column sessionId:  0\n",
      "Column song:  50046\n",
      "Column status:  0\n",
      "Column ts:  0\n",
      "Column userAgent:  0\n",
      "Column userId:  0\n"
     ]
    }
   ],
   "source": [
    "print('Missing values count per column')\n",
    "for col in event_data_clean.columns:\n",
    "    missing_count = event_data_clean.filter((event_data_clean[col] == \"\") | event_data_clean[col].isNull() | isnan(event_data_clean[col])).count()\n",
    "    print('Column {}: '.format(col), missing_count)"
   ]
  },
  {
   "cell_type": "markdown",
   "metadata": {},
   "source": [
    "Now that we have a dataset cleaned - no missing values, let's convert the ts column to a datetime format."
   ]
  },
  {
   "cell_type": "markdown",
   "metadata": {},
   "source": [
    "Let's create a function to perform all tasks"
   ]
  },
  {
   "cell_type": "code",
   "execution_count": 25,
   "metadata": {},
   "outputs": [],
   "source": [
    "def convert_ts(df):\n",
    "    # get the year of the action\n",
    "    get_year = udf(lambda ts: datetime.datetime.fromtimestamp(ts/1000.0).year)\n",
    "    df = df.withColumn(\"ts_year\", get_year(df.ts))\n",
    "\n",
    "    # get the month of the action\n",
    "    get_month = udf(lambda ts: datetime.datetime.fromtimestamp(ts/1000.0).month)\n",
    "    df = df.withColumn(\"ts_month\", get_month(df.ts))\n",
    "\n",
    "    # get the month day of the action\n",
    "    get_day = udf(lambda ts: datetime.datetime.fromtimestamp(ts/1000.0).day)\n",
    "    df = df.withColumn(\"ts_day\", get_day(df.ts))\n",
    "    \n",
    "    # get the hour of day of the action\n",
    "    get_hour = udf(lambda ts: datetime.datetime.fromtimestamp(ts/1000.0).hour)\n",
    "    df = df.withColumn(\"ts_hour\", get_hour(df.ts))\n",
    "    \n",
    "    # get the weekday of the action\n",
    "    # 0 being Monday, 6 being Sunday\n",
    "    get_weekday = udf(lambda ts: datetime.datetime.fromtimestamp(ts/1000.0).weekday())\n",
    "    df = df.withColumn(\"ts_weekday\", get_weekday(df.ts))\n",
    "\n",
    "    return df\n"
   ]
  },
  {
   "cell_type": "code",
   "execution_count": 26,
   "metadata": {},
   "outputs": [],
   "source": [
    "event_data_clean = drop_na(event_data)\n",
    "event_data_clean = convert_ts(event_data_clean)"
   ]
  },
  {
   "cell_type": "code",
   "execution_count": 27,
   "metadata": {},
   "outputs": [
    {
     "data": {
      "text/plain": [
       "Row(artist='Martha Tilston', auth='Logged In', firstName='Colin', gender='M', itemInSession=50, lastName='Freeman', length=277.89016, level='paid', location='Bakersfield, CA', method='PUT', page='NextSong', registration=1538173362000, sessionId=29, song='Rockpools', status=200, ts=1538352117000, userAgent='Mozilla/5.0 (Windows NT 6.1; WOW64; rv:31.0) Gecko/20100101 Firefox/31.0', userId='30', ts_year='2018', ts_month='10', ts_day='1', ts_hour='2', ts_weekday='0')"
      ]
     },
     "execution_count": 27,
     "metadata": {},
     "output_type": "execute_result"
    }
   ],
   "source": [
    "event_data_clean.head()"
   ]
  },
  {
   "cell_type": "markdown",
   "metadata": {},
   "source": [
    "# Exploratory Data Analysis\n",
    "When you're working with the full dataset, perform EDA by loading a small subset of the data and doing basic manipulations within Spark. In this workspace, you are already provided a small subset of data you can explore.\n",
    "\n",
    "### Define Churn\n",
    "\n",
    "Once you've done some preliminary analysis, create a column `Churn` to use as the label for your model. I suggest using the `Cancellation Confirmation` events to define your churn, which happen for both paid and free users. As a bonus task, you can also look into the `Downgrade` events.\n",
    "\n",
    "### Explore Data\n",
    "Once you've defined churn, perform some exploratory data analysis to observe the behavior for users who stayed vs users who churned. You can start by exploring aggregates on these two groups of users, observing how much of a specific action they experienced per a certain time unit or number of songs played."
   ]
  },
  {
   "cell_type": "markdown",
   "metadata": {},
   "source": [
    "**Define churn**\n",
    "\n",
    "Let's take a look at the rows where page is Cancellation Confirmation."
   ]
  },
  {
   "cell_type": "code",
   "execution_count": 28,
   "metadata": {},
   "outputs": [
    {
     "name": "stdout",
     "output_type": "stream",
     "text": [
      "+---------+------+-----+-------+--------+------+-------+----------+\n",
      "|     auth|gender|level|ts_year|ts_month|ts_day|ts_hour|ts_weekday|\n",
      "+---------+------+-----+-------+--------+------+-------+----------+\n",
      "|Cancelled|     M| paid|   2018|      10|     7|     22|         6|\n",
      "|Cancelled|     M| paid|   2018|      10|     8|     23|         0|\n",
      "|Cancelled|     M| free|   2018|      10|    12|      6|         4|\n",
      "|Cancelled|     M| paid|   2018|      10|    12|     22|         4|\n",
      "|Cancelled|     F| paid|   2018|      10|    13|     23|         5|\n",
      "|Cancelled|     F| free|   2018|      10|    15|      9|         0|\n",
      "|Cancelled|     M| paid|   2018|      10|    17|      0|         2|\n",
      "|Cancelled|     M| paid|   2018|      10|    17|      2|         2|\n",
      "|Cancelled|     M| paid|   2018|      10|    17|      9|         2|\n",
      "|Cancelled|     M| paid|   2018|      10|    17|      9|         2|\n",
      "|Cancelled|     M| paid|   2018|      10|    20|     17|         5|\n",
      "|Cancelled|     F| paid|   2018|      10|    20|     21|         5|\n",
      "|Cancelled|     F| paid|   2018|      10|    22|      9|         0|\n",
      "|Cancelled|     M| paid|   2018|      10|    22|     17|         0|\n",
      "|Cancelled|     F| paid|   2018|      10|    24|     19|         2|\n",
      "|Cancelled|     M| paid|   2018|      10|    30|      5|         1|\n",
      "|Cancelled|     F| paid|   2018|      11|     2|     14|         4|\n",
      "|Cancelled|     F| paid|   2018|      11|     4|     15|         6|\n",
      "|Cancelled|     F| paid|   2018|      11|     6|      1|         1|\n",
      "|Cancelled|     F| paid|   2018|      11|    12|     20|         0|\n",
      "+---------+------+-----+-------+--------+------+-------+----------+\n",
      "only showing top 20 rows\n",
      "\n"
     ]
    }
   ],
   "source": [
    "event_data_clean.select(['auth', 'gender', 'level', 'ts_year', 'ts_month', 'ts_day', 'ts_hour', 'ts_weekday']).where(event_data_clean['page']=='Cancellation Confirmation').show()\n"
   ]
  },
  {
   "cell_type": "markdown",
   "metadata": {},
   "source": [
    "We notice that the column auth is filled with the value \"Cancelled\". Let's confirm that whenever we have the page \"Cancellation Confirmation\" we have the auth set to \"Cancelled\"."
   ]
  },
  {
   "cell_type": "code",
   "execution_count": 29,
   "metadata": {},
   "outputs": [
    {
     "name": "stdout",
     "output_type": "stream",
     "text": [
      "+---------+\n",
      "|     auth|\n",
      "+---------+\n",
      "|Cancelled|\n",
      "|Logged In|\n",
      "+---------+\n",
      "\n"
     ]
    }
   ],
   "source": [
    "event_data_clean.select('auth').dropDuplicates().show()"
   ]
  },
  {
   "cell_type": "markdown",
   "metadata": {},
   "source": [
    "*Note that before removing the empty values (dropna function), we had two additional values for the auth feature: Guest and Logged Out.*\n",
    "*It makes sense that those states are associated with an unknown userId, and that therefore we do not have any row with this auth values in the cleaned dataset.*"
   ]
  },
  {
   "cell_type": "code",
   "execution_count": 30,
   "metadata": {},
   "outputs": [
    {
     "name": "stdout",
     "output_type": "stream",
     "text": [
      "+------+----+---------+------+-------------+--------+------+-----+--------+------+----+------------+---------+----+------+---+---------+------+-------+--------+------+-------+----------+\n",
      "|artist|auth|firstName|gender|itemInSession|lastName|length|level|location|method|page|registration|sessionId|song|status| ts|userAgent|userId|ts_year|ts_month|ts_day|ts_hour|ts_weekday|\n",
      "+------+----+---------+------+-------------+--------+------+-----+--------+------+----+------------+---------+----+------+---+---------+------+-------+--------+------+-------+----------+\n",
      "+------+----+---------+------+-------------+--------+------+-----+--------+------+----+------------+---------+----+------+---+---------+------+-------+--------+------+-------+----------+\n",
      "\n"
     ]
    }
   ],
   "source": [
    "event_data_clean.filter((event_data_clean['auth']=='Cancelled')&(event_data_clean['page']!='Cancellation Confirmation')).show()\n"
   ]
  },
  {
   "cell_type": "markdown",
   "metadata": {},
   "source": [
    "Great! It seems like we have a direct relationship between auth = \"Cancelled\" and page = \"Cancellation Confirmation\".\n",
    "So we can use either one to define churn. \n",
    "\n",
    "Let's stick to the page value (Cancellation Confirmation) as we are sure it indicates the action of the user to cancel the service. \n",
    "\n",
    "Now let's take a look at the Downgrade event, for users who go from a paid service to a free service."
   ]
  },
  {
   "cell_type": "code",
   "execution_count": 31,
   "metadata": {},
   "outputs": [
    {
     "data": {
      "text/plain": [
       "[Row(userId='30', ts=1538995016000, page='NextSong', level='paid', song='Horseshoes and Hand Grenades'),\n",
       " Row(userId='30', ts=1538995447000, page='NextSong', level='paid', song='Jamaica Roots II(Agora E Sempre)'),\n",
       " Row(userId='30', ts=1538995453000, page='Downgrade', level='paid', song=None),\n",
       " Row(userId='30', ts=1538995454000, page='Submit Downgrade', level='paid', song=None),\n",
       " Row(userId='30', ts=1538995509000, page='Home', level='free', song=None),\n",
       " Row(userId='30', ts=1538995657000, page='NextSong', level='free', song='Crimewave (Crystal Castles vs Health)'),\n",
       " Row(userId='30', ts=1538995915000, page='NextSong', level='free', song='Hey (Album Version)')]"
      ]
     },
     "execution_count": 31,
     "metadata": {},
     "output_type": "execute_result"
    }
   ],
   "source": [
    "event_data_clean.select(['userId', 'ts', 'page', 'level', 'song']).where((event_data_clean['userId']=='30')\n",
    "                                                                         &(event_data_clean['ts']>1538994832000)\n",
    "                                                                         &(event_data_clean['ts']<1538996254000)).collect()\n",
    "\n"
   ]
  },
  {
   "cell_type": "markdown",
   "metadata": {},
   "source": [
    "We see that from the moment a user goes to the page \"Submit Downgrade\", his/her level goes from paid to free."
   ]
  },
  {
   "cell_type": "markdown",
   "metadata": {},
   "source": [
    "Now let's add columns to our dataset as to visualise when a user churn_service (i.e cancelled the subscription), and when a user churn_paid (i.e downgraded from paid to free service). We can use these two statuses later on to predict whether a user is at risk to leave Sparkify, or to downgrade his/her subscription. "
   ]
  },
  {
   "cell_type": "code",
   "execution_count": 32,
   "metadata": {},
   "outputs": [],
   "source": [
    "# we create a flag for each special event\n",
    "flag_downgrade_event = udf(lambda x: 1 if x == 'Submit Downgrade' else 0, IntegerType())\n",
    "flag_cancel_event = udf(lambda x: 1 if x == 'Cancellation Confirmation' else 0, IntegerType())\n",
    "\n",
    "# we create a new column with the value of the flag\n",
    "# create a new column for the downgraded event\n",
    "event_data_clean = event_data_clean.withColumn(\"downgraded\", flag_downgrade_event(\"page\"))\n",
    "# create a new column for the cancel event\n",
    "event_data_clean = event_data_clean.withColumn(\"cancelled\", flag_cancel_event(\"page\"))\n"
   ]
  },
  {
   "cell_type": "code",
   "execution_count": 33,
   "metadata": {},
   "outputs": [
    {
     "data": {
      "text/plain": [
       "[Row(userId='30', ts=1538995016000, page='NextSong', level='paid', downgraded=0, cancelled=0),\n",
       " Row(userId='30', ts=1538995447000, page='NextSong', level='paid', downgraded=0, cancelled=0),\n",
       " Row(userId='30', ts=1538995453000, page='Downgrade', level='paid', downgraded=0, cancelled=0),\n",
       " Row(userId='30', ts=1538995454000, page='Submit Downgrade', level='paid', downgraded=1, cancelled=0),\n",
       " Row(userId='30', ts=1538995509000, page='Home', level='free', downgraded=0, cancelled=0),\n",
       " Row(userId='30', ts=1538995657000, page='NextSong', level='free', downgraded=0, cancelled=0),\n",
       " Row(userId='30', ts=1538995915000, page='NextSong', level='free', downgraded=0, cancelled=0)]"
      ]
     },
     "execution_count": 33,
     "metadata": {},
     "output_type": "execute_result"
    }
   ],
   "source": [
    "# we verify that the flag is properly set in the downgraded column\n",
    "event_data_clean.select(['userId', 'ts', 'page', 'level', 'downgraded', 'cancelled']).where((event_data_clean['userId']=='30')\n",
    "                                                                         &(event_data_clean['ts']>1538994832000)\n",
    "                                                                         &(event_data_clean['ts']<1538996254000)).collect()\n",
    "\n"
   ]
  },
  {
   "cell_type": "code",
   "execution_count": 34,
   "metadata": {
    "scrolled": true
   },
   "outputs": [
    {
     "data": {
      "text/plain": [
       "[Row(userId='100011', ts=1538414422000, page='Home', level='free', downgraded=0, cancelled=0),\n",
       " Row(userId='100011', ts=1538414456000, page='NextSong', level='free', downgraded=0, cancelled=0),\n",
       " Row(userId='100011', ts=1538414463000, page='Home', level='free', downgraded=0, cancelled=0),\n",
       " Row(userId='100011', ts=1538414867000, page='NextSong', level='free', downgraded=0, cancelled=0),\n",
       " Row(userId='100011', ts=1538414867000, page='Roll Advert', level='free', downgraded=0, cancelled=0),\n",
       " Row(userId='100011', ts=1538415056000, page='NextSong', level='free', downgraded=0, cancelled=0),\n",
       " Row(userId='100011', ts=1538415104000, page='Home', level='free', downgraded=0, cancelled=0),\n",
       " Row(userId='100011', ts=1538415285000, page='NextSong', level='free', downgraded=0, cancelled=0),\n",
       " Row(userId='100011', ts=1538415557000, page='NextSong', level='free', downgraded=0, cancelled=0),\n",
       " Row(userId='100011', ts=1538415581000, page='Roll Advert', level='free', downgraded=0, cancelled=0),\n",
       " Row(userId='100011', ts=1538415909000, page='NextSong', level='free', downgraded=0, cancelled=0),\n",
       " Row(userId='100011', ts=1538415928000, page='Add to Playlist', level='free', downgraded=0, cancelled=0),\n",
       " Row(userId='100011', ts=1538416150000, page='NextSong', level='free', downgraded=0, cancelled=0),\n",
       " Row(userId='100011', ts=1538416415000, page='NextSong', level='free', downgraded=0, cancelled=0),\n",
       " Row(userId='100011', ts=1538416419000, page='Add to Playlist', level='free', downgraded=0, cancelled=0),\n",
       " Row(userId='100011', ts=1538416667000, page='NextSong', level='free', downgraded=0, cancelled=0),\n",
       " Row(userId='100011', ts=1538416874000, page='NextSong', level='free', downgraded=0, cancelled=0),\n",
       " Row(userId='100011', ts=1538416875000, page='Settings', level='free', downgraded=0, cancelled=0),\n",
       " Row(userId='100011', ts=1538416899000, page='Home', level='free', downgraded=0, cancelled=0),\n",
       " Row(userId='100011', ts=1538417062000, page='NextSong', level='free', downgraded=0, cancelled=0),\n",
       " Row(userId='100011', ts=1538417063000, page='Thumbs Down', level='free', downgraded=0, cancelled=0),\n",
       " Row(userId='100011', ts=1538417064000, page='Cancel', level='free', downgraded=0, cancelled=0),\n",
       " Row(userId='100011', ts=1538417085000, page='Cancellation Confirmation', level='free', downgraded=0, cancelled=1)]"
      ]
     },
     "execution_count": 34,
     "metadata": {},
     "output_type": "execute_result"
    }
   ],
   "source": [
    "# we verify that the flag is properly set in the cancelled column\n",
    "event_data_clean.select(['userId', 'ts', 'page', 'level', 'downgraded', 'cancelled']).where((event_data_clean['userId']=='100011')).collect()\n"
   ]
  },
  {
   "cell_type": "code",
   "execution_count": 35,
   "metadata": {},
   "outputs": [],
   "source": [
    "# we create a phase column to distinguish the change of status in both cases (i.e we identify the moment of switch)\n",
    "#group by userID, order desc by timesstamp, take all preceeding rows\n",
    "windowval = Window.partitionBy(\"userId\").orderBy(desc(\"ts\")).rangeBetween(Window.unboundedPreceding, 0)\n",
    "event_data_clean = event_data_clean.withColumn(\"phase_downgrade\", Fsum(\"downgraded\").over(windowval))\n",
    "event_data_clean = event_data_clean.withColumn(\"phase_cancel\", Fsum(\"cancelled\").over(windowval))\n"
   ]
  },
  {
   "cell_type": "code",
   "execution_count": 36,
   "metadata": {},
   "outputs": [
    {
     "data": {
      "text/plain": [
       "[Row(userId='30', ts=1538995915000, page='NextSong', level='free', downgraded=0, phase_downgrade=0),\n",
       " Row(userId='30', ts=1538995657000, page='NextSong', level='free', downgraded=0, phase_downgrade=0),\n",
       " Row(userId='30', ts=1538995509000, page='Home', level='free', downgraded=0, phase_downgrade=0),\n",
       " Row(userId='30', ts=1538995454000, page='Submit Downgrade', level='paid', downgraded=1, phase_downgrade=1),\n",
       " Row(userId='30', ts=1538995453000, page='Downgrade', level='paid', downgraded=0, phase_downgrade=1),\n",
       " Row(userId='30', ts=1538995447000, page='NextSong', level='paid', downgraded=0, phase_downgrade=1),\n",
       " Row(userId='30', ts=1538995016000, page='NextSong', level='paid', downgraded=0, phase_downgrade=1)]"
      ]
     },
     "execution_count": 36,
     "metadata": {},
     "output_type": "execute_result"
    }
   ],
   "source": [
    "# we verify that the phase is properly set in the downgraded column\n",
    "event_data_clean.select(['userId', 'ts', 'page', 'level', 'downgraded', 'phase_downgrade']).where((event_data_clean['userId']=='30')\n",
    "                                                                         &(event_data_clean['ts']>1538994832000)\n",
    "                                                                         &(event_data_clean['ts']<1538996254000)).collect()\n",
    "\n"
   ]
  },
  {
   "cell_type": "code",
   "execution_count": 37,
   "metadata": {
    "scrolled": true
   },
   "outputs": [
    {
     "data": {
      "text/plain": [
       "[Row(userId='100011', ts=1538417085000, page='Cancellation Confirmation', level='free', cancelled=1, phase_cancel=1),\n",
       " Row(userId='100011', ts=1538417064000, page='Cancel', level='free', cancelled=0, phase_cancel=1),\n",
       " Row(userId='100011', ts=1538417063000, page='Thumbs Down', level='free', cancelled=0, phase_cancel=1),\n",
       " Row(userId='100011', ts=1538417062000, page='NextSong', level='free', cancelled=0, phase_cancel=1),\n",
       " Row(userId='100011', ts=1538416899000, page='Home', level='free', cancelled=0, phase_cancel=1),\n",
       " Row(userId='100011', ts=1538416875000, page='Settings', level='free', cancelled=0, phase_cancel=1),\n",
       " Row(userId='100011', ts=1538416874000, page='NextSong', level='free', cancelled=0, phase_cancel=1),\n",
       " Row(userId='100011', ts=1538416667000, page='NextSong', level='free', cancelled=0, phase_cancel=1),\n",
       " Row(userId='100011', ts=1538416419000, page='Add to Playlist', level='free', cancelled=0, phase_cancel=1),\n",
       " Row(userId='100011', ts=1538416415000, page='NextSong', level='free', cancelled=0, phase_cancel=1),\n",
       " Row(userId='100011', ts=1538416150000, page='NextSong', level='free', cancelled=0, phase_cancel=1),\n",
       " Row(userId='100011', ts=1538415928000, page='Add to Playlist', level='free', cancelled=0, phase_cancel=1),\n",
       " Row(userId='100011', ts=1538415909000, page='NextSong', level='free', cancelled=0, phase_cancel=1),\n",
       " Row(userId='100011', ts=1538415581000, page='Roll Advert', level='free', cancelled=0, phase_cancel=1),\n",
       " Row(userId='100011', ts=1538415557000, page='NextSong', level='free', cancelled=0, phase_cancel=1),\n",
       " Row(userId='100011', ts=1538415285000, page='NextSong', level='free', cancelled=0, phase_cancel=1),\n",
       " Row(userId='100011', ts=1538415104000, page='Home', level='free', cancelled=0, phase_cancel=1),\n",
       " Row(userId='100011', ts=1538415056000, page='NextSong', level='free', cancelled=0, phase_cancel=1),\n",
       " Row(userId='100011', ts=1538414867000, page='NextSong', level='free', cancelled=0, phase_cancel=1),\n",
       " Row(userId='100011', ts=1538414867000, page='Roll Advert', level='free', cancelled=0, phase_cancel=1),\n",
       " Row(userId='100011', ts=1538414463000, page='Home', level='free', cancelled=0, phase_cancel=1),\n",
       " Row(userId='100011', ts=1538414456000, page='NextSong', level='free', cancelled=0, phase_cancel=1),\n",
       " Row(userId='100011', ts=1538414422000, page='Home', level='free', cancelled=0, phase_cancel=1)]"
      ]
     },
     "execution_count": 37,
     "metadata": {},
     "output_type": "execute_result"
    }
   ],
   "source": [
    "# we verify that the phase is properly set in the cancelled column\n",
    "event_data_clean.select(['userId', 'ts', 'page', 'level', 'cancelled', 'phase_cancel']).where((event_data_clean['userId']=='100011')).collect()\n"
   ]
  },
  {
   "cell_type": "code",
   "execution_count": 38,
   "metadata": {},
   "outputs": [],
   "source": [
    "# based on the two columns (event and phase) for each case, we add a label to each user\n",
    "\n",
    "event_data_churn = event_data_clean.withColumn(\"churn_paid\", Fmax('downgraded').over(Window.partitionBy(\"userId\")))\n",
    "event_data_churn = event_data_churn.withColumn(\"churn_service\", Fmax('cancelled').over(Window.partitionBy(\"userId\")))\n"
   ]
  },
  {
   "cell_type": "code",
   "execution_count": 39,
   "metadata": {},
   "outputs": [
    {
     "name": "stdout",
     "output_type": "stream",
     "text": [
      "+------+-------------+----------------+-----+----------+---------------+----------+\n",
      "|userId|           ts|            page|level|downgraded|phase_downgrade|churn_paid|\n",
      "+------+-------------+----------------+-----+----------+---------------+----------+\n",
      "|    30|1538995915000|        NextSong| free|         0|              0|         1|\n",
      "|    30|1538995657000|        NextSong| free|         0|              0|         1|\n",
      "|    30|1538995509000|            Home| free|         0|              0|         1|\n",
      "|    30|1538995454000|Submit Downgrade| paid|         1|              1|         1|\n",
      "|    30|1538995453000|       Downgrade| paid|         0|              1|         1|\n",
      "|    30|1538995447000|        NextSong| paid|         0|              1|         1|\n",
      "|    30|1538995016000|        NextSong| paid|         0|              1|         1|\n",
      "+------+-------------+----------------+-----+----------+---------------+----------+\n",
      "\n"
     ]
    }
   ],
   "source": [
    "# example of a user who churned paid (i.e downgraded the subscription)\n",
    "# churn_paid = 1\n",
    "event_data_churn.select(['userId', 'ts', 'page', 'level', 'downgraded', 'phase_downgrade', 'churn_paid']).where((event_data_churn['userId']=='30')\n",
    "                                                                         &(event_data_churn['ts']>1538994832000)\n",
    "                                                                         &(event_data_churn['ts']<1538996254000)).show(10)\n",
    "\n",
    "\n"
   ]
  },
  {
   "cell_type": "code",
   "execution_count": 40,
   "metadata": {},
   "outputs": [
    {
     "name": "stdout",
     "output_type": "stream",
     "text": [
      "+------+-------------+--------------------+-----+----------+---------------+----------+\n",
      "|userId|           ts|                page|level|downgraded|phase_downgrade|churn_paid|\n",
      "+------+-------------+--------------------+-----+----------+---------------+----------+\n",
      "|    32|1539033046000|Cancellation Conf...| paid|         0|              0|         0|\n",
      "|    32|1539033031000|              Cancel| paid|         0|              0|         0|\n",
      "|    32|1539033030000|           Downgrade| paid|         0|              0|         0|\n",
      "|    32|1539032978000|            NextSong| paid|         0|              0|         0|\n",
      "|    32|1539032741000|            NextSong| paid|         0|              0|         0|\n",
      "|    32|1539032608000|            NextSong| paid|         0|              0|         0|\n",
      "|    32|1539032235000|            NextSong| paid|         0|              0|         0|\n",
      "|    32|1539031887000|            NextSong| paid|         0|              0|         0|\n",
      "|    32|1539031661000|            NextSong| paid|         0|              0|         0|\n",
      "|    32|1539031426000|            NextSong| paid|         0|              0|         0|\n",
      "+------+-------------+--------------------+-----+----------+---------------+----------+\n",
      "only showing top 10 rows\n",
      "\n"
     ]
    }
   ],
   "source": [
    "event_data_churn.select(['userId', 'ts', 'page', 'level', 'downgraded', 'phase_downgrade', 'churn_paid']).where((event_data_churn['userId']=='32')).show(10)\n"
   ]
  },
  {
   "cell_type": "code",
   "execution_count": 41,
   "metadata": {},
   "outputs": [
    {
     "name": "stdout",
     "output_type": "stream",
     "text": [
      "+------+-------------+--------------------+-----+---------+------------+-------------+\n",
      "|userId|           ts|                page|level|cancelled|phase_cancel|churn_service|\n",
      "+------+-------------+--------------------+-----+---------+------------+-------------+\n",
      "|100011|1538417085000|Cancellation Conf...| free|        1|           1|            1|\n",
      "|100011|1538417064000|              Cancel| free|        0|           1|            1|\n",
      "|100011|1538417063000|         Thumbs Down| free|        0|           1|            1|\n",
      "|100011|1538417062000|            NextSong| free|        0|           1|            1|\n",
      "|100011|1538416899000|                Home| free|        0|           1|            1|\n",
      "|100011|1538416875000|            Settings| free|        0|           1|            1|\n",
      "|100011|1538416874000|            NextSong| free|        0|           1|            1|\n",
      "|100011|1538416667000|            NextSong| free|        0|           1|            1|\n",
      "|100011|1538416419000|     Add to Playlist| free|        0|           1|            1|\n",
      "|100011|1538416415000|            NextSong| free|        0|           1|            1|\n",
      "+------+-------------+--------------------+-----+---------+------------+-------------+\n",
      "only showing top 10 rows\n",
      "\n"
     ]
    }
   ],
   "source": [
    "# example of a user who churned service (i.e left the platform)\n",
    "# churn_service = 1\n",
    "event_data_churn.select(['userId', 'ts', 'page', 'level', 'cancelled', 'phase_cancel', 'churn_service']).where((event_data_churn['userId']=='100011')).show(10)\n"
   ]
  },
  {
   "cell_type": "code",
   "execution_count": 42,
   "metadata": {},
   "outputs": [
    {
     "name": "stdout",
     "output_type": "stream",
     "text": [
      "+------+-------------+-----------+-----+---------+------------+-------------+\n",
      "|userId|           ts|       page|level|cancelled|phase_cancel|churn_service|\n",
      "+------+-------------+-----------+-----+---------+------------+-------------+\n",
      "|100010|1542823952000|     Logout| free|        0|           0|            0|\n",
      "|100010|1542823951000|   NextSong| free|        0|           0|            0|\n",
      "|100010|1542823682000|   NextSong| free|        0|           0|            0|\n",
      "|100010|1542823567000|   NextSong| free|        0|           0|            0|\n",
      "|100010|1542823257000|Roll Advert| free|        0|           0|            0|\n",
      "|100010|1542823248000|   NextSong| free|        0|           0|            0|\n",
      "|100010|1542822946000|   NextSong| free|        0|           0|            0|\n",
      "|100010|1542822641000|   NextSong| free|        0|           0|            0|\n",
      "|100010|1542822434000|   NextSong| free|        0|           0|            0|\n",
      "|100010|1542822170000|   NextSong| free|        0|           0|            0|\n",
      "+------+-------------+-----------+-----+---------+------------+-------------+\n",
      "only showing top 10 rows\n",
      "\n"
     ]
    }
   ],
   "source": [
    "# example of a user who did not churn service\n",
    "# churn_service = 0\n",
    "event_data_churn.select(['userId', 'ts', 'page', 'level', 'cancelled', 'phase_cancel', 'churn_service']).where((event_data_churn['userId']=='100010')).show(10)\n"
   ]
  },
  {
   "cell_type": "markdown",
   "metadata": {},
   "source": [
    "Let's refactor this step into a function, and apply it to our initial dataset."
   ]
  },
  {
   "cell_type": "code",
   "execution_count": 43,
   "metadata": {},
   "outputs": [],
   "source": [
    "def set_churn_label(df, churn_event):\n",
    "    if churn_event == 'downgrade':\n",
    "        flag_event_name = \"Submit Downgrade\"\n",
    "        flag_col_name = \"downgraded\"\n",
    "        phase_col_name = \"phase_downgrade\"\n",
    "        label_col_name = \"churn_paid\"\n",
    "    else:\n",
    "        flag_event_name = \"Cancellation Confirmation\"\n",
    "        flag_col_name = \"cancelled\"\n",
    "        phase_col_name = \"phase_cancel\"\n",
    "        label_col_name = \"churn_service\"        \n",
    "    \n",
    "    \n",
    "    # we create a flag for the special event\n",
    "    flag_event = udf(lambda x: 1 if x == flag_event_name else 0, IntegerType())\n",
    "    \n",
    "    # we create a new column with the value of the flag\n",
    "    df_event = df.withColumn(flag_col_name, flag_event(\"page\"))\n",
    "    \n",
    "    # we create a phase column to distinguish the change of status\n",
    "    #group by userID, order desc by timesstamp, take all preceeding rows\n",
    "    windowval = Window.partitionBy(\"userId\").orderBy(desc(\"ts\")).rangeBetween(Window.unboundedPreceding, 0)\n",
    "    df_phase = df_event.withColumn(phase_col_name, Fsum(flag_col_name).over(windowval))\n",
    "    \n",
    "    # we add a churn label to each user\n",
    "    df_churn = df_phase.withColumn(label_col_name, Fmax(flag_col_name).over(Window.partitionBy(\"userId\")))\n",
    "    \n",
    "    return df_churn\n",
    "    "
   ]
  },
  {
   "cell_type": "code",
   "execution_count": 44,
   "metadata": {},
   "outputs": [],
   "source": [
    "event_data_churn = set_churn_label(event_data_clean, 'downgrade')\n",
    "event_data_churn = set_churn_label(event_data_churn, 'cancel')"
   ]
  },
  {
   "cell_type": "code",
   "execution_count": 45,
   "metadata": {},
   "outputs": [
    {
     "name": "stdout",
     "output_type": "stream",
     "text": [
      "+------+--------------+-----+---------+------------+-------------+----------+---------------+----------+\n",
      "|userId|          page|level|cancelled|phase_cancel|churn_service|downgraded|phase_downgrade|churn_paid|\n",
      "+------+--------------+-----+---------+------------+-------------+----------+---------------+----------+\n",
      "|100012|        Logout| free|        0|           1|            1|         0|              0|         1|\n",
      "|100021|          Home| free|        0|           1|            1|         0|              0|         0|\n",
      "|   129| Save Settings| paid|        0|           1|            1|         0|              0|         0|\n",
      "|   141|    Add Friend| free|        0|           0|            0|         0|              0|         1|\n",
      "|   152|Submit Upgrade| free|        0|           0|            0|         0|              0|         0|\n",
      "|    24| Save Settings| free|        0|           0|            0|         0|              0|         1|\n",
      "|    25|    Add Friend| paid|        0|           0|            0|         0|              1|         1|\n",
      "|    25|        Logout| paid|        0|           0|            0|         0|              1|         1|\n",
      "|    25|   Thumbs Down| free|        0|           0|            0|         0|              0|         1|\n",
      "|300014|      Settings| paid|        0|           0|            0|         0|              0|         0|\n",
      "|300015|        Logout| paid|        0|           0|            0|         0|              1|         1|\n",
      "|300020|   Thumbs Down| paid|        0|           0|            0|         0|              0|         0|\n",
      "|    59|          Help| paid|        0|           0|            0|         0|              0|         1|\n",
      "|    70|     Downgrade| paid|        0|           1|            1|         0|              0|         0|\n",
      "|   100|      NextSong| free|        0|           0|            0|         0|              0|         1|\n",
      "|100023|         About| free|        0|           1|            1|         0|              0|         0|\n",
      "|   134|   Roll Advert| free|        0|           0|            0|         0|              0|         0|\n",
      "|   136|   Roll Advert| free|        0|           0|            0|         0|              0|         0|\n",
      "|   137|          Home| free|        0|           0|            0|         0|              0|         0|\n",
      "|   145|      NextSong| paid|        0|           0|            0|         0|              0|         0|\n",
      "+------+--------------+-----+---------+------------+-------------+----------+---------------+----------+\n",
      "only showing top 20 rows\n",
      "\n"
     ]
    }
   ],
   "source": [
    "event_data_churn.select(['userId', 'page', 'level', 'cancelled', 'phase_cancel', 'churn_service', 'downgraded', 'phase_downgrade', 'churn_paid']).orderBy(['userId', 'ts']).dropDuplicates().show(20)\n",
    "\n"
   ]
  },
  {
   "cell_type": "markdown",
   "metadata": {},
   "source": [
    "Just to have an idea of the proportion, how many users did cancel the service, and how many did downgrade in the period we are looking at?\n"
   ]
  },
  {
   "cell_type": "code",
   "execution_count": 46,
   "metadata": {},
   "outputs": [],
   "source": [
    "# Total number of users in this dataset\n",
    "n_users = event_data_churn.select(['userId']).dropDuplicates().count()"
   ]
  },
  {
   "cell_type": "code",
   "execution_count": 47,
   "metadata": {},
   "outputs": [
    {
     "name": "stdout",
     "output_type": "stream",
     "text": [
      "52 users unsubscribed from the service in the period considered.\n",
      "Percentage of users who downgraded: 23.11%.\n"
     ]
    }
   ],
   "source": [
    "churn_service = event_data_churn.select('userId').where(event_data_churn['churn_service']==1).dropDuplicates().count()\n",
    "print('{} users unsubscribed from the service in the period considered.'.format(churn_service))\n",
    "print('Percentage of users who downgraded: {:.2f}%.'.format(churn_service/n_users*100))\n"
   ]
  },
  {
   "cell_type": "code",
   "execution_count": 48,
   "metadata": {},
   "outputs": [
    {
     "name": "stdout",
     "output_type": "stream",
     "text": [
      "49 users downgraded from paid to free service in the period considered.\n",
      "Percentage of users who downgraded: 21.78%.\n"
     ]
    }
   ],
   "source": [
    "churn_paid = event_data_churn.select('userId').where(event_data_churn['churn_paid']==1).dropDuplicates().count()\n",
    "print('{} users downgraded from paid to free service in the period considered.'.format(churn_paid))\n",
    "print('Percentage of users who downgraded: {:.2f}%.'.format(churn_paid/n_users*100))\n"
   ]
  },
  {
   "cell_type": "code",
   "execution_count": 49,
   "metadata": {},
   "outputs": [
    {
     "name": "stdout",
     "output_type": "stream",
     "text": [
      "The following users downgraded from paid to free, and then cancelled the service in the period considered:\n",
      "+------+\n",
      "|userId|\n",
      "+------+\n",
      "|    54|\n",
      "|100025|\n",
      "|100009|\n",
      "|100015|\n",
      "|   103|\n",
      "|100012|\n",
      "|200020|\n",
      "|200011|\n",
      "|    12|\n",
      "+------+\n",
      "\n"
     ]
    }
   ],
   "source": [
    "print('The following users downgraded from paid to free, and then cancelled the service in the period considered:')\n",
    "event_data_churn.select('userId').where((event_data_churn['churn_paid']==1)&(event_data_churn['churn_service']==1)).dropDuplicates().show()\n",
    "\n"
   ]
  },
  {
   "cell_type": "code",
   "execution_count": 50,
   "metadata": {},
   "outputs": [
    {
     "data": {
      "text/plain": [
       "[Row(userId='54', level='paid', page='Cancellation Confirmation'),\n",
       " Row(userId='54', level='paid', page='Cancel'),\n",
       " Row(userId='54', level='free', page='Submit Upgrade'),\n",
       " Row(userId='54', level='free', page='Upgrade'),\n",
       " Row(userId='54', level='free', page='Save Settings'),\n",
       " Row(userId='54', level='free', page='Help'),\n",
       " Row(userId='54', level='free', page='Settings'),\n",
       " Row(userId='54', level='free', page='Add Friend'),\n",
       " Row(userId='54', level='free', page='Add to Playlist'),\n",
       " Row(userId='54', level='free', page='Thumbs Down'),\n",
       " Row(userId='54', level='free', page='Logout'),\n",
       " Row(userId='54', level='free', page='Thumbs Up'),\n",
       " Row(userId='54', level='free', page='About'),\n",
       " Row(userId='54', level='free', page='Roll Advert'),\n",
       " Row(userId='54', level='free', page='NextSong'),\n",
       " Row(userId='54', level='free', page='Home'),\n",
       " Row(userId='54', level='paid', page='Submit Downgrade'),\n",
       " Row(userId='54', level='paid', page='Save Settings'),\n",
       " Row(userId='54', level='paid', page='Error'),\n",
       " Row(userId='54', level='paid', page='Settings'),\n",
       " Row(userId='54', level='paid', page='About'),\n",
       " Row(userId='54', level='paid', page='Thumbs Down'),\n",
       " Row(userId='54', level='paid', page='Roll Advert'),\n",
       " Row(userId='54', level='paid', page='Help'),\n",
       " Row(userId='54', level='paid', page='Logout'),\n",
       " Row(userId='54', level='paid', page='Add to Playlist'),\n",
       " Row(userId='54', level='paid', page='Home'),\n",
       " Row(userId='54', level='paid', page='Add Friend'),\n",
       " Row(userId='54', level='paid', page='Thumbs Up'),\n",
       " Row(userId='54', level='paid', page='Downgrade'),\n",
       " Row(userId='54', level='paid', page='NextSong')]"
      ]
     },
     "execution_count": 50,
     "metadata": {},
     "output_type": "execute_result"
    }
   ],
   "source": [
    "#Let's look at one of these users, for example user 54\n",
    "event_data_churn.select(['userId', 'level', 'page']).where((event_data_churn['userId']=='54')).dropDuplicates().sort(desc('ts')).collect()\n",
    "\n",
    "# This user downgraded, from paid to free, then upgraded again, and then cancelled the service. \n"
   ]
  },
  {
   "cell_type": "markdown",
   "metadata": {},
   "source": [
    "Note that these last set of users is counted twice - as churn_service and churn_paid users."
   ]
  },
  {
   "cell_type": "markdown",
   "metadata": {},
   "source": [
    "**Explore Data**\n",
    "\n",
    "Let's recap quickly where we are right now....\n",
    "1. we have a cleaned dataset, without any unknown userId\n",
    "2. the ts column was splitted into multiple columns to segment time into year, month, day, weekday and hour\n",
    "3. we defined two states of churn: either leaving the service (churn_service) or downgrading from paid to free service (churn_paid). These two can be analysed separately, knowing that for 9 users we observed both a downgrade and an unsubscription in the period of time we are looking at. \n",
    "\n",
    "In the rest of this notebook we are going to conduct the analysis of the two situations simultaneously, but independently. In this case, the users who first downgraded then left the service are going to be considered twice: we want to catch them before they downgrade (downgrade prediction) but if we fail and they downgrade anyway, we want to catch them before they cancel the service (cancellation prediction). The events are considered independent.\n",
    "Besides, when comparing users who churned vs active users, in the case of a **downgrade** we compare with **active users with a paid level**!\n",
    "\n",
    "*Note: we have too little data to determine whether downgrading can have an impact on cancelling the service, i.e whether knowing if a user downgraded can be used as a feature to predict his/her cancellation of the service. But this is definitely a direction to explore!*\n",
    "\n",
    "It is now time to observe what are the behaviors of the users who churned, versus those who did not!\n",
    "Let's explore a few directions:\n",
    "- impact of the gender\n",
    "- impact of the level (paid/free) of the user\n",
    "- impact of the location of the user\n",
    "- impact of the average number of songs listened to, artists, repeats, partial listening\n",
    "- impact of the average listening time per day\n",
    "- impact of the time of the activity (count of actions): \n",
    "    - time of the day,\n",
    "    - day of the week, \n",
    "    - day of the month,\n",
    "    - month of the year\n",
    "- impact of the moment the user joined (month, day of the week, day of the month)\n",
    "\n",
    "*Note that we are using plotly to render the graphs, and we must convert the dataframe to a pandas dataframe in order to render the plot.*"
   ]
  },
  {
   "cell_type": "markdown",
   "metadata": {},
   "source": [
    "*Impact of the gender*"
   ]
  },
  {
   "cell_type": "code",
   "execution_count": 220,
   "metadata": {},
   "outputs": [],
   "source": [
    "gender_no_churn = event_data_churn.select(['userId', 'gender', 'level']).where((event_data_churn['churn_paid']==0)&(event_data_churn['churn_service']==0)).dropDuplicates().toPandas()\n",
    "gender_churn_paid = event_data_churn.select(['userId', 'gender']).where((event_data_churn['churn_paid']==1)&(event_data_churn['churn_service']==0)).dropDuplicates().toPandas()\n",
    "gender_churn_service = event_data_churn.select(['userId', 'gender']).where((event_data_churn['churn_paid']==0)&(event_data_churn['churn_service']==1)).dropDuplicates().toPandas()\n"
   ]
  },
  {
   "cell_type": "code",
   "execution_count": 223,
   "metadata": {},
   "outputs": [
    {
     "data": {
      "application/vnd.plotly.v1+json": {
       "config": {
        "plotlyServerURL": "https://plot.ly"
       },
       "data": [
        {
         "marker": {
          "color": "rgb(68, 1, 84)"
         },
         "name": "Cancel churned users",
         "type": "bar",
         "x": [
          "Male",
          "Female"
         ],
         "xaxis": "x",
         "y": [
          28,
          15
         ],
         "yaxis": "y"
        },
        {
         "marker": {
          "color": "rgb(220, 227, 25)"
         },
         "name": "Active users",
         "type": "bar",
         "x": [
          "Male",
          "Female"
         ],
         "xaxis": "x",
         "y": [
          109,
          89
         ],
         "yaxis": "y"
        },
        {
         "marker": {
          "color": "rgb(45, 112, 142)"
         },
         "name": "Downgrade churned users",
         "type": "bar",
         "x": [
          "Male",
          "Female"
         ],
         "xaxis": "x2",
         "y": [
          17,
          23
         ],
         "yaxis": "y2"
        },
        {
         "marker": {
          "color": "rgb(149, 216, 64)"
         },
         "name": "Active paid users",
         "type": "bar",
         "x": [
          "Male",
          "Female"
         ],
         "xaxis": "x2",
         "y": [
          47,
          42
         ],
         "yaxis": "y2"
        }
       ],
       "layout": {
        "annotations": [
         {
          "font": {
           "size": 16
          },
          "showarrow": false,
          "text": "Service cancellation analysis",
          "x": 0.225,
          "xanchor": "center",
          "xref": "paper",
          "y": 1,
          "yanchor": "bottom",
          "yref": "paper"
         },
         {
          "font": {
           "size": 16
          },
          "showarrow": false,
          "text": "Service downgrade analysis",
          "x": 0.775,
          "xanchor": "center",
          "xref": "paper",
          "y": 1,
          "yanchor": "bottom",
          "yref": "paper"
         }
        ],
        "barmode": "group",
        "template": {
         "data": {
          "bar": [
           {
            "error_x": {
             "color": "#2a3f5f"
            },
            "error_y": {
             "color": "#2a3f5f"
            },
            "marker": {
             "line": {
              "color": "#E5ECF6",
              "width": 0.5
             }
            },
            "type": "bar"
           }
          ],
          "barpolar": [
           {
            "marker": {
             "line": {
              "color": "#E5ECF6",
              "width": 0.5
             }
            },
            "type": "barpolar"
           }
          ],
          "carpet": [
           {
            "aaxis": {
             "endlinecolor": "#2a3f5f",
             "gridcolor": "white",
             "linecolor": "white",
             "minorgridcolor": "white",
             "startlinecolor": "#2a3f5f"
            },
            "baxis": {
             "endlinecolor": "#2a3f5f",
             "gridcolor": "white",
             "linecolor": "white",
             "minorgridcolor": "white",
             "startlinecolor": "#2a3f5f"
            },
            "type": "carpet"
           }
          ],
          "choropleth": [
           {
            "colorbar": {
             "outlinewidth": 0,
             "ticks": ""
            },
            "type": "choropleth"
           }
          ],
          "contour": [
           {
            "colorbar": {
             "outlinewidth": 0,
             "ticks": ""
            },
            "colorscale": [
             [
              0,
              "#0d0887"
             ],
             [
              0.1111111111111111,
              "#46039f"
             ],
             [
              0.2222222222222222,
              "#7201a8"
             ],
             [
              0.3333333333333333,
              "#9c179e"
             ],
             [
              0.4444444444444444,
              "#bd3786"
             ],
             [
              0.5555555555555556,
              "#d8576b"
             ],
             [
              0.6666666666666666,
              "#ed7953"
             ],
             [
              0.7777777777777778,
              "#fb9f3a"
             ],
             [
              0.8888888888888888,
              "#fdca26"
             ],
             [
              1,
              "#f0f921"
             ]
            ],
            "type": "contour"
           }
          ],
          "contourcarpet": [
           {
            "colorbar": {
             "outlinewidth": 0,
             "ticks": ""
            },
            "type": "contourcarpet"
           }
          ],
          "heatmap": [
           {
            "colorbar": {
             "outlinewidth": 0,
             "ticks": ""
            },
            "colorscale": [
             [
              0,
              "#0d0887"
             ],
             [
              0.1111111111111111,
              "#46039f"
             ],
             [
              0.2222222222222222,
              "#7201a8"
             ],
             [
              0.3333333333333333,
              "#9c179e"
             ],
             [
              0.4444444444444444,
              "#bd3786"
             ],
             [
              0.5555555555555556,
              "#d8576b"
             ],
             [
              0.6666666666666666,
              "#ed7953"
             ],
             [
              0.7777777777777778,
              "#fb9f3a"
             ],
             [
              0.8888888888888888,
              "#fdca26"
             ],
             [
              1,
              "#f0f921"
             ]
            ],
            "type": "heatmap"
           }
          ],
          "heatmapgl": [
           {
            "colorbar": {
             "outlinewidth": 0,
             "ticks": ""
            },
            "colorscale": [
             [
              0,
              "#0d0887"
             ],
             [
              0.1111111111111111,
              "#46039f"
             ],
             [
              0.2222222222222222,
              "#7201a8"
             ],
             [
              0.3333333333333333,
              "#9c179e"
             ],
             [
              0.4444444444444444,
              "#bd3786"
             ],
             [
              0.5555555555555556,
              "#d8576b"
             ],
             [
              0.6666666666666666,
              "#ed7953"
             ],
             [
              0.7777777777777778,
              "#fb9f3a"
             ],
             [
              0.8888888888888888,
              "#fdca26"
             ],
             [
              1,
              "#f0f921"
             ]
            ],
            "type": "heatmapgl"
           }
          ],
          "histogram": [
           {
            "marker": {
             "colorbar": {
              "outlinewidth": 0,
              "ticks": ""
             }
            },
            "type": "histogram"
           }
          ],
          "histogram2d": [
           {
            "colorbar": {
             "outlinewidth": 0,
             "ticks": ""
            },
            "colorscale": [
             [
              0,
              "#0d0887"
             ],
             [
              0.1111111111111111,
              "#46039f"
             ],
             [
              0.2222222222222222,
              "#7201a8"
             ],
             [
              0.3333333333333333,
              "#9c179e"
             ],
             [
              0.4444444444444444,
              "#bd3786"
             ],
             [
              0.5555555555555556,
              "#d8576b"
             ],
             [
              0.6666666666666666,
              "#ed7953"
             ],
             [
              0.7777777777777778,
              "#fb9f3a"
             ],
             [
              0.8888888888888888,
              "#fdca26"
             ],
             [
              1,
              "#f0f921"
             ]
            ],
            "type": "histogram2d"
           }
          ],
          "histogram2dcontour": [
           {
            "colorbar": {
             "outlinewidth": 0,
             "ticks": ""
            },
            "colorscale": [
             [
              0,
              "#0d0887"
             ],
             [
              0.1111111111111111,
              "#46039f"
             ],
             [
              0.2222222222222222,
              "#7201a8"
             ],
             [
              0.3333333333333333,
              "#9c179e"
             ],
             [
              0.4444444444444444,
              "#bd3786"
             ],
             [
              0.5555555555555556,
              "#d8576b"
             ],
             [
              0.6666666666666666,
              "#ed7953"
             ],
             [
              0.7777777777777778,
              "#fb9f3a"
             ],
             [
              0.8888888888888888,
              "#fdca26"
             ],
             [
              1,
              "#f0f921"
             ]
            ],
            "type": "histogram2dcontour"
           }
          ],
          "mesh3d": [
           {
            "colorbar": {
             "outlinewidth": 0,
             "ticks": ""
            },
            "type": "mesh3d"
           }
          ],
          "parcoords": [
           {
            "line": {
             "colorbar": {
              "outlinewidth": 0,
              "ticks": ""
             }
            },
            "type": "parcoords"
           }
          ],
          "scatter": [
           {
            "marker": {
             "colorbar": {
              "outlinewidth": 0,
              "ticks": ""
             }
            },
            "type": "scatter"
           }
          ],
          "scatter3d": [
           {
            "line": {
             "colorbar": {
              "outlinewidth": 0,
              "ticks": ""
             }
            },
            "marker": {
             "colorbar": {
              "outlinewidth": 0,
              "ticks": ""
             }
            },
            "type": "scatter3d"
           }
          ],
          "scattercarpet": [
           {
            "marker": {
             "colorbar": {
              "outlinewidth": 0,
              "ticks": ""
             }
            },
            "type": "scattercarpet"
           }
          ],
          "scattergeo": [
           {
            "marker": {
             "colorbar": {
              "outlinewidth": 0,
              "ticks": ""
             }
            },
            "type": "scattergeo"
           }
          ],
          "scattergl": [
           {
            "marker": {
             "colorbar": {
              "outlinewidth": 0,
              "ticks": ""
             }
            },
            "type": "scattergl"
           }
          ],
          "scattermapbox": [
           {
            "marker": {
             "colorbar": {
              "outlinewidth": 0,
              "ticks": ""
             }
            },
            "type": "scattermapbox"
           }
          ],
          "scatterpolar": [
           {
            "marker": {
             "colorbar": {
              "outlinewidth": 0,
              "ticks": ""
             }
            },
            "type": "scatterpolar"
           }
          ],
          "scatterpolargl": [
           {
            "marker": {
             "colorbar": {
              "outlinewidth": 0,
              "ticks": ""
             }
            },
            "type": "scatterpolargl"
           }
          ],
          "scatterternary": [
           {
            "marker": {
             "colorbar": {
              "outlinewidth": 0,
              "ticks": ""
             }
            },
            "type": "scatterternary"
           }
          ],
          "surface": [
           {
            "colorbar": {
             "outlinewidth": 0,
             "ticks": ""
            },
            "colorscale": [
             [
              0,
              "#0d0887"
             ],
             [
              0.1111111111111111,
              "#46039f"
             ],
             [
              0.2222222222222222,
              "#7201a8"
             ],
             [
              0.3333333333333333,
              "#9c179e"
             ],
             [
              0.4444444444444444,
              "#bd3786"
             ],
             [
              0.5555555555555556,
              "#d8576b"
             ],
             [
              0.6666666666666666,
              "#ed7953"
             ],
             [
              0.7777777777777778,
              "#fb9f3a"
             ],
             [
              0.8888888888888888,
              "#fdca26"
             ],
             [
              1,
              "#f0f921"
             ]
            ],
            "type": "surface"
           }
          ],
          "table": [
           {
            "cells": {
             "fill": {
              "color": "#EBF0F8"
             },
             "line": {
              "color": "white"
             }
            },
            "header": {
             "fill": {
              "color": "#C8D4E3"
             },
             "line": {
              "color": "white"
             }
            },
            "type": "table"
           }
          ]
         },
         "layout": {
          "annotationdefaults": {
           "arrowcolor": "#2a3f5f",
           "arrowhead": 0,
           "arrowwidth": 1
          },
          "colorscale": {
           "diverging": [
            [
             0,
             "#8e0152"
            ],
            [
             0.1,
             "#c51b7d"
            ],
            [
             0.2,
             "#de77ae"
            ],
            [
             0.3,
             "#f1b6da"
            ],
            [
             0.4,
             "#fde0ef"
            ],
            [
             0.5,
             "#f7f7f7"
            ],
            [
             0.6,
             "#e6f5d0"
            ],
            [
             0.7,
             "#b8e186"
            ],
            [
             0.8,
             "#7fbc41"
            ],
            [
             0.9,
             "#4d9221"
            ],
            [
             1,
             "#276419"
            ]
           ],
           "sequential": [
            [
             0,
             "#0d0887"
            ],
            [
             0.1111111111111111,
             "#46039f"
            ],
            [
             0.2222222222222222,
             "#7201a8"
            ],
            [
             0.3333333333333333,
             "#9c179e"
            ],
            [
             0.4444444444444444,
             "#bd3786"
            ],
            [
             0.5555555555555556,
             "#d8576b"
            ],
            [
             0.6666666666666666,
             "#ed7953"
            ],
            [
             0.7777777777777778,
             "#fb9f3a"
            ],
            [
             0.8888888888888888,
             "#fdca26"
            ],
            [
             1,
             "#f0f921"
            ]
           ],
           "sequentialminus": [
            [
             0,
             "#0d0887"
            ],
            [
             0.1111111111111111,
             "#46039f"
            ],
            [
             0.2222222222222222,
             "#7201a8"
            ],
            [
             0.3333333333333333,
             "#9c179e"
            ],
            [
             0.4444444444444444,
             "#bd3786"
            ],
            [
             0.5555555555555556,
             "#d8576b"
            ],
            [
             0.6666666666666666,
             "#ed7953"
            ],
            [
             0.7777777777777778,
             "#fb9f3a"
            ],
            [
             0.8888888888888888,
             "#fdca26"
            ],
            [
             1,
             "#f0f921"
            ]
           ]
          },
          "colorway": [
           "#636efa",
           "#EF553B",
           "#00cc96",
           "#ab63fa",
           "#FFA15A",
           "#19d3f3",
           "#FF6692",
           "#B6E880",
           "#FF97FF",
           "#FECB52"
          ],
          "font": {
           "color": "#2a3f5f"
          },
          "geo": {
           "bgcolor": "white",
           "lakecolor": "white",
           "landcolor": "#E5ECF6",
           "showlakes": true,
           "showland": true,
           "subunitcolor": "white"
          },
          "hoverlabel": {
           "align": "left"
          },
          "hovermode": "closest",
          "mapbox": {
           "style": "light"
          },
          "paper_bgcolor": "white",
          "plot_bgcolor": "#E5ECF6",
          "polar": {
           "angularaxis": {
            "gridcolor": "white",
            "linecolor": "white",
            "ticks": ""
           },
           "bgcolor": "#E5ECF6",
           "radialaxis": {
            "gridcolor": "white",
            "linecolor": "white",
            "ticks": ""
           }
          },
          "scene": {
           "xaxis": {
            "backgroundcolor": "#E5ECF6",
            "gridcolor": "white",
            "gridwidth": 2,
            "linecolor": "white",
            "showbackground": true,
            "ticks": "",
            "zerolinecolor": "white"
           },
           "yaxis": {
            "backgroundcolor": "#E5ECF6",
            "gridcolor": "white",
            "gridwidth": 2,
            "linecolor": "white",
            "showbackground": true,
            "ticks": "",
            "zerolinecolor": "white"
           },
           "zaxis": {
            "backgroundcolor": "#E5ECF6",
            "gridcolor": "white",
            "gridwidth": 2,
            "linecolor": "white",
            "showbackground": true,
            "ticks": "",
            "zerolinecolor": "white"
           }
          },
          "shapedefaults": {
           "line": {
            "color": "#2a3f5f"
           }
          },
          "ternary": {
           "aaxis": {
            "gridcolor": "white",
            "linecolor": "white",
            "ticks": ""
           },
           "baxis": {
            "gridcolor": "white",
            "linecolor": "white",
            "ticks": ""
           },
           "bgcolor": "#E5ECF6",
           "caxis": {
            "gridcolor": "white",
            "linecolor": "white",
            "ticks": ""
           }
          },
          "title": {
           "x": 0.05
          },
          "xaxis": {
           "automargin": true,
           "gridcolor": "white",
           "linecolor": "white",
           "ticks": "",
           "zerolinecolor": "white",
           "zerolinewidth": 2
          },
          "yaxis": {
           "automargin": true,
           "gridcolor": "white",
           "linecolor": "white",
           "ticks": "",
           "zerolinecolor": "white",
           "zerolinewidth": 2
          }
         }
        },
        "title": {
         "text": "Distribution of active vs churned user per gender"
        },
        "xaxis": {
         "anchor": "y",
         "domain": [
          0,
          0.45
         ],
         "title": {
          "text": "Gender"
         }
        },
        "xaxis2": {
         "anchor": "y2",
         "domain": [
          0.55,
          1
         ],
         "title": {
          "text": "Gender"
         }
        },
        "yaxis": {
         "anchor": "x",
         "domain": [
          0,
          1
         ],
         "title": {
          "text": "Count of users"
         }
        },
        "yaxis2": {
         "anchor": "x2",
         "domain": [
          0,
          1
         ],
         "matches": "y",
         "showticklabels": false
        }
       }
      },
      "text/html": [
       "<div>\n",
       "        \n",
       "        \n",
       "            <div id=\"1036e263-daf6-4120-8fac-fab9ef2addb1\" class=\"plotly-graph-div\" style=\"height:525px; width:100%;\"></div>\n",
       "            <script type=\"text/javascript\">\n",
       "                require([\"plotly\"], function(Plotly) {\n",
       "                    window.PLOTLYENV=window.PLOTLYENV || {};\n",
       "                    \n",
       "                if (document.getElementById(\"1036e263-daf6-4120-8fac-fab9ef2addb1\")) {\n",
       "                    Plotly.newPlot(\n",
       "                        '1036e263-daf6-4120-8fac-fab9ef2addb1',\n",
       "                        [{\"marker\": {\"color\": \"rgb(68, 1, 84)\"}, \"name\": \"Cancel churned users\", \"type\": \"bar\", \"x\": [\"Male\", \"Female\"], \"xaxis\": \"x\", \"y\": [28, 15], \"yaxis\": \"y\"}, {\"marker\": {\"color\": \"rgb(220, 227, 25)\"}, \"name\": \"Active users\", \"type\": \"bar\", \"x\": [\"Male\", \"Female\"], \"xaxis\": \"x\", \"y\": [109, 89], \"yaxis\": \"y\"}, {\"marker\": {\"color\": \"rgb(45, 112, 142)\"}, \"name\": \"Downgrade churned users\", \"type\": \"bar\", \"x\": [\"Male\", \"Female\"], \"xaxis\": \"x2\", \"y\": [17, 23], \"yaxis\": \"y2\"}, {\"marker\": {\"color\": \"rgb(149, 216, 64)\"}, \"name\": \"Active paid users\", \"type\": \"bar\", \"x\": [\"Male\", \"Female\"], \"xaxis\": \"x2\", \"y\": [47, 42], \"yaxis\": \"y2\"}],\n",
       "                        {\"annotations\": [{\"font\": {\"size\": 16}, \"showarrow\": false, \"text\": \"Service cancellation analysis\", \"x\": 0.225, \"xanchor\": \"center\", \"xref\": \"paper\", \"y\": 1.0, \"yanchor\": \"bottom\", \"yref\": \"paper\"}, {\"font\": {\"size\": 16}, \"showarrow\": false, \"text\": \"Service downgrade analysis\", \"x\": 0.775, \"xanchor\": \"center\", \"xref\": \"paper\", \"y\": 1.0, \"yanchor\": \"bottom\", \"yref\": \"paper\"}], \"barmode\": \"group\", \"template\": {\"data\": {\"bar\": [{\"error_x\": {\"color\": \"#2a3f5f\"}, \"error_y\": {\"color\": \"#2a3f5f\"}, \"marker\": {\"line\": {\"color\": \"#E5ECF6\", \"width\": 0.5}}, \"type\": \"bar\"}], \"barpolar\": [{\"marker\": {\"line\": {\"color\": \"#E5ECF6\", \"width\": 0.5}}, \"type\": \"barpolar\"}], \"carpet\": [{\"aaxis\": {\"endlinecolor\": \"#2a3f5f\", \"gridcolor\": \"white\", \"linecolor\": \"white\", \"minorgridcolor\": \"white\", \"startlinecolor\": \"#2a3f5f\"}, \"baxis\": {\"endlinecolor\": \"#2a3f5f\", \"gridcolor\": \"white\", \"linecolor\": \"white\", \"minorgridcolor\": \"white\", \"startlinecolor\": \"#2a3f5f\"}, \"type\": \"carpet\"}], \"choropleth\": [{\"colorbar\": {\"outlinewidth\": 0, \"ticks\": \"\"}, \"type\": \"choropleth\"}], \"contour\": [{\"colorbar\": {\"outlinewidth\": 0, \"ticks\": \"\"}, \"colorscale\": [[0.0, \"#0d0887\"], [0.1111111111111111, \"#46039f\"], [0.2222222222222222, \"#7201a8\"], [0.3333333333333333, \"#9c179e\"], [0.4444444444444444, \"#bd3786\"], [0.5555555555555556, \"#d8576b\"], [0.6666666666666666, \"#ed7953\"], [0.7777777777777778, \"#fb9f3a\"], [0.8888888888888888, \"#fdca26\"], [1.0, \"#f0f921\"]], \"type\": \"contour\"}], \"contourcarpet\": [{\"colorbar\": {\"outlinewidth\": 0, \"ticks\": \"\"}, \"type\": \"contourcarpet\"}], \"heatmap\": [{\"colorbar\": {\"outlinewidth\": 0, \"ticks\": \"\"}, \"colorscale\": [[0.0, \"#0d0887\"], [0.1111111111111111, \"#46039f\"], [0.2222222222222222, \"#7201a8\"], [0.3333333333333333, \"#9c179e\"], [0.4444444444444444, \"#bd3786\"], [0.5555555555555556, \"#d8576b\"], [0.6666666666666666, \"#ed7953\"], [0.7777777777777778, \"#fb9f3a\"], [0.8888888888888888, \"#fdca26\"], [1.0, \"#f0f921\"]], \"type\": \"heatmap\"}], \"heatmapgl\": [{\"colorbar\": {\"outlinewidth\": 0, \"ticks\": \"\"}, \"colorscale\": [[0.0, \"#0d0887\"], [0.1111111111111111, \"#46039f\"], [0.2222222222222222, \"#7201a8\"], [0.3333333333333333, \"#9c179e\"], [0.4444444444444444, \"#bd3786\"], [0.5555555555555556, \"#d8576b\"], [0.6666666666666666, \"#ed7953\"], [0.7777777777777778, \"#fb9f3a\"], [0.8888888888888888, \"#fdca26\"], [1.0, \"#f0f921\"]], \"type\": \"heatmapgl\"}], \"histogram\": [{\"marker\": {\"colorbar\": {\"outlinewidth\": 0, \"ticks\": \"\"}}, \"type\": \"histogram\"}], \"histogram2d\": [{\"colorbar\": {\"outlinewidth\": 0, \"ticks\": \"\"}, \"colorscale\": [[0.0, \"#0d0887\"], [0.1111111111111111, \"#46039f\"], [0.2222222222222222, \"#7201a8\"], [0.3333333333333333, \"#9c179e\"], [0.4444444444444444, \"#bd3786\"], [0.5555555555555556, \"#d8576b\"], [0.6666666666666666, \"#ed7953\"], [0.7777777777777778, \"#fb9f3a\"], [0.8888888888888888, \"#fdca26\"], [1.0, \"#f0f921\"]], \"type\": \"histogram2d\"}], \"histogram2dcontour\": [{\"colorbar\": {\"outlinewidth\": 0, \"ticks\": \"\"}, \"colorscale\": [[0.0, \"#0d0887\"], [0.1111111111111111, \"#46039f\"], [0.2222222222222222, \"#7201a8\"], [0.3333333333333333, \"#9c179e\"], [0.4444444444444444, \"#bd3786\"], [0.5555555555555556, \"#d8576b\"], [0.6666666666666666, \"#ed7953\"], [0.7777777777777778, \"#fb9f3a\"], [0.8888888888888888, \"#fdca26\"], [1.0, \"#f0f921\"]], \"type\": \"histogram2dcontour\"}], \"mesh3d\": [{\"colorbar\": {\"outlinewidth\": 0, \"ticks\": \"\"}, \"type\": \"mesh3d\"}], \"parcoords\": [{\"line\": {\"colorbar\": {\"outlinewidth\": 0, \"ticks\": \"\"}}, \"type\": \"parcoords\"}], \"scatter\": [{\"marker\": {\"colorbar\": {\"outlinewidth\": 0, \"ticks\": \"\"}}, \"type\": \"scatter\"}], \"scatter3d\": [{\"line\": {\"colorbar\": {\"outlinewidth\": 0, \"ticks\": \"\"}}, \"marker\": {\"colorbar\": {\"outlinewidth\": 0, \"ticks\": \"\"}}, \"type\": \"scatter3d\"}], \"scattercarpet\": [{\"marker\": {\"colorbar\": {\"outlinewidth\": 0, \"ticks\": \"\"}}, \"type\": \"scattercarpet\"}], \"scattergeo\": [{\"marker\": {\"colorbar\": {\"outlinewidth\": 0, \"ticks\": \"\"}}, \"type\": \"scattergeo\"}], \"scattergl\": [{\"marker\": {\"colorbar\": {\"outlinewidth\": 0, \"ticks\": \"\"}}, \"type\": \"scattergl\"}], \"scattermapbox\": [{\"marker\": {\"colorbar\": {\"outlinewidth\": 0, \"ticks\": \"\"}}, \"type\": \"scattermapbox\"}], \"scatterpolar\": [{\"marker\": {\"colorbar\": {\"outlinewidth\": 0, \"ticks\": \"\"}}, \"type\": \"scatterpolar\"}], \"scatterpolargl\": [{\"marker\": {\"colorbar\": {\"outlinewidth\": 0, \"ticks\": \"\"}}, \"type\": \"scatterpolargl\"}], \"scatterternary\": [{\"marker\": {\"colorbar\": {\"outlinewidth\": 0, \"ticks\": \"\"}}, \"type\": \"scatterternary\"}], \"surface\": [{\"colorbar\": {\"outlinewidth\": 0, \"ticks\": \"\"}, \"colorscale\": [[0.0, \"#0d0887\"], [0.1111111111111111, \"#46039f\"], [0.2222222222222222, \"#7201a8\"], [0.3333333333333333, \"#9c179e\"], [0.4444444444444444, \"#bd3786\"], [0.5555555555555556, \"#d8576b\"], [0.6666666666666666, \"#ed7953\"], [0.7777777777777778, \"#fb9f3a\"], [0.8888888888888888, \"#fdca26\"], [1.0, \"#f0f921\"]], \"type\": \"surface\"}], \"table\": [{\"cells\": {\"fill\": {\"color\": \"#EBF0F8\"}, \"line\": {\"color\": \"white\"}}, \"header\": {\"fill\": {\"color\": \"#C8D4E3\"}, \"line\": {\"color\": \"white\"}}, \"type\": \"table\"}]}, \"layout\": {\"annotationdefaults\": {\"arrowcolor\": \"#2a3f5f\", \"arrowhead\": 0, \"arrowwidth\": 1}, \"colorscale\": {\"diverging\": [[0, \"#8e0152\"], [0.1, \"#c51b7d\"], [0.2, \"#de77ae\"], [0.3, \"#f1b6da\"], [0.4, \"#fde0ef\"], [0.5, \"#f7f7f7\"], [0.6, \"#e6f5d0\"], [0.7, \"#b8e186\"], [0.8, \"#7fbc41\"], [0.9, \"#4d9221\"], [1, \"#276419\"]], \"sequential\": [[0.0, \"#0d0887\"], [0.1111111111111111, \"#46039f\"], [0.2222222222222222, \"#7201a8\"], [0.3333333333333333, \"#9c179e\"], [0.4444444444444444, \"#bd3786\"], [0.5555555555555556, \"#d8576b\"], [0.6666666666666666, \"#ed7953\"], [0.7777777777777778, \"#fb9f3a\"], [0.8888888888888888, \"#fdca26\"], [1.0, \"#f0f921\"]], \"sequentialminus\": [[0.0, \"#0d0887\"], [0.1111111111111111, \"#46039f\"], [0.2222222222222222, \"#7201a8\"], [0.3333333333333333, \"#9c179e\"], [0.4444444444444444, \"#bd3786\"], [0.5555555555555556, \"#d8576b\"], [0.6666666666666666, \"#ed7953\"], [0.7777777777777778, \"#fb9f3a\"], [0.8888888888888888, \"#fdca26\"], [1.0, \"#f0f921\"]]}, \"colorway\": [\"#636efa\", \"#EF553B\", \"#00cc96\", \"#ab63fa\", \"#FFA15A\", \"#19d3f3\", \"#FF6692\", \"#B6E880\", \"#FF97FF\", \"#FECB52\"], \"font\": {\"color\": \"#2a3f5f\"}, \"geo\": {\"bgcolor\": \"white\", \"lakecolor\": \"white\", \"landcolor\": \"#E5ECF6\", \"showlakes\": true, \"showland\": true, \"subunitcolor\": \"white\"}, \"hoverlabel\": {\"align\": \"left\"}, \"hovermode\": \"closest\", \"mapbox\": {\"style\": \"light\"}, \"paper_bgcolor\": \"white\", \"plot_bgcolor\": \"#E5ECF6\", \"polar\": {\"angularaxis\": {\"gridcolor\": \"white\", \"linecolor\": \"white\", \"ticks\": \"\"}, \"bgcolor\": \"#E5ECF6\", \"radialaxis\": {\"gridcolor\": \"white\", \"linecolor\": \"white\", \"ticks\": \"\"}}, \"scene\": {\"xaxis\": {\"backgroundcolor\": \"#E5ECF6\", \"gridcolor\": \"white\", \"gridwidth\": 2, \"linecolor\": \"white\", \"showbackground\": true, \"ticks\": \"\", \"zerolinecolor\": \"white\"}, \"yaxis\": {\"backgroundcolor\": \"#E5ECF6\", \"gridcolor\": \"white\", \"gridwidth\": 2, \"linecolor\": \"white\", \"showbackground\": true, \"ticks\": \"\", \"zerolinecolor\": \"white\"}, \"zaxis\": {\"backgroundcolor\": \"#E5ECF6\", \"gridcolor\": \"white\", \"gridwidth\": 2, \"linecolor\": \"white\", \"showbackground\": true, \"ticks\": \"\", \"zerolinecolor\": \"white\"}}, \"shapedefaults\": {\"line\": {\"color\": \"#2a3f5f\"}}, \"ternary\": {\"aaxis\": {\"gridcolor\": \"white\", \"linecolor\": \"white\", \"ticks\": \"\"}, \"baxis\": {\"gridcolor\": \"white\", \"linecolor\": \"white\", \"ticks\": \"\"}, \"bgcolor\": \"#E5ECF6\", \"caxis\": {\"gridcolor\": \"white\", \"linecolor\": \"white\", \"ticks\": \"\"}}, \"title\": {\"x\": 0.05}, \"xaxis\": {\"automargin\": true, \"gridcolor\": \"white\", \"linecolor\": \"white\", \"ticks\": \"\", \"zerolinecolor\": \"white\", \"zerolinewidth\": 2}, \"yaxis\": {\"automargin\": true, \"gridcolor\": \"white\", \"linecolor\": \"white\", \"ticks\": \"\", \"zerolinecolor\": \"white\", \"zerolinewidth\": 2}}}, \"title\": {\"text\": \"Distribution of active vs churned user per gender\"}, \"xaxis\": {\"anchor\": \"y\", \"domain\": [0.0, 0.45], \"title\": {\"text\": \"Gender\"}}, \"xaxis2\": {\"anchor\": \"y2\", \"domain\": [0.55, 1.0], \"title\": {\"text\": \"Gender\"}}, \"yaxis\": {\"anchor\": \"x\", \"domain\": [0.0, 1.0], \"title\": {\"text\": \"Count of users\"}}, \"yaxis2\": {\"anchor\": \"x2\", \"domain\": [0.0, 1.0], \"matches\": \"y\", \"showticklabels\": false}},\n",
       "                        {\"responsive\": true}\n",
       "                    ).then(function(){\n",
       "                            \n",
       "var gd = document.getElementById('1036e263-daf6-4120-8fac-fab9ef2addb1');\n",
       "var x = new MutationObserver(function (mutations, observer) {{\n",
       "        var display = window.getComputedStyle(gd).display;\n",
       "        if (!display || display === 'none') {{\n",
       "            console.log([gd, 'removed!']);\n",
       "            Plotly.purge(gd);\n",
       "            observer.disconnect();\n",
       "        }}\n",
       "}});\n",
       "\n",
       "// Listen for the removal of the full notebook cells\n",
       "var notebookContainer = gd.closest('#notebook-container');\n",
       "if (notebookContainer) {{\n",
       "    x.observe(notebookContainer, {childList: true});\n",
       "}}\n",
       "\n",
       "// Listen for the clearing of the current output cell\n",
       "var outputEl = gd.closest('.output');\n",
       "if (outputEl) {{\n",
       "    x.observe(outputEl, {childList: true});\n",
       "}}\n",
       "\n",
       "                        })\n",
       "                };\n",
       "                });\n",
       "            </script>\n",
       "        </div>"
      ]
     },
     "metadata": {},
     "output_type": "display_data"
    }
   ],
   "source": [
    "fig = make_subplots(rows=1, cols=2, shared_yaxes=True,\n",
    "                   subplot_titles=(\"Service cancellation analysis\", \"Service downgrade analysis\"))\n",
    "\n",
    "fig.append_trace(go.Bar(\n",
    "    x=['Male', 'Female'],\n",
    "    y=[len(gender_churn_service[gender_churn_service['gender']=='M']), len(gender_churn_service[gender_churn_service['gender']=='F'])],\n",
    "    name='Cancel churned users',\n",
    "    marker=dict(\n",
    "        color='rgb(68, 1, 84)'\n",
    "    )\n",
    "),1,1)\n",
    "fig.append_trace(go.Bar(\n",
    "    x=['Male', 'Female'],\n",
    "    y=[len(gender_no_churn[gender_no_churn['gender']=='M']),\n",
    "       len(gender_no_churn[gender_no_churn['gender']=='F'])],\n",
    "    name='Active users',\n",
    "    marker=dict(\n",
    "        color='rgb(220, 227, 25)'\n",
    "    )\n",
    "),1,1)\n",
    "fig.append_trace(go.Bar(\n",
    "    x=['Male', 'Female'],\n",
    "    y=[len(gender_churn_paid[gender_churn_paid['gender']=='M']), len(gender_churn_paid[gender_churn_paid['gender']=='F'])],\n",
    "    name='Downgrade churned users',\n",
    "    marker=dict(\n",
    "        color='rgb(45, 112, 142)'\n",
    "    ),\n",
    "),1,2)\n",
    "fig.append_trace(go.Bar(\n",
    "    x=['Male', 'Female'],\n",
    "    y=[len(gender_no_churn[(gender_no_churn['gender']=='M')&(gender_no_churn['level']=='paid')]),\n",
    "       len(gender_no_churn[(gender_no_churn['gender']=='F')&(gender_no_churn['level']=='paid')])],\n",
    "    name='Active paid users',\n",
    "    marker=dict(\n",
    "        color='rgb(149, 216, 64)'\n",
    "    ),\n",
    "),1,2)\n",
    "fig.layout.update(go.Layout(\n",
    "    title_text=\"Distribution of active vs churned user per gender\",\n",
    "    yaxis = {'title':\"Count of users\"}, \n",
    "    barmode='group'\n",
    "))\n",
    "fig.update_xaxes(title_text=\"Gender\", row=1, col=1)\n",
    "fig.update_xaxes(title_text=\"Gender\", row=1, col=2)\n",
    "\n",
    "fig.show()\n"
   ]
  },
  {
   "cell_type": "markdown",
   "metadata": {},
   "source": [
    "At first glance, it looks like men cancel the service more in proportion than women, and that the gender is not of relevant influence to predict the downgrade of a user. Overall, this feature does not seem to bring much to predict churn, we will decide later on if we want to keep it or not to train our model. "
   ]
  },
  {
   "cell_type": "markdown",
   "metadata": {},
   "source": [
    "*Impact of the subscription level (paid/free)*\n",
    "\n",
    "In this case, we are only interested in the link between the user leaving the service and his/her subscription level. As a matter of fact, it only makes sense to predict whether a user is about to downgrade his/her service is he/she has a paid subscription - it is assumed in this case that the user has a paid subscription level. \n"
   ]
  },
  {
   "cell_type": "code",
   "execution_count": 53,
   "metadata": {},
   "outputs": [],
   "source": [
    "level_no_churn = event_data_churn.select(['userId', 'level']).where((event_data_churn['churn_paid']==0)&(event_data_churn['churn_service']==0)).dropDuplicates().toPandas()\n",
    "level_churn_service = event_data_churn.select(['userId', 'level']).where((event_data_churn['churn_paid']==0)&(event_data_churn['churn_service']==1)).dropDuplicates().toPandas()\n"
   ]
  },
  {
   "cell_type": "code",
   "execution_count": 218,
   "metadata": {},
   "outputs": [
    {
     "data": {
      "application/vnd.plotly.v1+json": {
       "config": {
        "plotlyServerURL": "https://plot.ly"
       },
       "data": [
        {
         "marker": {
          "color": "rgb(68, 1, 84)"
         },
         "name": "Churned users",
         "type": "bar",
         "x": [
          "Paid",
          "Free"
         ],
         "y": [
          42.1875,
          57.8125
         ]
        },
        {
         "marker": {
          "color": "rgb(220, 227, 25)"
         },
         "name": "Active users",
         "type": "bar",
         "x": [
          "Paid",
          "Free"
         ],
         "y": [
          44.94949494949495,
          55.05050505050505
         ]
        }
       ],
       "layout": {
        "barmode": "group",
        "template": {
         "data": {
          "bar": [
           {
            "error_x": {
             "color": "#2a3f5f"
            },
            "error_y": {
             "color": "#2a3f5f"
            },
            "marker": {
             "line": {
              "color": "#E5ECF6",
              "width": 0.5
             }
            },
            "type": "bar"
           }
          ],
          "barpolar": [
           {
            "marker": {
             "line": {
              "color": "#E5ECF6",
              "width": 0.5
             }
            },
            "type": "barpolar"
           }
          ],
          "carpet": [
           {
            "aaxis": {
             "endlinecolor": "#2a3f5f",
             "gridcolor": "white",
             "linecolor": "white",
             "minorgridcolor": "white",
             "startlinecolor": "#2a3f5f"
            },
            "baxis": {
             "endlinecolor": "#2a3f5f",
             "gridcolor": "white",
             "linecolor": "white",
             "minorgridcolor": "white",
             "startlinecolor": "#2a3f5f"
            },
            "type": "carpet"
           }
          ],
          "choropleth": [
           {
            "colorbar": {
             "outlinewidth": 0,
             "ticks": ""
            },
            "type": "choropleth"
           }
          ],
          "contour": [
           {
            "colorbar": {
             "outlinewidth": 0,
             "ticks": ""
            },
            "colorscale": [
             [
              0,
              "#0d0887"
             ],
             [
              0.1111111111111111,
              "#46039f"
             ],
             [
              0.2222222222222222,
              "#7201a8"
             ],
             [
              0.3333333333333333,
              "#9c179e"
             ],
             [
              0.4444444444444444,
              "#bd3786"
             ],
             [
              0.5555555555555556,
              "#d8576b"
             ],
             [
              0.6666666666666666,
              "#ed7953"
             ],
             [
              0.7777777777777778,
              "#fb9f3a"
             ],
             [
              0.8888888888888888,
              "#fdca26"
             ],
             [
              1,
              "#f0f921"
             ]
            ],
            "type": "contour"
           }
          ],
          "contourcarpet": [
           {
            "colorbar": {
             "outlinewidth": 0,
             "ticks": ""
            },
            "type": "contourcarpet"
           }
          ],
          "heatmap": [
           {
            "colorbar": {
             "outlinewidth": 0,
             "ticks": ""
            },
            "colorscale": [
             [
              0,
              "#0d0887"
             ],
             [
              0.1111111111111111,
              "#46039f"
             ],
             [
              0.2222222222222222,
              "#7201a8"
             ],
             [
              0.3333333333333333,
              "#9c179e"
             ],
             [
              0.4444444444444444,
              "#bd3786"
             ],
             [
              0.5555555555555556,
              "#d8576b"
             ],
             [
              0.6666666666666666,
              "#ed7953"
             ],
             [
              0.7777777777777778,
              "#fb9f3a"
             ],
             [
              0.8888888888888888,
              "#fdca26"
             ],
             [
              1,
              "#f0f921"
             ]
            ],
            "type": "heatmap"
           }
          ],
          "heatmapgl": [
           {
            "colorbar": {
             "outlinewidth": 0,
             "ticks": ""
            },
            "colorscale": [
             [
              0,
              "#0d0887"
             ],
             [
              0.1111111111111111,
              "#46039f"
             ],
             [
              0.2222222222222222,
              "#7201a8"
             ],
             [
              0.3333333333333333,
              "#9c179e"
             ],
             [
              0.4444444444444444,
              "#bd3786"
             ],
             [
              0.5555555555555556,
              "#d8576b"
             ],
             [
              0.6666666666666666,
              "#ed7953"
             ],
             [
              0.7777777777777778,
              "#fb9f3a"
             ],
             [
              0.8888888888888888,
              "#fdca26"
             ],
             [
              1,
              "#f0f921"
             ]
            ],
            "type": "heatmapgl"
           }
          ],
          "histogram": [
           {
            "marker": {
             "colorbar": {
              "outlinewidth": 0,
              "ticks": ""
             }
            },
            "type": "histogram"
           }
          ],
          "histogram2d": [
           {
            "colorbar": {
             "outlinewidth": 0,
             "ticks": ""
            },
            "colorscale": [
             [
              0,
              "#0d0887"
             ],
             [
              0.1111111111111111,
              "#46039f"
             ],
             [
              0.2222222222222222,
              "#7201a8"
             ],
             [
              0.3333333333333333,
              "#9c179e"
             ],
             [
              0.4444444444444444,
              "#bd3786"
             ],
             [
              0.5555555555555556,
              "#d8576b"
             ],
             [
              0.6666666666666666,
              "#ed7953"
             ],
             [
              0.7777777777777778,
              "#fb9f3a"
             ],
             [
              0.8888888888888888,
              "#fdca26"
             ],
             [
              1,
              "#f0f921"
             ]
            ],
            "type": "histogram2d"
           }
          ],
          "histogram2dcontour": [
           {
            "colorbar": {
             "outlinewidth": 0,
             "ticks": ""
            },
            "colorscale": [
             [
              0,
              "#0d0887"
             ],
             [
              0.1111111111111111,
              "#46039f"
             ],
             [
              0.2222222222222222,
              "#7201a8"
             ],
             [
              0.3333333333333333,
              "#9c179e"
             ],
             [
              0.4444444444444444,
              "#bd3786"
             ],
             [
              0.5555555555555556,
              "#d8576b"
             ],
             [
              0.6666666666666666,
              "#ed7953"
             ],
             [
              0.7777777777777778,
              "#fb9f3a"
             ],
             [
              0.8888888888888888,
              "#fdca26"
             ],
             [
              1,
              "#f0f921"
             ]
            ],
            "type": "histogram2dcontour"
           }
          ],
          "mesh3d": [
           {
            "colorbar": {
             "outlinewidth": 0,
             "ticks": ""
            },
            "type": "mesh3d"
           }
          ],
          "parcoords": [
           {
            "line": {
             "colorbar": {
              "outlinewidth": 0,
              "ticks": ""
             }
            },
            "type": "parcoords"
           }
          ],
          "scatter": [
           {
            "marker": {
             "colorbar": {
              "outlinewidth": 0,
              "ticks": ""
             }
            },
            "type": "scatter"
           }
          ],
          "scatter3d": [
           {
            "line": {
             "colorbar": {
              "outlinewidth": 0,
              "ticks": ""
             }
            },
            "marker": {
             "colorbar": {
              "outlinewidth": 0,
              "ticks": ""
             }
            },
            "type": "scatter3d"
           }
          ],
          "scattercarpet": [
           {
            "marker": {
             "colorbar": {
              "outlinewidth": 0,
              "ticks": ""
             }
            },
            "type": "scattercarpet"
           }
          ],
          "scattergeo": [
           {
            "marker": {
             "colorbar": {
              "outlinewidth": 0,
              "ticks": ""
             }
            },
            "type": "scattergeo"
           }
          ],
          "scattergl": [
           {
            "marker": {
             "colorbar": {
              "outlinewidth": 0,
              "ticks": ""
             }
            },
            "type": "scattergl"
           }
          ],
          "scattermapbox": [
           {
            "marker": {
             "colorbar": {
              "outlinewidth": 0,
              "ticks": ""
             }
            },
            "type": "scattermapbox"
           }
          ],
          "scatterpolar": [
           {
            "marker": {
             "colorbar": {
              "outlinewidth": 0,
              "ticks": ""
             }
            },
            "type": "scatterpolar"
           }
          ],
          "scatterpolargl": [
           {
            "marker": {
             "colorbar": {
              "outlinewidth": 0,
              "ticks": ""
             }
            },
            "type": "scatterpolargl"
           }
          ],
          "scatterternary": [
           {
            "marker": {
             "colorbar": {
              "outlinewidth": 0,
              "ticks": ""
             }
            },
            "type": "scatterternary"
           }
          ],
          "surface": [
           {
            "colorbar": {
             "outlinewidth": 0,
             "ticks": ""
            },
            "colorscale": [
             [
              0,
              "#0d0887"
             ],
             [
              0.1111111111111111,
              "#46039f"
             ],
             [
              0.2222222222222222,
              "#7201a8"
             ],
             [
              0.3333333333333333,
              "#9c179e"
             ],
             [
              0.4444444444444444,
              "#bd3786"
             ],
             [
              0.5555555555555556,
              "#d8576b"
             ],
             [
              0.6666666666666666,
              "#ed7953"
             ],
             [
              0.7777777777777778,
              "#fb9f3a"
             ],
             [
              0.8888888888888888,
              "#fdca26"
             ],
             [
              1,
              "#f0f921"
             ]
            ],
            "type": "surface"
           }
          ],
          "table": [
           {
            "cells": {
             "fill": {
              "color": "#EBF0F8"
             },
             "line": {
              "color": "white"
             }
            },
            "header": {
             "fill": {
              "color": "#C8D4E3"
             },
             "line": {
              "color": "white"
             }
            },
            "type": "table"
           }
          ]
         },
         "layout": {
          "annotationdefaults": {
           "arrowcolor": "#2a3f5f",
           "arrowhead": 0,
           "arrowwidth": 1
          },
          "colorscale": {
           "diverging": [
            [
             0,
             "#8e0152"
            ],
            [
             0.1,
             "#c51b7d"
            ],
            [
             0.2,
             "#de77ae"
            ],
            [
             0.3,
             "#f1b6da"
            ],
            [
             0.4,
             "#fde0ef"
            ],
            [
             0.5,
             "#f7f7f7"
            ],
            [
             0.6,
             "#e6f5d0"
            ],
            [
             0.7,
             "#b8e186"
            ],
            [
             0.8,
             "#7fbc41"
            ],
            [
             0.9,
             "#4d9221"
            ],
            [
             1,
             "#276419"
            ]
           ],
           "sequential": [
            [
             0,
             "#0d0887"
            ],
            [
             0.1111111111111111,
             "#46039f"
            ],
            [
             0.2222222222222222,
             "#7201a8"
            ],
            [
             0.3333333333333333,
             "#9c179e"
            ],
            [
             0.4444444444444444,
             "#bd3786"
            ],
            [
             0.5555555555555556,
             "#d8576b"
            ],
            [
             0.6666666666666666,
             "#ed7953"
            ],
            [
             0.7777777777777778,
             "#fb9f3a"
            ],
            [
             0.8888888888888888,
             "#fdca26"
            ],
            [
             1,
             "#f0f921"
            ]
           ],
           "sequentialminus": [
            [
             0,
             "#0d0887"
            ],
            [
             0.1111111111111111,
             "#46039f"
            ],
            [
             0.2222222222222222,
             "#7201a8"
            ],
            [
             0.3333333333333333,
             "#9c179e"
            ],
            [
             0.4444444444444444,
             "#bd3786"
            ],
            [
             0.5555555555555556,
             "#d8576b"
            ],
            [
             0.6666666666666666,
             "#ed7953"
            ],
            [
             0.7777777777777778,
             "#fb9f3a"
            ],
            [
             0.8888888888888888,
             "#fdca26"
            ],
            [
             1,
             "#f0f921"
            ]
           ]
          },
          "colorway": [
           "#636efa",
           "#EF553B",
           "#00cc96",
           "#ab63fa",
           "#FFA15A",
           "#19d3f3",
           "#FF6692",
           "#B6E880",
           "#FF97FF",
           "#FECB52"
          ],
          "font": {
           "color": "#2a3f5f"
          },
          "geo": {
           "bgcolor": "white",
           "lakecolor": "white",
           "landcolor": "#E5ECF6",
           "showlakes": true,
           "showland": true,
           "subunitcolor": "white"
          },
          "hoverlabel": {
           "align": "left"
          },
          "hovermode": "closest",
          "mapbox": {
           "style": "light"
          },
          "paper_bgcolor": "white",
          "plot_bgcolor": "#E5ECF6",
          "polar": {
           "angularaxis": {
            "gridcolor": "white",
            "linecolor": "white",
            "ticks": ""
           },
           "bgcolor": "#E5ECF6",
           "radialaxis": {
            "gridcolor": "white",
            "linecolor": "white",
            "ticks": ""
           }
          },
          "scene": {
           "xaxis": {
            "backgroundcolor": "#E5ECF6",
            "gridcolor": "white",
            "gridwidth": 2,
            "linecolor": "white",
            "showbackground": true,
            "ticks": "",
            "zerolinecolor": "white"
           },
           "yaxis": {
            "backgroundcolor": "#E5ECF6",
            "gridcolor": "white",
            "gridwidth": 2,
            "linecolor": "white",
            "showbackground": true,
            "ticks": "",
            "zerolinecolor": "white"
           },
           "zaxis": {
            "backgroundcolor": "#E5ECF6",
            "gridcolor": "white",
            "gridwidth": 2,
            "linecolor": "white",
            "showbackground": true,
            "ticks": "",
            "zerolinecolor": "white"
           }
          },
          "shapedefaults": {
           "line": {
            "color": "#2a3f5f"
           }
          },
          "ternary": {
           "aaxis": {
            "gridcolor": "white",
            "linecolor": "white",
            "ticks": ""
           },
           "baxis": {
            "gridcolor": "white",
            "linecolor": "white",
            "ticks": ""
           },
           "bgcolor": "#E5ECF6",
           "caxis": {
            "gridcolor": "white",
            "linecolor": "white",
            "ticks": ""
           }
          },
          "title": {
           "x": 0.05
          },
          "xaxis": {
           "automargin": true,
           "gridcolor": "white",
           "linecolor": "white",
           "ticks": "",
           "zerolinecolor": "white",
           "zerolinewidth": 2
          },
          "yaxis": {
           "automargin": true,
           "gridcolor": "white",
           "linecolor": "white",
           "ticks": "",
           "zerolinecolor": "white",
           "zerolinewidth": 2
          }
         }
        },
        "title": {
         "text": "Ratio of active vs churned user per subscription level"
        },
        "xaxis": {
         "title": {
          "text": "Level"
         }
        },
        "yaxis": {
         "title": {
          "text": "Percentage of users"
         }
        }
       }
      },
      "text/html": [
       "<div>\n",
       "        \n",
       "        \n",
       "            <div id=\"47079924-6c0f-4e3b-97f9-88e57ab85fd5\" class=\"plotly-graph-div\" style=\"height:525px; width:100%;\"></div>\n",
       "            <script type=\"text/javascript\">\n",
       "                require([\"plotly\"], function(Plotly) {\n",
       "                    window.PLOTLYENV=window.PLOTLYENV || {};\n",
       "                    \n",
       "                if (document.getElementById(\"47079924-6c0f-4e3b-97f9-88e57ab85fd5\")) {\n",
       "                    Plotly.newPlot(\n",
       "                        '47079924-6c0f-4e3b-97f9-88e57ab85fd5',\n",
       "                        [{\"marker\": {\"color\": \"rgb(68, 1, 84)\"}, \"name\": \"Churned users\", \"type\": \"bar\", \"x\": [\"Paid\", \"Free\"], \"y\": [42.1875, 57.8125]}, {\"marker\": {\"color\": \"rgb(220, 227, 25)\"}, \"name\": \"Active users\", \"type\": \"bar\", \"x\": [\"Paid\", \"Free\"], \"y\": [44.94949494949495, 55.05050505050505]}],\n",
       "                        {\"barmode\": \"group\", \"template\": {\"data\": {\"bar\": [{\"error_x\": {\"color\": \"#2a3f5f\"}, \"error_y\": {\"color\": \"#2a3f5f\"}, \"marker\": {\"line\": {\"color\": \"#E5ECF6\", \"width\": 0.5}}, \"type\": \"bar\"}], \"barpolar\": [{\"marker\": {\"line\": {\"color\": \"#E5ECF6\", \"width\": 0.5}}, \"type\": \"barpolar\"}], \"carpet\": [{\"aaxis\": {\"endlinecolor\": \"#2a3f5f\", \"gridcolor\": \"white\", \"linecolor\": \"white\", \"minorgridcolor\": \"white\", \"startlinecolor\": \"#2a3f5f\"}, \"baxis\": {\"endlinecolor\": \"#2a3f5f\", \"gridcolor\": \"white\", \"linecolor\": \"white\", \"minorgridcolor\": \"white\", \"startlinecolor\": \"#2a3f5f\"}, \"type\": \"carpet\"}], \"choropleth\": [{\"colorbar\": {\"outlinewidth\": 0, \"ticks\": \"\"}, \"type\": \"choropleth\"}], \"contour\": [{\"colorbar\": {\"outlinewidth\": 0, \"ticks\": \"\"}, \"colorscale\": [[0.0, \"#0d0887\"], [0.1111111111111111, \"#46039f\"], [0.2222222222222222, \"#7201a8\"], [0.3333333333333333, \"#9c179e\"], [0.4444444444444444, \"#bd3786\"], [0.5555555555555556, \"#d8576b\"], [0.6666666666666666, \"#ed7953\"], [0.7777777777777778, \"#fb9f3a\"], [0.8888888888888888, \"#fdca26\"], [1.0, \"#f0f921\"]], \"type\": \"contour\"}], \"contourcarpet\": [{\"colorbar\": {\"outlinewidth\": 0, \"ticks\": \"\"}, \"type\": \"contourcarpet\"}], \"heatmap\": [{\"colorbar\": {\"outlinewidth\": 0, \"ticks\": \"\"}, \"colorscale\": [[0.0, \"#0d0887\"], [0.1111111111111111, \"#46039f\"], [0.2222222222222222, \"#7201a8\"], [0.3333333333333333, \"#9c179e\"], [0.4444444444444444, \"#bd3786\"], [0.5555555555555556, \"#d8576b\"], [0.6666666666666666, \"#ed7953\"], [0.7777777777777778, \"#fb9f3a\"], [0.8888888888888888, \"#fdca26\"], [1.0, \"#f0f921\"]], \"type\": \"heatmap\"}], \"heatmapgl\": [{\"colorbar\": {\"outlinewidth\": 0, \"ticks\": \"\"}, \"colorscale\": [[0.0, \"#0d0887\"], [0.1111111111111111, \"#46039f\"], [0.2222222222222222, \"#7201a8\"], [0.3333333333333333, \"#9c179e\"], [0.4444444444444444, \"#bd3786\"], [0.5555555555555556, \"#d8576b\"], [0.6666666666666666, \"#ed7953\"], [0.7777777777777778, \"#fb9f3a\"], [0.8888888888888888, \"#fdca26\"], [1.0, \"#f0f921\"]], \"type\": \"heatmapgl\"}], \"histogram\": [{\"marker\": {\"colorbar\": {\"outlinewidth\": 0, \"ticks\": \"\"}}, \"type\": \"histogram\"}], \"histogram2d\": [{\"colorbar\": {\"outlinewidth\": 0, \"ticks\": \"\"}, \"colorscale\": [[0.0, \"#0d0887\"], [0.1111111111111111, \"#46039f\"], [0.2222222222222222, \"#7201a8\"], [0.3333333333333333, \"#9c179e\"], [0.4444444444444444, \"#bd3786\"], [0.5555555555555556, \"#d8576b\"], [0.6666666666666666, \"#ed7953\"], [0.7777777777777778, \"#fb9f3a\"], [0.8888888888888888, \"#fdca26\"], [1.0, \"#f0f921\"]], \"type\": \"histogram2d\"}], \"histogram2dcontour\": [{\"colorbar\": {\"outlinewidth\": 0, \"ticks\": \"\"}, \"colorscale\": [[0.0, \"#0d0887\"], [0.1111111111111111, \"#46039f\"], [0.2222222222222222, \"#7201a8\"], [0.3333333333333333, \"#9c179e\"], [0.4444444444444444, \"#bd3786\"], [0.5555555555555556, \"#d8576b\"], [0.6666666666666666, \"#ed7953\"], [0.7777777777777778, \"#fb9f3a\"], [0.8888888888888888, \"#fdca26\"], [1.0, \"#f0f921\"]], \"type\": \"histogram2dcontour\"}], \"mesh3d\": [{\"colorbar\": {\"outlinewidth\": 0, \"ticks\": \"\"}, \"type\": \"mesh3d\"}], \"parcoords\": [{\"line\": {\"colorbar\": {\"outlinewidth\": 0, \"ticks\": \"\"}}, \"type\": \"parcoords\"}], \"scatter\": [{\"marker\": {\"colorbar\": {\"outlinewidth\": 0, \"ticks\": \"\"}}, \"type\": \"scatter\"}], \"scatter3d\": [{\"line\": {\"colorbar\": {\"outlinewidth\": 0, \"ticks\": \"\"}}, \"marker\": {\"colorbar\": {\"outlinewidth\": 0, \"ticks\": \"\"}}, \"type\": \"scatter3d\"}], \"scattercarpet\": [{\"marker\": {\"colorbar\": {\"outlinewidth\": 0, \"ticks\": \"\"}}, \"type\": \"scattercarpet\"}], \"scattergeo\": [{\"marker\": {\"colorbar\": {\"outlinewidth\": 0, \"ticks\": \"\"}}, \"type\": \"scattergeo\"}], \"scattergl\": [{\"marker\": {\"colorbar\": {\"outlinewidth\": 0, \"ticks\": \"\"}}, \"type\": \"scattergl\"}], \"scattermapbox\": [{\"marker\": {\"colorbar\": {\"outlinewidth\": 0, \"ticks\": \"\"}}, \"type\": \"scattermapbox\"}], \"scatterpolar\": [{\"marker\": {\"colorbar\": {\"outlinewidth\": 0, \"ticks\": \"\"}}, \"type\": \"scatterpolar\"}], \"scatterpolargl\": [{\"marker\": {\"colorbar\": {\"outlinewidth\": 0, \"ticks\": \"\"}}, \"type\": \"scatterpolargl\"}], \"scatterternary\": [{\"marker\": {\"colorbar\": {\"outlinewidth\": 0, \"ticks\": \"\"}}, \"type\": \"scatterternary\"}], \"surface\": [{\"colorbar\": {\"outlinewidth\": 0, \"ticks\": \"\"}, \"colorscale\": [[0.0, \"#0d0887\"], [0.1111111111111111, \"#46039f\"], [0.2222222222222222, \"#7201a8\"], [0.3333333333333333, \"#9c179e\"], [0.4444444444444444, \"#bd3786\"], [0.5555555555555556, \"#d8576b\"], [0.6666666666666666, \"#ed7953\"], [0.7777777777777778, \"#fb9f3a\"], [0.8888888888888888, \"#fdca26\"], [1.0, \"#f0f921\"]], \"type\": \"surface\"}], \"table\": [{\"cells\": {\"fill\": {\"color\": \"#EBF0F8\"}, \"line\": {\"color\": \"white\"}}, \"header\": {\"fill\": {\"color\": \"#C8D4E3\"}, \"line\": {\"color\": \"white\"}}, \"type\": \"table\"}]}, \"layout\": {\"annotationdefaults\": {\"arrowcolor\": \"#2a3f5f\", \"arrowhead\": 0, \"arrowwidth\": 1}, \"colorscale\": {\"diverging\": [[0, \"#8e0152\"], [0.1, \"#c51b7d\"], [0.2, \"#de77ae\"], [0.3, \"#f1b6da\"], [0.4, \"#fde0ef\"], [0.5, \"#f7f7f7\"], [0.6, \"#e6f5d0\"], [0.7, \"#b8e186\"], [0.8, \"#7fbc41\"], [0.9, \"#4d9221\"], [1, \"#276419\"]], \"sequential\": [[0.0, \"#0d0887\"], [0.1111111111111111, \"#46039f\"], [0.2222222222222222, \"#7201a8\"], [0.3333333333333333, \"#9c179e\"], [0.4444444444444444, \"#bd3786\"], [0.5555555555555556, \"#d8576b\"], [0.6666666666666666, \"#ed7953\"], [0.7777777777777778, \"#fb9f3a\"], [0.8888888888888888, \"#fdca26\"], [1.0, \"#f0f921\"]], \"sequentialminus\": [[0.0, \"#0d0887\"], [0.1111111111111111, \"#46039f\"], [0.2222222222222222, \"#7201a8\"], [0.3333333333333333, \"#9c179e\"], [0.4444444444444444, \"#bd3786\"], [0.5555555555555556, \"#d8576b\"], [0.6666666666666666, \"#ed7953\"], [0.7777777777777778, \"#fb9f3a\"], [0.8888888888888888, \"#fdca26\"], [1.0, \"#f0f921\"]]}, \"colorway\": [\"#636efa\", \"#EF553B\", \"#00cc96\", \"#ab63fa\", \"#FFA15A\", \"#19d3f3\", \"#FF6692\", \"#B6E880\", \"#FF97FF\", \"#FECB52\"], \"font\": {\"color\": \"#2a3f5f\"}, \"geo\": {\"bgcolor\": \"white\", \"lakecolor\": \"white\", \"landcolor\": \"#E5ECF6\", \"showlakes\": true, \"showland\": true, \"subunitcolor\": \"white\"}, \"hoverlabel\": {\"align\": \"left\"}, \"hovermode\": \"closest\", \"mapbox\": {\"style\": \"light\"}, \"paper_bgcolor\": \"white\", \"plot_bgcolor\": \"#E5ECF6\", \"polar\": {\"angularaxis\": {\"gridcolor\": \"white\", \"linecolor\": \"white\", \"ticks\": \"\"}, \"bgcolor\": \"#E5ECF6\", \"radialaxis\": {\"gridcolor\": \"white\", \"linecolor\": \"white\", \"ticks\": \"\"}}, \"scene\": {\"xaxis\": {\"backgroundcolor\": \"#E5ECF6\", \"gridcolor\": \"white\", \"gridwidth\": 2, \"linecolor\": \"white\", \"showbackground\": true, \"ticks\": \"\", \"zerolinecolor\": \"white\"}, \"yaxis\": {\"backgroundcolor\": \"#E5ECF6\", \"gridcolor\": \"white\", \"gridwidth\": 2, \"linecolor\": \"white\", \"showbackground\": true, \"ticks\": \"\", \"zerolinecolor\": \"white\"}, \"zaxis\": {\"backgroundcolor\": \"#E5ECF6\", \"gridcolor\": \"white\", \"gridwidth\": 2, \"linecolor\": \"white\", \"showbackground\": true, \"ticks\": \"\", \"zerolinecolor\": \"white\"}}, \"shapedefaults\": {\"line\": {\"color\": \"#2a3f5f\"}}, \"ternary\": {\"aaxis\": {\"gridcolor\": \"white\", \"linecolor\": \"white\", \"ticks\": \"\"}, \"baxis\": {\"gridcolor\": \"white\", \"linecolor\": \"white\", \"ticks\": \"\"}, \"bgcolor\": \"#E5ECF6\", \"caxis\": {\"gridcolor\": \"white\", \"linecolor\": \"white\", \"ticks\": \"\"}}, \"title\": {\"x\": 0.05}, \"xaxis\": {\"automargin\": true, \"gridcolor\": \"white\", \"linecolor\": \"white\", \"ticks\": \"\", \"zerolinecolor\": \"white\", \"zerolinewidth\": 2}, \"yaxis\": {\"automargin\": true, \"gridcolor\": \"white\", \"linecolor\": \"white\", \"ticks\": \"\", \"zerolinecolor\": \"white\", \"zerolinewidth\": 2}}}, \"title\": {\"text\": \"Ratio of active vs churned user per subscription level\"}, \"xaxis\": {\"title\": {\"text\": \"Level\"}}, \"yaxis\": {\"title\": {\"text\": \"Percentage of users\"}}},\n",
       "                        {\"responsive\": true}\n",
       "                    ).then(function(){\n",
       "                            \n",
       "var gd = document.getElementById('47079924-6c0f-4e3b-97f9-88e57ab85fd5');\n",
       "var x = new MutationObserver(function (mutations, observer) {{\n",
       "        var display = window.getComputedStyle(gd).display;\n",
       "        if (!display || display === 'none') {{\n",
       "            console.log([gd, 'removed!']);\n",
       "            Plotly.purge(gd);\n",
       "            observer.disconnect();\n",
       "        }}\n",
       "}});\n",
       "\n",
       "// Listen for the removal of the full notebook cells\n",
       "var notebookContainer = gd.closest('#notebook-container');\n",
       "if (notebookContainer) {{\n",
       "    x.observe(notebookContainer, {childList: true});\n",
       "}}\n",
       "\n",
       "// Listen for the clearing of the current output cell\n",
       "var outputEl = gd.closest('.output');\n",
       "if (outputEl) {{\n",
       "    x.observe(outputEl, {childList: true});\n",
       "}}\n",
       "\n",
       "                        })\n",
       "                };\n",
       "                });\n",
       "            </script>\n",
       "        </div>"
      ]
     },
     "metadata": {},
     "output_type": "display_data"
    }
   ],
   "source": [
    "fig = go.Figure(data=[\n",
    "    go.Bar(\n",
    "    x=['Paid', 'Free'],\n",
    "    y=[100*len(level_churn_service[level_churn_service['level']=='paid'])/level_churn_service.shape[0],\n",
    "       100*len(level_churn_service[level_churn_service['level']=='free'])/level_churn_service.shape[0]],\n",
    "    name='Churned users',\n",
    "    marker=dict(\n",
    "        color='rgb(68, 1, 84)'\n",
    "    )\n",
    "),\n",
    "    go.Bar(\n",
    "    x=['Paid', 'Free'],\n",
    "    y=[100*len(level_no_churn[level_no_churn['level']=='paid'])/level_no_churn.shape[0],\n",
    "       100*len(level_no_churn[level_no_churn['level']=='free'])/level_no_churn.shape[0]],\n",
    "    name='Active users',\n",
    "    marker=dict(\n",
    "        color='rgb(220, 227, 25)'\n",
    "    )\n",
    ")\n",
    "])\n",
    "\n",
    "fig.layout.update(go.Layout(\n",
    "    title_text=\"Ratio of active vs churned user per subscription level\",\n",
    "    xaxis = {'title':\"Level\"},\n",
    "    yaxis = {'title':\"Percentage of users\"}, \n",
    "    barmode='group'\n",
    "))\n",
    "\n",
    "fig.show()\n"
   ]
  },
  {
   "cell_type": "markdown",
   "metadata": {},
   "source": [
    "At first glance, it looks like in proportion the users with a paid subscription are slightly less likely to cancel the service.\n"
   ]
  },
  {
   "cell_type": "markdown",
   "metadata": {},
   "source": [
    "*Impact of the location of the user*"
   ]
  },
  {
   "cell_type": "code",
   "execution_count": 55,
   "metadata": {},
   "outputs": [],
   "source": [
    "split_col = split(event_data_churn['location'], ', ')\n",
    "event_data_churn_with_state =  event_data_churn.withColumn(\"state\", split_col.getItem(1))"
   ]
  },
  {
   "cell_type": "code",
   "execution_count": 224,
   "metadata": {},
   "outputs": [],
   "source": [
    "location_no_churn = event_data_churn_with_state.select(['userId', 'state', 'level']).where((event_data_churn_with_state['churn_paid']==0)&(event_data_churn_with_state['churn_service']==0)).dropDuplicates().toPandas()\n",
    "location_churn_paid = event_data_churn_with_state.select(['userId', 'state']).where((event_data_churn_with_state['churn_paid']==1)&(event_data_churn_with_state['churn_service']==0)).dropDuplicates().toPandas()\n",
    "location_churn_service = event_data_churn_with_state.select(['userId', 'state']).where((event_data_churn_with_state['churn_paid']==0)&(event_data_churn_with_state['churn_service']==1)).dropDuplicates().toPandas()\n",
    "locations = event_data_churn_with_state.select(['state']).dropDuplicates().toPandas()['state']\n"
   ]
  },
  {
   "cell_type": "code",
   "execution_count": 226,
   "metadata": {},
   "outputs": [
    {
     "data": {
      "application/vnd.plotly.v1+json": {
       "config": {
        "plotlyServerURL": "https://plot.ly"
       },
       "data": [
        {
         "marker": {
          "color": "rgb(68, 1, 84)"
         },
         "name": "Cancel churned users",
         "type": "bar",
         "x": [
          "UT-ID",
          "AZ",
          "SC",
          "GA-AL",
          "LA",
          "RI-MA",
          "NJ",
          "IL-MO",
          "MN-WI",
          "OR",
          "SC-NC",
          "PA-NJ",
          "MD-WV",
          "VA",
          "NY-NJ-PA",
          "KY",
          "NH",
          "MI",
          "NV",
          "WI",
          "CA",
          "CT",
          "MT",
          "NC",
          "MD",
          "NE-IA",
          "IL",
          "WA",
          "MS",
          "AL",
          "IN",
          "OH",
          "TN",
          "IA",
          "PA",
          "DC-VA-MD-WV",
          "NY",
          "MO-KS",
          "KY-IN",
          "PA-NJ-DE-MD",
          "TX",
          "WV",
          "VA-NC",
          "OR-WA",
          "GA",
          "IL-IN-WI",
          "OH-KY-IN",
          "MO-IL",
          "FL",
          "CO",
          "AK",
          "MA-NH",
          "AR",
          "OK",
          "TN-MS-AR",
          "TN-VA",
          "UT",
          "NC-SC"
         ],
         "xaxis": "x",
         "y": [
          2,
          1,
          2,
          4,
          2,
          1,
          2,
          1,
          1,
          2,
          1,
          1,
          3,
          1,
          2,
          1,
          1,
          3,
          2,
          1,
          2,
          1,
          1,
          3,
          1,
          1
         ],
         "yaxis": "y"
        },
        {
         "marker": {
          "color": "rgb(220, 227, 25)"
         },
         "name": "Active users",
         "type": "bar",
         "x": [
          "UT-ID",
          "AZ",
          "SC",
          "GA-AL",
          "LA",
          "RI-MA",
          "NJ",
          "IL-MO",
          "MN-WI",
          "OR",
          "SC-NC",
          "PA-NJ",
          "MD-WV",
          "VA",
          "NY-NJ-PA",
          "KY",
          "NH",
          "MI",
          "NV",
          "WI",
          "CA",
          "CT",
          "MT",
          "NC",
          "MD",
          "NE-IA",
          "IL",
          "WA",
          "MS",
          "AL",
          "IN",
          "OH",
          "TN",
          "IA",
          "PA",
          "DC-VA-MD-WV",
          "NY",
          "MO-KS",
          "KY-IN",
          "PA-NJ-DE-MD",
          "TX",
          "WV",
          "VA-NC",
          "OR-WA",
          "GA",
          "IL-IN-WI",
          "OH-KY-IN",
          "MO-IL",
          "FL",
          "CO",
          "AK",
          "MA-NH",
          "AR",
          "OK",
          "TN-MS-AR",
          "TN-VA",
          "UT",
          "NC-SC"
         ],
         "xaxis": "x",
         "y": [
          4,
          1,
          5,
          28,
          2,
          11,
          3,
          10,
          7,
          3,
          2,
          2,
          7,
          2,
          1,
          2,
          3,
          2,
          2,
          3,
          5,
          4,
          2,
          1,
          2,
          6,
          10,
          1,
          3,
          1,
          5,
          3,
          13,
          1,
          2,
          1,
          2,
          2,
          2,
          2,
          1,
          2,
          1,
          1,
          14,
          1,
          4,
          1,
          2,
          2,
          1
         ],
         "yaxis": "y"
        },
        {
         "marker": {
          "color": "rgb(45, 112, 142)"
         },
         "name": "Downgrade churned users",
         "type": "bar",
         "x": [
          "UT-ID",
          "AZ",
          "SC",
          "GA-AL",
          "LA",
          "RI-MA",
          "NJ",
          "IL-MO",
          "MN-WI",
          "OR",
          "SC-NC",
          "PA-NJ",
          "MD-WV",
          "VA",
          "NY-NJ-PA",
          "KY",
          "NH",
          "MI",
          "NV",
          "WI",
          "CA",
          "CT",
          "MT",
          "NC",
          "MD",
          "NE-IA",
          "IL",
          "WA",
          "MS",
          "AL",
          "IN",
          "OH",
          "TN",
          "IA",
          "PA",
          "DC-VA-MD-WV",
          "NY",
          "MO-KS",
          "KY-IN",
          "PA-NJ-DE-MD",
          "TX",
          "WV",
          "VA-NC",
          "OR-WA",
          "GA",
          "IL-IN-WI",
          "OH-KY-IN",
          "MO-IL",
          "FL",
          "CO",
          "AK",
          "MA-NH",
          "AR",
          "OK",
          "TN-MS-AR",
          "TN-VA",
          "UT",
          "NC-SC"
         ],
         "xaxis": "x2",
         "y": [
          1,
          1,
          10,
          1,
          1,
          4,
          1,
          1,
          1,
          3,
          2,
          1,
          1,
          1,
          2,
          1,
          2,
          1,
          1,
          3,
          1
         ],
         "yaxis": "y2"
        },
        {
         "marker": {
          "color": "rgb(149, 216, 64)"
         },
         "name": "Active paid users",
         "type": "bar",
         "x": [
          "UT-ID",
          "AZ",
          "SC",
          "GA-AL",
          "LA",
          "RI-MA",
          "NJ",
          "IL-MO",
          "MN-WI",
          "OR",
          "SC-NC",
          "PA-NJ",
          "MD-WV",
          "VA",
          "NY-NJ-PA",
          "KY",
          "NH",
          "MI",
          "NV",
          "WI",
          "CA",
          "CT",
          "MT",
          "NC",
          "MD",
          "NE-IA",
          "IL",
          "WA",
          "MS",
          "AL",
          "IN",
          "OH",
          "TN",
          "IA",
          "PA",
          "DC-VA-MD-WV",
          "NY",
          "MO-KS",
          "KY-IN",
          "PA-NJ-DE-MD",
          "TX",
          "WV",
          "VA-NC",
          "OR-WA",
          "GA",
          "IL-IN-WI",
          "OH-KY-IN",
          "MO-IL",
          "FL",
          "CO",
          "AK",
          "MA-NH",
          "AR",
          "OK",
          "TN-MS-AR",
          "TN-VA",
          "UT",
          "NC-SC"
         ],
         "xaxis": "x2",
         "y": [
          2,
          2,
          12,
          1,
          5,
          2,
          3,
          4,
          1,
          1,
          1,
          3,
          1,
          1,
          1,
          1,
          1,
          2,
          2,
          1,
          1,
          1,
          1,
          4,
          5,
          2,
          1,
          2,
          2,
          6,
          1,
          1,
          1,
          1,
          1,
          1,
          1,
          6,
          2,
          1,
          1
         ],
         "yaxis": "y2"
        }
       ],
       "layout": {
        "annotations": [
         {
          "font": {
           "size": 16
          },
          "showarrow": false,
          "text": "Service cancellation analysis",
          "x": 0.5,
          "xanchor": "center",
          "xref": "paper",
          "y": 1,
          "yanchor": "bottom",
          "yref": "paper"
         },
         {
          "font": {
           "size": 16
          },
          "showarrow": false,
          "text": "Service downgrade analysis",
          "x": 0.5,
          "xanchor": "center",
          "xref": "paper",
          "y": 0.375,
          "yanchor": "bottom",
          "yref": "paper"
         }
        ],
        "barmode": "group",
        "template": {
         "data": {
          "bar": [
           {
            "error_x": {
             "color": "#2a3f5f"
            },
            "error_y": {
             "color": "#2a3f5f"
            },
            "marker": {
             "line": {
              "color": "#E5ECF6",
              "width": 0.5
             }
            },
            "type": "bar"
           }
          ],
          "barpolar": [
           {
            "marker": {
             "line": {
              "color": "#E5ECF6",
              "width": 0.5
             }
            },
            "type": "barpolar"
           }
          ],
          "carpet": [
           {
            "aaxis": {
             "endlinecolor": "#2a3f5f",
             "gridcolor": "white",
             "linecolor": "white",
             "minorgridcolor": "white",
             "startlinecolor": "#2a3f5f"
            },
            "baxis": {
             "endlinecolor": "#2a3f5f",
             "gridcolor": "white",
             "linecolor": "white",
             "minorgridcolor": "white",
             "startlinecolor": "#2a3f5f"
            },
            "type": "carpet"
           }
          ],
          "choropleth": [
           {
            "colorbar": {
             "outlinewidth": 0,
             "ticks": ""
            },
            "type": "choropleth"
           }
          ],
          "contour": [
           {
            "colorbar": {
             "outlinewidth": 0,
             "ticks": ""
            },
            "colorscale": [
             [
              0,
              "#0d0887"
             ],
             [
              0.1111111111111111,
              "#46039f"
             ],
             [
              0.2222222222222222,
              "#7201a8"
             ],
             [
              0.3333333333333333,
              "#9c179e"
             ],
             [
              0.4444444444444444,
              "#bd3786"
             ],
             [
              0.5555555555555556,
              "#d8576b"
             ],
             [
              0.6666666666666666,
              "#ed7953"
             ],
             [
              0.7777777777777778,
              "#fb9f3a"
             ],
             [
              0.8888888888888888,
              "#fdca26"
             ],
             [
              1,
              "#f0f921"
             ]
            ],
            "type": "contour"
           }
          ],
          "contourcarpet": [
           {
            "colorbar": {
             "outlinewidth": 0,
             "ticks": ""
            },
            "type": "contourcarpet"
           }
          ],
          "heatmap": [
           {
            "colorbar": {
             "outlinewidth": 0,
             "ticks": ""
            },
            "colorscale": [
             [
              0,
              "#0d0887"
             ],
             [
              0.1111111111111111,
              "#46039f"
             ],
             [
              0.2222222222222222,
              "#7201a8"
             ],
             [
              0.3333333333333333,
              "#9c179e"
             ],
             [
              0.4444444444444444,
              "#bd3786"
             ],
             [
              0.5555555555555556,
              "#d8576b"
             ],
             [
              0.6666666666666666,
              "#ed7953"
             ],
             [
              0.7777777777777778,
              "#fb9f3a"
             ],
             [
              0.8888888888888888,
              "#fdca26"
             ],
             [
              1,
              "#f0f921"
             ]
            ],
            "type": "heatmap"
           }
          ],
          "heatmapgl": [
           {
            "colorbar": {
             "outlinewidth": 0,
             "ticks": ""
            },
            "colorscale": [
             [
              0,
              "#0d0887"
             ],
             [
              0.1111111111111111,
              "#46039f"
             ],
             [
              0.2222222222222222,
              "#7201a8"
             ],
             [
              0.3333333333333333,
              "#9c179e"
             ],
             [
              0.4444444444444444,
              "#bd3786"
             ],
             [
              0.5555555555555556,
              "#d8576b"
             ],
             [
              0.6666666666666666,
              "#ed7953"
             ],
             [
              0.7777777777777778,
              "#fb9f3a"
             ],
             [
              0.8888888888888888,
              "#fdca26"
             ],
             [
              1,
              "#f0f921"
             ]
            ],
            "type": "heatmapgl"
           }
          ],
          "histogram": [
           {
            "marker": {
             "colorbar": {
              "outlinewidth": 0,
              "ticks": ""
             }
            },
            "type": "histogram"
           }
          ],
          "histogram2d": [
           {
            "colorbar": {
             "outlinewidth": 0,
             "ticks": ""
            },
            "colorscale": [
             [
              0,
              "#0d0887"
             ],
             [
              0.1111111111111111,
              "#46039f"
             ],
             [
              0.2222222222222222,
              "#7201a8"
             ],
             [
              0.3333333333333333,
              "#9c179e"
             ],
             [
              0.4444444444444444,
              "#bd3786"
             ],
             [
              0.5555555555555556,
              "#d8576b"
             ],
             [
              0.6666666666666666,
              "#ed7953"
             ],
             [
              0.7777777777777778,
              "#fb9f3a"
             ],
             [
              0.8888888888888888,
              "#fdca26"
             ],
             [
              1,
              "#f0f921"
             ]
            ],
            "type": "histogram2d"
           }
          ],
          "histogram2dcontour": [
           {
            "colorbar": {
             "outlinewidth": 0,
             "ticks": ""
            },
            "colorscale": [
             [
              0,
              "#0d0887"
             ],
             [
              0.1111111111111111,
              "#46039f"
             ],
             [
              0.2222222222222222,
              "#7201a8"
             ],
             [
              0.3333333333333333,
              "#9c179e"
             ],
             [
              0.4444444444444444,
              "#bd3786"
             ],
             [
              0.5555555555555556,
              "#d8576b"
             ],
             [
              0.6666666666666666,
              "#ed7953"
             ],
             [
              0.7777777777777778,
              "#fb9f3a"
             ],
             [
              0.8888888888888888,
              "#fdca26"
             ],
             [
              1,
              "#f0f921"
             ]
            ],
            "type": "histogram2dcontour"
           }
          ],
          "mesh3d": [
           {
            "colorbar": {
             "outlinewidth": 0,
             "ticks": ""
            },
            "type": "mesh3d"
           }
          ],
          "parcoords": [
           {
            "line": {
             "colorbar": {
              "outlinewidth": 0,
              "ticks": ""
             }
            },
            "type": "parcoords"
           }
          ],
          "scatter": [
           {
            "marker": {
             "colorbar": {
              "outlinewidth": 0,
              "ticks": ""
             }
            },
            "type": "scatter"
           }
          ],
          "scatter3d": [
           {
            "line": {
             "colorbar": {
              "outlinewidth": 0,
              "ticks": ""
             }
            },
            "marker": {
             "colorbar": {
              "outlinewidth": 0,
              "ticks": ""
             }
            },
            "type": "scatter3d"
           }
          ],
          "scattercarpet": [
           {
            "marker": {
             "colorbar": {
              "outlinewidth": 0,
              "ticks": ""
             }
            },
            "type": "scattercarpet"
           }
          ],
          "scattergeo": [
           {
            "marker": {
             "colorbar": {
              "outlinewidth": 0,
              "ticks": ""
             }
            },
            "type": "scattergeo"
           }
          ],
          "scattergl": [
           {
            "marker": {
             "colorbar": {
              "outlinewidth": 0,
              "ticks": ""
             }
            },
            "type": "scattergl"
           }
          ],
          "scattermapbox": [
           {
            "marker": {
             "colorbar": {
              "outlinewidth": 0,
              "ticks": ""
             }
            },
            "type": "scattermapbox"
           }
          ],
          "scatterpolar": [
           {
            "marker": {
             "colorbar": {
              "outlinewidth": 0,
              "ticks": ""
             }
            },
            "type": "scatterpolar"
           }
          ],
          "scatterpolargl": [
           {
            "marker": {
             "colorbar": {
              "outlinewidth": 0,
              "ticks": ""
             }
            },
            "type": "scatterpolargl"
           }
          ],
          "scatterternary": [
           {
            "marker": {
             "colorbar": {
              "outlinewidth": 0,
              "ticks": ""
             }
            },
            "type": "scatterternary"
           }
          ],
          "surface": [
           {
            "colorbar": {
             "outlinewidth": 0,
             "ticks": ""
            },
            "colorscale": [
             [
              0,
              "#0d0887"
             ],
             [
              0.1111111111111111,
              "#46039f"
             ],
             [
              0.2222222222222222,
              "#7201a8"
             ],
             [
              0.3333333333333333,
              "#9c179e"
             ],
             [
              0.4444444444444444,
              "#bd3786"
             ],
             [
              0.5555555555555556,
              "#d8576b"
             ],
             [
              0.6666666666666666,
              "#ed7953"
             ],
             [
              0.7777777777777778,
              "#fb9f3a"
             ],
             [
              0.8888888888888888,
              "#fdca26"
             ],
             [
              1,
              "#f0f921"
             ]
            ],
            "type": "surface"
           }
          ],
          "table": [
           {
            "cells": {
             "fill": {
              "color": "#EBF0F8"
             },
             "line": {
              "color": "white"
             }
            },
            "header": {
             "fill": {
              "color": "#C8D4E3"
             },
             "line": {
              "color": "white"
             }
            },
            "type": "table"
           }
          ]
         },
         "layout": {
          "annotationdefaults": {
           "arrowcolor": "#2a3f5f",
           "arrowhead": 0,
           "arrowwidth": 1
          },
          "colorscale": {
           "diverging": [
            [
             0,
             "#8e0152"
            ],
            [
             0.1,
             "#c51b7d"
            ],
            [
             0.2,
             "#de77ae"
            ],
            [
             0.3,
             "#f1b6da"
            ],
            [
             0.4,
             "#fde0ef"
            ],
            [
             0.5,
             "#f7f7f7"
            ],
            [
             0.6,
             "#e6f5d0"
            ],
            [
             0.7,
             "#b8e186"
            ],
            [
             0.8,
             "#7fbc41"
            ],
            [
             0.9,
             "#4d9221"
            ],
            [
             1,
             "#276419"
            ]
           ],
           "sequential": [
            [
             0,
             "#0d0887"
            ],
            [
             0.1111111111111111,
             "#46039f"
            ],
            [
             0.2222222222222222,
             "#7201a8"
            ],
            [
             0.3333333333333333,
             "#9c179e"
            ],
            [
             0.4444444444444444,
             "#bd3786"
            ],
            [
             0.5555555555555556,
             "#d8576b"
            ],
            [
             0.6666666666666666,
             "#ed7953"
            ],
            [
             0.7777777777777778,
             "#fb9f3a"
            ],
            [
             0.8888888888888888,
             "#fdca26"
            ],
            [
             1,
             "#f0f921"
            ]
           ],
           "sequentialminus": [
            [
             0,
             "#0d0887"
            ],
            [
             0.1111111111111111,
             "#46039f"
            ],
            [
             0.2222222222222222,
             "#7201a8"
            ],
            [
             0.3333333333333333,
             "#9c179e"
            ],
            [
             0.4444444444444444,
             "#bd3786"
            ],
            [
             0.5555555555555556,
             "#d8576b"
            ],
            [
             0.6666666666666666,
             "#ed7953"
            ],
            [
             0.7777777777777778,
             "#fb9f3a"
            ],
            [
             0.8888888888888888,
             "#fdca26"
            ],
            [
             1,
             "#f0f921"
            ]
           ]
          },
          "colorway": [
           "#636efa",
           "#EF553B",
           "#00cc96",
           "#ab63fa",
           "#FFA15A",
           "#19d3f3",
           "#FF6692",
           "#B6E880",
           "#FF97FF",
           "#FECB52"
          ],
          "font": {
           "color": "#2a3f5f"
          },
          "geo": {
           "bgcolor": "white",
           "lakecolor": "white",
           "landcolor": "#E5ECF6",
           "showlakes": true,
           "showland": true,
           "subunitcolor": "white"
          },
          "hoverlabel": {
           "align": "left"
          },
          "hovermode": "closest",
          "mapbox": {
           "style": "light"
          },
          "paper_bgcolor": "white",
          "plot_bgcolor": "#E5ECF6",
          "polar": {
           "angularaxis": {
            "gridcolor": "white",
            "linecolor": "white",
            "ticks": ""
           },
           "bgcolor": "#E5ECF6",
           "radialaxis": {
            "gridcolor": "white",
            "linecolor": "white",
            "ticks": ""
           }
          },
          "scene": {
           "xaxis": {
            "backgroundcolor": "#E5ECF6",
            "gridcolor": "white",
            "gridwidth": 2,
            "linecolor": "white",
            "showbackground": true,
            "ticks": "",
            "zerolinecolor": "white"
           },
           "yaxis": {
            "backgroundcolor": "#E5ECF6",
            "gridcolor": "white",
            "gridwidth": 2,
            "linecolor": "white",
            "showbackground": true,
            "ticks": "",
            "zerolinecolor": "white"
           },
           "zaxis": {
            "backgroundcolor": "#E5ECF6",
            "gridcolor": "white",
            "gridwidth": 2,
            "linecolor": "white",
            "showbackground": true,
            "ticks": "",
            "zerolinecolor": "white"
           }
          },
          "shapedefaults": {
           "line": {
            "color": "#2a3f5f"
           }
          },
          "ternary": {
           "aaxis": {
            "gridcolor": "white",
            "linecolor": "white",
            "ticks": ""
           },
           "baxis": {
            "gridcolor": "white",
            "linecolor": "white",
            "ticks": ""
           },
           "bgcolor": "#E5ECF6",
           "caxis": {
            "gridcolor": "white",
            "linecolor": "white",
            "ticks": ""
           }
          },
          "title": {
           "x": 0.05
          },
          "xaxis": {
           "automargin": true,
           "gridcolor": "white",
           "linecolor": "white",
           "ticks": "",
           "zerolinecolor": "white",
           "zerolinewidth": 2
          },
          "yaxis": {
           "automargin": true,
           "gridcolor": "white",
           "linecolor": "white",
           "ticks": "",
           "zerolinecolor": "white",
           "zerolinewidth": 2
          }
         }
        },
        "title": {
         "text": "Distribution of active vs churned user per state"
        },
        "xaxis": {
         "anchor": "y",
         "domain": [
          0,
          1
         ],
         "tickangle": -45,
         "title": {
          "text": "Location"
         }
        },
        "xaxis2": {
         "anchor": "y2",
         "domain": [
          0,
          1
         ],
         "tickangle": -45,
         "title": {
          "text": "Location"
         }
        },
        "yaxis": {
         "anchor": "x",
         "domain": [
          0.625,
          1
         ],
         "title": {
          "text": "Count of users"
         }
        },
        "yaxis2": {
         "anchor": "x2",
         "domain": [
          0,
          0.375
         ],
         "title": {
          "text": "Count of users"
         }
        }
       }
      },
      "text/html": [
       "<div>\n",
       "        \n",
       "        \n",
       "            <div id=\"287ee875-b607-4fa8-a96f-88addcc27eb1\" class=\"plotly-graph-div\" style=\"height:525px; width:100%;\"></div>\n",
       "            <script type=\"text/javascript\">\n",
       "                require([\"plotly\"], function(Plotly) {\n",
       "                    window.PLOTLYENV=window.PLOTLYENV || {};\n",
       "                    \n",
       "                if (document.getElementById(\"287ee875-b607-4fa8-a96f-88addcc27eb1\")) {\n",
       "                    Plotly.newPlot(\n",
       "                        '287ee875-b607-4fa8-a96f-88addcc27eb1',\n",
       "                        [{\"marker\": {\"color\": \"rgb(68, 1, 84)\"}, \"name\": \"Cancel churned users\", \"type\": \"bar\", \"x\": [\"UT-ID\", \"AZ\", \"SC\", \"GA-AL\", \"LA\", \"RI-MA\", \"NJ\", \"IL-MO\", \"MN-WI\", \"OR\", \"SC-NC\", \"PA-NJ\", \"MD-WV\", \"VA\", \"NY-NJ-PA\", \"KY\", \"NH\", \"MI\", \"NV\", \"WI\", \"CA\", \"CT\", \"MT\", \"NC\", \"MD\", \"NE-IA\", \"IL\", \"WA\", \"MS\", \"AL\", \"IN\", \"OH\", \"TN\", \"IA\", \"PA\", \"DC-VA-MD-WV\", \"NY\", \"MO-KS\", \"KY-IN\", \"PA-NJ-DE-MD\", \"TX\", \"WV\", \"VA-NC\", \"OR-WA\", \"GA\", \"IL-IN-WI\", \"OH-KY-IN\", \"MO-IL\", \"FL\", \"CO\", \"AK\", \"MA-NH\", \"AR\", \"OK\", \"TN-MS-AR\", \"TN-VA\", \"UT\", \"NC-SC\"], \"xaxis\": \"x\", \"y\": [2, 1, 2, 4, 2, 1, 2, 1, 1, 2, 1, 1, 3, 1, 2, 1, 1, 3, 2, 1, 2, 1, 1, 3, 1, 1], \"yaxis\": \"y\"}, {\"marker\": {\"color\": \"rgb(220, 227, 25)\"}, \"name\": \"Active users\", \"type\": \"bar\", \"x\": [\"UT-ID\", \"AZ\", \"SC\", \"GA-AL\", \"LA\", \"RI-MA\", \"NJ\", \"IL-MO\", \"MN-WI\", \"OR\", \"SC-NC\", \"PA-NJ\", \"MD-WV\", \"VA\", \"NY-NJ-PA\", \"KY\", \"NH\", \"MI\", \"NV\", \"WI\", \"CA\", \"CT\", \"MT\", \"NC\", \"MD\", \"NE-IA\", \"IL\", \"WA\", \"MS\", \"AL\", \"IN\", \"OH\", \"TN\", \"IA\", \"PA\", \"DC-VA-MD-WV\", \"NY\", \"MO-KS\", \"KY-IN\", \"PA-NJ-DE-MD\", \"TX\", \"WV\", \"VA-NC\", \"OR-WA\", \"GA\", \"IL-IN-WI\", \"OH-KY-IN\", \"MO-IL\", \"FL\", \"CO\", \"AK\", \"MA-NH\", \"AR\", \"OK\", \"TN-MS-AR\", \"TN-VA\", \"UT\", \"NC-SC\"], \"xaxis\": \"x\", \"y\": [4, 1, 5, 28, 2, 11, 3, 10, 7, 3, 2, 2, 7, 2, 1, 2, 3, 2, 2, 3, 5, 4, 2, 1, 2, 6, 10, 1, 3, 1, 5, 3, 13, 1, 2, 1, 2, 2, 2, 2, 1, 2, 1, 1, 14, 1, 4, 1, 2, 2, 1], \"yaxis\": \"y\"}, {\"marker\": {\"color\": \"rgb(45, 112, 142)\"}, \"name\": \"Downgrade churned users\", \"type\": \"bar\", \"x\": [\"UT-ID\", \"AZ\", \"SC\", \"GA-AL\", \"LA\", \"RI-MA\", \"NJ\", \"IL-MO\", \"MN-WI\", \"OR\", \"SC-NC\", \"PA-NJ\", \"MD-WV\", \"VA\", \"NY-NJ-PA\", \"KY\", \"NH\", \"MI\", \"NV\", \"WI\", \"CA\", \"CT\", \"MT\", \"NC\", \"MD\", \"NE-IA\", \"IL\", \"WA\", \"MS\", \"AL\", \"IN\", \"OH\", \"TN\", \"IA\", \"PA\", \"DC-VA-MD-WV\", \"NY\", \"MO-KS\", \"KY-IN\", \"PA-NJ-DE-MD\", \"TX\", \"WV\", \"VA-NC\", \"OR-WA\", \"GA\", \"IL-IN-WI\", \"OH-KY-IN\", \"MO-IL\", \"FL\", \"CO\", \"AK\", \"MA-NH\", \"AR\", \"OK\", \"TN-MS-AR\", \"TN-VA\", \"UT\", \"NC-SC\"], \"xaxis\": \"x2\", \"y\": [1, 1, 10, 1, 1, 4, 1, 1, 1, 3, 2, 1, 1, 1, 2, 1, 2, 1, 1, 3, 1], \"yaxis\": \"y2\"}, {\"marker\": {\"color\": \"rgb(149, 216, 64)\"}, \"name\": \"Active paid users\", \"type\": \"bar\", \"x\": [\"UT-ID\", \"AZ\", \"SC\", \"GA-AL\", \"LA\", \"RI-MA\", \"NJ\", \"IL-MO\", \"MN-WI\", \"OR\", \"SC-NC\", \"PA-NJ\", \"MD-WV\", \"VA\", \"NY-NJ-PA\", \"KY\", \"NH\", \"MI\", \"NV\", \"WI\", \"CA\", \"CT\", \"MT\", \"NC\", \"MD\", \"NE-IA\", \"IL\", \"WA\", \"MS\", \"AL\", \"IN\", \"OH\", \"TN\", \"IA\", \"PA\", \"DC-VA-MD-WV\", \"NY\", \"MO-KS\", \"KY-IN\", \"PA-NJ-DE-MD\", \"TX\", \"WV\", \"VA-NC\", \"OR-WA\", \"GA\", \"IL-IN-WI\", \"OH-KY-IN\", \"MO-IL\", \"FL\", \"CO\", \"AK\", \"MA-NH\", \"AR\", \"OK\", \"TN-MS-AR\", \"TN-VA\", \"UT\", \"NC-SC\"], \"xaxis\": \"x2\", \"y\": [2, 2, 12, 1, 5, 2, 3, 4, 1, 1, 1, 3, 1, 1, 1, 1, 1, 2, 2, 1, 1, 1, 1, 4, 5, 2, 1, 2, 2, 6, 1, 1, 1, 1, 1, 1, 1, 6, 2, 1, 1], \"yaxis\": \"y2\"}],\n",
       "                        {\"annotations\": [{\"font\": {\"size\": 16}, \"showarrow\": false, \"text\": \"Service cancellation analysis\", \"x\": 0.5, \"xanchor\": \"center\", \"xref\": \"paper\", \"y\": 1.0, \"yanchor\": \"bottom\", \"yref\": \"paper\"}, {\"font\": {\"size\": 16}, \"showarrow\": false, \"text\": \"Service downgrade analysis\", \"x\": 0.5, \"xanchor\": \"center\", \"xref\": \"paper\", \"y\": 0.375, \"yanchor\": \"bottom\", \"yref\": \"paper\"}], \"barmode\": \"group\", \"template\": {\"data\": {\"bar\": [{\"error_x\": {\"color\": \"#2a3f5f\"}, \"error_y\": {\"color\": \"#2a3f5f\"}, \"marker\": {\"line\": {\"color\": \"#E5ECF6\", \"width\": 0.5}}, \"type\": \"bar\"}], \"barpolar\": [{\"marker\": {\"line\": {\"color\": \"#E5ECF6\", \"width\": 0.5}}, \"type\": \"barpolar\"}], \"carpet\": [{\"aaxis\": {\"endlinecolor\": \"#2a3f5f\", \"gridcolor\": \"white\", \"linecolor\": \"white\", \"minorgridcolor\": \"white\", \"startlinecolor\": \"#2a3f5f\"}, \"baxis\": {\"endlinecolor\": \"#2a3f5f\", \"gridcolor\": \"white\", \"linecolor\": \"white\", \"minorgridcolor\": \"white\", \"startlinecolor\": \"#2a3f5f\"}, \"type\": \"carpet\"}], \"choropleth\": [{\"colorbar\": {\"outlinewidth\": 0, \"ticks\": \"\"}, \"type\": \"choropleth\"}], \"contour\": [{\"colorbar\": {\"outlinewidth\": 0, \"ticks\": \"\"}, \"colorscale\": [[0.0, \"#0d0887\"], [0.1111111111111111, \"#46039f\"], [0.2222222222222222, \"#7201a8\"], [0.3333333333333333, \"#9c179e\"], [0.4444444444444444, \"#bd3786\"], [0.5555555555555556, \"#d8576b\"], [0.6666666666666666, \"#ed7953\"], [0.7777777777777778, \"#fb9f3a\"], [0.8888888888888888, \"#fdca26\"], [1.0, \"#f0f921\"]], \"type\": \"contour\"}], \"contourcarpet\": [{\"colorbar\": {\"outlinewidth\": 0, \"ticks\": \"\"}, \"type\": \"contourcarpet\"}], \"heatmap\": [{\"colorbar\": {\"outlinewidth\": 0, \"ticks\": \"\"}, \"colorscale\": [[0.0, \"#0d0887\"], [0.1111111111111111, \"#46039f\"], [0.2222222222222222, \"#7201a8\"], [0.3333333333333333, \"#9c179e\"], [0.4444444444444444, \"#bd3786\"], [0.5555555555555556, \"#d8576b\"], [0.6666666666666666, \"#ed7953\"], [0.7777777777777778, \"#fb9f3a\"], [0.8888888888888888, \"#fdca26\"], [1.0, \"#f0f921\"]], \"type\": \"heatmap\"}], \"heatmapgl\": [{\"colorbar\": {\"outlinewidth\": 0, \"ticks\": \"\"}, \"colorscale\": [[0.0, \"#0d0887\"], [0.1111111111111111, \"#46039f\"], [0.2222222222222222, \"#7201a8\"], [0.3333333333333333, \"#9c179e\"], [0.4444444444444444, \"#bd3786\"], [0.5555555555555556, \"#d8576b\"], [0.6666666666666666, \"#ed7953\"], [0.7777777777777778, \"#fb9f3a\"], [0.8888888888888888, \"#fdca26\"], [1.0, \"#f0f921\"]], \"type\": \"heatmapgl\"}], \"histogram\": [{\"marker\": {\"colorbar\": {\"outlinewidth\": 0, \"ticks\": \"\"}}, \"type\": \"histogram\"}], \"histogram2d\": [{\"colorbar\": {\"outlinewidth\": 0, \"ticks\": \"\"}, \"colorscale\": [[0.0, \"#0d0887\"], [0.1111111111111111, \"#46039f\"], [0.2222222222222222, \"#7201a8\"], [0.3333333333333333, \"#9c179e\"], [0.4444444444444444, \"#bd3786\"], [0.5555555555555556, \"#d8576b\"], [0.6666666666666666, \"#ed7953\"], [0.7777777777777778, \"#fb9f3a\"], [0.8888888888888888, \"#fdca26\"], [1.0, \"#f0f921\"]], \"type\": \"histogram2d\"}], \"histogram2dcontour\": [{\"colorbar\": {\"outlinewidth\": 0, \"ticks\": \"\"}, \"colorscale\": [[0.0, \"#0d0887\"], [0.1111111111111111, \"#46039f\"], [0.2222222222222222, \"#7201a8\"], [0.3333333333333333, \"#9c179e\"], [0.4444444444444444, \"#bd3786\"], [0.5555555555555556, \"#d8576b\"], [0.6666666666666666, \"#ed7953\"], [0.7777777777777778, \"#fb9f3a\"], [0.8888888888888888, \"#fdca26\"], [1.0, \"#f0f921\"]], \"type\": \"histogram2dcontour\"}], \"mesh3d\": [{\"colorbar\": {\"outlinewidth\": 0, \"ticks\": \"\"}, \"type\": \"mesh3d\"}], \"parcoords\": [{\"line\": {\"colorbar\": {\"outlinewidth\": 0, \"ticks\": \"\"}}, \"type\": \"parcoords\"}], \"scatter\": [{\"marker\": {\"colorbar\": {\"outlinewidth\": 0, \"ticks\": \"\"}}, \"type\": \"scatter\"}], \"scatter3d\": [{\"line\": {\"colorbar\": {\"outlinewidth\": 0, \"ticks\": \"\"}}, \"marker\": {\"colorbar\": {\"outlinewidth\": 0, \"ticks\": \"\"}}, \"type\": \"scatter3d\"}], \"scattercarpet\": [{\"marker\": {\"colorbar\": {\"outlinewidth\": 0, \"ticks\": \"\"}}, \"type\": \"scattercarpet\"}], \"scattergeo\": [{\"marker\": {\"colorbar\": {\"outlinewidth\": 0, \"ticks\": \"\"}}, \"type\": \"scattergeo\"}], \"scattergl\": [{\"marker\": {\"colorbar\": {\"outlinewidth\": 0, \"ticks\": \"\"}}, \"type\": \"scattergl\"}], \"scattermapbox\": [{\"marker\": {\"colorbar\": {\"outlinewidth\": 0, \"ticks\": \"\"}}, \"type\": \"scattermapbox\"}], \"scatterpolar\": [{\"marker\": {\"colorbar\": {\"outlinewidth\": 0, \"ticks\": \"\"}}, \"type\": \"scatterpolar\"}], \"scatterpolargl\": [{\"marker\": {\"colorbar\": {\"outlinewidth\": 0, \"ticks\": \"\"}}, \"type\": \"scatterpolargl\"}], \"scatterternary\": [{\"marker\": {\"colorbar\": {\"outlinewidth\": 0, \"ticks\": \"\"}}, \"type\": \"scatterternary\"}], \"surface\": [{\"colorbar\": {\"outlinewidth\": 0, \"ticks\": \"\"}, \"colorscale\": [[0.0, \"#0d0887\"], [0.1111111111111111, \"#46039f\"], [0.2222222222222222, \"#7201a8\"], [0.3333333333333333, \"#9c179e\"], [0.4444444444444444, \"#bd3786\"], [0.5555555555555556, \"#d8576b\"], [0.6666666666666666, \"#ed7953\"], [0.7777777777777778, \"#fb9f3a\"], [0.8888888888888888, \"#fdca26\"], [1.0, \"#f0f921\"]], \"type\": \"surface\"}], \"table\": [{\"cells\": {\"fill\": {\"color\": \"#EBF0F8\"}, \"line\": {\"color\": \"white\"}}, \"header\": {\"fill\": {\"color\": \"#C8D4E3\"}, \"line\": {\"color\": \"white\"}}, \"type\": \"table\"}]}, \"layout\": {\"annotationdefaults\": {\"arrowcolor\": \"#2a3f5f\", \"arrowhead\": 0, \"arrowwidth\": 1}, \"colorscale\": {\"diverging\": [[0, \"#8e0152\"], [0.1, \"#c51b7d\"], [0.2, \"#de77ae\"], [0.3, \"#f1b6da\"], [0.4, \"#fde0ef\"], [0.5, \"#f7f7f7\"], [0.6, \"#e6f5d0\"], [0.7, \"#b8e186\"], [0.8, \"#7fbc41\"], [0.9, \"#4d9221\"], [1, \"#276419\"]], \"sequential\": [[0.0, \"#0d0887\"], [0.1111111111111111, \"#46039f\"], [0.2222222222222222, \"#7201a8\"], [0.3333333333333333, \"#9c179e\"], [0.4444444444444444, \"#bd3786\"], [0.5555555555555556, \"#d8576b\"], [0.6666666666666666, \"#ed7953\"], [0.7777777777777778, \"#fb9f3a\"], [0.8888888888888888, \"#fdca26\"], [1.0, \"#f0f921\"]], \"sequentialminus\": [[0.0, \"#0d0887\"], [0.1111111111111111, \"#46039f\"], [0.2222222222222222, \"#7201a8\"], [0.3333333333333333, \"#9c179e\"], [0.4444444444444444, \"#bd3786\"], [0.5555555555555556, \"#d8576b\"], [0.6666666666666666, \"#ed7953\"], [0.7777777777777778, \"#fb9f3a\"], [0.8888888888888888, \"#fdca26\"], [1.0, \"#f0f921\"]]}, \"colorway\": [\"#636efa\", \"#EF553B\", \"#00cc96\", \"#ab63fa\", \"#FFA15A\", \"#19d3f3\", \"#FF6692\", \"#B6E880\", \"#FF97FF\", \"#FECB52\"], \"font\": {\"color\": \"#2a3f5f\"}, \"geo\": {\"bgcolor\": \"white\", \"lakecolor\": \"white\", \"landcolor\": \"#E5ECF6\", \"showlakes\": true, \"showland\": true, \"subunitcolor\": \"white\"}, \"hoverlabel\": {\"align\": \"left\"}, \"hovermode\": \"closest\", \"mapbox\": {\"style\": \"light\"}, \"paper_bgcolor\": \"white\", \"plot_bgcolor\": \"#E5ECF6\", \"polar\": {\"angularaxis\": {\"gridcolor\": \"white\", \"linecolor\": \"white\", \"ticks\": \"\"}, \"bgcolor\": \"#E5ECF6\", \"radialaxis\": {\"gridcolor\": \"white\", \"linecolor\": \"white\", \"ticks\": \"\"}}, \"scene\": {\"xaxis\": {\"backgroundcolor\": \"#E5ECF6\", \"gridcolor\": \"white\", \"gridwidth\": 2, \"linecolor\": \"white\", \"showbackground\": true, \"ticks\": \"\", \"zerolinecolor\": \"white\"}, \"yaxis\": {\"backgroundcolor\": \"#E5ECF6\", \"gridcolor\": \"white\", \"gridwidth\": 2, \"linecolor\": \"white\", \"showbackground\": true, \"ticks\": \"\", \"zerolinecolor\": \"white\"}, \"zaxis\": {\"backgroundcolor\": \"#E5ECF6\", \"gridcolor\": \"white\", \"gridwidth\": 2, \"linecolor\": \"white\", \"showbackground\": true, \"ticks\": \"\", \"zerolinecolor\": \"white\"}}, \"shapedefaults\": {\"line\": {\"color\": \"#2a3f5f\"}}, \"ternary\": {\"aaxis\": {\"gridcolor\": \"white\", \"linecolor\": \"white\", \"ticks\": \"\"}, \"baxis\": {\"gridcolor\": \"white\", \"linecolor\": \"white\", \"ticks\": \"\"}, \"bgcolor\": \"#E5ECF6\", \"caxis\": {\"gridcolor\": \"white\", \"linecolor\": \"white\", \"ticks\": \"\"}}, \"title\": {\"x\": 0.05}, \"xaxis\": {\"automargin\": true, \"gridcolor\": \"white\", \"linecolor\": \"white\", \"ticks\": \"\", \"zerolinecolor\": \"white\", \"zerolinewidth\": 2}, \"yaxis\": {\"automargin\": true, \"gridcolor\": \"white\", \"linecolor\": \"white\", \"ticks\": \"\", \"zerolinecolor\": \"white\", \"zerolinewidth\": 2}}}, \"title\": {\"text\": \"Distribution of active vs churned user per state\"}, \"xaxis\": {\"anchor\": \"y\", \"domain\": [0.0, 1.0], \"tickangle\": -45, \"title\": {\"text\": \"Location\"}}, \"xaxis2\": {\"anchor\": \"y2\", \"domain\": [0.0, 1.0], \"tickangle\": -45, \"title\": {\"text\": \"Location\"}}, \"yaxis\": {\"anchor\": \"x\", \"domain\": [0.625, 1.0], \"title\": {\"text\": \"Count of users\"}}, \"yaxis2\": {\"anchor\": \"x2\", \"domain\": [0.0, 0.375], \"title\": {\"text\": \"Count of users\"}}},\n",
       "                        {\"responsive\": true}\n",
       "                    ).then(function(){\n",
       "                            \n",
       "var gd = document.getElementById('287ee875-b607-4fa8-a96f-88addcc27eb1');\n",
       "var x = new MutationObserver(function (mutations, observer) {{\n",
       "        var display = window.getComputedStyle(gd).display;\n",
       "        if (!display || display === 'none') {{\n",
       "            console.log([gd, 'removed!']);\n",
       "            Plotly.purge(gd);\n",
       "            observer.disconnect();\n",
       "        }}\n",
       "}});\n",
       "\n",
       "// Listen for the removal of the full notebook cells\n",
       "var notebookContainer = gd.closest('#notebook-container');\n",
       "if (notebookContainer) {{\n",
       "    x.observe(notebookContainer, {childList: true});\n",
       "}}\n",
       "\n",
       "// Listen for the clearing of the current output cell\n",
       "var outputEl = gd.closest('.output');\n",
       "if (outputEl) {{\n",
       "    x.observe(outputEl, {childList: true});\n",
       "}}\n",
       "\n",
       "                        })\n",
       "                };\n",
       "                });\n",
       "            </script>\n",
       "        </div>"
      ]
     },
     "metadata": {},
     "output_type": "display_data"
    }
   ],
   "source": [
    "fig = make_subplots(rows=2, cols=1,\n",
    "                   subplot_titles=(\"Service cancellation analysis\", \"Service downgrade analysis\"))\n",
    "\n",
    "fig.append_trace(go.Bar(\n",
    "    x=locations,\n",
    "    y=location_churn_service.groupby('state')['userId'].count(),\n",
    "    name='Cancel churned users',\n",
    "    marker=dict(\n",
    "        color='rgb(68, 1, 84)'\n",
    "    )\n",
    "),1,1)\n",
    "fig.append_trace(go.Bar(\n",
    "    x=locations,\n",
    "    y=location_no_churn.groupby('state')['userId'].count(),\n",
    "    name='Active users',\n",
    "    marker=dict(\n",
    "        color='rgb(220, 227, 25)'\n",
    "    )\n",
    "),1,1)\n",
    "fig.append_trace(go.Bar(\n",
    "    x=locations,\n",
    "    y=location_churn_paid.groupby('state')['userId'].count(),\n",
    "    name='Downgrade churned users',\n",
    "    marker=dict(\n",
    "        color='rgb(45, 112, 142)'\n",
    "    ),\n",
    "),2, 1)\n",
    "fig.append_trace(go.Bar(\n",
    "    x=locations,\n",
    "    y=location_no_churn[location_no_churn['level']=='paid'].groupby('state')['userId'].count(),\n",
    "    name='Active paid users',\n",
    "    marker=dict(\n",
    "        color='rgb(149, 216, 64)'\n",
    "    ),\n",
    "),2, 1)\n",
    "fig.layout.update(go.Layout(\n",
    "    title_text=\"Distribution of active vs churned user per state\",\n",
    "    barmode='group'\n",
    "))\n",
    "fig.update_xaxes(title_text=\"Location\", tickangle=-45, row=1, col=1)\n",
    "fig.update_xaxes(title_text=\"Location\", tickangle=-45, row=2, col=1)\n",
    "fig.update_yaxes(title_text=\"Count of users\", row=1, col=1)\n",
    "fig.update_yaxes(title_text=\"Count of users\", row=2, col=1)\n",
    "\n",
    "fig.show()"
   ]
  },
  {
   "cell_type": "markdown",
   "metadata": {},
   "source": [
    "We can clearly see a pattern in those two graphs, where some states have only active users and no churned users. "
   ]
  },
  {
   "cell_type": "markdown",
   "metadata": {},
   "source": [
    "*Impact of the average number of songs listened to, artists, repeats, partial listening*\n",
    "\n",
    "In this section we will not focus on *who* the user is, but *what* he/she does on the platform, by looking at the songs and artist he/she listens to, how many times to the same song or artist, how many partial listening, how many thumbs up or thumbs down.\n",
    "\n",
    "In order to have a better idea on the usage, let's explore the average per week and per month separately.\n",
    "\n",
    "Note that we have a partial listening when the difference between the timestamp of a \"NextSong\" action and the following action is less than the value of the length feature of the \"NextSong\" action.\n",
    "For example, length = 185.25995, and the difference between the NextSong action associated with this length and the following user action is diff : 120.12556.\n"
   ]
  },
  {
   "cell_type": "markdown",
   "metadata": {},
   "source": [
    "*Partial listenings flag*\n",
    "\n",
    "Let's add a column to our dataset to flag when a \"NextSong\" action is a partial listening.\n",
    "We are going to flag whenever a user skipped a song - i.e. went from NextSong to another NextSong page within the first 30 seconds of the current song being listened to. \n",
    "\n",
    "Note that we could also consider a user skipped a song if he/she went to another page than NextSong (for example, went to Home, or Submit Upgrade). Unfortunately, we do not have enough evidence that the song being listened to stops when going to any other page except another NextSong."
   ]
  },
  {
   "cell_type": "code",
   "execution_count": 58,
   "metadata": {},
   "outputs": [],
   "source": [
    "# create a partition grouping by userId and sorting by descending timestamp\n",
    "user_category = Window.partitionBy(\"userId\").orderBy(desc(\"ts\"))\n",
    "\n",
    "# add two new columns containing the value of the action and the timestamp of the next event logged for a user\n",
    "partial_listening = event_data_churn.withColumn(\"next_ts\", lag('ts', 1).over(user_category))\n",
    "partial_listening = partial_listening.withColumn(\"next_action\", lag('page', 1).over(user_category))\n",
    "\n",
    "# calculate the difference between the timestamps of two following actions\n",
    "partial_listening = partial_listening.withColumn(\"diff_ts\", (partial_listening.next_ts.cast(\"integer\")-partial_listening.ts.cast(\"integer\"))/1000)\n",
    "\n",
    "# drop the rows with a null value in the length column\n",
    "#partial_listening = partial_listening.filter((~partial_listening[\"next_action\"].isin(['Thumbs Up', 'Thumbs Down', 'Add to Playlist', 'Roll Advert']))).filter(partial_listening[\"length\"].isNotNull())\n",
    "partial_listening = partial_listening.filter((partial_listening[\"next_action\"]=='NextSong')).filter(partial_listening[\"length\"].isNotNull())\n",
    "\n",
    "# compute to the time a song was listened two (difference between the length of a song and the diff between\n",
    "# two following actions)\n",
    "partial_listening = partial_listening.withColumn(\"time_song_left\", partial_listening.length - partial_listening.diff_ts)\n",
    "\n",
    "\n"
   ]
  },
  {
   "cell_type": "code",
   "execution_count": 59,
   "metadata": {},
   "outputs": [
    {
     "name": "stdout",
     "output_type": "stream",
     "text": [
      "+------+--------+-------------+-----------+-------------+---------+-------+--------------------+\n",
      "|userId|    page|           ts|next_action|      next_ts|   length|diff_ts|      time_song_left|\n",
      "+------+--------+-------------+-----------+-------------+---------+-------+--------------------+\n",
      "|100010|NextSong|1542823682000|   NextSong|1542823951000|269.76608|  269.0|  0.7660799999999881|\n",
      "|100010|NextSong|1542823567000|   NextSong|1542823682000|115.90485|  115.0|  0.9048499999999962|\n",
      "|100010|NextSong|1542822946000|   NextSong|1542823248000|302.57587|  302.0|   0.575870000000009|\n",
      "|100010|NextSong|1542822641000|   NextSong|1542822946000|305.05751|  305.0|  0.0575099999999793|\n",
      "|100010|NextSong|1542822434000|   NextSong|1542822641000|207.64689|  207.0|  0.6468900000000133|\n",
      "|100010|NextSong|1542822170000|   NextSong|1542822434000|264.93342|  264.0|  0.9334200000000124|\n",
      "|100010|NextSong|1542821662000|   NextSong|1542821943000| 281.5473|  281.0|   0.547300000000007|\n",
      "|100010|NextSong|1542821317000|   NextSong|1542821662000|345.05098|  345.0|0.050979999999981374|\n",
      "|100010|NextSong|1542820950000|   NextSong|1542821317000|367.15057|  367.0| 0.15057000000001608|\n",
      "|100010|NextSong|1542820651000|   NextSong|1542820950000|299.75465|  299.0|  0.7546500000000265|\n",
      "|100010|NextSong|1542820437000|   NextSong|1542820651000|214.80444|  214.0|  0.8044399999999996|\n",
      "|100010|NextSong|1542819682000|   NextSong|1542819919000|237.47873|  237.0|   0.478730000000013|\n",
      "|100010|NextSong|1542819621000|   NextSong|1542819682000| 61.85751|   61.0|  0.8575099999999978|\n",
      "|100010|NextSong|1542819393000|   NextSong|1542819621000|228.46649|  228.0|  0.4664899999999932|\n",
      "|100010|NextSong|1542818892000|   NextSong|1542819073000|181.21098|  181.0| 0.21098000000000638|\n",
      "|100010|NextSong|1542818644000|   NextSong|1542818892000|248.58077|  248.0|  0.5807700000000011|\n",
      "|100010|NextSong|1542818323000|   NextSong|1542818644000|321.54077|  321.0|  0.5407700000000091|\n",
      "|100010|NextSong|1541750665000|   NextSong|1541750730000| 65.88036|   65.0|   0.880359999999996|\n",
      "|100010|NextSong|1541750235000|   NextSong|1541750488000|253.02159|  253.0| 0.02159000000000333|\n",
      "|100010|NextSong|1541749891000|   NextSong|1541750235000|344.86812|  344.0|  0.8681199999999762|\n",
      "+------+--------+-------------+-----------+-------------+---------+-------+--------------------+\n",
      "only showing top 20 rows\n",
      "\n"
     ]
    }
   ],
   "source": [
    "partial_listening.select(['userId', 'page', 'ts', 'next_action', 'next_ts', 'length', 'diff_ts', 'time_song_left']).show(20)\n"
   ]
  },
  {
   "cell_type": "code",
   "execution_count": 60,
   "metadata": {},
   "outputs": [],
   "source": [
    "# create a flag column that tracks if a song was not listened to completely\n",
    "def is_partial(song_length, listen_time):\n",
    "    if listen_time > 30 and song_length > 30:\n",
    "        # arbitrarily, we consider that a user skipped a song if the following action logged \n",
    "        # occured within 30 seconds after the beginning of the song\n",
    "        return 0\n",
    "    elif song_length < 30:\n",
    "        if listen_time > 0.5*song_length:\n",
    "            return 0  \n",
    "    return 1\n",
    "\n",
    "flag_partial_event = udf(lambda x, y: is_partial(x, y), IntegerType())\n",
    "partial_listening = partial_listening.withColumn(\"partial_listening\", flag_partial_event(partial_listening.length, partial_listening.diff_ts))\n"
   ]
  },
  {
   "cell_type": "code",
   "execution_count": 61,
   "metadata": {},
   "outputs": [
    {
     "name": "stdout",
     "output_type": "stream",
     "text": [
      "+------+-----------------+\n",
      "|userId|partial_listening|\n",
      "+------+-----------------+\n",
      "|300002|                1|\n",
      "|   120|                1|\n",
      "|    92|                1|\n",
      "|300021|                1|\n",
      "|    39|                1|\n",
      "|    91|                1|\n",
      "|    45|                1|\n",
      "+------+-----------------+\n",
      "\n"
     ]
    }
   ],
   "source": [
    "# let's see how many users actually listen partially to songs\n",
    "partial_listening.select(['userId', 'partial_listening']).where(partial_listening['partial_listening']==1).show()"
   ]
  },
  {
   "cell_type": "markdown",
   "metadata": {},
   "source": [
    "It looks like only 9 songs were partially listened to! Not relevant enough to be plotted unfortunately with this tiny dataset. \n",
    "However, let's keep in mind the logic to build this feature as we can use it later on to train our model!"
   ]
  },
  {
   "cell_type": "markdown",
   "metadata": {},
   "source": [
    "*Repeats*"
   ]
  },
  {
   "cell_type": "code",
   "execution_count": null,
   "metadata": {},
   "outputs": [],
   "source": []
  },
  {
   "cell_type": "code",
   "execution_count": null,
   "metadata": {},
   "outputs": [],
   "source": []
  },
  {
   "cell_type": "markdown",
   "metadata": {},
   "source": [
    "*RollAdvert*"
   ]
  },
  {
   "cell_type": "code",
   "execution_count": null,
   "metadata": {},
   "outputs": [],
   "source": []
  },
  {
   "cell_type": "code",
   "execution_count": null,
   "metadata": {},
   "outputs": [],
   "source": []
  },
  {
   "cell_type": "markdown",
   "metadata": {},
   "source": [
    "*Login*"
   ]
  },
  {
   "cell_type": "code",
   "execution_count": null,
   "metadata": {},
   "outputs": [],
   "source": []
  },
  {
   "cell_type": "code",
   "execution_count": null,
   "metadata": {},
   "outputs": [],
   "source": []
  },
  {
   "cell_type": "markdown",
   "metadata": {},
   "source": [
    "*Number of distinct artist listened to*\n"
   ]
  },
  {
   "cell_type": "code",
   "execution_count": null,
   "metadata": {},
   "outputs": [],
   "source": []
  },
  {
   "cell_type": "code",
   "execution_count": null,
   "metadata": {},
   "outputs": [],
   "source": []
  },
  {
   "cell_type": "markdown",
   "metadata": {},
   "source": [
    "*Number of songs, thumbs up and thumbs down*\n",
    "\n",
    "In this section, we are going to look at the **daily** average behavior of each user.\n",
    "We could perform this analysis looking at weekly or monthly aggregates, so let's arbitrarily decide to look at a weekly aggregate. \n",
    "\n",
    "If our churn prediction model were to be deployed in production for a company trying to anticipate churning, we would expect they want an updated estimate that evolves fast, preferably every week instead of every month.\n"
   ]
  },
  {
   "cell_type": "code",
   "execution_count": 248,
   "metadata": {},
   "outputs": [],
   "source": [
    "# we define user functions to track whether the user is listening to a song, or evaluating the song\n",
    "is_song = udf(lambda action: 1 if action == 'NextSong' else 0, IntegerType())\n",
    "is_thumb_up = udf(lambda action: 1 if action == 'Thumbs Up' else 0, IntegerType())\n",
    "is_thumb_down = udf(lambda action: 1 if action == 'Thumbs Down' else 0, IntegerType())\n",
    "\n",
    "# add columns to tag songs, thumb_up and thumb_down\n",
    "agg_df = event_data_churn.withColumn('is_song', is_song(event_data_churn['page'])) \\\n",
    "                        .withColumn('is_thumb_up', is_thumb_up(event_data_churn['page'])) \\\n",
    "                        .withColumn('is_thumb_down', is_thumb_down(event_data_churn['page']))"
   ]
  },
  {
   "cell_type": "code",
   "execution_count": 249,
   "metadata": {},
   "outputs": [
    {
     "name": "stdout",
     "output_type": "stream",
     "text": [
      "+------+---------------+-------+-----------+-------------+\n",
      "|userId|           page|is_song|is_thumb_up|is_thumb_down|\n",
      "+------+---------------+-------+-----------+-------------+\n",
      "|    28|     Add Friend|      0|          0|            0|\n",
      "|   129|       Settings|      0|          0|            0|\n",
      "|    10|       Settings|      0|          0|            0|\n",
      "|    37|        Upgrade|      0|          0|            0|\n",
      "|    57|      Thumbs Up|      0|          1|            0|\n",
      "|   149|Add to Playlist|      0|          0|            0|\n",
      "|   155|     Add Friend|      0|          0|            0|\n",
      "|    30| Submit Upgrade|      0|          0|            0|\n",
      "|100025|    Thumbs Down|      0|          0|            1|\n",
      "|200001|    Thumbs Down|      0|          0|            1|\n",
      "|200021|      Thumbs Up|      0|          1|            0|\n",
      "|300022|      Downgrade|      0|          0|            0|\n",
      "|    27|           Home|      0|          0|            0|\n",
      "|   100|    Thumbs Down|      0|          0|            1|\n",
      "|    49|         Logout|      0|          0|            0|\n",
      "|   145|           Home|      0|          0|            0|\n",
      "|    68|       NextSong|      1|          0|            0|\n",
      "|   125|         Cancel|      0|          0|            0|\n",
      "|    41|          About|      0|          0|            0|\n",
      "|    62|           Home|      0|          0|            0|\n",
      "|100005|     Add Friend|      0|          0|            0|\n",
      "|100023|    Roll Advert|      0|          0|            0|\n",
      "|100010|      Thumbs Up|      0|          1|            0|\n",
      "|200003|      Thumbs Up|      0|          1|            0|\n",
      "|200015|         Logout|      0|          0|            0|\n",
      "|300020|       NextSong|      1|          0|            0|\n",
      "|    59|     Add Friend|      0|          0|            0|\n",
      "|     9|          About|      0|          0|            0|\n",
      "|    17|       NextSong|      1|          0|            0|\n",
      "|    13|    Thumbs Down|      0|          0|            1|\n",
      "|   102|    Thumbs Down|      0|          0|            1|\n",
      "|   112|      Thumbs Up|      0|          1|            0|\n",
      "|    66|         Logout|      0|          0|            0|\n",
      "|   125|    Roll Advert|      0|          0|            0|\n",
      "|    87|          About|      0|          0|            0|\n",
      "|    80|    Thumbs Down|      0|          0|            1|\n",
      "|     7|       Settings|      0|          0|            0|\n",
      "|    45|          About|      0|          0|            0|\n",
      "|100006|           Home|      0|          0|            0|\n",
      "|100019|    Roll Advert|      0|          0|            0|\n",
      "|100008|           Home|      0|          0|            0|\n",
      "|200020|  Save Settings|      0|          0|            0|\n",
      "|    74|Add to Playlist|      0|          0|            0|\n",
      "|   142|     Add Friend|      0|          0|            0|\n",
      "|    98|Add to Playlist|      0|          0|            0|\n",
      "|    70|           Help|      0|          0|            0|\n",
      "|    20|Add to Playlist|      0|          0|            0|\n",
      "|   117|    Roll Advert|      0|          0|            0|\n",
      "|   150|Add to Playlist|      0|          0|            0|\n",
      "|    55|      Thumbs Up|      0|          1|            0|\n",
      "+------+---------------+-------+-----------+-------------+\n",
      "only showing top 50 rows\n",
      "\n"
     ]
    }
   ],
   "source": [
    "agg_df['userId', 'page', 'is_song', 'is_thumb_up', 'is_thumb_down'].dropDuplicates().show(50)\n"
   ]
  },
  {
   "cell_type": "code",
   "execution_count": 250,
   "metadata": {},
   "outputs": [],
   "source": [
    "# add a column with the week number in the year\n",
    "agg_df = agg_df.withColumn('ts_to_date', from_unixtime(event_data_churn['ts']/1000, format='yyyy-MM-dd HH:mm:ss'))\n",
    "agg_df = agg_df.withColumn('week_number', weekofyear(agg_df['ts_to_date']))\n"
   ]
  },
  {
   "cell_type": "code",
   "execution_count": 251,
   "metadata": {},
   "outputs": [
    {
     "name": "stdout",
     "output_type": "stream",
     "text": [
      "+------+-------------+-------+--------+------+-------------------+-----------+\n",
      "|userId|           ts|ts_year|ts_month|ts_day|         ts_to_date|week_number|\n",
      "+------+-------------+-------+--------+------+-------------------+-----------+\n",
      "|    30|1538352117000|   2018|      10|     1|2018-10-01 02:01:57|         40|\n",
      "|     9|1538352180000|   2018|      10|     1|2018-10-01 02:03:00|         40|\n",
      "|    30|1538352394000|   2018|      10|     1|2018-10-01 02:06:34|         40|\n",
      "|     9|1538352416000|   2018|      10|     1|2018-10-01 02:06:56|         40|\n",
      "|    30|1538352676000|   2018|      10|     1|2018-10-01 02:11:16|         40|\n",
      "+------+-------------+-------+--------+------+-------------------+-----------+\n",
      "only showing top 5 rows\n",
      "\n"
     ]
    }
   ],
   "source": [
    "agg_df['userId', 'ts', 'ts_year', 'ts_month', 'ts_day', 'ts_to_date', 'week_number'].show(5)"
   ]
  },
  {
   "cell_type": "code",
   "execution_count": 254,
   "metadata": {},
   "outputs": [],
   "source": [
    "# create a rolling window per week\n",
    "rolling_week = Window.partitionBy([\"userId\", \"ts_year\", \"week_number\"]).orderBy(\"ts\").rangeBetween(Window.unboundedPreceding, 0)\n",
    "\n",
    "agg_df = agg_df.withColumn('tot_song_week', Fsum('is_song').over(rolling_week))\\\n",
    "                    .withColumn('tot_thumb_up_week', Fsum('is_thumb_up').over(rolling_week))\\\n",
    "                    .withColumn('tot_thumb_down_week', Fsum('is_thumb_down').over(rolling_week))\n",
    "\n",
    "agg_df_filt = agg_df.groupby(['userId', \"ts_year\", \"week_number\", 'level', 'churn_service', 'churn_paid']) \\\n",
    "                    .agg(Fmax('tot_song_week').alias('max_song_week'), \\\n",
    "                         Fmax('tot_thumb_up_week').alias('max_thumb_up_week'), \\\n",
    "                         Fmax('tot_thumb_down_week').alias('max_thumb_down_week'))\n",
    "\n",
    "agg_df_filt = agg_df_filt.withColumn('avg_song_week', col('max_song_week')/7) \\\n",
    "                        .withColumn('avg_thumb_up_week', col('max_thumb_up_week')/7) \\\n",
    "                        .withColumn('avg_thumb_down_week', col('max_thumb_down_week')/7)\n",
    "\n"
   ]
  },
  {
   "cell_type": "code",
   "execution_count": 255,
   "metadata": {},
   "outputs": [
    {
     "name": "stdout",
     "output_type": "stream",
     "text": [
      "+------+-------+-----------+-------------------+-------------------+-------------------+\n",
      "|userId|ts_year|week_number|      avg_song_week|  avg_thumb_up_week|avg_thumb_down_week|\n",
      "+------+-------+-----------+-------------------+-------------------+-------------------+\n",
      "|100002|   2018|         41|0.42857142857142855|                0.0|                0.0|\n",
      "|   110|   2018|         45| 18.285714285714285| 1.4285714285714286| 0.2857142857142857|\n",
      "|200024|   2018|         41| 18.285714285714285| 0.7142857142857143| 0.7142857142857143|\n",
      "|    26|   2018|         42|  7.428571428571429|0.42857142857142855|                0.0|\n",
      "|300007|   2018|         40| 15.857142857142858| 1.5714285714285714|0.14285714285714285|\n",
      "|    83|   2018|         44| 16.571428571428573| 0.7142857142857143|                0.0|\n",
      "|    86|   2018|         41| 2.2857142857142856|                0.0|                0.0|\n",
      "|200007|   2018|         45|                3.0|0.14285714285714285|                0.0|\n",
      "|    30|   2018|         48| 15.571428571428571| 0.5714285714285714|0.14285714285714285|\n",
      "|    30|   2018|         48|  66.14285714285714| 2.7142857142857144| 1.1428571428571428|\n",
      "|    53|   2018|         41| 12.571428571428571|0.42857142857142855|0.14285714285714285|\n",
      "|    53|   2018|         43|0.42857142857142855|                0.0|                0.0|\n",
      "|    53|   2018|         43|  7.428571428571429|0.42857142857142855|                0.0|\n",
      "|   111|   2018|         46|  7.285714285714286| 0.2857142857142857|0.14285714285714285|\n",
      "|   136|   2018|         41| 1.5714285714285714|                0.0|0.14285714285714285|\n",
      "|    20|   2018|         43| 54.857142857142854|  4.714285714285714| 0.2857142857142857|\n",
      "|    32|   2018|         40|  5.428571428571429| 0.7142857142857143|                0.0|\n",
      "|    41|   2018|         42| 100.57142857142857|  4.142857142857143| 0.7142857142857143|\n",
      "|    54|   2018|         44| 2.7142857142857144|                0.0|                0.0|\n",
      "|    54|   2018|         44|  63.42857142857143|  4.285714285714286| 0.5714285714285714|\n",
      "+------+-------+-----------+-------------------+-------------------+-------------------+\n",
      "only showing top 20 rows\n",
      "\n"
     ]
    }
   ],
   "source": [
    "agg_df_filt['userId', \"ts_year\", \"week_number\", 'avg_song_week', 'avg_thumb_up_week', 'avg_thumb_down_week'].show(20)\n"
   ]
  },
  {
   "cell_type": "code",
   "execution_count": 256,
   "metadata": {},
   "outputs": [
    {
     "data": {
      "text/plain": [
       "1462"
      ]
     },
     "execution_count": 256,
     "metadata": {},
     "output_type": "execute_result"
    }
   ],
   "source": [
    "agg_df_filt.count()"
   ]
  },
  {
   "cell_type": "code",
   "execution_count": 257,
   "metadata": {},
   "outputs": [],
   "source": [
    "avg_week_no_churn = agg_df_filt.filter((agg_df_filt['churn_paid']==0)&(agg_df_filt['churn_service']==0)).dropDuplicates().toPandas()\n",
    "avg_week_churn_service = agg_df_filt.filter((agg_df_filt['churn_paid']==0)&(agg_df_filt['churn_service']==1)).dropDuplicates().toPandas()\n",
    "avg_week_churn_paid = agg_df_filt.filter((agg_df_filt['churn_paid']==1)&(agg_df_filt['churn_service']==0)).dropDuplicates().toPandas()\n"
   ]
  },
  {
   "cell_type": "code",
   "execution_count": 259,
   "metadata": {},
   "outputs": [
    {
     "data": {
      "application/vnd.plotly.v1+json": {
       "config": {
        "plotlyServerURL": "https://plot.ly"
       },
       "data": [
        {
         "marker": {
          "color": "rgb(68, 1, 84)"
         },
         "name": "Cancel churned users",
         "type": "box",
         "x": [
          18.285714285714285,
          15.857142857142858,
          12.571428571428571,
          0.42857142857142855,
          7.428571428571429,
          5.428571428571429,
          11.714285714285714,
          39.857142857142854,
          3.7142857142857144,
          23.285714285714285,
          17.142857142857142,
          21.857142857142858,
          19.857142857142858,
          18.571428571428573,
          134.71428571428572,
          7.285714285714286,
          5.571428571428571,
          2.857142857142857,
          2.2857142857142856,
          44.285714285714285,
          50.57142857142857,
          0.5714285714285714,
          34.42857142857143,
          0.2857142857142857,
          1.4285714285714286,
          15,
          64.57142857142857,
          34.57142857142857,
          1.5714285714285714,
          5.285714285714286,
          22,
          55.714285714285715,
          11.142857142857142,
          2,
          72,
          116.28571428571429,
          9.714285714285714,
          12.285714285714286,
          7.571428571428571,
          17,
          14.714285714285714,
          118.42857142857143,
          12,
          8.571428571428571,
          25.714285714285715,
          138.42857142857142,
          41.285714285714285,
          10,
          19.285714285714285,
          19,
          20.571428571428573,
          79.28571428571429,
          2.4285714285714284,
          6.428571428571429,
          1.2857142857142858,
          5.142857142857143,
          24,
          57,
          53.142857142857146,
          5.857142857142857,
          6.285714285714286,
          16.571428571428573,
          15.714285714285714,
          25.142857142857142,
          82.71428571428571,
          7.857142857142857,
          2.7142857142857144,
          0,
          9.285714285714286,
          3.857142857142857,
          16.285714285714285,
          3.142857142857143,
          1,
          1.1428571428571428,
          2.142857142857143,
          29.714285714285715,
          30.428571428571427,
          15.142857142857142,
          56.57142857142857,
          175.57142857142858,
          3.5714285714285716,
          126.14285714285714,
          41.42857142857143,
          4.857142857142857,
          28.428571428571427,
          13,
          35.42857142857143,
          13.857142857142858,
          49.714285714285715,
          17.714285714285715,
          3.2857142857142856,
          118.85714285714286,
          4,
          125.71428571428571,
          6,
          35.857142857142854,
          1.7142857142857142,
          14.857142857142858,
          31.714285714285715,
          55,
          33.714285714285715,
          6.857142857142857,
          24.714285714285715,
          44.142857142857146,
          6.571428571428571,
          17.428571428571427,
          47.57142857142857,
          83.57142857142857,
          38.857142857142854,
          15.571428571428571,
          39.57142857142857,
          9.857142857142858,
          20.857142857142858,
          37.857142857142854,
          3.4285714285714284,
          4.571428571428571,
          10.571428571428571,
          23.714285714285715,
          14,
          11.571428571428571,
          0.14285714285714285,
          11.857142857142858,
          0.8571428571428571,
          30,
          14.142857142857142,
          7.714285714285714,
          64,
          54.42857142857143,
          69.57142857142857,
          20.714285714285715,
          39,
          0.7142857142857143,
          29.142857142857142,
          26.571428571428573,
          61.285714285714285,
          8.428571428571429
         ],
         "xaxis": "x",
         "yaxis": "y"
        },
        {
         "marker": {
          "color": "rgb(220, 227, 25)"
         },
         "name": "Active users",
         "type": "box",
         "x": [
          0.42857142857142855,
          18.285714285714285,
          7.428571428571429,
          16.571428571428573,
          2.2857142857142856,
          3,
          7.285714285714286,
          1.5714285714285714,
          100.57142857142857,
          7.571428571428571,
          12.714285714285714,
          3.4285714285714284,
          8.857142857142858,
          26.142857142857142,
          75.28571428571429,
          10.142857142857142,
          4,
          23,
          30.285714285714285,
          22.714285714285715,
          39.285714285714285,
          2,
          2.7142857142857144,
          6.428571428571429,
          21.142857142857142,
          9.428571428571429,
          26.571428571428573,
          50.142857142857146,
          33.142857142857146,
          2.5714285714285716,
          40.42857142857143,
          1.2857142857142858,
          4.571428571428571,
          22.142857142857142,
          0.8571428571428571,
          14.571428571428571,
          18.857142857142858,
          12,
          40.714285714285715,
          6.714285714285714,
          62.57142857142857,
          56.42857142857143,
          0.7142857142857143,
          4.857142857142857,
          17.571428571428573,
          14.714285714285714,
          2.4285714285714284,
          10.857142857142858,
          0.5714285714285714,
          21,
          1.1428571428571428,
          35.857142857142854,
          19.285714285714285,
          62.285714285714285,
          5.285714285714286,
          3.5714285714285716,
          3.7142857142857144,
          31.285714285714285,
          1.7142857142857142,
          33.42857142857143,
          49.42857142857143,
          0.2857142857142857,
          13.571428571428571,
          4.714285714285714,
          1.4285714285714286,
          132.42857142857142,
          0.14285714285714285,
          109.28571428571429,
          15,
          5.142857142857143,
          4.285714285714286,
          8.142857142857142,
          9.142857142857142,
          17.714285714285715,
          1.8571428571428572,
          9,
          6.571428571428571,
          88.57142857142857,
          20.571428571428573,
          26,
          17.857142857142858,
          4.428571428571429,
          11.285714285714286,
          62.42857142857143,
          3.142857142857143,
          45.42857142857143,
          28.285714285714285,
          17.428571428571427,
          25.714285714285715,
          7,
          12.285714285714286,
          16.142857142857142,
          29,
          1,
          11,
          15.714285714285714,
          8.714285714285714,
          38.42857142857143,
          11.142857142857142,
          7.142857142857143,
          7.857142857142857,
          24.285714285714285,
          0,
          6.142857142857143,
          24.428571428571427,
          8,
          6.857142857142857,
          31.857142857142858,
          13.285714285714286,
          55.285714285714285,
          46.142857142857146,
          5.857142857142857,
          27.857142857142858,
          11.428571428571429,
          9.285714285714286,
          2.142857142857143,
          14,
          42.57142857142857,
          12.571428571428571,
          112.28571428571429,
          6.285714285714286,
          59.714285714285715,
          11.857142857142858,
          16,
          5,
          8.571428571428571,
          19,
          56.57142857142857,
          2.857142857142857,
          17.142857142857142,
          13.428571428571429,
          78.42857142857143,
          42.714285714285715,
          15.428571428571429,
          80,
          21.714285714285715,
          89.85714285714286,
          29.857142857142858,
          58.857142857142854,
          71.57142857142857,
          14.285714285714286,
          10.428571428571429,
          156.14285714285714,
          14.428571428571429,
          45,
          5.428571428571429,
          28.857142857142858,
          97,
          15.857142857142858,
          25.428571428571427,
          12.428571428571429,
          9.714285714285714,
          13.857142857142858,
          93.42857142857143,
          50.714285714285715,
          23.142857142857142,
          15.571428571428571,
          48.57142857142857,
          23.428571428571427,
          44.57142857142857,
          10.285714285714286,
          5.714285714285714,
          94.14285714285714,
          70.85714285714286,
          32,
          13.142857142857142,
          18,
          53.42857142857143,
          40.285714285714285,
          20.857142857142858,
          63,
          27,
          67.57142857142857,
          20.428571428571427,
          41,
          96.85714285714286,
          24.142857142857142,
          27.285714285714285,
          55.142857142857146,
          98.57142857142857,
          37.57142857142857,
          51.57142857142857,
          50.857142857142854,
          8.285714285714286,
          23.857142857142858,
          4.142857142857143,
          39.857142857142854,
          15.285714285714286,
          20.285714285714285,
          14.142857142857142,
          24.714285714285715,
          55.57142857142857,
          62,
          42.285714285714285,
          34,
          31.714285714285715,
          48.42857142857143,
          18.428571428571427,
          29.571428571428573,
          12.142857142857142,
          74.85714285714286,
          94.28571428571429,
          44.142857142857146,
          22.571428571428573,
          6,
          91.14285714285714,
          19.428571428571427,
          28.142857142857142,
          30.857142857142858,
          9.857142857142858,
          71.14285714285714,
          3.857142857142857,
          42,
          5.571428571428571,
          36.857142857142854,
          10,
          39.714285714285715,
          51,
          26.857142857142858,
          7.714285714285714,
          37.142857142857146,
          13,
          132.14285714285714,
          38.142857142857146,
          48,
          83.42857142857143,
          58,
          74,
          19.142857142857142,
          23.571428571428573,
          21.285714285714285,
          32.142857142857146,
          26.714285714285715,
          71,
          20.142857142857142,
          49.714285714285715,
          22.428571428571427,
          24.571428571428573,
          59.285714285714285,
          10.571428571428571,
          40,
          88.71428571428571,
          48.714285714285715,
          78.14285714285714,
          37,
          23.714285714285715,
          21.571428571428573,
          43,
          36.714285714285715,
          35,
          35.714285714285715,
          3.2857142857142856,
          16.428571428571427,
          51.285714285714285,
          24,
          16.714285714285715,
          36.285714285714285,
          10.714285714285714,
          18.142857142857142,
          45.857142857142854,
          90.85714285714286,
          117,
          89.28571428571429,
          82,
          9.571428571428571,
          17,
          22,
          62.857142857142854,
          26.285714285714285,
          114,
          37.714285714285715,
          79.71428571428571,
          34.42857142857143,
          26.428571428571427,
          54.857142857142854,
          86.42857142857143,
          18.714285714285715,
          30,
          65.42857142857143,
          127,
          70.57142857142857,
          81.42857142857143,
          42.42857142857143,
          17.285714285714285,
          25,
          35.142857142857146,
          34.142857142857146,
          55.714285714285715,
          46.857142857142854,
          48.285714285714285,
          54.42857142857143,
          76.85714285714286,
          74.71428571428571,
          39.57142857142857,
          34.857142857142854,
          59.857142857142854,
          81.28571428571429,
          85.28571428571429,
          66.57142857142857,
          108.14285714285714,
          14.857142857142858,
          70.28571428571429,
          28.714285714285715,
          60.57142857142857,
          60.285714285714285,
          25.142857142857142,
          19.714285714285715,
          57.714285714285715,
          37.285714285714285,
          37.42857142857143,
          33.57142857142857,
          11.714285714285714,
          12.857142857142858,
          31.142857142857142,
          36,
          44,
          43.857142857142854,
          93.28571428571429,
          31.571428571428573,
          8.428571428571429,
          33.285714285714285,
          18.571428571428573,
          39.142857142857146,
          101.57142857142857,
          42.142857142857146,
          25.285714285714285,
          11.571428571428571,
          69.85714285714286,
          52.857142857142854,
          41.57142857142857,
          43.42857142857143,
          38.285714285714285,
          73.85714285714286,
          56.714285714285715,
          72.14285714285714,
          16.857142857142858
         ],
         "xaxis": "x",
         "yaxis": "y"
        },
        {
         "marker": {
          "color": "rgb(45, 112, 142)"
         },
         "name": "Downgrade churned users",
         "type": "box",
         "x": [
          15.571428571428571,
          66.14285714285714,
          54.857142857142854,
          13.285714285714286,
          24.428571428571427,
          22.428571428571427,
          120.85714285714286,
          134.28571428571428,
          61,
          51.857142857142854,
          47.57142857142857,
          29.428571428571427,
          50.142857142857146,
          29.714285714285715,
          58,
          41.285714285714285,
          92.85714285714286,
          31.571428571428573,
          9.285714285714286,
          155.71428571428572,
          173,
          69,
          2.7142857142857144,
          6.285714285714286,
          47.142857142857146,
          3.857142857142857,
          9,
          89.28571428571429,
          14.142857142857142,
          9.714285714285714,
          5.428571428571429,
          23.857142857142858,
          26.714285714285715,
          9.857142857142858,
          55.857142857142854,
          6.857142857142857,
          90.71428571428571,
          4.142857142857143,
          19.714285714285715,
          31.714285714285715,
          10.142857142857142,
          1.4285714285714286,
          57.857142857142854,
          126.85714285714286,
          78,
          34.714285714285715,
          76.71428571428571,
          66,
          70.71428571428571,
          10.857142857142858,
          25.285714285714285,
          39.714285714285715,
          29.857142857142858,
          57.42857142857143,
          5.857142857142857,
          83.85714285714286,
          0.14285714285714285,
          10,
          69.57142857142857,
          72.57142857142857,
          50,
          3.5714285714285716,
          4.857142857142857,
          2.4285714285714284,
          12,
          23,
          60.714285714285715,
          3,
          20.428571428571427,
          2.2857142857142856,
          4.285714285714286,
          37.142857142857146,
          1.8571428571428572,
          136.71428571428572,
          31.857142857142858,
          38.57142857142857,
          3.142857142857143,
          15.857142857142858,
          11.571428571428571,
          16,
          89.14285714285714,
          18.857142857142858,
          112.57142857142857,
          2.142857142857143,
          42.142857142857146,
          54.714285714285715,
          16.571428571428573,
          14.428571428571429,
          32.714285714285715,
          36.857142857142854,
          39.285714285714285,
          5.285714285714286,
          5.571428571428571,
          59.57142857142857,
          9.571428571428571,
          46.42857142857143,
          25.142857142857142,
          6.142857142857143,
          0,
          80.71428571428571,
          10.428571428571429,
          21.142857142857142,
          28.428571428571427,
          90.42857142857143,
          2.857142857142857,
          3.2857142857142856,
          25,
          1.1428571428571428,
          4.714285714285714,
          5.714285714285714,
          33.285714285714285,
          53.285714285714285,
          16.142857142857142,
          18.285714285714285,
          1.7142857142857142,
          27.142857142857142,
          9.428571428571429,
          8,
          32.142857142857146,
          33,
          59.285714285714285,
          7,
          44.285714285714285,
          75.57142857142857,
          82.57142857142857,
          73.85714285714286,
          48.57142857142857,
          58.714285714285715,
          126.42857142857143,
          48.285714285714285,
          17.285714285714285,
          0.8571428571428571,
          45.857142857142854,
          19.142857142857142,
          2.5714285714285716,
          27,
          232.85714285714286,
          20.285714285714285,
          17.142857142857142,
          23.142857142857142,
          22.285714285714285,
          42.57142857142857,
          16.714285714285715,
          24.142857142857142,
          93.28571428571429,
          56.714285714285715,
          67.57142857142857,
          77.42857142857143,
          77,
          39.142857142857146,
          21,
          16.428571428571427,
          18.142857142857142,
          52.714285714285715,
          27.857142857142858,
          29,
          5.142857142857143,
          35.57142857142857,
          7.857142857142857,
          20,
          32.57142857142857,
          15.142857142857142,
          66.57142857142857,
          10.285714285714286,
          62.142857142857146,
          49.285714285714285,
          7.428571428571429,
          11.857142857142858,
          18.714285714285715,
          1.2857142857142858,
          8.142857142857142,
          28.142857142857142,
          6.571428571428571,
          62.42857142857143,
          42.285714285714285,
          48,
          9.142857142857142,
          4.571428571428571,
          26.285714285714285,
          43.42857142857143,
          6,
          13.571428571428571,
          21.857142857142858,
          14.714285714285714,
          13.857142857142858,
          19.571428571428573,
          109.85714285714286,
          6.714285714285714,
          54.42857142857143,
          8.857142857142858,
          29.571428571428573,
          39,
          36.285714285714285,
          65.14285714285714,
          60.285714285714285,
          80.57142857142857,
          116.85714285714286,
          8.714285714285714,
          88.57142857142857,
          11.285714285714286,
          47,
          26.142857142857142,
          169.14285714285714,
          28.285714285714285,
          16.285714285714285,
          38,
          10.714285714285714,
          66.42857142857143,
          26.857142857142858,
          42.857142857142854,
          45.285714285714285,
          8.571428571428571,
          34.285714285714285,
          53.714285714285715,
          33.42857142857143,
          10.571428571428571,
          106.71428571428571,
          76,
          12.714285714285714,
          91.85714285714286,
          46.57142857142857,
          40,
          58.142857142857146,
          22.142857142857142,
          102.85714285714286,
          12.142857142857142,
          33.142857142857146,
          85.71428571428571,
          11,
          99.14285714285714,
          25.428571428571427,
          40.714285714285715,
          15.714285714285714,
          91.71428571428571,
          55,
          55.57142857142857,
          56,
          28,
          8.428571428571429,
          54.142857142857146,
          63.285714285714285,
          219.28571428571428,
          22.714285714285715,
          48.714285714285715,
          23.285714285714285,
          3.4285714285714284,
          3.7142857142857144,
          34.57142857142857,
          37.285714285714285,
          99.85714285714286,
          67.71428571428571,
          70.14285714285714,
          87.71428571428571,
          168.42857142857142,
          176.71428571428572,
          87,
          51.57142857142857,
          19.428571428571427,
          17.428571428571427,
          2,
          25.714285714285715,
          45.142857142857146,
          36.57142857142857,
          83,
          85.57142857142857,
          38.142857142857146,
          35.142857142857146,
          22.571428571428573,
          39.857142857142854,
          73.28571428571429,
          31,
          20.714285714285715,
          21.285714285714285,
          24.285714285714285,
          77.71428571428571
         ],
         "xaxis": "x2",
         "yaxis": "y2"
        },
        {
         "marker": {
          "color": "rgb(149, 216, 64)"
         },
         "name": "Active paid users",
         "type": "box",
         "x": [
          0.42857142857142855,
          3,
          7.285714285714286,
          100.57142857142857,
          7.571428571428571,
          26.142857142857142,
          75.28571428571429,
          10.142857142857142,
          22.714285714285715,
          39.285714285714285,
          2,
          21.142857142857142,
          16.571428571428573,
          9.428571428571429,
          50.142857142857146,
          33.142857142857146,
          40.42857142857143,
          1.2857142857142858,
          22.142857142857142,
          12,
          40.714285714285715,
          62.57142857142857,
          56.42857142857143,
          4.857142857142857,
          17.571428571428573,
          14.714285714285714,
          2.4285714285714284,
          10.857142857142858,
          26.571428571428573,
          21,
          1.1428571428571428,
          35.857142857142854,
          19.285714285714285,
          62.285714285714285,
          5.285714285714286,
          3.5714285714285716,
          31.285714285714285,
          2.5714285714285716,
          33.42857142857143,
          49.42857142857143,
          0.2857142857142857,
          13.571428571428571,
          4.714285714285714,
          132.42857142857142,
          109.28571428571429,
          15,
          9.142857142857142,
          17.714285714285715,
          9,
          88.57142857142857,
          20.571428571428573,
          26,
          62.42857142857143,
          3.142857142857143,
          45.42857142857143,
          28.285714285714285,
          25.714285714285715,
          2.2857142857142856,
          4.571428571428571,
          16.142857142857142,
          8.857142857142858,
          29,
          15.714285714285714,
          17.428571428571427,
          38.42857142857143,
          24.285714285714285,
          24.428571428571427,
          6.857142857142857,
          31.857142857142858,
          13.285714285714286,
          55.285714285714285,
          46.142857142857146,
          27.857142857142858,
          11.428571428571429,
          2.142857142857143,
          14,
          4.428571428571429,
          42.57142857142857,
          12.571428571428571,
          7.142857142857143,
          112.28571428571429,
          6.285714285714286,
          11.285714285714286,
          59.714285714285715,
          2.7142857142857144,
          11.857142857142858,
          5,
          8.571428571428571,
          19,
          7,
          0.14285714285714285,
          56.57142857142857,
          17.857142857142858,
          17.142857142857142,
          13.428571428571429,
          78.42857142857143,
          42.714285714285715,
          80,
          21.714285714285715,
          89.85714285714286,
          29.857142857142858,
          58.857142857142854,
          71.57142857142857,
          156.14285714285714,
          30.285714285714285,
          45,
          8.142857142857142,
          7.428571428571429,
          97,
          23,
          25.428571428571427,
          12.428571428571429,
          9.714285714285714,
          13.857142857142858,
          93.42857142857143,
          50.714285714285715,
          23.142857142857142,
          48.57142857142857,
          23.428571428571427,
          44.57142857142857,
          10.285714285714286,
          15.571428571428571,
          94.14285714285714,
          70.85714285714286,
          32,
          13.142857142857142,
          18,
          53.42857142857143,
          40.285714285714285,
          20.857142857142858,
          63,
          5.428571428571429,
          1.7142857142857142,
          27,
          67.57142857142857,
          15.428571428571429,
          20.428571428571427,
          41,
          96.85714285714286,
          24.142857142857142,
          0,
          27.285714285714285,
          55.142857142857146,
          98.57142857142857,
          37.57142857142857,
          51.57142857142857,
          50.857142857142854,
          23.857142857142858,
          39.857142857142854,
          15.285714285714286,
          20.285714285714285,
          24.714285714285715,
          55.57142857142857,
          62,
          42.285714285714285,
          34,
          31.714285714285715,
          48.42857142857143,
          18.428571428571427,
          29.571428571428573,
          74.85714285714286,
          94.28571428571429,
          44.142857142857146,
          16,
          22.571428571428573,
          6,
          91.14285714285714,
          19.428571428571427,
          28.142857142857142,
          30.857142857142858,
          71.14285714285714,
          42,
          36.857142857142854,
          39.714285714285715,
          51,
          26.857142857142858,
          7.714285714285714,
          1,
          132.14285714285714,
          38.142857142857146,
          48,
          1.8571428571428572,
          83.42857142857143,
          58,
          10.428571428571429,
          74,
          23.571428571428573,
          21.285714285714285,
          32.142857142857146,
          14.142857142857142,
          26.714285714285715,
          71,
          49.714285714285715,
          24.571428571428573,
          59.285714285714285,
          10.571428571428571,
          40,
          88.71428571428571,
          48.714285714285715,
          78.14285714285714,
          37,
          12.714285714285714,
          23.714285714285715,
          21.571428571428573,
          43,
          36.714285714285715,
          35,
          9.285714285714286,
          35.714285714285715,
          51.285714285714285,
          24,
          36.285714285714285,
          18.142857142857142,
          45.857142857142854,
          90.85714285714286,
          117,
          89.28571428571429,
          3.2857142857142856,
          82,
          9.571428571428571,
          22,
          62.857142857142854,
          114,
          37.714285714285715,
          5.857142857142857,
          12.285714285714286,
          79.71428571428571,
          34.42857142857143,
          26.428571428571427,
          54.857142857142854,
          86.42857142857143,
          30,
          65.42857142857143,
          127,
          70.57142857142857,
          81.42857142857143,
          42.42857142857143,
          35.142857142857146,
          1.4285714285714286,
          55.714285714285715,
          46.857142857142854,
          48.285714285714285,
          54.42857142857143,
          76.85714285714286,
          74.71428571428571,
          39.57142857142857,
          59.857142857142854,
          81.28571428571429,
          85.28571428571429,
          6.142857142857143,
          66.57142857142857,
          28.857142857142858,
          108.14285714285714,
          14.857142857142858,
          70.28571428571429,
          28.714285714285715,
          60.57142857142857,
          60.285714285714285,
          25.142857142857142,
          26.285714285714285,
          19.714285714285715,
          57.714285714285715,
          37.285714285714285,
          37.42857142857143,
          33.57142857142857,
          14.571428571428571,
          6.714285714285714,
          31.142857142857142,
          36,
          44,
          15.857142857142858,
          43.857142857142854,
          17.285714285714285,
          93.28571428571429,
          31.571428571428573,
          33.285714285714285,
          18.571428571428573,
          39.142857142857146,
          101.57142857142857,
          42.142857142857146,
          25.285714285714285,
          25,
          0.7142857142857143,
          69.85714285714286,
          52.857142857142854,
          4.285714285714286,
          41.57142857142857,
          11,
          43.42857142857143,
          38.285714285714285,
          73.85714285714286,
          56.714285714285715,
          72.14285714285714,
          16.857142857142858,
          10
         ],
         "xaxis": "x2",
         "yaxis": "y2"
        }
       ],
       "layout": {
        "barmode": "group",
        "showlegend": true,
        "template": {
         "data": {
          "bar": [
           {
            "error_x": {
             "color": "#2a3f5f"
            },
            "error_y": {
             "color": "#2a3f5f"
            },
            "marker": {
             "line": {
              "color": "#E5ECF6",
              "width": 0.5
             }
            },
            "type": "bar"
           }
          ],
          "barpolar": [
           {
            "marker": {
             "line": {
              "color": "#E5ECF6",
              "width": 0.5
             }
            },
            "type": "barpolar"
           }
          ],
          "carpet": [
           {
            "aaxis": {
             "endlinecolor": "#2a3f5f",
             "gridcolor": "white",
             "linecolor": "white",
             "minorgridcolor": "white",
             "startlinecolor": "#2a3f5f"
            },
            "baxis": {
             "endlinecolor": "#2a3f5f",
             "gridcolor": "white",
             "linecolor": "white",
             "minorgridcolor": "white",
             "startlinecolor": "#2a3f5f"
            },
            "type": "carpet"
           }
          ],
          "choropleth": [
           {
            "colorbar": {
             "outlinewidth": 0,
             "ticks": ""
            },
            "type": "choropleth"
           }
          ],
          "contour": [
           {
            "colorbar": {
             "outlinewidth": 0,
             "ticks": ""
            },
            "colorscale": [
             [
              0,
              "#0d0887"
             ],
             [
              0.1111111111111111,
              "#46039f"
             ],
             [
              0.2222222222222222,
              "#7201a8"
             ],
             [
              0.3333333333333333,
              "#9c179e"
             ],
             [
              0.4444444444444444,
              "#bd3786"
             ],
             [
              0.5555555555555556,
              "#d8576b"
             ],
             [
              0.6666666666666666,
              "#ed7953"
             ],
             [
              0.7777777777777778,
              "#fb9f3a"
             ],
             [
              0.8888888888888888,
              "#fdca26"
             ],
             [
              1,
              "#f0f921"
             ]
            ],
            "type": "contour"
           }
          ],
          "contourcarpet": [
           {
            "colorbar": {
             "outlinewidth": 0,
             "ticks": ""
            },
            "type": "contourcarpet"
           }
          ],
          "heatmap": [
           {
            "colorbar": {
             "outlinewidth": 0,
             "ticks": ""
            },
            "colorscale": [
             [
              0,
              "#0d0887"
             ],
             [
              0.1111111111111111,
              "#46039f"
             ],
             [
              0.2222222222222222,
              "#7201a8"
             ],
             [
              0.3333333333333333,
              "#9c179e"
             ],
             [
              0.4444444444444444,
              "#bd3786"
             ],
             [
              0.5555555555555556,
              "#d8576b"
             ],
             [
              0.6666666666666666,
              "#ed7953"
             ],
             [
              0.7777777777777778,
              "#fb9f3a"
             ],
             [
              0.8888888888888888,
              "#fdca26"
             ],
             [
              1,
              "#f0f921"
             ]
            ],
            "type": "heatmap"
           }
          ],
          "heatmapgl": [
           {
            "colorbar": {
             "outlinewidth": 0,
             "ticks": ""
            },
            "colorscale": [
             [
              0,
              "#0d0887"
             ],
             [
              0.1111111111111111,
              "#46039f"
             ],
             [
              0.2222222222222222,
              "#7201a8"
             ],
             [
              0.3333333333333333,
              "#9c179e"
             ],
             [
              0.4444444444444444,
              "#bd3786"
             ],
             [
              0.5555555555555556,
              "#d8576b"
             ],
             [
              0.6666666666666666,
              "#ed7953"
             ],
             [
              0.7777777777777778,
              "#fb9f3a"
             ],
             [
              0.8888888888888888,
              "#fdca26"
             ],
             [
              1,
              "#f0f921"
             ]
            ],
            "type": "heatmapgl"
           }
          ],
          "histogram": [
           {
            "marker": {
             "colorbar": {
              "outlinewidth": 0,
              "ticks": ""
             }
            },
            "type": "histogram"
           }
          ],
          "histogram2d": [
           {
            "colorbar": {
             "outlinewidth": 0,
             "ticks": ""
            },
            "colorscale": [
             [
              0,
              "#0d0887"
             ],
             [
              0.1111111111111111,
              "#46039f"
             ],
             [
              0.2222222222222222,
              "#7201a8"
             ],
             [
              0.3333333333333333,
              "#9c179e"
             ],
             [
              0.4444444444444444,
              "#bd3786"
             ],
             [
              0.5555555555555556,
              "#d8576b"
             ],
             [
              0.6666666666666666,
              "#ed7953"
             ],
             [
              0.7777777777777778,
              "#fb9f3a"
             ],
             [
              0.8888888888888888,
              "#fdca26"
             ],
             [
              1,
              "#f0f921"
             ]
            ],
            "type": "histogram2d"
           }
          ],
          "histogram2dcontour": [
           {
            "colorbar": {
             "outlinewidth": 0,
             "ticks": ""
            },
            "colorscale": [
             [
              0,
              "#0d0887"
             ],
             [
              0.1111111111111111,
              "#46039f"
             ],
             [
              0.2222222222222222,
              "#7201a8"
             ],
             [
              0.3333333333333333,
              "#9c179e"
             ],
             [
              0.4444444444444444,
              "#bd3786"
             ],
             [
              0.5555555555555556,
              "#d8576b"
             ],
             [
              0.6666666666666666,
              "#ed7953"
             ],
             [
              0.7777777777777778,
              "#fb9f3a"
             ],
             [
              0.8888888888888888,
              "#fdca26"
             ],
             [
              1,
              "#f0f921"
             ]
            ],
            "type": "histogram2dcontour"
           }
          ],
          "mesh3d": [
           {
            "colorbar": {
             "outlinewidth": 0,
             "ticks": ""
            },
            "type": "mesh3d"
           }
          ],
          "parcoords": [
           {
            "line": {
             "colorbar": {
              "outlinewidth": 0,
              "ticks": ""
             }
            },
            "type": "parcoords"
           }
          ],
          "scatter": [
           {
            "marker": {
             "colorbar": {
              "outlinewidth": 0,
              "ticks": ""
             }
            },
            "type": "scatter"
           }
          ],
          "scatter3d": [
           {
            "line": {
             "colorbar": {
              "outlinewidth": 0,
              "ticks": ""
             }
            },
            "marker": {
             "colorbar": {
              "outlinewidth": 0,
              "ticks": ""
             }
            },
            "type": "scatter3d"
           }
          ],
          "scattercarpet": [
           {
            "marker": {
             "colorbar": {
              "outlinewidth": 0,
              "ticks": ""
             }
            },
            "type": "scattercarpet"
           }
          ],
          "scattergeo": [
           {
            "marker": {
             "colorbar": {
              "outlinewidth": 0,
              "ticks": ""
             }
            },
            "type": "scattergeo"
           }
          ],
          "scattergl": [
           {
            "marker": {
             "colorbar": {
              "outlinewidth": 0,
              "ticks": ""
             }
            },
            "type": "scattergl"
           }
          ],
          "scattermapbox": [
           {
            "marker": {
             "colorbar": {
              "outlinewidth": 0,
              "ticks": ""
             }
            },
            "type": "scattermapbox"
           }
          ],
          "scatterpolar": [
           {
            "marker": {
             "colorbar": {
              "outlinewidth": 0,
              "ticks": ""
             }
            },
            "type": "scatterpolar"
           }
          ],
          "scatterpolargl": [
           {
            "marker": {
             "colorbar": {
              "outlinewidth": 0,
              "ticks": ""
             }
            },
            "type": "scatterpolargl"
           }
          ],
          "scatterternary": [
           {
            "marker": {
             "colorbar": {
              "outlinewidth": 0,
              "ticks": ""
             }
            },
            "type": "scatterternary"
           }
          ],
          "surface": [
           {
            "colorbar": {
             "outlinewidth": 0,
             "ticks": ""
            },
            "colorscale": [
             [
              0,
              "#0d0887"
             ],
             [
              0.1111111111111111,
              "#46039f"
             ],
             [
              0.2222222222222222,
              "#7201a8"
             ],
             [
              0.3333333333333333,
              "#9c179e"
             ],
             [
              0.4444444444444444,
              "#bd3786"
             ],
             [
              0.5555555555555556,
              "#d8576b"
             ],
             [
              0.6666666666666666,
              "#ed7953"
             ],
             [
              0.7777777777777778,
              "#fb9f3a"
             ],
             [
              0.8888888888888888,
              "#fdca26"
             ],
             [
              1,
              "#f0f921"
             ]
            ],
            "type": "surface"
           }
          ],
          "table": [
           {
            "cells": {
             "fill": {
              "color": "#EBF0F8"
             },
             "line": {
              "color": "white"
             }
            },
            "header": {
             "fill": {
              "color": "#C8D4E3"
             },
             "line": {
              "color": "white"
             }
            },
            "type": "table"
           }
          ]
         },
         "layout": {
          "annotationdefaults": {
           "arrowcolor": "#2a3f5f",
           "arrowhead": 0,
           "arrowwidth": 1
          },
          "colorscale": {
           "diverging": [
            [
             0,
             "#8e0152"
            ],
            [
             0.1,
             "#c51b7d"
            ],
            [
             0.2,
             "#de77ae"
            ],
            [
             0.3,
             "#f1b6da"
            ],
            [
             0.4,
             "#fde0ef"
            ],
            [
             0.5,
             "#f7f7f7"
            ],
            [
             0.6,
             "#e6f5d0"
            ],
            [
             0.7,
             "#b8e186"
            ],
            [
             0.8,
             "#7fbc41"
            ],
            [
             0.9,
             "#4d9221"
            ],
            [
             1,
             "#276419"
            ]
           ],
           "sequential": [
            [
             0,
             "#0d0887"
            ],
            [
             0.1111111111111111,
             "#46039f"
            ],
            [
             0.2222222222222222,
             "#7201a8"
            ],
            [
             0.3333333333333333,
             "#9c179e"
            ],
            [
             0.4444444444444444,
             "#bd3786"
            ],
            [
             0.5555555555555556,
             "#d8576b"
            ],
            [
             0.6666666666666666,
             "#ed7953"
            ],
            [
             0.7777777777777778,
             "#fb9f3a"
            ],
            [
             0.8888888888888888,
             "#fdca26"
            ],
            [
             1,
             "#f0f921"
            ]
           ],
           "sequentialminus": [
            [
             0,
             "#0d0887"
            ],
            [
             0.1111111111111111,
             "#46039f"
            ],
            [
             0.2222222222222222,
             "#7201a8"
            ],
            [
             0.3333333333333333,
             "#9c179e"
            ],
            [
             0.4444444444444444,
             "#bd3786"
            ],
            [
             0.5555555555555556,
             "#d8576b"
            ],
            [
             0.6666666666666666,
             "#ed7953"
            ],
            [
             0.7777777777777778,
             "#fb9f3a"
            ],
            [
             0.8888888888888888,
             "#fdca26"
            ],
            [
             1,
             "#f0f921"
            ]
           ]
          },
          "colorway": [
           "#636efa",
           "#EF553B",
           "#00cc96",
           "#ab63fa",
           "#FFA15A",
           "#19d3f3",
           "#FF6692",
           "#B6E880",
           "#FF97FF",
           "#FECB52"
          ],
          "font": {
           "color": "#2a3f5f"
          },
          "geo": {
           "bgcolor": "white",
           "lakecolor": "white",
           "landcolor": "#E5ECF6",
           "showlakes": true,
           "showland": true,
           "subunitcolor": "white"
          },
          "hoverlabel": {
           "align": "left"
          },
          "hovermode": "closest",
          "mapbox": {
           "style": "light"
          },
          "paper_bgcolor": "white",
          "plot_bgcolor": "#E5ECF6",
          "polar": {
           "angularaxis": {
            "gridcolor": "white",
            "linecolor": "white",
            "ticks": ""
           },
           "bgcolor": "#E5ECF6",
           "radialaxis": {
            "gridcolor": "white",
            "linecolor": "white",
            "ticks": ""
           }
          },
          "scene": {
           "xaxis": {
            "backgroundcolor": "#E5ECF6",
            "gridcolor": "white",
            "gridwidth": 2,
            "linecolor": "white",
            "showbackground": true,
            "ticks": "",
            "zerolinecolor": "white"
           },
           "yaxis": {
            "backgroundcolor": "#E5ECF6",
            "gridcolor": "white",
            "gridwidth": 2,
            "linecolor": "white",
            "showbackground": true,
            "ticks": "",
            "zerolinecolor": "white"
           },
           "zaxis": {
            "backgroundcolor": "#E5ECF6",
            "gridcolor": "white",
            "gridwidth": 2,
            "linecolor": "white",
            "showbackground": true,
            "ticks": "",
            "zerolinecolor": "white"
           }
          },
          "shapedefaults": {
           "line": {
            "color": "#2a3f5f"
           }
          },
          "ternary": {
           "aaxis": {
            "gridcolor": "white",
            "linecolor": "white",
            "ticks": ""
           },
           "baxis": {
            "gridcolor": "white",
            "linecolor": "white",
            "ticks": ""
           },
           "bgcolor": "#E5ECF6",
           "caxis": {
            "gridcolor": "white",
            "linecolor": "white",
            "ticks": ""
           }
          },
          "title": {
           "x": 0.05
          },
          "xaxis": {
           "automargin": true,
           "gridcolor": "white",
           "linecolor": "white",
           "ticks": "",
           "zerolinecolor": "white",
           "zerolinewidth": 2
          },
          "yaxis": {
           "automargin": true,
           "gridcolor": "white",
           "linecolor": "white",
           "ticks": "",
           "zerolinecolor": "white",
           "zerolinewidth": 2
          }
         }
        },
        "title": {
         "text": "Distribution of active vs churned user per average number of songs per week"
        },
        "xaxis": {
         "anchor": "y",
         "domain": [
          0,
          1
         ],
         "matches": "x2",
         "showticklabels": false
        },
        "xaxis2": {
         "anchor": "y2",
         "domain": [
          0,
          1
         ],
         "tickangle": -45,
         "title": {
          "text": "Average number of songs per week"
         }
        },
        "yaxis": {
         "anchor": "x",
         "domain": [
          0.575,
          1
         ],
         "title": {
          "text": "Service cancellation analysis"
         }
        },
        "yaxis2": {
         "anchor": "x2",
         "domain": [
          0,
          0.425
         ],
         "title": {
          "text": "Service downgrade analysis"
         }
        }
       }
      },
      "text/html": [
       "<div>\n",
       "        \n",
       "        \n",
       "            <div id=\"a8ffe956-8e2d-4761-99b8-8a4bf162baca\" class=\"plotly-graph-div\" style=\"height:525px; width:100%;\"></div>\n",
       "            <script type=\"text/javascript\">\n",
       "                require([\"plotly\"], function(Plotly) {\n",
       "                    window.PLOTLYENV=window.PLOTLYENV || {};\n",
       "                    \n",
       "                if (document.getElementById(\"a8ffe956-8e2d-4761-99b8-8a4bf162baca\")) {\n",
       "                    Plotly.newPlot(\n",
       "                        'a8ffe956-8e2d-4761-99b8-8a4bf162baca',\n",
       "                        [{\"marker\": {\"color\": \"rgb(68, 1, 84)\"}, \"name\": \"Cancel churned users\", \"type\": \"box\", \"x\": [18.285714285714285, 15.857142857142858, 12.571428571428571, 0.42857142857142855, 7.428571428571429, 5.428571428571429, 11.714285714285714, 39.857142857142854, 3.7142857142857144, 23.285714285714285, 17.142857142857142, 21.857142857142858, 19.857142857142858, 18.571428571428573, 134.71428571428572, 7.285714285714286, 5.571428571428571, 2.857142857142857, 2.2857142857142856, 44.285714285714285, 50.57142857142857, 0.5714285714285714, 34.42857142857143, 0.2857142857142857, 1.4285714285714286, 15.0, 64.57142857142857, 34.57142857142857, 1.5714285714285714, 5.285714285714286, 22.0, 55.714285714285715, 11.142857142857142, 2.0, 72.0, 116.28571428571429, 9.714285714285714, 12.285714285714286, 7.571428571428571, 17.0, 14.714285714285714, 118.42857142857143, 12.0, 8.571428571428571, 25.714285714285715, 138.42857142857142, 41.285714285714285, 10.0, 19.285714285714285, 19.0, 20.571428571428573, 79.28571428571429, 2.4285714285714284, 6.428571428571429, 1.2857142857142858, 5.142857142857143, 24.0, 57.0, 53.142857142857146, 5.857142857142857, 6.285714285714286, 16.571428571428573, 15.714285714285714, 25.142857142857142, 82.71428571428571, 7.857142857142857, 2.7142857142857144, 0.0, 9.285714285714286, 3.857142857142857, 16.285714285714285, 3.142857142857143, 1.0, 1.1428571428571428, 2.142857142857143, 29.714285714285715, 30.428571428571427, 15.142857142857142, 56.57142857142857, 175.57142857142858, 3.5714285714285716, 126.14285714285714, 41.42857142857143, 4.857142857142857, 28.428571428571427, 13.0, 35.42857142857143, 13.857142857142858, 49.714285714285715, 17.714285714285715, 3.2857142857142856, 118.85714285714286, 4.0, 125.71428571428571, 6.0, 35.857142857142854, 1.7142857142857142, 14.857142857142858, 31.714285714285715, 55.0, 33.714285714285715, 6.857142857142857, 24.714285714285715, 44.142857142857146, 6.571428571428571, 17.428571428571427, 47.57142857142857, 83.57142857142857, 38.857142857142854, 15.571428571428571, 39.57142857142857, 9.857142857142858, 20.857142857142858, 37.857142857142854, 3.4285714285714284, 4.571428571428571, 10.571428571428571, 23.714285714285715, 14.0, 11.571428571428571, 0.14285714285714285, 11.857142857142858, 0.8571428571428571, 30.0, 14.142857142857142, 7.714285714285714, 64.0, 54.42857142857143, 69.57142857142857, 20.714285714285715, 39.0, 0.7142857142857143, 29.142857142857142, 26.571428571428573, 61.285714285714285, 8.428571428571429], \"xaxis\": \"x\", \"yaxis\": \"y\"}, {\"marker\": {\"color\": \"rgb(220, 227, 25)\"}, \"name\": \"Active users\", \"type\": \"box\", \"x\": [0.42857142857142855, 18.285714285714285, 7.428571428571429, 16.571428571428573, 2.2857142857142856, 3.0, 7.285714285714286, 1.5714285714285714, 100.57142857142857, 7.571428571428571, 12.714285714285714, 3.4285714285714284, 8.857142857142858, 26.142857142857142, 75.28571428571429, 10.142857142857142, 4.0, 23.0, 30.285714285714285, 22.714285714285715, 39.285714285714285, 2.0, 2.7142857142857144, 6.428571428571429, 21.142857142857142, 9.428571428571429, 26.571428571428573, 50.142857142857146, 33.142857142857146, 2.5714285714285716, 40.42857142857143, 1.2857142857142858, 4.571428571428571, 22.142857142857142, 0.8571428571428571, 14.571428571428571, 18.857142857142858, 12.0, 40.714285714285715, 6.714285714285714, 62.57142857142857, 56.42857142857143, 0.7142857142857143, 4.857142857142857, 17.571428571428573, 14.714285714285714, 2.4285714285714284, 10.857142857142858, 0.5714285714285714, 21.0, 1.1428571428571428, 35.857142857142854, 19.285714285714285, 62.285714285714285, 5.285714285714286, 3.5714285714285716, 3.7142857142857144, 31.285714285714285, 1.7142857142857142, 33.42857142857143, 49.42857142857143, 0.2857142857142857, 13.571428571428571, 4.714285714285714, 1.4285714285714286, 132.42857142857142, 0.14285714285714285, 109.28571428571429, 15.0, 5.142857142857143, 4.285714285714286, 8.142857142857142, 9.142857142857142, 17.714285714285715, 1.8571428571428572, 9.0, 6.571428571428571, 88.57142857142857, 20.571428571428573, 26.0, 17.857142857142858, 4.428571428571429, 11.285714285714286, 62.42857142857143, 3.142857142857143, 45.42857142857143, 28.285714285714285, 17.428571428571427, 25.714285714285715, 7.0, 12.285714285714286, 16.142857142857142, 29.0, 1.0, 11.0, 15.714285714285714, 8.714285714285714, 38.42857142857143, 11.142857142857142, 7.142857142857143, 7.857142857142857, 24.285714285714285, 0.0, 6.142857142857143, 24.428571428571427, 8.0, 6.857142857142857, 31.857142857142858, 13.285714285714286, 55.285714285714285, 46.142857142857146, 5.857142857142857, 27.857142857142858, 11.428571428571429, 9.285714285714286, 2.142857142857143, 14.0, 42.57142857142857, 12.571428571428571, 112.28571428571429, 6.285714285714286, 59.714285714285715, 11.857142857142858, 16.0, 5.0, 8.571428571428571, 19.0, 56.57142857142857, 2.857142857142857, 17.142857142857142, 13.428571428571429, 78.42857142857143, 42.714285714285715, 15.428571428571429, 80.0, 21.714285714285715, 89.85714285714286, 29.857142857142858, 58.857142857142854, 71.57142857142857, 14.285714285714286, 10.428571428571429, 156.14285714285714, 14.428571428571429, 45.0, 5.428571428571429, 28.857142857142858, 97.0, 15.857142857142858, 25.428571428571427, 12.428571428571429, 9.714285714285714, 13.857142857142858, 93.42857142857143, 50.714285714285715, 23.142857142857142, 15.571428571428571, 48.57142857142857, 23.428571428571427, 44.57142857142857, 10.285714285714286, 5.714285714285714, 94.14285714285714, 70.85714285714286, 32.0, 13.142857142857142, 18.0, 53.42857142857143, 40.285714285714285, 20.857142857142858, 63.0, 27.0, 67.57142857142857, 20.428571428571427, 41.0, 96.85714285714286, 24.142857142857142, 27.285714285714285, 55.142857142857146, 98.57142857142857, 37.57142857142857, 51.57142857142857, 50.857142857142854, 8.285714285714286, 23.857142857142858, 4.142857142857143, 39.857142857142854, 15.285714285714286, 20.285714285714285, 14.142857142857142, 24.714285714285715, 55.57142857142857, 62.0, 42.285714285714285, 34.0, 31.714285714285715, 48.42857142857143, 18.428571428571427, 29.571428571428573, 12.142857142857142, 74.85714285714286, 94.28571428571429, 44.142857142857146, 22.571428571428573, 6.0, 91.14285714285714, 19.428571428571427, 28.142857142857142, 30.857142857142858, 9.857142857142858, 71.14285714285714, 3.857142857142857, 42.0, 5.571428571428571, 36.857142857142854, 10.0, 39.714285714285715, 51.0, 26.857142857142858, 7.714285714285714, 37.142857142857146, 13.0, 132.14285714285714, 38.142857142857146, 48.0, 83.42857142857143, 58.0, 74.0, 19.142857142857142, 23.571428571428573, 21.285714285714285, 32.142857142857146, 26.714285714285715, 71.0, 20.142857142857142, 49.714285714285715, 22.428571428571427, 24.571428571428573, 59.285714285714285, 10.571428571428571, 40.0, 88.71428571428571, 48.714285714285715, 78.14285714285714, 37.0, 23.714285714285715, 21.571428571428573, 43.0, 36.714285714285715, 35.0, 35.714285714285715, 3.2857142857142856, 16.428571428571427, 51.285714285714285, 24.0, 16.714285714285715, 36.285714285714285, 10.714285714285714, 18.142857142857142, 45.857142857142854, 90.85714285714286, 117.0, 89.28571428571429, 82.0, 9.571428571428571, 17.0, 22.0, 62.857142857142854, 26.285714285714285, 114.0, 37.714285714285715, 79.71428571428571, 34.42857142857143, 26.428571428571427, 54.857142857142854, 86.42857142857143, 18.714285714285715, 30.0, 65.42857142857143, 127.0, 70.57142857142857, 81.42857142857143, 42.42857142857143, 17.285714285714285, 25.0, 35.142857142857146, 34.142857142857146, 55.714285714285715, 46.857142857142854, 48.285714285714285, 54.42857142857143, 76.85714285714286, 74.71428571428571, 39.57142857142857, 34.857142857142854, 59.857142857142854, 81.28571428571429, 85.28571428571429, 66.57142857142857, 108.14285714285714, 14.857142857142858, 70.28571428571429, 28.714285714285715, 60.57142857142857, 60.285714285714285, 25.142857142857142, 19.714285714285715, 57.714285714285715, 37.285714285714285, 37.42857142857143, 33.57142857142857, 11.714285714285714, 12.857142857142858, 31.142857142857142, 36.0, 44.0, 43.857142857142854, 93.28571428571429, 31.571428571428573, 8.428571428571429, 33.285714285714285, 18.571428571428573, 39.142857142857146, 101.57142857142857, 42.142857142857146, 25.285714285714285, 11.571428571428571, 69.85714285714286, 52.857142857142854, 41.57142857142857, 43.42857142857143, 38.285714285714285, 73.85714285714286, 56.714285714285715, 72.14285714285714, 16.857142857142858], \"xaxis\": \"x\", \"yaxis\": \"y\"}, {\"marker\": {\"color\": \"rgb(45, 112, 142)\"}, \"name\": \"Downgrade churned users\", \"type\": \"box\", \"x\": [15.571428571428571, 66.14285714285714, 54.857142857142854, 13.285714285714286, 24.428571428571427, 22.428571428571427, 120.85714285714286, 134.28571428571428, 61.0, 51.857142857142854, 47.57142857142857, 29.428571428571427, 50.142857142857146, 29.714285714285715, 58.0, 41.285714285714285, 92.85714285714286, 31.571428571428573, 9.285714285714286, 155.71428571428572, 173.0, 69.0, 2.7142857142857144, 6.285714285714286, 47.142857142857146, 3.857142857142857, 9.0, 89.28571428571429, 14.142857142857142, 9.714285714285714, 5.428571428571429, 23.857142857142858, 26.714285714285715, 9.857142857142858, 55.857142857142854, 6.857142857142857, 90.71428571428571, 4.142857142857143, 19.714285714285715, 31.714285714285715, 10.142857142857142, 1.4285714285714286, 57.857142857142854, 126.85714285714286, 78.0, 34.714285714285715, 76.71428571428571, 66.0, 70.71428571428571, 10.857142857142858, 25.285714285714285, 39.714285714285715, 29.857142857142858, 57.42857142857143, 5.857142857142857, 83.85714285714286, 0.14285714285714285, 10.0, 69.57142857142857, 72.57142857142857, 50.0, 3.5714285714285716, 4.857142857142857, 2.4285714285714284, 12.0, 23.0, 60.714285714285715, 3.0, 20.428571428571427, 2.2857142857142856, 4.285714285714286, 37.142857142857146, 1.8571428571428572, 136.71428571428572, 31.857142857142858, 38.57142857142857, 3.142857142857143, 15.857142857142858, 11.571428571428571, 16.0, 89.14285714285714, 18.857142857142858, 112.57142857142857, 2.142857142857143, 42.142857142857146, 54.714285714285715, 16.571428571428573, 14.428571428571429, 32.714285714285715, 36.857142857142854, 39.285714285714285, 5.285714285714286, 5.571428571428571, 59.57142857142857, 9.571428571428571, 46.42857142857143, 25.142857142857142, 6.142857142857143, 0.0, 80.71428571428571, 10.428571428571429, 21.142857142857142, 28.428571428571427, 90.42857142857143, 2.857142857142857, 3.2857142857142856, 25.0, 1.1428571428571428, 4.714285714285714, 5.714285714285714, 33.285714285714285, 53.285714285714285, 16.142857142857142, 18.285714285714285, 1.7142857142857142, 27.142857142857142, 9.428571428571429, 8.0, 32.142857142857146, 33.0, 59.285714285714285, 7.0, 44.285714285714285, 75.57142857142857, 82.57142857142857, 73.85714285714286, 48.57142857142857, 58.714285714285715, 126.42857142857143, 48.285714285714285, 17.285714285714285, 0.8571428571428571, 45.857142857142854, 19.142857142857142, 2.5714285714285716, 27.0, 232.85714285714286, 20.285714285714285, 17.142857142857142, 23.142857142857142, 22.285714285714285, 42.57142857142857, 16.714285714285715, 24.142857142857142, 93.28571428571429, 56.714285714285715, 67.57142857142857, 77.42857142857143, 77.0, 39.142857142857146, 21.0, 16.428571428571427, 18.142857142857142, 52.714285714285715, 27.857142857142858, 29.0, 5.142857142857143, 35.57142857142857, 7.857142857142857, 20.0, 32.57142857142857, 15.142857142857142, 66.57142857142857, 10.285714285714286, 62.142857142857146, 49.285714285714285, 7.428571428571429, 11.857142857142858, 18.714285714285715, 1.2857142857142858, 8.142857142857142, 28.142857142857142, 6.571428571428571, 62.42857142857143, 42.285714285714285, 48.0, 9.142857142857142, 4.571428571428571, 26.285714285714285, 43.42857142857143, 6.0, 13.571428571428571, 21.857142857142858, 14.714285714285714, 13.857142857142858, 19.571428571428573, 109.85714285714286, 6.714285714285714, 54.42857142857143, 8.857142857142858, 29.571428571428573, 39.0, 36.285714285714285, 65.14285714285714, 60.285714285714285, 80.57142857142857, 116.85714285714286, 8.714285714285714, 88.57142857142857, 11.285714285714286, 47.0, 26.142857142857142, 169.14285714285714, 28.285714285714285, 16.285714285714285, 38.0, 10.714285714285714, 66.42857142857143, 26.857142857142858, 42.857142857142854, 45.285714285714285, 8.571428571428571, 34.285714285714285, 53.714285714285715, 33.42857142857143, 10.571428571428571, 106.71428571428571, 76.0, 12.714285714285714, 91.85714285714286, 46.57142857142857, 40.0, 58.142857142857146, 22.142857142857142, 102.85714285714286, 12.142857142857142, 33.142857142857146, 85.71428571428571, 11.0, 99.14285714285714, 25.428571428571427, 40.714285714285715, 15.714285714285714, 91.71428571428571, 55.0, 55.57142857142857, 56.0, 28.0, 8.428571428571429, 54.142857142857146, 63.285714285714285, 219.28571428571428, 22.714285714285715, 48.714285714285715, 23.285714285714285, 3.4285714285714284, 3.7142857142857144, 34.57142857142857, 37.285714285714285, 99.85714285714286, 67.71428571428571, 70.14285714285714, 87.71428571428571, 168.42857142857142, 176.71428571428572, 87.0, 51.57142857142857, 19.428571428571427, 17.428571428571427, 2.0, 25.714285714285715, 45.142857142857146, 36.57142857142857, 83.0, 85.57142857142857, 38.142857142857146, 35.142857142857146, 22.571428571428573, 39.857142857142854, 73.28571428571429, 31.0, 20.714285714285715, 21.285714285714285, 24.285714285714285, 77.71428571428571], \"xaxis\": \"x2\", \"yaxis\": \"y2\"}, {\"marker\": {\"color\": \"rgb(149, 216, 64)\"}, \"name\": \"Active paid users\", \"type\": \"box\", \"x\": [0.42857142857142855, 3.0, 7.285714285714286, 100.57142857142857, 7.571428571428571, 26.142857142857142, 75.28571428571429, 10.142857142857142, 22.714285714285715, 39.285714285714285, 2.0, 21.142857142857142, 16.571428571428573, 9.428571428571429, 50.142857142857146, 33.142857142857146, 40.42857142857143, 1.2857142857142858, 22.142857142857142, 12.0, 40.714285714285715, 62.57142857142857, 56.42857142857143, 4.857142857142857, 17.571428571428573, 14.714285714285714, 2.4285714285714284, 10.857142857142858, 26.571428571428573, 21.0, 1.1428571428571428, 35.857142857142854, 19.285714285714285, 62.285714285714285, 5.285714285714286, 3.5714285714285716, 31.285714285714285, 2.5714285714285716, 33.42857142857143, 49.42857142857143, 0.2857142857142857, 13.571428571428571, 4.714285714285714, 132.42857142857142, 109.28571428571429, 15.0, 9.142857142857142, 17.714285714285715, 9.0, 88.57142857142857, 20.571428571428573, 26.0, 62.42857142857143, 3.142857142857143, 45.42857142857143, 28.285714285714285, 25.714285714285715, 2.2857142857142856, 4.571428571428571, 16.142857142857142, 8.857142857142858, 29.0, 15.714285714285714, 17.428571428571427, 38.42857142857143, 24.285714285714285, 24.428571428571427, 6.857142857142857, 31.857142857142858, 13.285714285714286, 55.285714285714285, 46.142857142857146, 27.857142857142858, 11.428571428571429, 2.142857142857143, 14.0, 4.428571428571429, 42.57142857142857, 12.571428571428571, 7.142857142857143, 112.28571428571429, 6.285714285714286, 11.285714285714286, 59.714285714285715, 2.7142857142857144, 11.857142857142858, 5.0, 8.571428571428571, 19.0, 7.0, 0.14285714285714285, 56.57142857142857, 17.857142857142858, 17.142857142857142, 13.428571428571429, 78.42857142857143, 42.714285714285715, 80.0, 21.714285714285715, 89.85714285714286, 29.857142857142858, 58.857142857142854, 71.57142857142857, 156.14285714285714, 30.285714285714285, 45.0, 8.142857142857142, 7.428571428571429, 97.0, 23.0, 25.428571428571427, 12.428571428571429, 9.714285714285714, 13.857142857142858, 93.42857142857143, 50.714285714285715, 23.142857142857142, 48.57142857142857, 23.428571428571427, 44.57142857142857, 10.285714285714286, 15.571428571428571, 94.14285714285714, 70.85714285714286, 32.0, 13.142857142857142, 18.0, 53.42857142857143, 40.285714285714285, 20.857142857142858, 63.0, 5.428571428571429, 1.7142857142857142, 27.0, 67.57142857142857, 15.428571428571429, 20.428571428571427, 41.0, 96.85714285714286, 24.142857142857142, 0.0, 27.285714285714285, 55.142857142857146, 98.57142857142857, 37.57142857142857, 51.57142857142857, 50.857142857142854, 23.857142857142858, 39.857142857142854, 15.285714285714286, 20.285714285714285, 24.714285714285715, 55.57142857142857, 62.0, 42.285714285714285, 34.0, 31.714285714285715, 48.42857142857143, 18.428571428571427, 29.571428571428573, 74.85714285714286, 94.28571428571429, 44.142857142857146, 16.0, 22.571428571428573, 6.0, 91.14285714285714, 19.428571428571427, 28.142857142857142, 30.857142857142858, 71.14285714285714, 42.0, 36.857142857142854, 39.714285714285715, 51.0, 26.857142857142858, 7.714285714285714, 1.0, 132.14285714285714, 38.142857142857146, 48.0, 1.8571428571428572, 83.42857142857143, 58.0, 10.428571428571429, 74.0, 23.571428571428573, 21.285714285714285, 32.142857142857146, 14.142857142857142, 26.714285714285715, 71.0, 49.714285714285715, 24.571428571428573, 59.285714285714285, 10.571428571428571, 40.0, 88.71428571428571, 48.714285714285715, 78.14285714285714, 37.0, 12.714285714285714, 23.714285714285715, 21.571428571428573, 43.0, 36.714285714285715, 35.0, 9.285714285714286, 35.714285714285715, 51.285714285714285, 24.0, 36.285714285714285, 18.142857142857142, 45.857142857142854, 90.85714285714286, 117.0, 89.28571428571429, 3.2857142857142856, 82.0, 9.571428571428571, 22.0, 62.857142857142854, 114.0, 37.714285714285715, 5.857142857142857, 12.285714285714286, 79.71428571428571, 34.42857142857143, 26.428571428571427, 54.857142857142854, 86.42857142857143, 30.0, 65.42857142857143, 127.0, 70.57142857142857, 81.42857142857143, 42.42857142857143, 35.142857142857146, 1.4285714285714286, 55.714285714285715, 46.857142857142854, 48.285714285714285, 54.42857142857143, 76.85714285714286, 74.71428571428571, 39.57142857142857, 59.857142857142854, 81.28571428571429, 85.28571428571429, 6.142857142857143, 66.57142857142857, 28.857142857142858, 108.14285714285714, 14.857142857142858, 70.28571428571429, 28.714285714285715, 60.57142857142857, 60.285714285714285, 25.142857142857142, 26.285714285714285, 19.714285714285715, 57.714285714285715, 37.285714285714285, 37.42857142857143, 33.57142857142857, 14.571428571428571, 6.714285714285714, 31.142857142857142, 36.0, 44.0, 15.857142857142858, 43.857142857142854, 17.285714285714285, 93.28571428571429, 31.571428571428573, 33.285714285714285, 18.571428571428573, 39.142857142857146, 101.57142857142857, 42.142857142857146, 25.285714285714285, 25.0, 0.7142857142857143, 69.85714285714286, 52.857142857142854, 4.285714285714286, 41.57142857142857, 11.0, 43.42857142857143, 38.285714285714285, 73.85714285714286, 56.714285714285715, 72.14285714285714, 16.857142857142858, 10.0], \"xaxis\": \"x2\", \"yaxis\": \"y2\"}],\n",
       "                        {\"barmode\": \"group\", \"showlegend\": true, \"template\": {\"data\": {\"bar\": [{\"error_x\": {\"color\": \"#2a3f5f\"}, \"error_y\": {\"color\": \"#2a3f5f\"}, \"marker\": {\"line\": {\"color\": \"#E5ECF6\", \"width\": 0.5}}, \"type\": \"bar\"}], \"barpolar\": [{\"marker\": {\"line\": {\"color\": \"#E5ECF6\", \"width\": 0.5}}, \"type\": \"barpolar\"}], \"carpet\": [{\"aaxis\": {\"endlinecolor\": \"#2a3f5f\", \"gridcolor\": \"white\", \"linecolor\": \"white\", \"minorgridcolor\": \"white\", \"startlinecolor\": \"#2a3f5f\"}, \"baxis\": {\"endlinecolor\": \"#2a3f5f\", \"gridcolor\": \"white\", \"linecolor\": \"white\", \"minorgridcolor\": \"white\", \"startlinecolor\": \"#2a3f5f\"}, \"type\": \"carpet\"}], \"choropleth\": [{\"colorbar\": {\"outlinewidth\": 0, \"ticks\": \"\"}, \"type\": \"choropleth\"}], \"contour\": [{\"colorbar\": {\"outlinewidth\": 0, \"ticks\": \"\"}, \"colorscale\": [[0.0, \"#0d0887\"], [0.1111111111111111, \"#46039f\"], [0.2222222222222222, \"#7201a8\"], [0.3333333333333333, \"#9c179e\"], [0.4444444444444444, \"#bd3786\"], [0.5555555555555556, \"#d8576b\"], [0.6666666666666666, \"#ed7953\"], [0.7777777777777778, \"#fb9f3a\"], [0.8888888888888888, \"#fdca26\"], [1.0, \"#f0f921\"]], \"type\": \"contour\"}], \"contourcarpet\": [{\"colorbar\": {\"outlinewidth\": 0, \"ticks\": \"\"}, \"type\": \"contourcarpet\"}], \"heatmap\": [{\"colorbar\": {\"outlinewidth\": 0, \"ticks\": \"\"}, \"colorscale\": [[0.0, \"#0d0887\"], [0.1111111111111111, \"#46039f\"], [0.2222222222222222, \"#7201a8\"], [0.3333333333333333, \"#9c179e\"], [0.4444444444444444, \"#bd3786\"], [0.5555555555555556, \"#d8576b\"], [0.6666666666666666, \"#ed7953\"], [0.7777777777777778, \"#fb9f3a\"], [0.8888888888888888, \"#fdca26\"], [1.0, \"#f0f921\"]], \"type\": \"heatmap\"}], \"heatmapgl\": [{\"colorbar\": {\"outlinewidth\": 0, \"ticks\": \"\"}, \"colorscale\": [[0.0, \"#0d0887\"], [0.1111111111111111, \"#46039f\"], [0.2222222222222222, \"#7201a8\"], [0.3333333333333333, \"#9c179e\"], [0.4444444444444444, \"#bd3786\"], [0.5555555555555556, \"#d8576b\"], [0.6666666666666666, \"#ed7953\"], [0.7777777777777778, \"#fb9f3a\"], [0.8888888888888888, \"#fdca26\"], [1.0, \"#f0f921\"]], \"type\": \"heatmapgl\"}], \"histogram\": [{\"marker\": {\"colorbar\": {\"outlinewidth\": 0, \"ticks\": \"\"}}, \"type\": \"histogram\"}], \"histogram2d\": [{\"colorbar\": {\"outlinewidth\": 0, \"ticks\": \"\"}, \"colorscale\": [[0.0, \"#0d0887\"], [0.1111111111111111, \"#46039f\"], [0.2222222222222222, \"#7201a8\"], [0.3333333333333333, \"#9c179e\"], [0.4444444444444444, \"#bd3786\"], [0.5555555555555556, \"#d8576b\"], [0.6666666666666666, \"#ed7953\"], [0.7777777777777778, \"#fb9f3a\"], [0.8888888888888888, \"#fdca26\"], [1.0, \"#f0f921\"]], \"type\": \"histogram2d\"}], \"histogram2dcontour\": [{\"colorbar\": {\"outlinewidth\": 0, \"ticks\": \"\"}, \"colorscale\": [[0.0, \"#0d0887\"], [0.1111111111111111, \"#46039f\"], [0.2222222222222222, \"#7201a8\"], [0.3333333333333333, \"#9c179e\"], [0.4444444444444444, \"#bd3786\"], [0.5555555555555556, \"#d8576b\"], [0.6666666666666666, \"#ed7953\"], [0.7777777777777778, \"#fb9f3a\"], [0.8888888888888888, \"#fdca26\"], [1.0, \"#f0f921\"]], \"type\": \"histogram2dcontour\"}], \"mesh3d\": [{\"colorbar\": {\"outlinewidth\": 0, \"ticks\": \"\"}, \"type\": \"mesh3d\"}], \"parcoords\": [{\"line\": {\"colorbar\": {\"outlinewidth\": 0, \"ticks\": \"\"}}, \"type\": \"parcoords\"}], \"scatter\": [{\"marker\": {\"colorbar\": {\"outlinewidth\": 0, \"ticks\": \"\"}}, \"type\": \"scatter\"}], \"scatter3d\": [{\"line\": {\"colorbar\": {\"outlinewidth\": 0, \"ticks\": \"\"}}, \"marker\": {\"colorbar\": {\"outlinewidth\": 0, \"ticks\": \"\"}}, \"type\": \"scatter3d\"}], \"scattercarpet\": [{\"marker\": {\"colorbar\": {\"outlinewidth\": 0, \"ticks\": \"\"}}, \"type\": \"scattercarpet\"}], \"scattergeo\": [{\"marker\": {\"colorbar\": {\"outlinewidth\": 0, \"ticks\": \"\"}}, \"type\": \"scattergeo\"}], \"scattergl\": [{\"marker\": {\"colorbar\": {\"outlinewidth\": 0, \"ticks\": \"\"}}, \"type\": \"scattergl\"}], \"scattermapbox\": [{\"marker\": {\"colorbar\": {\"outlinewidth\": 0, \"ticks\": \"\"}}, \"type\": \"scattermapbox\"}], \"scatterpolar\": [{\"marker\": {\"colorbar\": {\"outlinewidth\": 0, \"ticks\": \"\"}}, \"type\": \"scatterpolar\"}], \"scatterpolargl\": [{\"marker\": {\"colorbar\": {\"outlinewidth\": 0, \"ticks\": \"\"}}, \"type\": \"scatterpolargl\"}], \"scatterternary\": [{\"marker\": {\"colorbar\": {\"outlinewidth\": 0, \"ticks\": \"\"}}, \"type\": \"scatterternary\"}], \"surface\": [{\"colorbar\": {\"outlinewidth\": 0, \"ticks\": \"\"}, \"colorscale\": [[0.0, \"#0d0887\"], [0.1111111111111111, \"#46039f\"], [0.2222222222222222, \"#7201a8\"], [0.3333333333333333, \"#9c179e\"], [0.4444444444444444, \"#bd3786\"], [0.5555555555555556, \"#d8576b\"], [0.6666666666666666, \"#ed7953\"], [0.7777777777777778, \"#fb9f3a\"], [0.8888888888888888, \"#fdca26\"], [1.0, \"#f0f921\"]], \"type\": \"surface\"}], \"table\": [{\"cells\": {\"fill\": {\"color\": \"#EBF0F8\"}, \"line\": {\"color\": \"white\"}}, \"header\": {\"fill\": {\"color\": \"#C8D4E3\"}, \"line\": {\"color\": \"white\"}}, \"type\": \"table\"}]}, \"layout\": {\"annotationdefaults\": {\"arrowcolor\": \"#2a3f5f\", \"arrowhead\": 0, \"arrowwidth\": 1}, \"colorscale\": {\"diverging\": [[0, \"#8e0152\"], [0.1, \"#c51b7d\"], [0.2, \"#de77ae\"], [0.3, \"#f1b6da\"], [0.4, \"#fde0ef\"], [0.5, \"#f7f7f7\"], [0.6, \"#e6f5d0\"], [0.7, \"#b8e186\"], [0.8, \"#7fbc41\"], [0.9, \"#4d9221\"], [1, \"#276419\"]], \"sequential\": [[0.0, \"#0d0887\"], [0.1111111111111111, \"#46039f\"], [0.2222222222222222, \"#7201a8\"], [0.3333333333333333, \"#9c179e\"], [0.4444444444444444, \"#bd3786\"], [0.5555555555555556, \"#d8576b\"], [0.6666666666666666, \"#ed7953\"], [0.7777777777777778, \"#fb9f3a\"], [0.8888888888888888, \"#fdca26\"], [1.0, \"#f0f921\"]], \"sequentialminus\": [[0.0, \"#0d0887\"], [0.1111111111111111, \"#46039f\"], [0.2222222222222222, \"#7201a8\"], [0.3333333333333333, \"#9c179e\"], [0.4444444444444444, \"#bd3786\"], [0.5555555555555556, \"#d8576b\"], [0.6666666666666666, \"#ed7953\"], [0.7777777777777778, \"#fb9f3a\"], [0.8888888888888888, \"#fdca26\"], [1.0, \"#f0f921\"]]}, \"colorway\": [\"#636efa\", \"#EF553B\", \"#00cc96\", \"#ab63fa\", \"#FFA15A\", \"#19d3f3\", \"#FF6692\", \"#B6E880\", \"#FF97FF\", \"#FECB52\"], \"font\": {\"color\": \"#2a3f5f\"}, \"geo\": {\"bgcolor\": \"white\", \"lakecolor\": \"white\", \"landcolor\": \"#E5ECF6\", \"showlakes\": true, \"showland\": true, \"subunitcolor\": \"white\"}, \"hoverlabel\": {\"align\": \"left\"}, \"hovermode\": \"closest\", \"mapbox\": {\"style\": \"light\"}, \"paper_bgcolor\": \"white\", \"plot_bgcolor\": \"#E5ECF6\", \"polar\": {\"angularaxis\": {\"gridcolor\": \"white\", \"linecolor\": \"white\", \"ticks\": \"\"}, \"bgcolor\": \"#E5ECF6\", \"radialaxis\": {\"gridcolor\": \"white\", \"linecolor\": \"white\", \"ticks\": \"\"}}, \"scene\": {\"xaxis\": {\"backgroundcolor\": \"#E5ECF6\", \"gridcolor\": \"white\", \"gridwidth\": 2, \"linecolor\": \"white\", \"showbackground\": true, \"ticks\": \"\", \"zerolinecolor\": \"white\"}, \"yaxis\": {\"backgroundcolor\": \"#E5ECF6\", \"gridcolor\": \"white\", \"gridwidth\": 2, \"linecolor\": \"white\", \"showbackground\": true, \"ticks\": \"\", \"zerolinecolor\": \"white\"}, \"zaxis\": {\"backgroundcolor\": \"#E5ECF6\", \"gridcolor\": \"white\", \"gridwidth\": 2, \"linecolor\": \"white\", \"showbackground\": true, \"ticks\": \"\", \"zerolinecolor\": \"white\"}}, \"shapedefaults\": {\"line\": {\"color\": \"#2a3f5f\"}}, \"ternary\": {\"aaxis\": {\"gridcolor\": \"white\", \"linecolor\": \"white\", \"ticks\": \"\"}, \"baxis\": {\"gridcolor\": \"white\", \"linecolor\": \"white\", \"ticks\": \"\"}, \"bgcolor\": \"#E5ECF6\", \"caxis\": {\"gridcolor\": \"white\", \"linecolor\": \"white\", \"ticks\": \"\"}}, \"title\": {\"x\": 0.05}, \"xaxis\": {\"automargin\": true, \"gridcolor\": \"white\", \"linecolor\": \"white\", \"ticks\": \"\", \"zerolinecolor\": \"white\", \"zerolinewidth\": 2}, \"yaxis\": {\"automargin\": true, \"gridcolor\": \"white\", \"linecolor\": \"white\", \"ticks\": \"\", \"zerolinecolor\": \"white\", \"zerolinewidth\": 2}}}, \"title\": {\"text\": \"Distribution of active vs churned user per average number of songs per week\"}, \"xaxis\": {\"anchor\": \"y\", \"domain\": [0.0, 1.0], \"matches\": \"x2\", \"showticklabels\": false}, \"xaxis2\": {\"anchor\": \"y2\", \"domain\": [0.0, 1.0], \"tickangle\": -45, \"title\": {\"text\": \"Average number of songs per week\"}}, \"yaxis\": {\"anchor\": \"x\", \"domain\": [0.575, 1.0], \"title\": {\"text\": \"Service cancellation analysis\"}}, \"yaxis2\": {\"anchor\": \"x2\", \"domain\": [0.0, 0.425], \"title\": {\"text\": \"Service downgrade analysis\"}}},\n",
       "                        {\"responsive\": true}\n",
       "                    ).then(function(){\n",
       "                            \n",
       "var gd = document.getElementById('a8ffe956-8e2d-4761-99b8-8a4bf162baca');\n",
       "var x = new MutationObserver(function (mutations, observer) {{\n",
       "        var display = window.getComputedStyle(gd).display;\n",
       "        if (!display || display === 'none') {{\n",
       "            console.log([gd, 'removed!']);\n",
       "            Plotly.purge(gd);\n",
       "            observer.disconnect();\n",
       "        }}\n",
       "}});\n",
       "\n",
       "// Listen for the removal of the full notebook cells\n",
       "var notebookContainer = gd.closest('#notebook-container');\n",
       "if (notebookContainer) {{\n",
       "    x.observe(notebookContainer, {childList: true});\n",
       "}}\n",
       "\n",
       "// Listen for the clearing of the current output cell\n",
       "var outputEl = gd.closest('.output');\n",
       "if (outputEl) {{\n",
       "    x.observe(outputEl, {childList: true});\n",
       "}}\n",
       "\n",
       "                        })\n",
       "                };\n",
       "                });\n",
       "            </script>\n",
       "        </div>"
      ]
     },
     "metadata": {},
     "output_type": "display_data"
    }
   ],
   "source": [
    "fig = make_subplots(rows=2, cols=1, shared_xaxes=True)\n",
    "\n",
    "fig.append_trace(go.Box(\n",
    "    x=avg_week_churn_service['avg_song_week'].unique(),\n",
    "    name='Cancel churned users',\n",
    "    marker=dict(\n",
    "        color='rgb(68, 1, 84)'\n",
    "    )\n",
    "),1,1)\n",
    "fig.append_trace(go.Box(\n",
    "    x=avg_week_no_churn['avg_song_week'].unique(),\n",
    "    name='Active users',\n",
    "    marker=dict(\n",
    "        color='rgb(220, 227, 25)'\n",
    "    )\n",
    "),1,1)\n",
    "fig.append_trace(go.Box(\n",
    "    x=avg_week_churn_paid['avg_song_week'].unique(),\n",
    "    name='Downgrade churned users',\n",
    "    marker=dict(\n",
    "        color='rgb(45, 112, 142)'\n",
    "    ),\n",
    "),2, 1)\n",
    "fig.append_trace(go.Box(\n",
    "    x=avg_week_no_churn[avg_week_no_churn['level']=='paid']['avg_song_week'].unique(),\n",
    "    name='Active paid users',\n",
    "    marker=dict(\n",
    "        color='rgb(149, 216, 64)'\n",
    "    ),\n",
    "),2, 1)\n",
    "\n",
    "fig.layout.update(go.Layout(\n",
    "    title_text=\"Distribution of active vs churned user per average number of songs per week\",\n",
    "    barmode='group',\n",
    "    showlegend=True\n",
    "))\n",
    "fig.update_xaxes(title_text=\"Average number of songs per week\", tickangle=-45, row=2, col=1)\n",
    "fig.update_yaxes(title_text=\"Service cancellation analysis\", row=1, col=1)\n",
    "fig.update_yaxes(title_text=\"Service downgrade analysis\", row=2, col=1)\n",
    "\n",
    "fig.show()"
   ]
  },
  {
   "cell_type": "code",
   "execution_count": 260,
   "metadata": {},
   "outputs": [
    {
     "data": {
      "application/vnd.plotly.v1+json": {
       "config": {
        "plotlyServerURL": "https://plot.ly"
       },
       "data": [
        {
         "marker": {
          "color": "rgb(68, 1, 84)"
         },
         "name": "Cancel churned users",
         "type": "box",
         "x": [
          0.7142857142857143,
          1.5714285714285714,
          0.42857142857142855,
          0,
          0.5714285714285714,
          2,
          0.2857142857142857,
          1.1428571428571428,
          0.14285714285714285,
          6.285714285714286,
          2.2857142857142856,
          2.4285714285714284,
          1.2857142857142858,
          3.4285714285714284,
          1.4285714285714286,
          3.2857142857142856,
          2.7142857142857144,
          5.571428571428571,
          5.428571428571429,
          8.142857142857142,
          3.142857142857143,
          1,
          0.8571428571428571,
          6.428571428571429,
          3.7142857142857144,
          2.857142857142857,
          9.857142857142858,
          1.8571428571428572,
          2.5714285714285716,
          6.142857142857143,
          2.142857142857143,
          3.5714285714285716,
          1.7142857142857142,
          4.571428571428571,
          4.428571428571429
         ],
         "xaxis": "x",
         "yaxis": "y"
        },
        {
         "marker": {
          "color": "rgb(220, 227, 25)"
         },
         "name": "Active users",
         "type": "box",
         "x": [
          0,
          1.4285714285714286,
          0.42857142857142855,
          0.7142857142857143,
          0.14285714285714285,
          0.2857142857142857,
          4.142857142857143,
          2,
          6.714285714285714,
          1.5714285714285714,
          1.7142857142857142,
          4,
          1,
          3.2857142857142856,
          3.857142857142857,
          1.2857142857142858,
          2.857142857142857,
          3.7142857142857144,
          3.4285714285714284,
          3,
          1.8571428571428572,
          1.1428571428571428,
          2.4285714285714284,
          0.5714285714285714,
          2.2857142857142856,
          2.142857142857143,
          0.8571428571428571,
          6.428571428571429,
          4.428571428571429,
          4.714285714285714,
          3.5714285714285716,
          2.5714285714285716,
          4.285714285714286,
          5.428571428571429,
          7.285714285714286,
          5.285714285714286,
          5.142857142857143,
          3.142857142857143,
          8,
          7.142857142857143,
          5.571428571428571,
          6.142857142857143,
          2.7142857142857144,
          5,
          9.714285714285714,
          4.857142857142857,
          5.714285714285714,
          6,
          5.857142857142857,
          4.571428571428571
         ],
         "xaxis": "x",
         "yaxis": "y"
        },
        {
         "marker": {
          "color": "rgb(45, 112, 142)"
         },
         "name": "Downgrade churned users",
         "type": "box",
         "x": [
          0.5714285714285714,
          2.7142857142857144,
          4.714285714285714,
          0.7142857142857143,
          1,
          1.1428571428571428,
          5.428571428571429,
          5.571428571428571,
          3.4285714285714284,
          3.142857142857143,
          1.8571428571428572,
          4.571428571428571,
          1.7142857142857142,
          0.8571428571428571,
          7.428571428571429,
          8.142857142857142,
          6.857142857142857,
          0.2857142857142857,
          3.2857142857142856,
          0.14285714285714285,
          0.42857142857142855,
          5.714285714285714,
          2.2857142857142856,
          9.857142857142858,
          0,
          7.285714285714286,
          4.142857142857143,
          2.4285714285714284,
          5.142857142857143,
          3.5714285714285716,
          3.857142857142857,
          8,
          2.142857142857143,
          1.5714285714285714,
          5,
          4.857142857142857,
          2.5714285714285716,
          1.2857142857142858,
          4.428571428571429,
          1.4285714285714286,
          3,
          2,
          4,
          4.285714285714286,
          8.428571428571429,
          3.7142857142857144,
          13,
          8.857142857142858,
          6.571428571428571,
          12.142857142857142,
          5.285714285714286,
          7.857142857142857,
          7.714285714285714,
          11.285714285714286,
          10.857142857142858,
          2.857142857142857,
          9.571428571428571,
          6.428571428571429,
          8.285714285714286
         ],
         "xaxis": "x2",
         "yaxis": "y2"
        },
        {
         "marker": {
          "color": "rgb(149, 216, 64)"
         },
         "name": "Active paid users",
         "type": "box",
         "x": [
          0,
          0.14285714285714285,
          0.2857142857142857,
          4.142857142857143,
          2,
          6.714285714285714,
          0.7142857142857143,
          1.7142857142857142,
          4,
          1,
          0.42857142857142855,
          3.2857142857142856,
          3.857142857142857,
          1.2857142857142858,
          2.857142857142857,
          3.7142857142857144,
          3.4285714285714284,
          3,
          1.8571428571428572,
          1.1428571428571428,
          2.4285714285714284,
          0.5714285714285714,
          2.2857142857142856,
          2.142857142857143,
          0.8571428571428571,
          6.428571428571429,
          4.428571428571429,
          1.5714285714285714,
          4.714285714285714,
          3.5714285714285716,
          2.5714285714285716,
          1.4285714285714286,
          4.285714285714286,
          5.428571428571429,
          7.285714285714286,
          5.285714285714286,
          5.142857142857143,
          3.142857142857143,
          8,
          7.142857142857143,
          5.571428571428571,
          6.142857142857143,
          2.7142857142857144,
          5,
          9.714285714285714,
          4.857142857142857,
          5.714285714285714,
          6,
          5.857142857142857,
          4.571428571428571
         ],
         "xaxis": "x2",
         "yaxis": "y2"
        }
       ],
       "layout": {
        "barmode": "group",
        "showlegend": true,
        "template": {
         "data": {
          "bar": [
           {
            "error_x": {
             "color": "#2a3f5f"
            },
            "error_y": {
             "color": "#2a3f5f"
            },
            "marker": {
             "line": {
              "color": "#E5ECF6",
              "width": 0.5
             }
            },
            "type": "bar"
           }
          ],
          "barpolar": [
           {
            "marker": {
             "line": {
              "color": "#E5ECF6",
              "width": 0.5
             }
            },
            "type": "barpolar"
           }
          ],
          "carpet": [
           {
            "aaxis": {
             "endlinecolor": "#2a3f5f",
             "gridcolor": "white",
             "linecolor": "white",
             "minorgridcolor": "white",
             "startlinecolor": "#2a3f5f"
            },
            "baxis": {
             "endlinecolor": "#2a3f5f",
             "gridcolor": "white",
             "linecolor": "white",
             "minorgridcolor": "white",
             "startlinecolor": "#2a3f5f"
            },
            "type": "carpet"
           }
          ],
          "choropleth": [
           {
            "colorbar": {
             "outlinewidth": 0,
             "ticks": ""
            },
            "type": "choropleth"
           }
          ],
          "contour": [
           {
            "colorbar": {
             "outlinewidth": 0,
             "ticks": ""
            },
            "colorscale": [
             [
              0,
              "#0d0887"
             ],
             [
              0.1111111111111111,
              "#46039f"
             ],
             [
              0.2222222222222222,
              "#7201a8"
             ],
             [
              0.3333333333333333,
              "#9c179e"
             ],
             [
              0.4444444444444444,
              "#bd3786"
             ],
             [
              0.5555555555555556,
              "#d8576b"
             ],
             [
              0.6666666666666666,
              "#ed7953"
             ],
             [
              0.7777777777777778,
              "#fb9f3a"
             ],
             [
              0.8888888888888888,
              "#fdca26"
             ],
             [
              1,
              "#f0f921"
             ]
            ],
            "type": "contour"
           }
          ],
          "contourcarpet": [
           {
            "colorbar": {
             "outlinewidth": 0,
             "ticks": ""
            },
            "type": "contourcarpet"
           }
          ],
          "heatmap": [
           {
            "colorbar": {
             "outlinewidth": 0,
             "ticks": ""
            },
            "colorscale": [
             [
              0,
              "#0d0887"
             ],
             [
              0.1111111111111111,
              "#46039f"
             ],
             [
              0.2222222222222222,
              "#7201a8"
             ],
             [
              0.3333333333333333,
              "#9c179e"
             ],
             [
              0.4444444444444444,
              "#bd3786"
             ],
             [
              0.5555555555555556,
              "#d8576b"
             ],
             [
              0.6666666666666666,
              "#ed7953"
             ],
             [
              0.7777777777777778,
              "#fb9f3a"
             ],
             [
              0.8888888888888888,
              "#fdca26"
             ],
             [
              1,
              "#f0f921"
             ]
            ],
            "type": "heatmap"
           }
          ],
          "heatmapgl": [
           {
            "colorbar": {
             "outlinewidth": 0,
             "ticks": ""
            },
            "colorscale": [
             [
              0,
              "#0d0887"
             ],
             [
              0.1111111111111111,
              "#46039f"
             ],
             [
              0.2222222222222222,
              "#7201a8"
             ],
             [
              0.3333333333333333,
              "#9c179e"
             ],
             [
              0.4444444444444444,
              "#bd3786"
             ],
             [
              0.5555555555555556,
              "#d8576b"
             ],
             [
              0.6666666666666666,
              "#ed7953"
             ],
             [
              0.7777777777777778,
              "#fb9f3a"
             ],
             [
              0.8888888888888888,
              "#fdca26"
             ],
             [
              1,
              "#f0f921"
             ]
            ],
            "type": "heatmapgl"
           }
          ],
          "histogram": [
           {
            "marker": {
             "colorbar": {
              "outlinewidth": 0,
              "ticks": ""
             }
            },
            "type": "histogram"
           }
          ],
          "histogram2d": [
           {
            "colorbar": {
             "outlinewidth": 0,
             "ticks": ""
            },
            "colorscale": [
             [
              0,
              "#0d0887"
             ],
             [
              0.1111111111111111,
              "#46039f"
             ],
             [
              0.2222222222222222,
              "#7201a8"
             ],
             [
              0.3333333333333333,
              "#9c179e"
             ],
             [
              0.4444444444444444,
              "#bd3786"
             ],
             [
              0.5555555555555556,
              "#d8576b"
             ],
             [
              0.6666666666666666,
              "#ed7953"
             ],
             [
              0.7777777777777778,
              "#fb9f3a"
             ],
             [
              0.8888888888888888,
              "#fdca26"
             ],
             [
              1,
              "#f0f921"
             ]
            ],
            "type": "histogram2d"
           }
          ],
          "histogram2dcontour": [
           {
            "colorbar": {
             "outlinewidth": 0,
             "ticks": ""
            },
            "colorscale": [
             [
              0,
              "#0d0887"
             ],
             [
              0.1111111111111111,
              "#46039f"
             ],
             [
              0.2222222222222222,
              "#7201a8"
             ],
             [
              0.3333333333333333,
              "#9c179e"
             ],
             [
              0.4444444444444444,
              "#bd3786"
             ],
             [
              0.5555555555555556,
              "#d8576b"
             ],
             [
              0.6666666666666666,
              "#ed7953"
             ],
             [
              0.7777777777777778,
              "#fb9f3a"
             ],
             [
              0.8888888888888888,
              "#fdca26"
             ],
             [
              1,
              "#f0f921"
             ]
            ],
            "type": "histogram2dcontour"
           }
          ],
          "mesh3d": [
           {
            "colorbar": {
             "outlinewidth": 0,
             "ticks": ""
            },
            "type": "mesh3d"
           }
          ],
          "parcoords": [
           {
            "line": {
             "colorbar": {
              "outlinewidth": 0,
              "ticks": ""
             }
            },
            "type": "parcoords"
           }
          ],
          "scatter": [
           {
            "marker": {
             "colorbar": {
              "outlinewidth": 0,
              "ticks": ""
             }
            },
            "type": "scatter"
           }
          ],
          "scatter3d": [
           {
            "line": {
             "colorbar": {
              "outlinewidth": 0,
              "ticks": ""
             }
            },
            "marker": {
             "colorbar": {
              "outlinewidth": 0,
              "ticks": ""
             }
            },
            "type": "scatter3d"
           }
          ],
          "scattercarpet": [
           {
            "marker": {
             "colorbar": {
              "outlinewidth": 0,
              "ticks": ""
             }
            },
            "type": "scattercarpet"
           }
          ],
          "scattergeo": [
           {
            "marker": {
             "colorbar": {
              "outlinewidth": 0,
              "ticks": ""
             }
            },
            "type": "scattergeo"
           }
          ],
          "scattergl": [
           {
            "marker": {
             "colorbar": {
              "outlinewidth": 0,
              "ticks": ""
             }
            },
            "type": "scattergl"
           }
          ],
          "scattermapbox": [
           {
            "marker": {
             "colorbar": {
              "outlinewidth": 0,
              "ticks": ""
             }
            },
            "type": "scattermapbox"
           }
          ],
          "scatterpolar": [
           {
            "marker": {
             "colorbar": {
              "outlinewidth": 0,
              "ticks": ""
             }
            },
            "type": "scatterpolar"
           }
          ],
          "scatterpolargl": [
           {
            "marker": {
             "colorbar": {
              "outlinewidth": 0,
              "ticks": ""
             }
            },
            "type": "scatterpolargl"
           }
          ],
          "scatterternary": [
           {
            "marker": {
             "colorbar": {
              "outlinewidth": 0,
              "ticks": ""
             }
            },
            "type": "scatterternary"
           }
          ],
          "surface": [
           {
            "colorbar": {
             "outlinewidth": 0,
             "ticks": ""
            },
            "colorscale": [
             [
              0,
              "#0d0887"
             ],
             [
              0.1111111111111111,
              "#46039f"
             ],
             [
              0.2222222222222222,
              "#7201a8"
             ],
             [
              0.3333333333333333,
              "#9c179e"
             ],
             [
              0.4444444444444444,
              "#bd3786"
             ],
             [
              0.5555555555555556,
              "#d8576b"
             ],
             [
              0.6666666666666666,
              "#ed7953"
             ],
             [
              0.7777777777777778,
              "#fb9f3a"
             ],
             [
              0.8888888888888888,
              "#fdca26"
             ],
             [
              1,
              "#f0f921"
             ]
            ],
            "type": "surface"
           }
          ],
          "table": [
           {
            "cells": {
             "fill": {
              "color": "#EBF0F8"
             },
             "line": {
              "color": "white"
             }
            },
            "header": {
             "fill": {
              "color": "#C8D4E3"
             },
             "line": {
              "color": "white"
             }
            },
            "type": "table"
           }
          ]
         },
         "layout": {
          "annotationdefaults": {
           "arrowcolor": "#2a3f5f",
           "arrowhead": 0,
           "arrowwidth": 1
          },
          "colorscale": {
           "diverging": [
            [
             0,
             "#8e0152"
            ],
            [
             0.1,
             "#c51b7d"
            ],
            [
             0.2,
             "#de77ae"
            ],
            [
             0.3,
             "#f1b6da"
            ],
            [
             0.4,
             "#fde0ef"
            ],
            [
             0.5,
             "#f7f7f7"
            ],
            [
             0.6,
             "#e6f5d0"
            ],
            [
             0.7,
             "#b8e186"
            ],
            [
             0.8,
             "#7fbc41"
            ],
            [
             0.9,
             "#4d9221"
            ],
            [
             1,
             "#276419"
            ]
           ],
           "sequential": [
            [
             0,
             "#0d0887"
            ],
            [
             0.1111111111111111,
             "#46039f"
            ],
            [
             0.2222222222222222,
             "#7201a8"
            ],
            [
             0.3333333333333333,
             "#9c179e"
            ],
            [
             0.4444444444444444,
             "#bd3786"
            ],
            [
             0.5555555555555556,
             "#d8576b"
            ],
            [
             0.6666666666666666,
             "#ed7953"
            ],
            [
             0.7777777777777778,
             "#fb9f3a"
            ],
            [
             0.8888888888888888,
             "#fdca26"
            ],
            [
             1,
             "#f0f921"
            ]
           ],
           "sequentialminus": [
            [
             0,
             "#0d0887"
            ],
            [
             0.1111111111111111,
             "#46039f"
            ],
            [
             0.2222222222222222,
             "#7201a8"
            ],
            [
             0.3333333333333333,
             "#9c179e"
            ],
            [
             0.4444444444444444,
             "#bd3786"
            ],
            [
             0.5555555555555556,
             "#d8576b"
            ],
            [
             0.6666666666666666,
             "#ed7953"
            ],
            [
             0.7777777777777778,
             "#fb9f3a"
            ],
            [
             0.8888888888888888,
             "#fdca26"
            ],
            [
             1,
             "#f0f921"
            ]
           ]
          },
          "colorway": [
           "#636efa",
           "#EF553B",
           "#00cc96",
           "#ab63fa",
           "#FFA15A",
           "#19d3f3",
           "#FF6692",
           "#B6E880",
           "#FF97FF",
           "#FECB52"
          ],
          "font": {
           "color": "#2a3f5f"
          },
          "geo": {
           "bgcolor": "white",
           "lakecolor": "white",
           "landcolor": "#E5ECF6",
           "showlakes": true,
           "showland": true,
           "subunitcolor": "white"
          },
          "hoverlabel": {
           "align": "left"
          },
          "hovermode": "closest",
          "mapbox": {
           "style": "light"
          },
          "paper_bgcolor": "white",
          "plot_bgcolor": "#E5ECF6",
          "polar": {
           "angularaxis": {
            "gridcolor": "white",
            "linecolor": "white",
            "ticks": ""
           },
           "bgcolor": "#E5ECF6",
           "radialaxis": {
            "gridcolor": "white",
            "linecolor": "white",
            "ticks": ""
           }
          },
          "scene": {
           "xaxis": {
            "backgroundcolor": "#E5ECF6",
            "gridcolor": "white",
            "gridwidth": 2,
            "linecolor": "white",
            "showbackground": true,
            "ticks": "",
            "zerolinecolor": "white"
           },
           "yaxis": {
            "backgroundcolor": "#E5ECF6",
            "gridcolor": "white",
            "gridwidth": 2,
            "linecolor": "white",
            "showbackground": true,
            "ticks": "",
            "zerolinecolor": "white"
           },
           "zaxis": {
            "backgroundcolor": "#E5ECF6",
            "gridcolor": "white",
            "gridwidth": 2,
            "linecolor": "white",
            "showbackground": true,
            "ticks": "",
            "zerolinecolor": "white"
           }
          },
          "shapedefaults": {
           "line": {
            "color": "#2a3f5f"
           }
          },
          "ternary": {
           "aaxis": {
            "gridcolor": "white",
            "linecolor": "white",
            "ticks": ""
           },
           "baxis": {
            "gridcolor": "white",
            "linecolor": "white",
            "ticks": ""
           },
           "bgcolor": "#E5ECF6",
           "caxis": {
            "gridcolor": "white",
            "linecolor": "white",
            "ticks": ""
           }
          },
          "title": {
           "x": 0.05
          },
          "xaxis": {
           "automargin": true,
           "gridcolor": "white",
           "linecolor": "white",
           "ticks": "",
           "zerolinecolor": "white",
           "zerolinewidth": 2
          },
          "yaxis": {
           "automargin": true,
           "gridcolor": "white",
           "linecolor": "white",
           "ticks": "",
           "zerolinecolor": "white",
           "zerolinewidth": 2
          }
         }
        },
        "title": {
         "text": "Distribution of active vs churned user per average number of thumb up per week"
        },
        "xaxis": {
         "anchor": "y",
         "domain": [
          0,
          1
         ],
         "matches": "x2",
         "showticklabels": false
        },
        "xaxis2": {
         "anchor": "y2",
         "domain": [
          0,
          1
         ],
         "tickangle": -45,
         "title": {
          "text": "Average number of thumb up per week"
         }
        },
        "yaxis": {
         "anchor": "x",
         "domain": [
          0.575,
          1
         ],
         "title": {
          "text": "Service cancellation analysis"
         }
        },
        "yaxis2": {
         "anchor": "x2",
         "domain": [
          0,
          0.425
         ],
         "title": {
          "text": "Service downgrade analysis"
         }
        }
       }
      },
      "text/html": [
       "<div>\n",
       "        \n",
       "        \n",
       "            <div id=\"c25605bc-769d-4da0-83e5-e64f6e3c9053\" class=\"plotly-graph-div\" style=\"height:525px; width:100%;\"></div>\n",
       "            <script type=\"text/javascript\">\n",
       "                require([\"plotly\"], function(Plotly) {\n",
       "                    window.PLOTLYENV=window.PLOTLYENV || {};\n",
       "                    \n",
       "                if (document.getElementById(\"c25605bc-769d-4da0-83e5-e64f6e3c9053\")) {\n",
       "                    Plotly.newPlot(\n",
       "                        'c25605bc-769d-4da0-83e5-e64f6e3c9053',\n",
       "                        [{\"marker\": {\"color\": \"rgb(68, 1, 84)\"}, \"name\": \"Cancel churned users\", \"type\": \"box\", \"x\": [0.7142857142857143, 1.5714285714285714, 0.42857142857142855, 0.0, 0.5714285714285714, 2.0, 0.2857142857142857, 1.1428571428571428, 0.14285714285714285, 6.285714285714286, 2.2857142857142856, 2.4285714285714284, 1.2857142857142858, 3.4285714285714284, 1.4285714285714286, 3.2857142857142856, 2.7142857142857144, 5.571428571428571, 5.428571428571429, 8.142857142857142, 3.142857142857143, 1.0, 0.8571428571428571, 6.428571428571429, 3.7142857142857144, 2.857142857142857, 9.857142857142858, 1.8571428571428572, 2.5714285714285716, 6.142857142857143, 2.142857142857143, 3.5714285714285716, 1.7142857142857142, 4.571428571428571, 4.428571428571429], \"xaxis\": \"x\", \"yaxis\": \"y\"}, {\"marker\": {\"color\": \"rgb(220, 227, 25)\"}, \"name\": \"Active users\", \"type\": \"box\", \"x\": [0.0, 1.4285714285714286, 0.42857142857142855, 0.7142857142857143, 0.14285714285714285, 0.2857142857142857, 4.142857142857143, 2.0, 6.714285714285714, 1.5714285714285714, 1.7142857142857142, 4.0, 1.0, 3.2857142857142856, 3.857142857142857, 1.2857142857142858, 2.857142857142857, 3.7142857142857144, 3.4285714285714284, 3.0, 1.8571428571428572, 1.1428571428571428, 2.4285714285714284, 0.5714285714285714, 2.2857142857142856, 2.142857142857143, 0.8571428571428571, 6.428571428571429, 4.428571428571429, 4.714285714285714, 3.5714285714285716, 2.5714285714285716, 4.285714285714286, 5.428571428571429, 7.285714285714286, 5.285714285714286, 5.142857142857143, 3.142857142857143, 8.0, 7.142857142857143, 5.571428571428571, 6.142857142857143, 2.7142857142857144, 5.0, 9.714285714285714, 4.857142857142857, 5.714285714285714, 6.0, 5.857142857142857, 4.571428571428571], \"xaxis\": \"x\", \"yaxis\": \"y\"}, {\"marker\": {\"color\": \"rgb(45, 112, 142)\"}, \"name\": \"Downgrade churned users\", \"type\": \"box\", \"x\": [0.5714285714285714, 2.7142857142857144, 4.714285714285714, 0.7142857142857143, 1.0, 1.1428571428571428, 5.428571428571429, 5.571428571428571, 3.4285714285714284, 3.142857142857143, 1.8571428571428572, 4.571428571428571, 1.7142857142857142, 0.8571428571428571, 7.428571428571429, 8.142857142857142, 6.857142857142857, 0.2857142857142857, 3.2857142857142856, 0.14285714285714285, 0.42857142857142855, 5.714285714285714, 2.2857142857142856, 9.857142857142858, 0.0, 7.285714285714286, 4.142857142857143, 2.4285714285714284, 5.142857142857143, 3.5714285714285716, 3.857142857142857, 8.0, 2.142857142857143, 1.5714285714285714, 5.0, 4.857142857142857, 2.5714285714285716, 1.2857142857142858, 4.428571428571429, 1.4285714285714286, 3.0, 2.0, 4.0, 4.285714285714286, 8.428571428571429, 3.7142857142857144, 13.0, 8.857142857142858, 6.571428571428571, 12.142857142857142, 5.285714285714286, 7.857142857142857, 7.714285714285714, 11.285714285714286, 10.857142857142858, 2.857142857142857, 9.571428571428571, 6.428571428571429, 8.285714285714286], \"xaxis\": \"x2\", \"yaxis\": \"y2\"}, {\"marker\": {\"color\": \"rgb(149, 216, 64)\"}, \"name\": \"Active paid users\", \"type\": \"box\", \"x\": [0.0, 0.14285714285714285, 0.2857142857142857, 4.142857142857143, 2.0, 6.714285714285714, 0.7142857142857143, 1.7142857142857142, 4.0, 1.0, 0.42857142857142855, 3.2857142857142856, 3.857142857142857, 1.2857142857142858, 2.857142857142857, 3.7142857142857144, 3.4285714285714284, 3.0, 1.8571428571428572, 1.1428571428571428, 2.4285714285714284, 0.5714285714285714, 2.2857142857142856, 2.142857142857143, 0.8571428571428571, 6.428571428571429, 4.428571428571429, 1.5714285714285714, 4.714285714285714, 3.5714285714285716, 2.5714285714285716, 1.4285714285714286, 4.285714285714286, 5.428571428571429, 7.285714285714286, 5.285714285714286, 5.142857142857143, 3.142857142857143, 8.0, 7.142857142857143, 5.571428571428571, 6.142857142857143, 2.7142857142857144, 5.0, 9.714285714285714, 4.857142857142857, 5.714285714285714, 6.0, 5.857142857142857, 4.571428571428571], \"xaxis\": \"x2\", \"yaxis\": \"y2\"}],\n",
       "                        {\"barmode\": \"group\", \"showlegend\": true, \"template\": {\"data\": {\"bar\": [{\"error_x\": {\"color\": \"#2a3f5f\"}, \"error_y\": {\"color\": \"#2a3f5f\"}, \"marker\": {\"line\": {\"color\": \"#E5ECF6\", \"width\": 0.5}}, \"type\": \"bar\"}], \"barpolar\": [{\"marker\": {\"line\": {\"color\": \"#E5ECF6\", \"width\": 0.5}}, \"type\": \"barpolar\"}], \"carpet\": [{\"aaxis\": {\"endlinecolor\": \"#2a3f5f\", \"gridcolor\": \"white\", \"linecolor\": \"white\", \"minorgridcolor\": \"white\", \"startlinecolor\": \"#2a3f5f\"}, \"baxis\": {\"endlinecolor\": \"#2a3f5f\", \"gridcolor\": \"white\", \"linecolor\": \"white\", \"minorgridcolor\": \"white\", \"startlinecolor\": \"#2a3f5f\"}, \"type\": \"carpet\"}], \"choropleth\": [{\"colorbar\": {\"outlinewidth\": 0, \"ticks\": \"\"}, \"type\": \"choropleth\"}], \"contour\": [{\"colorbar\": {\"outlinewidth\": 0, \"ticks\": \"\"}, \"colorscale\": [[0.0, \"#0d0887\"], [0.1111111111111111, \"#46039f\"], [0.2222222222222222, \"#7201a8\"], [0.3333333333333333, \"#9c179e\"], [0.4444444444444444, \"#bd3786\"], [0.5555555555555556, \"#d8576b\"], [0.6666666666666666, \"#ed7953\"], [0.7777777777777778, \"#fb9f3a\"], [0.8888888888888888, \"#fdca26\"], [1.0, \"#f0f921\"]], \"type\": \"contour\"}], \"contourcarpet\": [{\"colorbar\": {\"outlinewidth\": 0, \"ticks\": \"\"}, \"type\": \"contourcarpet\"}], \"heatmap\": [{\"colorbar\": {\"outlinewidth\": 0, \"ticks\": \"\"}, \"colorscale\": [[0.0, \"#0d0887\"], [0.1111111111111111, \"#46039f\"], [0.2222222222222222, \"#7201a8\"], [0.3333333333333333, \"#9c179e\"], [0.4444444444444444, \"#bd3786\"], [0.5555555555555556, \"#d8576b\"], [0.6666666666666666, \"#ed7953\"], [0.7777777777777778, \"#fb9f3a\"], [0.8888888888888888, \"#fdca26\"], [1.0, \"#f0f921\"]], \"type\": \"heatmap\"}], \"heatmapgl\": [{\"colorbar\": {\"outlinewidth\": 0, \"ticks\": \"\"}, \"colorscale\": [[0.0, \"#0d0887\"], [0.1111111111111111, \"#46039f\"], [0.2222222222222222, \"#7201a8\"], [0.3333333333333333, \"#9c179e\"], [0.4444444444444444, \"#bd3786\"], [0.5555555555555556, \"#d8576b\"], [0.6666666666666666, \"#ed7953\"], [0.7777777777777778, \"#fb9f3a\"], [0.8888888888888888, \"#fdca26\"], [1.0, \"#f0f921\"]], \"type\": \"heatmapgl\"}], \"histogram\": [{\"marker\": {\"colorbar\": {\"outlinewidth\": 0, \"ticks\": \"\"}}, \"type\": \"histogram\"}], \"histogram2d\": [{\"colorbar\": {\"outlinewidth\": 0, \"ticks\": \"\"}, \"colorscale\": [[0.0, \"#0d0887\"], [0.1111111111111111, \"#46039f\"], [0.2222222222222222, \"#7201a8\"], [0.3333333333333333, \"#9c179e\"], [0.4444444444444444, \"#bd3786\"], [0.5555555555555556, \"#d8576b\"], [0.6666666666666666, \"#ed7953\"], [0.7777777777777778, \"#fb9f3a\"], [0.8888888888888888, \"#fdca26\"], [1.0, \"#f0f921\"]], \"type\": \"histogram2d\"}], \"histogram2dcontour\": [{\"colorbar\": {\"outlinewidth\": 0, \"ticks\": \"\"}, \"colorscale\": [[0.0, \"#0d0887\"], [0.1111111111111111, \"#46039f\"], [0.2222222222222222, \"#7201a8\"], [0.3333333333333333, \"#9c179e\"], [0.4444444444444444, \"#bd3786\"], [0.5555555555555556, \"#d8576b\"], [0.6666666666666666, \"#ed7953\"], [0.7777777777777778, \"#fb9f3a\"], [0.8888888888888888, \"#fdca26\"], [1.0, \"#f0f921\"]], \"type\": \"histogram2dcontour\"}], \"mesh3d\": [{\"colorbar\": {\"outlinewidth\": 0, \"ticks\": \"\"}, \"type\": \"mesh3d\"}], \"parcoords\": [{\"line\": {\"colorbar\": {\"outlinewidth\": 0, \"ticks\": \"\"}}, \"type\": \"parcoords\"}], \"scatter\": [{\"marker\": {\"colorbar\": {\"outlinewidth\": 0, \"ticks\": \"\"}}, \"type\": \"scatter\"}], \"scatter3d\": [{\"line\": {\"colorbar\": {\"outlinewidth\": 0, \"ticks\": \"\"}}, \"marker\": {\"colorbar\": {\"outlinewidth\": 0, \"ticks\": \"\"}}, \"type\": \"scatter3d\"}], \"scattercarpet\": [{\"marker\": {\"colorbar\": {\"outlinewidth\": 0, \"ticks\": \"\"}}, \"type\": \"scattercarpet\"}], \"scattergeo\": [{\"marker\": {\"colorbar\": {\"outlinewidth\": 0, \"ticks\": \"\"}}, \"type\": \"scattergeo\"}], \"scattergl\": [{\"marker\": {\"colorbar\": {\"outlinewidth\": 0, \"ticks\": \"\"}}, \"type\": \"scattergl\"}], \"scattermapbox\": [{\"marker\": {\"colorbar\": {\"outlinewidth\": 0, \"ticks\": \"\"}}, \"type\": \"scattermapbox\"}], \"scatterpolar\": [{\"marker\": {\"colorbar\": {\"outlinewidth\": 0, \"ticks\": \"\"}}, \"type\": \"scatterpolar\"}], \"scatterpolargl\": [{\"marker\": {\"colorbar\": {\"outlinewidth\": 0, \"ticks\": \"\"}}, \"type\": \"scatterpolargl\"}], \"scatterternary\": [{\"marker\": {\"colorbar\": {\"outlinewidth\": 0, \"ticks\": \"\"}}, \"type\": \"scatterternary\"}], \"surface\": [{\"colorbar\": {\"outlinewidth\": 0, \"ticks\": \"\"}, \"colorscale\": [[0.0, \"#0d0887\"], [0.1111111111111111, \"#46039f\"], [0.2222222222222222, \"#7201a8\"], [0.3333333333333333, \"#9c179e\"], [0.4444444444444444, \"#bd3786\"], [0.5555555555555556, \"#d8576b\"], [0.6666666666666666, \"#ed7953\"], [0.7777777777777778, \"#fb9f3a\"], [0.8888888888888888, \"#fdca26\"], [1.0, \"#f0f921\"]], \"type\": \"surface\"}], \"table\": [{\"cells\": {\"fill\": {\"color\": \"#EBF0F8\"}, \"line\": {\"color\": \"white\"}}, \"header\": {\"fill\": {\"color\": \"#C8D4E3\"}, \"line\": {\"color\": \"white\"}}, \"type\": \"table\"}]}, \"layout\": {\"annotationdefaults\": {\"arrowcolor\": \"#2a3f5f\", \"arrowhead\": 0, \"arrowwidth\": 1}, \"colorscale\": {\"diverging\": [[0, \"#8e0152\"], [0.1, \"#c51b7d\"], [0.2, \"#de77ae\"], [0.3, \"#f1b6da\"], [0.4, \"#fde0ef\"], [0.5, \"#f7f7f7\"], [0.6, \"#e6f5d0\"], [0.7, \"#b8e186\"], [0.8, \"#7fbc41\"], [0.9, \"#4d9221\"], [1, \"#276419\"]], \"sequential\": [[0.0, \"#0d0887\"], [0.1111111111111111, \"#46039f\"], [0.2222222222222222, \"#7201a8\"], [0.3333333333333333, \"#9c179e\"], [0.4444444444444444, \"#bd3786\"], [0.5555555555555556, \"#d8576b\"], [0.6666666666666666, \"#ed7953\"], [0.7777777777777778, \"#fb9f3a\"], [0.8888888888888888, \"#fdca26\"], [1.0, \"#f0f921\"]], \"sequentialminus\": [[0.0, \"#0d0887\"], [0.1111111111111111, \"#46039f\"], [0.2222222222222222, \"#7201a8\"], [0.3333333333333333, \"#9c179e\"], [0.4444444444444444, \"#bd3786\"], [0.5555555555555556, \"#d8576b\"], [0.6666666666666666, \"#ed7953\"], [0.7777777777777778, \"#fb9f3a\"], [0.8888888888888888, \"#fdca26\"], [1.0, \"#f0f921\"]]}, \"colorway\": [\"#636efa\", \"#EF553B\", \"#00cc96\", \"#ab63fa\", \"#FFA15A\", \"#19d3f3\", \"#FF6692\", \"#B6E880\", \"#FF97FF\", \"#FECB52\"], \"font\": {\"color\": \"#2a3f5f\"}, \"geo\": {\"bgcolor\": \"white\", \"lakecolor\": \"white\", \"landcolor\": \"#E5ECF6\", \"showlakes\": true, \"showland\": true, \"subunitcolor\": \"white\"}, \"hoverlabel\": {\"align\": \"left\"}, \"hovermode\": \"closest\", \"mapbox\": {\"style\": \"light\"}, \"paper_bgcolor\": \"white\", \"plot_bgcolor\": \"#E5ECF6\", \"polar\": {\"angularaxis\": {\"gridcolor\": \"white\", \"linecolor\": \"white\", \"ticks\": \"\"}, \"bgcolor\": \"#E5ECF6\", \"radialaxis\": {\"gridcolor\": \"white\", \"linecolor\": \"white\", \"ticks\": \"\"}}, \"scene\": {\"xaxis\": {\"backgroundcolor\": \"#E5ECF6\", \"gridcolor\": \"white\", \"gridwidth\": 2, \"linecolor\": \"white\", \"showbackground\": true, \"ticks\": \"\", \"zerolinecolor\": \"white\"}, \"yaxis\": {\"backgroundcolor\": \"#E5ECF6\", \"gridcolor\": \"white\", \"gridwidth\": 2, \"linecolor\": \"white\", \"showbackground\": true, \"ticks\": \"\", \"zerolinecolor\": \"white\"}, \"zaxis\": {\"backgroundcolor\": \"#E5ECF6\", \"gridcolor\": \"white\", \"gridwidth\": 2, \"linecolor\": \"white\", \"showbackground\": true, \"ticks\": \"\", \"zerolinecolor\": \"white\"}}, \"shapedefaults\": {\"line\": {\"color\": \"#2a3f5f\"}}, \"ternary\": {\"aaxis\": {\"gridcolor\": \"white\", \"linecolor\": \"white\", \"ticks\": \"\"}, \"baxis\": {\"gridcolor\": \"white\", \"linecolor\": \"white\", \"ticks\": \"\"}, \"bgcolor\": \"#E5ECF6\", \"caxis\": {\"gridcolor\": \"white\", \"linecolor\": \"white\", \"ticks\": \"\"}}, \"title\": {\"x\": 0.05}, \"xaxis\": {\"automargin\": true, \"gridcolor\": \"white\", \"linecolor\": \"white\", \"ticks\": \"\", \"zerolinecolor\": \"white\", \"zerolinewidth\": 2}, \"yaxis\": {\"automargin\": true, \"gridcolor\": \"white\", \"linecolor\": \"white\", \"ticks\": \"\", \"zerolinecolor\": \"white\", \"zerolinewidth\": 2}}}, \"title\": {\"text\": \"Distribution of active vs churned user per average number of thumb up per week\"}, \"xaxis\": {\"anchor\": \"y\", \"domain\": [0.0, 1.0], \"matches\": \"x2\", \"showticklabels\": false}, \"xaxis2\": {\"anchor\": \"y2\", \"domain\": [0.0, 1.0], \"tickangle\": -45, \"title\": {\"text\": \"Average number of thumb up per week\"}}, \"yaxis\": {\"anchor\": \"x\", \"domain\": [0.575, 1.0], \"title\": {\"text\": \"Service cancellation analysis\"}}, \"yaxis2\": {\"anchor\": \"x2\", \"domain\": [0.0, 0.425], \"title\": {\"text\": \"Service downgrade analysis\"}}},\n",
       "                        {\"responsive\": true}\n",
       "                    ).then(function(){\n",
       "                            \n",
       "var gd = document.getElementById('c25605bc-769d-4da0-83e5-e64f6e3c9053');\n",
       "var x = new MutationObserver(function (mutations, observer) {{\n",
       "        var display = window.getComputedStyle(gd).display;\n",
       "        if (!display || display === 'none') {{\n",
       "            console.log([gd, 'removed!']);\n",
       "            Plotly.purge(gd);\n",
       "            observer.disconnect();\n",
       "        }}\n",
       "}});\n",
       "\n",
       "// Listen for the removal of the full notebook cells\n",
       "var notebookContainer = gd.closest('#notebook-container');\n",
       "if (notebookContainer) {{\n",
       "    x.observe(notebookContainer, {childList: true});\n",
       "}}\n",
       "\n",
       "// Listen for the clearing of the current output cell\n",
       "var outputEl = gd.closest('.output');\n",
       "if (outputEl) {{\n",
       "    x.observe(outputEl, {childList: true});\n",
       "}}\n",
       "\n",
       "                        })\n",
       "                };\n",
       "                });\n",
       "            </script>\n",
       "        </div>"
      ]
     },
     "metadata": {},
     "output_type": "display_data"
    }
   ],
   "source": [
    "fig = make_subplots(rows=2, cols=1, shared_xaxes=True)\n",
    "\n",
    "fig.append_trace(go.Box(\n",
    "    x=avg_week_churn_service['avg_thumb_up_week'].unique(),\n",
    "    name='Cancel churned users',\n",
    "    marker=dict(\n",
    "        color='rgb(68, 1, 84)'\n",
    "    )\n",
    "),1,1)\n",
    "fig.append_trace(go.Box(\n",
    "    x=avg_week_no_churn['avg_thumb_up_week'].unique(),\n",
    "    name='Active users',\n",
    "    marker=dict(\n",
    "        color='rgb(220, 227, 25)'\n",
    "    )\n",
    "),1,1)\n",
    "fig.append_trace(go.Box(\n",
    "    x=avg_week_churn_paid['avg_thumb_up_week'].unique(),\n",
    "    name='Downgrade churned users',\n",
    "    marker=dict(\n",
    "        color='rgb(45, 112, 142)'\n",
    "    ),\n",
    "),2, 1)\n",
    "fig.append_trace(go.Box(\n",
    "    x=avg_week_no_churn[avg_week_no_churn['level']=='paid']['avg_thumb_up_week'].unique(),\n",
    "    name='Active paid users',\n",
    "    marker=dict(\n",
    "        color='rgb(149, 216, 64)'\n",
    "    ),\n",
    "),2, 1)\n",
    "\n",
    "fig.layout.update(go.Layout(\n",
    "    title_text=\"Distribution of active vs churned user per average number of thumb up per week\",\n",
    "    barmode='group',\n",
    "    showlegend=True\n",
    "))\n",
    "fig.update_xaxes(title_text=\"Average number of thumb up per week\", tickangle=-45, row=2, col=1)\n",
    "fig.update_yaxes(title_text=\"Service cancellation analysis\", row=1, col=1)\n",
    "fig.update_yaxes(title_text=\"Service downgrade analysis\", row=2, col=1)\n",
    "\n",
    "fig.show()\n",
    "\n"
   ]
  },
  {
   "cell_type": "code",
   "execution_count": 261,
   "metadata": {},
   "outputs": [
    {
     "data": {
      "application/vnd.plotly.v1+json": {
       "config": {
        "plotlyServerURL": "https://plot.ly"
       },
       "data": [
        {
         "marker": {
          "color": "rgb(68, 1, 84)"
         },
         "name": "Cancel churned users",
         "type": "box",
         "x": [
          0.7142857142857143,
          0.14285714285714285,
          0,
          0.5714285714285714,
          0.2857142857142857,
          0.8571428571428571,
          1.1428571428571428,
          1,
          0.42857142857142855,
          2.142857142857143,
          2,
          1.8571428571428572,
          1.5714285714285714
         ],
         "xaxis": "x",
         "yaxis": "y"
        },
        {
         "marker": {
          "color": "rgb(220, 227, 25)"
         },
         "name": "Active users",
         "type": "box",
         "x": [
          0,
          0.2857142857142857,
          0.14285714285714285,
          0.7142857142857143,
          0.5714285714285714,
          0.42857142857142855,
          1,
          1.4285714285714286,
          1.7142857142857142,
          1.1428571428571428,
          1.2857142857142858,
          0.8571428571428571,
          1.5714285714285714,
          1.8571428571428572,
          2.7142857142857144,
          2.4285714285714284
         ],
         "xaxis": "x",
         "yaxis": "y"
        },
        {
         "marker": {
          "color": "rgb(45, 112, 142)"
         },
         "name": "Downgrade churned users",
         "type": "box",
         "x": [
          0.14285714285714285,
          1.1428571428571428,
          0.2857142857142857,
          0,
          1.7142857142857142,
          1,
          1.2857142857142858,
          0.7142857142857143,
          1.5714285714285714,
          0.8571428571428571,
          2.142857142857143,
          0.5714285714285714,
          0.42857142857142855,
          1.4285714285714286,
          2.2857142857142856,
          2,
          3.142857142857143
         ],
         "xaxis": "x2",
         "yaxis": "y2"
        },
        {
         "marker": {
          "color": "rgb(149, 216, 64)"
         },
         "name": "Active paid users",
         "type": "box",
         "x": [
          0,
          0.14285714285714285,
          0.7142857142857143,
          0.2857142857142857,
          0.5714285714285714,
          0.42857142857142855,
          1.4285714285714286,
          1.7142857142857142,
          1,
          1.1428571428571428,
          1.2857142857142858,
          0.8571428571428571,
          1.5714285714285714,
          1.8571428571428572,
          2.7142857142857144,
          2.4285714285714284
         ],
         "xaxis": "x2",
         "yaxis": "y2"
        }
       ],
       "layout": {
        "barmode": "group",
        "showlegend": true,
        "template": {
         "data": {
          "bar": [
           {
            "error_x": {
             "color": "#2a3f5f"
            },
            "error_y": {
             "color": "#2a3f5f"
            },
            "marker": {
             "line": {
              "color": "#E5ECF6",
              "width": 0.5
             }
            },
            "type": "bar"
           }
          ],
          "barpolar": [
           {
            "marker": {
             "line": {
              "color": "#E5ECF6",
              "width": 0.5
             }
            },
            "type": "barpolar"
           }
          ],
          "carpet": [
           {
            "aaxis": {
             "endlinecolor": "#2a3f5f",
             "gridcolor": "white",
             "linecolor": "white",
             "minorgridcolor": "white",
             "startlinecolor": "#2a3f5f"
            },
            "baxis": {
             "endlinecolor": "#2a3f5f",
             "gridcolor": "white",
             "linecolor": "white",
             "minorgridcolor": "white",
             "startlinecolor": "#2a3f5f"
            },
            "type": "carpet"
           }
          ],
          "choropleth": [
           {
            "colorbar": {
             "outlinewidth": 0,
             "ticks": ""
            },
            "type": "choropleth"
           }
          ],
          "contour": [
           {
            "colorbar": {
             "outlinewidth": 0,
             "ticks": ""
            },
            "colorscale": [
             [
              0,
              "#0d0887"
             ],
             [
              0.1111111111111111,
              "#46039f"
             ],
             [
              0.2222222222222222,
              "#7201a8"
             ],
             [
              0.3333333333333333,
              "#9c179e"
             ],
             [
              0.4444444444444444,
              "#bd3786"
             ],
             [
              0.5555555555555556,
              "#d8576b"
             ],
             [
              0.6666666666666666,
              "#ed7953"
             ],
             [
              0.7777777777777778,
              "#fb9f3a"
             ],
             [
              0.8888888888888888,
              "#fdca26"
             ],
             [
              1,
              "#f0f921"
             ]
            ],
            "type": "contour"
           }
          ],
          "contourcarpet": [
           {
            "colorbar": {
             "outlinewidth": 0,
             "ticks": ""
            },
            "type": "contourcarpet"
           }
          ],
          "heatmap": [
           {
            "colorbar": {
             "outlinewidth": 0,
             "ticks": ""
            },
            "colorscale": [
             [
              0,
              "#0d0887"
             ],
             [
              0.1111111111111111,
              "#46039f"
             ],
             [
              0.2222222222222222,
              "#7201a8"
             ],
             [
              0.3333333333333333,
              "#9c179e"
             ],
             [
              0.4444444444444444,
              "#bd3786"
             ],
             [
              0.5555555555555556,
              "#d8576b"
             ],
             [
              0.6666666666666666,
              "#ed7953"
             ],
             [
              0.7777777777777778,
              "#fb9f3a"
             ],
             [
              0.8888888888888888,
              "#fdca26"
             ],
             [
              1,
              "#f0f921"
             ]
            ],
            "type": "heatmap"
           }
          ],
          "heatmapgl": [
           {
            "colorbar": {
             "outlinewidth": 0,
             "ticks": ""
            },
            "colorscale": [
             [
              0,
              "#0d0887"
             ],
             [
              0.1111111111111111,
              "#46039f"
             ],
             [
              0.2222222222222222,
              "#7201a8"
             ],
             [
              0.3333333333333333,
              "#9c179e"
             ],
             [
              0.4444444444444444,
              "#bd3786"
             ],
             [
              0.5555555555555556,
              "#d8576b"
             ],
             [
              0.6666666666666666,
              "#ed7953"
             ],
             [
              0.7777777777777778,
              "#fb9f3a"
             ],
             [
              0.8888888888888888,
              "#fdca26"
             ],
             [
              1,
              "#f0f921"
             ]
            ],
            "type": "heatmapgl"
           }
          ],
          "histogram": [
           {
            "marker": {
             "colorbar": {
              "outlinewidth": 0,
              "ticks": ""
             }
            },
            "type": "histogram"
           }
          ],
          "histogram2d": [
           {
            "colorbar": {
             "outlinewidth": 0,
             "ticks": ""
            },
            "colorscale": [
             [
              0,
              "#0d0887"
             ],
             [
              0.1111111111111111,
              "#46039f"
             ],
             [
              0.2222222222222222,
              "#7201a8"
             ],
             [
              0.3333333333333333,
              "#9c179e"
             ],
             [
              0.4444444444444444,
              "#bd3786"
             ],
             [
              0.5555555555555556,
              "#d8576b"
             ],
             [
              0.6666666666666666,
              "#ed7953"
             ],
             [
              0.7777777777777778,
              "#fb9f3a"
             ],
             [
              0.8888888888888888,
              "#fdca26"
             ],
             [
              1,
              "#f0f921"
             ]
            ],
            "type": "histogram2d"
           }
          ],
          "histogram2dcontour": [
           {
            "colorbar": {
             "outlinewidth": 0,
             "ticks": ""
            },
            "colorscale": [
             [
              0,
              "#0d0887"
             ],
             [
              0.1111111111111111,
              "#46039f"
             ],
             [
              0.2222222222222222,
              "#7201a8"
             ],
             [
              0.3333333333333333,
              "#9c179e"
             ],
             [
              0.4444444444444444,
              "#bd3786"
             ],
             [
              0.5555555555555556,
              "#d8576b"
             ],
             [
              0.6666666666666666,
              "#ed7953"
             ],
             [
              0.7777777777777778,
              "#fb9f3a"
             ],
             [
              0.8888888888888888,
              "#fdca26"
             ],
             [
              1,
              "#f0f921"
             ]
            ],
            "type": "histogram2dcontour"
           }
          ],
          "mesh3d": [
           {
            "colorbar": {
             "outlinewidth": 0,
             "ticks": ""
            },
            "type": "mesh3d"
           }
          ],
          "parcoords": [
           {
            "line": {
             "colorbar": {
              "outlinewidth": 0,
              "ticks": ""
             }
            },
            "type": "parcoords"
           }
          ],
          "scatter": [
           {
            "marker": {
             "colorbar": {
              "outlinewidth": 0,
              "ticks": ""
             }
            },
            "type": "scatter"
           }
          ],
          "scatter3d": [
           {
            "line": {
             "colorbar": {
              "outlinewidth": 0,
              "ticks": ""
             }
            },
            "marker": {
             "colorbar": {
              "outlinewidth": 0,
              "ticks": ""
             }
            },
            "type": "scatter3d"
           }
          ],
          "scattercarpet": [
           {
            "marker": {
             "colorbar": {
              "outlinewidth": 0,
              "ticks": ""
             }
            },
            "type": "scattercarpet"
           }
          ],
          "scattergeo": [
           {
            "marker": {
             "colorbar": {
              "outlinewidth": 0,
              "ticks": ""
             }
            },
            "type": "scattergeo"
           }
          ],
          "scattergl": [
           {
            "marker": {
             "colorbar": {
              "outlinewidth": 0,
              "ticks": ""
             }
            },
            "type": "scattergl"
           }
          ],
          "scattermapbox": [
           {
            "marker": {
             "colorbar": {
              "outlinewidth": 0,
              "ticks": ""
             }
            },
            "type": "scattermapbox"
           }
          ],
          "scatterpolar": [
           {
            "marker": {
             "colorbar": {
              "outlinewidth": 0,
              "ticks": ""
             }
            },
            "type": "scatterpolar"
           }
          ],
          "scatterpolargl": [
           {
            "marker": {
             "colorbar": {
              "outlinewidth": 0,
              "ticks": ""
             }
            },
            "type": "scatterpolargl"
           }
          ],
          "scatterternary": [
           {
            "marker": {
             "colorbar": {
              "outlinewidth": 0,
              "ticks": ""
             }
            },
            "type": "scatterternary"
           }
          ],
          "surface": [
           {
            "colorbar": {
             "outlinewidth": 0,
             "ticks": ""
            },
            "colorscale": [
             [
              0,
              "#0d0887"
             ],
             [
              0.1111111111111111,
              "#46039f"
             ],
             [
              0.2222222222222222,
              "#7201a8"
             ],
             [
              0.3333333333333333,
              "#9c179e"
             ],
             [
              0.4444444444444444,
              "#bd3786"
             ],
             [
              0.5555555555555556,
              "#d8576b"
             ],
             [
              0.6666666666666666,
              "#ed7953"
             ],
             [
              0.7777777777777778,
              "#fb9f3a"
             ],
             [
              0.8888888888888888,
              "#fdca26"
             ],
             [
              1,
              "#f0f921"
             ]
            ],
            "type": "surface"
           }
          ],
          "table": [
           {
            "cells": {
             "fill": {
              "color": "#EBF0F8"
             },
             "line": {
              "color": "white"
             }
            },
            "header": {
             "fill": {
              "color": "#C8D4E3"
             },
             "line": {
              "color": "white"
             }
            },
            "type": "table"
           }
          ]
         },
         "layout": {
          "annotationdefaults": {
           "arrowcolor": "#2a3f5f",
           "arrowhead": 0,
           "arrowwidth": 1
          },
          "colorscale": {
           "diverging": [
            [
             0,
             "#8e0152"
            ],
            [
             0.1,
             "#c51b7d"
            ],
            [
             0.2,
             "#de77ae"
            ],
            [
             0.3,
             "#f1b6da"
            ],
            [
             0.4,
             "#fde0ef"
            ],
            [
             0.5,
             "#f7f7f7"
            ],
            [
             0.6,
             "#e6f5d0"
            ],
            [
             0.7,
             "#b8e186"
            ],
            [
             0.8,
             "#7fbc41"
            ],
            [
             0.9,
             "#4d9221"
            ],
            [
             1,
             "#276419"
            ]
           ],
           "sequential": [
            [
             0,
             "#0d0887"
            ],
            [
             0.1111111111111111,
             "#46039f"
            ],
            [
             0.2222222222222222,
             "#7201a8"
            ],
            [
             0.3333333333333333,
             "#9c179e"
            ],
            [
             0.4444444444444444,
             "#bd3786"
            ],
            [
             0.5555555555555556,
             "#d8576b"
            ],
            [
             0.6666666666666666,
             "#ed7953"
            ],
            [
             0.7777777777777778,
             "#fb9f3a"
            ],
            [
             0.8888888888888888,
             "#fdca26"
            ],
            [
             1,
             "#f0f921"
            ]
           ],
           "sequentialminus": [
            [
             0,
             "#0d0887"
            ],
            [
             0.1111111111111111,
             "#46039f"
            ],
            [
             0.2222222222222222,
             "#7201a8"
            ],
            [
             0.3333333333333333,
             "#9c179e"
            ],
            [
             0.4444444444444444,
             "#bd3786"
            ],
            [
             0.5555555555555556,
             "#d8576b"
            ],
            [
             0.6666666666666666,
             "#ed7953"
            ],
            [
             0.7777777777777778,
             "#fb9f3a"
            ],
            [
             0.8888888888888888,
             "#fdca26"
            ],
            [
             1,
             "#f0f921"
            ]
           ]
          },
          "colorway": [
           "#636efa",
           "#EF553B",
           "#00cc96",
           "#ab63fa",
           "#FFA15A",
           "#19d3f3",
           "#FF6692",
           "#B6E880",
           "#FF97FF",
           "#FECB52"
          ],
          "font": {
           "color": "#2a3f5f"
          },
          "geo": {
           "bgcolor": "white",
           "lakecolor": "white",
           "landcolor": "#E5ECF6",
           "showlakes": true,
           "showland": true,
           "subunitcolor": "white"
          },
          "hoverlabel": {
           "align": "left"
          },
          "hovermode": "closest",
          "mapbox": {
           "style": "light"
          },
          "paper_bgcolor": "white",
          "plot_bgcolor": "#E5ECF6",
          "polar": {
           "angularaxis": {
            "gridcolor": "white",
            "linecolor": "white",
            "ticks": ""
           },
           "bgcolor": "#E5ECF6",
           "radialaxis": {
            "gridcolor": "white",
            "linecolor": "white",
            "ticks": ""
           }
          },
          "scene": {
           "xaxis": {
            "backgroundcolor": "#E5ECF6",
            "gridcolor": "white",
            "gridwidth": 2,
            "linecolor": "white",
            "showbackground": true,
            "ticks": "",
            "zerolinecolor": "white"
           },
           "yaxis": {
            "backgroundcolor": "#E5ECF6",
            "gridcolor": "white",
            "gridwidth": 2,
            "linecolor": "white",
            "showbackground": true,
            "ticks": "",
            "zerolinecolor": "white"
           },
           "zaxis": {
            "backgroundcolor": "#E5ECF6",
            "gridcolor": "white",
            "gridwidth": 2,
            "linecolor": "white",
            "showbackground": true,
            "ticks": "",
            "zerolinecolor": "white"
           }
          },
          "shapedefaults": {
           "line": {
            "color": "#2a3f5f"
           }
          },
          "ternary": {
           "aaxis": {
            "gridcolor": "white",
            "linecolor": "white",
            "ticks": ""
           },
           "baxis": {
            "gridcolor": "white",
            "linecolor": "white",
            "ticks": ""
           },
           "bgcolor": "#E5ECF6",
           "caxis": {
            "gridcolor": "white",
            "linecolor": "white",
            "ticks": ""
           }
          },
          "title": {
           "x": 0.05
          },
          "xaxis": {
           "automargin": true,
           "gridcolor": "white",
           "linecolor": "white",
           "ticks": "",
           "zerolinecolor": "white",
           "zerolinewidth": 2
          },
          "yaxis": {
           "automargin": true,
           "gridcolor": "white",
           "linecolor": "white",
           "ticks": "",
           "zerolinecolor": "white",
           "zerolinewidth": 2
          }
         }
        },
        "title": {
         "text": "Distribution of active vs churned user per average number of thumb down per week"
        },
        "xaxis": {
         "anchor": "y",
         "domain": [
          0,
          1
         ],
         "matches": "x2",
         "showticklabels": false
        },
        "xaxis2": {
         "anchor": "y2",
         "domain": [
          0,
          1
         ],
         "tickangle": -45,
         "title": {
          "text": "Average number of thumb down per week"
         }
        },
        "yaxis": {
         "anchor": "x",
         "domain": [
          0.575,
          1
         ],
         "title": {
          "text": "Service cancellation analysis"
         }
        },
        "yaxis2": {
         "anchor": "x2",
         "domain": [
          0,
          0.425
         ],
         "title": {
          "text": "Service downgrade analysis"
         }
        }
       }
      },
      "text/html": [
       "<div>\n",
       "        \n",
       "        \n",
       "            <div id=\"5491ea80-750b-4d91-b58c-c7d7d90ded39\" class=\"plotly-graph-div\" style=\"height:525px; width:100%;\"></div>\n",
       "            <script type=\"text/javascript\">\n",
       "                require([\"plotly\"], function(Plotly) {\n",
       "                    window.PLOTLYENV=window.PLOTLYENV || {};\n",
       "                    \n",
       "                if (document.getElementById(\"5491ea80-750b-4d91-b58c-c7d7d90ded39\")) {\n",
       "                    Plotly.newPlot(\n",
       "                        '5491ea80-750b-4d91-b58c-c7d7d90ded39',\n",
       "                        [{\"marker\": {\"color\": \"rgb(68, 1, 84)\"}, \"name\": \"Cancel churned users\", \"type\": \"box\", \"x\": [0.7142857142857143, 0.14285714285714285, 0.0, 0.5714285714285714, 0.2857142857142857, 0.8571428571428571, 1.1428571428571428, 1.0, 0.42857142857142855, 2.142857142857143, 2.0, 1.8571428571428572, 1.5714285714285714], \"xaxis\": \"x\", \"yaxis\": \"y\"}, {\"marker\": {\"color\": \"rgb(220, 227, 25)\"}, \"name\": \"Active users\", \"type\": \"box\", \"x\": [0.0, 0.2857142857142857, 0.14285714285714285, 0.7142857142857143, 0.5714285714285714, 0.42857142857142855, 1.0, 1.4285714285714286, 1.7142857142857142, 1.1428571428571428, 1.2857142857142858, 0.8571428571428571, 1.5714285714285714, 1.8571428571428572, 2.7142857142857144, 2.4285714285714284], \"xaxis\": \"x\", \"yaxis\": \"y\"}, {\"marker\": {\"color\": \"rgb(45, 112, 142)\"}, \"name\": \"Downgrade churned users\", \"type\": \"box\", \"x\": [0.14285714285714285, 1.1428571428571428, 0.2857142857142857, 0.0, 1.7142857142857142, 1.0, 1.2857142857142858, 0.7142857142857143, 1.5714285714285714, 0.8571428571428571, 2.142857142857143, 0.5714285714285714, 0.42857142857142855, 1.4285714285714286, 2.2857142857142856, 2.0, 3.142857142857143], \"xaxis\": \"x2\", \"yaxis\": \"y2\"}, {\"marker\": {\"color\": \"rgb(149, 216, 64)\"}, \"name\": \"Active paid users\", \"type\": \"box\", \"x\": [0.0, 0.14285714285714285, 0.7142857142857143, 0.2857142857142857, 0.5714285714285714, 0.42857142857142855, 1.4285714285714286, 1.7142857142857142, 1.0, 1.1428571428571428, 1.2857142857142858, 0.8571428571428571, 1.5714285714285714, 1.8571428571428572, 2.7142857142857144, 2.4285714285714284], \"xaxis\": \"x2\", \"yaxis\": \"y2\"}],\n",
       "                        {\"barmode\": \"group\", \"showlegend\": true, \"template\": {\"data\": {\"bar\": [{\"error_x\": {\"color\": \"#2a3f5f\"}, \"error_y\": {\"color\": \"#2a3f5f\"}, \"marker\": {\"line\": {\"color\": \"#E5ECF6\", \"width\": 0.5}}, \"type\": \"bar\"}], \"barpolar\": [{\"marker\": {\"line\": {\"color\": \"#E5ECF6\", \"width\": 0.5}}, \"type\": \"barpolar\"}], \"carpet\": [{\"aaxis\": {\"endlinecolor\": \"#2a3f5f\", \"gridcolor\": \"white\", \"linecolor\": \"white\", \"minorgridcolor\": \"white\", \"startlinecolor\": \"#2a3f5f\"}, \"baxis\": {\"endlinecolor\": \"#2a3f5f\", \"gridcolor\": \"white\", \"linecolor\": \"white\", \"minorgridcolor\": \"white\", \"startlinecolor\": \"#2a3f5f\"}, \"type\": \"carpet\"}], \"choropleth\": [{\"colorbar\": {\"outlinewidth\": 0, \"ticks\": \"\"}, \"type\": \"choropleth\"}], \"contour\": [{\"colorbar\": {\"outlinewidth\": 0, \"ticks\": \"\"}, \"colorscale\": [[0.0, \"#0d0887\"], [0.1111111111111111, \"#46039f\"], [0.2222222222222222, \"#7201a8\"], [0.3333333333333333, \"#9c179e\"], [0.4444444444444444, \"#bd3786\"], [0.5555555555555556, \"#d8576b\"], [0.6666666666666666, \"#ed7953\"], [0.7777777777777778, \"#fb9f3a\"], [0.8888888888888888, \"#fdca26\"], [1.0, \"#f0f921\"]], \"type\": \"contour\"}], \"contourcarpet\": [{\"colorbar\": {\"outlinewidth\": 0, \"ticks\": \"\"}, \"type\": \"contourcarpet\"}], \"heatmap\": [{\"colorbar\": {\"outlinewidth\": 0, \"ticks\": \"\"}, \"colorscale\": [[0.0, \"#0d0887\"], [0.1111111111111111, \"#46039f\"], [0.2222222222222222, \"#7201a8\"], [0.3333333333333333, \"#9c179e\"], [0.4444444444444444, \"#bd3786\"], [0.5555555555555556, \"#d8576b\"], [0.6666666666666666, \"#ed7953\"], [0.7777777777777778, \"#fb9f3a\"], [0.8888888888888888, \"#fdca26\"], [1.0, \"#f0f921\"]], \"type\": \"heatmap\"}], \"heatmapgl\": [{\"colorbar\": {\"outlinewidth\": 0, \"ticks\": \"\"}, \"colorscale\": [[0.0, \"#0d0887\"], [0.1111111111111111, \"#46039f\"], [0.2222222222222222, \"#7201a8\"], [0.3333333333333333, \"#9c179e\"], [0.4444444444444444, \"#bd3786\"], [0.5555555555555556, \"#d8576b\"], [0.6666666666666666, \"#ed7953\"], [0.7777777777777778, \"#fb9f3a\"], [0.8888888888888888, \"#fdca26\"], [1.0, \"#f0f921\"]], \"type\": \"heatmapgl\"}], \"histogram\": [{\"marker\": {\"colorbar\": {\"outlinewidth\": 0, \"ticks\": \"\"}}, \"type\": \"histogram\"}], \"histogram2d\": [{\"colorbar\": {\"outlinewidth\": 0, \"ticks\": \"\"}, \"colorscale\": [[0.0, \"#0d0887\"], [0.1111111111111111, \"#46039f\"], [0.2222222222222222, \"#7201a8\"], [0.3333333333333333, \"#9c179e\"], [0.4444444444444444, \"#bd3786\"], [0.5555555555555556, \"#d8576b\"], [0.6666666666666666, \"#ed7953\"], [0.7777777777777778, \"#fb9f3a\"], [0.8888888888888888, \"#fdca26\"], [1.0, \"#f0f921\"]], \"type\": \"histogram2d\"}], \"histogram2dcontour\": [{\"colorbar\": {\"outlinewidth\": 0, \"ticks\": \"\"}, \"colorscale\": [[0.0, \"#0d0887\"], [0.1111111111111111, \"#46039f\"], [0.2222222222222222, \"#7201a8\"], [0.3333333333333333, \"#9c179e\"], [0.4444444444444444, \"#bd3786\"], [0.5555555555555556, \"#d8576b\"], [0.6666666666666666, \"#ed7953\"], [0.7777777777777778, \"#fb9f3a\"], [0.8888888888888888, \"#fdca26\"], [1.0, \"#f0f921\"]], \"type\": \"histogram2dcontour\"}], \"mesh3d\": [{\"colorbar\": {\"outlinewidth\": 0, \"ticks\": \"\"}, \"type\": \"mesh3d\"}], \"parcoords\": [{\"line\": {\"colorbar\": {\"outlinewidth\": 0, \"ticks\": \"\"}}, \"type\": \"parcoords\"}], \"scatter\": [{\"marker\": {\"colorbar\": {\"outlinewidth\": 0, \"ticks\": \"\"}}, \"type\": \"scatter\"}], \"scatter3d\": [{\"line\": {\"colorbar\": {\"outlinewidth\": 0, \"ticks\": \"\"}}, \"marker\": {\"colorbar\": {\"outlinewidth\": 0, \"ticks\": \"\"}}, \"type\": \"scatter3d\"}], \"scattercarpet\": [{\"marker\": {\"colorbar\": {\"outlinewidth\": 0, \"ticks\": \"\"}}, \"type\": \"scattercarpet\"}], \"scattergeo\": [{\"marker\": {\"colorbar\": {\"outlinewidth\": 0, \"ticks\": \"\"}}, \"type\": \"scattergeo\"}], \"scattergl\": [{\"marker\": {\"colorbar\": {\"outlinewidth\": 0, \"ticks\": \"\"}}, \"type\": \"scattergl\"}], \"scattermapbox\": [{\"marker\": {\"colorbar\": {\"outlinewidth\": 0, \"ticks\": \"\"}}, \"type\": \"scattermapbox\"}], \"scatterpolar\": [{\"marker\": {\"colorbar\": {\"outlinewidth\": 0, \"ticks\": \"\"}}, \"type\": \"scatterpolar\"}], \"scatterpolargl\": [{\"marker\": {\"colorbar\": {\"outlinewidth\": 0, \"ticks\": \"\"}}, \"type\": \"scatterpolargl\"}], \"scatterternary\": [{\"marker\": {\"colorbar\": {\"outlinewidth\": 0, \"ticks\": \"\"}}, \"type\": \"scatterternary\"}], \"surface\": [{\"colorbar\": {\"outlinewidth\": 0, \"ticks\": \"\"}, \"colorscale\": [[0.0, \"#0d0887\"], [0.1111111111111111, \"#46039f\"], [0.2222222222222222, \"#7201a8\"], [0.3333333333333333, \"#9c179e\"], [0.4444444444444444, \"#bd3786\"], [0.5555555555555556, \"#d8576b\"], [0.6666666666666666, \"#ed7953\"], [0.7777777777777778, \"#fb9f3a\"], [0.8888888888888888, \"#fdca26\"], [1.0, \"#f0f921\"]], \"type\": \"surface\"}], \"table\": [{\"cells\": {\"fill\": {\"color\": \"#EBF0F8\"}, \"line\": {\"color\": \"white\"}}, \"header\": {\"fill\": {\"color\": \"#C8D4E3\"}, \"line\": {\"color\": \"white\"}}, \"type\": \"table\"}]}, \"layout\": {\"annotationdefaults\": {\"arrowcolor\": \"#2a3f5f\", \"arrowhead\": 0, \"arrowwidth\": 1}, \"colorscale\": {\"diverging\": [[0, \"#8e0152\"], [0.1, \"#c51b7d\"], [0.2, \"#de77ae\"], [0.3, \"#f1b6da\"], [0.4, \"#fde0ef\"], [0.5, \"#f7f7f7\"], [0.6, \"#e6f5d0\"], [0.7, \"#b8e186\"], [0.8, \"#7fbc41\"], [0.9, \"#4d9221\"], [1, \"#276419\"]], \"sequential\": [[0.0, \"#0d0887\"], [0.1111111111111111, \"#46039f\"], [0.2222222222222222, \"#7201a8\"], [0.3333333333333333, \"#9c179e\"], [0.4444444444444444, \"#bd3786\"], [0.5555555555555556, \"#d8576b\"], [0.6666666666666666, \"#ed7953\"], [0.7777777777777778, \"#fb9f3a\"], [0.8888888888888888, \"#fdca26\"], [1.0, \"#f0f921\"]], \"sequentialminus\": [[0.0, \"#0d0887\"], [0.1111111111111111, \"#46039f\"], [0.2222222222222222, \"#7201a8\"], [0.3333333333333333, \"#9c179e\"], [0.4444444444444444, \"#bd3786\"], [0.5555555555555556, \"#d8576b\"], [0.6666666666666666, \"#ed7953\"], [0.7777777777777778, \"#fb9f3a\"], [0.8888888888888888, \"#fdca26\"], [1.0, \"#f0f921\"]]}, \"colorway\": [\"#636efa\", \"#EF553B\", \"#00cc96\", \"#ab63fa\", \"#FFA15A\", \"#19d3f3\", \"#FF6692\", \"#B6E880\", \"#FF97FF\", \"#FECB52\"], \"font\": {\"color\": \"#2a3f5f\"}, \"geo\": {\"bgcolor\": \"white\", \"lakecolor\": \"white\", \"landcolor\": \"#E5ECF6\", \"showlakes\": true, \"showland\": true, \"subunitcolor\": \"white\"}, \"hoverlabel\": {\"align\": \"left\"}, \"hovermode\": \"closest\", \"mapbox\": {\"style\": \"light\"}, \"paper_bgcolor\": \"white\", \"plot_bgcolor\": \"#E5ECF6\", \"polar\": {\"angularaxis\": {\"gridcolor\": \"white\", \"linecolor\": \"white\", \"ticks\": \"\"}, \"bgcolor\": \"#E5ECF6\", \"radialaxis\": {\"gridcolor\": \"white\", \"linecolor\": \"white\", \"ticks\": \"\"}}, \"scene\": {\"xaxis\": {\"backgroundcolor\": \"#E5ECF6\", \"gridcolor\": \"white\", \"gridwidth\": 2, \"linecolor\": \"white\", \"showbackground\": true, \"ticks\": \"\", \"zerolinecolor\": \"white\"}, \"yaxis\": {\"backgroundcolor\": \"#E5ECF6\", \"gridcolor\": \"white\", \"gridwidth\": 2, \"linecolor\": \"white\", \"showbackground\": true, \"ticks\": \"\", \"zerolinecolor\": \"white\"}, \"zaxis\": {\"backgroundcolor\": \"#E5ECF6\", \"gridcolor\": \"white\", \"gridwidth\": 2, \"linecolor\": \"white\", \"showbackground\": true, \"ticks\": \"\", \"zerolinecolor\": \"white\"}}, \"shapedefaults\": {\"line\": {\"color\": \"#2a3f5f\"}}, \"ternary\": {\"aaxis\": {\"gridcolor\": \"white\", \"linecolor\": \"white\", \"ticks\": \"\"}, \"baxis\": {\"gridcolor\": \"white\", \"linecolor\": \"white\", \"ticks\": \"\"}, \"bgcolor\": \"#E5ECF6\", \"caxis\": {\"gridcolor\": \"white\", \"linecolor\": \"white\", \"ticks\": \"\"}}, \"title\": {\"x\": 0.05}, \"xaxis\": {\"automargin\": true, \"gridcolor\": \"white\", \"linecolor\": \"white\", \"ticks\": \"\", \"zerolinecolor\": \"white\", \"zerolinewidth\": 2}, \"yaxis\": {\"automargin\": true, \"gridcolor\": \"white\", \"linecolor\": \"white\", \"ticks\": \"\", \"zerolinecolor\": \"white\", \"zerolinewidth\": 2}}}, \"title\": {\"text\": \"Distribution of active vs churned user per average number of thumb down per week\"}, \"xaxis\": {\"anchor\": \"y\", \"domain\": [0.0, 1.0], \"matches\": \"x2\", \"showticklabels\": false}, \"xaxis2\": {\"anchor\": \"y2\", \"domain\": [0.0, 1.0], \"tickangle\": -45, \"title\": {\"text\": \"Average number of thumb down per week\"}}, \"yaxis\": {\"anchor\": \"x\", \"domain\": [0.575, 1.0], \"title\": {\"text\": \"Service cancellation analysis\"}}, \"yaxis2\": {\"anchor\": \"x2\", \"domain\": [0.0, 0.425], \"title\": {\"text\": \"Service downgrade analysis\"}}},\n",
       "                        {\"responsive\": true}\n",
       "                    ).then(function(){\n",
       "                            \n",
       "var gd = document.getElementById('5491ea80-750b-4d91-b58c-c7d7d90ded39');\n",
       "var x = new MutationObserver(function (mutations, observer) {{\n",
       "        var display = window.getComputedStyle(gd).display;\n",
       "        if (!display || display === 'none') {{\n",
       "            console.log([gd, 'removed!']);\n",
       "            Plotly.purge(gd);\n",
       "            observer.disconnect();\n",
       "        }}\n",
       "}});\n",
       "\n",
       "// Listen for the removal of the full notebook cells\n",
       "var notebookContainer = gd.closest('#notebook-container');\n",
       "if (notebookContainer) {{\n",
       "    x.observe(notebookContainer, {childList: true});\n",
       "}}\n",
       "\n",
       "// Listen for the clearing of the current output cell\n",
       "var outputEl = gd.closest('.output');\n",
       "if (outputEl) {{\n",
       "    x.observe(outputEl, {childList: true});\n",
       "}}\n",
       "\n",
       "                        })\n",
       "                };\n",
       "                });\n",
       "            </script>\n",
       "        </div>"
      ]
     },
     "metadata": {},
     "output_type": "display_data"
    }
   ],
   "source": [
    "fig = make_subplots(rows=2, cols=1, shared_xaxes=True)\n",
    "\n",
    "fig.append_trace(go.Box(\n",
    "    x=avg_week_churn_service['avg_thumb_down_week'].unique(),\n",
    "    name='Cancel churned users',\n",
    "    marker=dict(\n",
    "        color='rgb(68, 1, 84)'\n",
    "    )\n",
    "),1,1)\n",
    "fig.append_trace(go.Box(\n",
    "    x=avg_week_no_churn['avg_thumb_down_week'].unique(),\n",
    "    name='Active users',\n",
    "    marker=dict(\n",
    "        color='rgb(220, 227, 25)'\n",
    "    )\n",
    "),1,1)\n",
    "fig.append_trace(go.Box(\n",
    "    x=avg_week_churn_paid['avg_thumb_down_week'].unique(),\n",
    "    name='Downgrade churned users',\n",
    "    marker=dict(\n",
    "        color='rgb(45, 112, 142)'\n",
    "    ),\n",
    "),2, 1)\n",
    "fig.append_trace(go.Box(\n",
    "    x=avg_week_no_churn[avg_week_no_churn['level']=='paid']['avg_thumb_down_week'].unique(),\n",
    "    name='Active paid users',\n",
    "    marker=dict(\n",
    "        color='rgb(149, 216, 64)'\n",
    "    ),\n",
    "),2, 1)\n",
    "\n",
    "fig.layout.update(go.Layout(\n",
    "    title_text=\"Distribution of active vs churned user per average number of thumb down per week\",\n",
    "    barmode='group',\n",
    "    showlegend=True\n",
    "))\n",
    "fig.update_xaxes(title_text=\"Average number of thumb down per week\", tickangle=-45, row=2, col=1)\n",
    "fig.update_yaxes(title_text=\"Service cancellation analysis\", row=1, col=1)\n",
    "fig.update_yaxes(title_text=\"Service downgrade analysis\", row=2, col=1)\n",
    "\n",
    "fig.show()"
   ]
  },
  {
   "cell_type": "markdown",
   "metadata": {},
   "source": [
    "Looking at the daily average number of songs, thumbs up and thumbs down, it looks like:\n",
    "- cancel churned users have a lower average than active users\n",
    "- downgrade churned users have a slightly higher average than active (paid) users"
   ]
  },
  {
   "cell_type": "markdown",
   "metadata": {},
   "source": [
    "*Impact of the daily average listening time*"
   ]
  },
  {
   "cell_type": "code",
   "execution_count": null,
   "metadata": {},
   "outputs": [],
   "source": []
  },
  {
   "cell_type": "code",
   "execution_count": null,
   "metadata": {},
   "outputs": [],
   "source": []
  },
  {
   "cell_type": "code",
   "execution_count": null,
   "metadata": {},
   "outputs": [],
   "source": []
  },
  {
   "cell_type": "markdown",
   "metadata": {},
   "source": [
    "*Impact of the time of the activity (count of actions based on the day, month, hour...)*"
   ]
  },
  {
   "cell_type": "code",
   "execution_count": null,
   "metadata": {},
   "outputs": [],
   "source": []
  },
  {
   "cell_type": "code",
   "execution_count": null,
   "metadata": {},
   "outputs": [],
   "source": []
  },
  {
   "cell_type": "code",
   "execution_count": null,
   "metadata": {},
   "outputs": [],
   "source": []
  },
  {
   "cell_type": "markdown",
   "metadata": {},
   "source": [
    "*Impact of the registration time (month, day of the week, day of the month)*"
   ]
  },
  {
   "cell_type": "code",
   "execution_count": null,
   "metadata": {},
   "outputs": [],
   "source": []
  },
  {
   "cell_type": "code",
   "execution_count": null,
   "metadata": {},
   "outputs": [],
   "source": []
  },
  {
   "cell_type": "code",
   "execution_count": null,
   "metadata": {},
   "outputs": [],
   "source": []
  },
  {
   "cell_type": "markdown",
   "metadata": {},
   "source": [
    "*Number of active users per month*"
   ]
  },
  {
   "cell_type": "markdown",
   "metadata": {},
   "source": []
  },
  {
   "cell_type": "code",
   "execution_count": null,
   "metadata": {},
   "outputs": [],
   "source": []
  },
  {
   "cell_type": "markdown",
   "metadata": {},
   "source": [
    "*User upgrade/downgrade within 3 months depending on when they joined (monthly cohorts)*"
   ]
  },
  {
   "cell_type": "code",
   "execution_count": null,
   "metadata": {},
   "outputs": [],
   "source": []
  },
  {
   "cell_type": "code",
   "execution_count": null,
   "metadata": {},
   "outputs": [],
   "source": []
  },
  {
   "cell_type": "markdown",
   "metadata": {},
   "source": [
    "# Feature Engineering\n",
    "Once you've familiarized yourself with the data, build out the features you find promising to train your model on. To work with the full dataset, you can follow the following steps.\n",
    "- Write a script to extract the necessary features from the smaller subset of data\n",
    "- Ensure that your script is scalable, using the best practices discussed in Lesson 3\n",
    "- Try your script on the full data set, debugging your script if necessary\n",
    "\n",
    "If you are working in the classroom workspace, you can just extract features based on the small subset of data contained here. Be sure to transfer over this work to the larger dataset when you work on your Spark cluster."
   ]
  },
  {
   "cell_type": "markdown",
   "metadata": {},
   "source": [
    "Build a summary table (define logic - week aggregate of daily average)\n",
    "Train 3 independent models with difference weighted average of current week vs summary (0.8/0.2, 0.5/0.5, 0.6/0.4)\n",
    "Deviations\n",
    "- number of songs on weekdays, number of songs on weekends\n",
    "- number of logins\n",
    "- time between logins\n",
    "\n",
    "Other features: gender, location, label\n",
    "Split in two df: cancel churn and downgrade churn"
   ]
  },
  {
   "cell_type": "markdown",
   "metadata": {},
   "source": [
    "**Intro comment**\n",
    "\n",
    "To be able to engineer new features, we are actually going to reuse a lot of the code we wrote previously to plot the data and have an insight on the information it could bring. \n",
    "\n",
    "The goal here is to define a function that will process the initial dataset as to produce two twin dataframes:\n",
    "- one dataframe that will focus on cancel churned users\n",
    "- and the other that will focus on downgrade churned users\n",
    "\n",
    "In both dataframe we will have the similar following structure:\n",
    "- one row per userId (without any userId feature though)\n",
    "- the following columns or features:\n",
    "    - generic features: gender, level (paid/free), location (state)\n",
    "    - week aggregation features:\n",
    "        - daily average number of songs, thumb up, thumb down, distinct artist\n",
    "        - daily average time listening\n",
    "    - month aggregation features:\n",
    "        - daily average number of songs, thumb up, thumb down, distinct artist\n",
    "        - daily average time listening\n",
    "        - weekly average number of visits\n",
    "        - average time between login\n",
    "    - label: churn/no_churn"
   ]
  },
  {
   "cell_type": "markdown",
   "metadata": {},
   "source": [
    "# Modeling\n",
    "Split the full dataset into train, test, and validation sets. Test out several of the machine learning methods you learned. Evaluate the accuracy of the various models, tuning parameters as necessary. Determine your winning model based on test accuracy and report results on the validation set. Since the churned users are a fairly small subset, I suggest using F1 score as the metric to optimize."
   ]
  },
  {
   "cell_type": "code",
   "execution_count": null,
   "metadata": {},
   "outputs": [],
   "source": []
  },
  {
   "cell_type": "markdown",
   "metadata": {},
   "source": [
    "# Final Steps\n",
    "Clean up your code, adding comments and renaming variables to make the code easier to read and maintain. Refer to the Spark Project Overview page and Data Scientist Capstone Project Rubric to make sure you are including all components of the capstone project and meet all expectations. Remember, this includes thorough documentation in a README file in a Github repository, as well as a web app or blog post."
   ]
  },
  {
   "cell_type": "code",
   "execution_count": null,
   "metadata": {},
   "outputs": [],
   "source": []
  }
 ],
 "metadata": {
  "kernelspec": {
   "display_name": "Python3.7",
   "language": "python",
   "name": "python3.7"
  },
  "language_info": {
   "codemirror_mode": {
    "name": "ipython",
    "version": 3
   },
   "file_extension": ".py",
   "mimetype": "text/x-python",
   "name": "python",
   "nbconvert_exporter": "python",
   "pygments_lexer": "ipython3",
   "version": "3.7.4"
  }
 },
 "nbformat": 4,
 "nbformat_minor": 2
}
